{
  "nbformat": 4,
  "nbformat_minor": 0,
  "metadata": {
    "colab": {
      "provenance": [],
      "collapsed_sections": [
        "G0axN_yvaTUw",
        "c8UvDQe_Z6vf"
      ],
      "toc_visible": true,
      "mount_file_id": "1ZBuOawlvOGY6XOFs52SFF0C8nUGTtFxm",
      "authorship_tag": "ABX9TyM3wxzHEDDQhMNdgNo4fxjH",
      "include_colab_link": true
    },
    "kernelspec": {
      "name": "python3",
      "display_name": "Python 3"
    },
    "language_info": {
      "name": "python"
    },
    "widgets": {
      "application/vnd.jupyter.widget-state+json": {
        "a681ea46aca14353986024ea79a25c5e": {
          "model_module": "@jupyter-widgets/controls",
          "model_name": "VBoxModel",
          "model_module_version": "1.5.0",
          "state": {
            "_dom_classes": [
              "widget-interact"
            ],
            "_model_module": "@jupyter-widgets/controls",
            "_model_module_version": "1.5.0",
            "_model_name": "VBoxModel",
            "_view_count": null,
            "_view_module": "@jupyter-widgets/controls",
            "_view_module_version": "1.5.0",
            "_view_name": "VBoxView",
            "box_style": "",
            "children": [
              "IPY_MODEL_c5cc701634854733836364cba7617ae0",
              "IPY_MODEL_fa579375b0c744e89a47e9d6f497b232"
            ],
            "layout": "IPY_MODEL_a7cf4efa9f7542b4be229b0807ba79e6"
          }
        },
        "c5cc701634854733836364cba7617ae0": {
          "model_module": "@jupyter-widgets/controls",
          "model_name": "DropdownModel",
          "model_module_version": "1.5.0",
          "state": {
            "_dom_classes": [],
            "_model_module": "@jupyter-widgets/controls",
            "_model_module_version": "1.5.0",
            "_model_name": "DropdownModel",
            "_options_labels": [
              "20",
              "4",
              "14",
              "13",
              "2",
              "10",
              "27",
              "6",
              "1"
            ],
            "_view_count": null,
            "_view_module": "@jupyter-widgets/controls",
            "_view_module_version": "1.5.0",
            "_view_name": "DropdownView",
            "description": "stores",
            "description_tooltip": null,
            "disabled": false,
            "index": 1,
            "layout": "IPY_MODEL_7538506b4aa0443d8a67ad6bee7d906f",
            "style": "IPY_MODEL_bf66910aad764469a1bb5ad9e3c656de"
          }
        },
        "fa579375b0c744e89a47e9d6f497b232": {
          "model_module": "@jupyter-widgets/output",
          "model_name": "OutputModel",
          "model_module_version": "1.0.0",
          "state": {
            "_dom_classes": [],
            "_model_module": "@jupyter-widgets/output",
            "_model_module_version": "1.0.0",
            "_model_name": "OutputModel",
            "_view_count": null,
            "_view_module": "@jupyter-widgets/output",
            "_view_module_version": "1.0.0",
            "_view_name": "OutputView",
            "layout": "IPY_MODEL_9c630a75d1b64bc894acdf61db43f731",
            "msg_id": "",
            "outputs": [
              {
                "output_type": "display_data",
                "data": {
                  "text/html": "<html>\n<head><meta charset=\"utf-8\" /></head>\n<body>\n    <div>            <script src=\"https://cdnjs.cloudflare.com/ajax/libs/mathjax/2.7.5/MathJax.js?config=TeX-AMS-MML_SVG\"></script><script type=\"text/javascript\">if (window.MathJax) {MathJax.Hub.Config({SVG: {font: \"STIX-Web\"}});}</script>                <script type=\"text/javascript\">window.PlotlyConfig = {MathJaxConfig: 'local'};</script>\n        <script src=\"https://cdn.plot.ly/plotly-2.8.3.min.js\"></script>                <div id=\"2b5fed43-adc0-4223-b527-065ae3015421\" class=\"plotly-graph-div\" style=\"height:525px; width:1000px;\"></div>            <script type=\"text/javascript\">                                    window.PLOTLYENV=window.PLOTLYENV || {};                                    if (document.getElementById(\"2b5fed43-adc0-4223-b527-065ae3015421\")) {                    Plotly.newPlot(                        \"2b5fed43-adc0-4223-b527-065ae3015421\",                        [{\"alignmentgroup\":\"True\",\"hovertemplate\":\"Date=%{x}<br>Weekly_Sales=%{y}<extra></extra>\",\"legendgroup\":\"\",\"marker\":{\"color\":\"#636efa\",\"pattern\":{\"shape\":\"\"}},\"name\":\"\",\"offsetgroup\":\"\",\"orientation\":\"v\",\"showlegend\":false,\"textposition\":\"auto\",\"texttemplate\":\"%{y:.5s}\",\"x\":[\"2010-02\",\"2010-03\",\"2010-04\",\"2010-05\",\"2010-06\",\"2010-07\",\"2010-08\",\"2010-09\",\"2010-10\",\"2010-11\",\"2010-12\",\"2011-01\",\"2011-02\",\"2011-03\",\"2011-04\",\"2011-05\",\"2011-06\",\"2011-07\",\"2011-08\",\"2011-09\",\"2011-10\",\"2011-11\",\"2011-12\",\"2012-01\",\"2012-02\",\"2012-03\",\"2012-04\",\"2012-05\",\"2012-06\",\"2012-07\",\"2012-08\",\"2012-09\",\"2012-10\"],\"xaxis\":\"x\",\"y\":[9130567.26,8557668.86,8705890.11,13404542.56,6714639.0,8599402.46,8222118.390000001,8328421.39,10645839.08,7139742.33,14157707.280000001,8999781.89,7788712.59,5891842.12,12373204.08,8111013.03,6247206.79,9650179.51,8271544.55,10219507.01,8089167.46,10647756.879999999,9806354.790000001,7130209.35,5821596.14,9273818.04,7521980.37,5650694.9399999995,11255093.75,6481699.51,6995232.7,6663498.1899999995,7020458.61],\"yaxis\":\"y\",\"type\":\"bar\"}],                        {\"template\":{\"data\":{\"bar\":[{\"error_x\":{\"color\":\"#2a3f5f\"},\"error_y\":{\"color\":\"#2a3f5f\"},\"marker\":{\"line\":{\"color\":\"#E5ECF6\",\"width\":0.5},\"pattern\":{\"fillmode\":\"overlay\",\"size\":10,\"solidity\":0.2}},\"type\":\"bar\"}],\"barpolar\":[{\"marker\":{\"line\":{\"color\":\"#E5ECF6\",\"width\":0.5},\"pattern\":{\"fillmode\":\"overlay\",\"size\":10,\"solidity\":0.2}},\"type\":\"barpolar\"}],\"carpet\":[{\"aaxis\":{\"endlinecolor\":\"#2a3f5f\",\"gridcolor\":\"white\",\"linecolor\":\"white\",\"minorgridcolor\":\"white\",\"startlinecolor\":\"#2a3f5f\"},\"baxis\":{\"endlinecolor\":\"#2a3f5f\",\"gridcolor\":\"white\",\"linecolor\":\"white\",\"minorgridcolor\":\"white\",\"startlinecolor\":\"#2a3f5f\"},\"type\":\"carpet\"}],\"choropleth\":[{\"colorbar\":{\"outlinewidth\":0,\"ticks\":\"\"},\"type\":\"choropleth\"}],\"contour\":[{\"colorbar\":{\"outlinewidth\":0,\"ticks\":\"\"},\"colorscale\":[[0.0,\"#0d0887\"],[0.1111111111111111,\"#46039f\"],[0.2222222222222222,\"#7201a8\"],[0.3333333333333333,\"#9c179e\"],[0.4444444444444444,\"#bd3786\"],[0.5555555555555556,\"#d8576b\"],[0.6666666666666666,\"#ed7953\"],[0.7777777777777778,\"#fb9f3a\"],[0.8888888888888888,\"#fdca26\"],[1.0,\"#f0f921\"]],\"type\":\"contour\"}],\"contourcarpet\":[{\"colorbar\":{\"outlinewidth\":0,\"ticks\":\"\"},\"type\":\"contourcarpet\"}],\"heatmap\":[{\"colorbar\":{\"outlinewidth\":0,\"ticks\":\"\"},\"colorscale\":[[0.0,\"#0d0887\"],[0.1111111111111111,\"#46039f\"],[0.2222222222222222,\"#7201a8\"],[0.3333333333333333,\"#9c179e\"],[0.4444444444444444,\"#bd3786\"],[0.5555555555555556,\"#d8576b\"],[0.6666666666666666,\"#ed7953\"],[0.7777777777777778,\"#fb9f3a\"],[0.8888888888888888,\"#fdca26\"],[1.0,\"#f0f921\"]],\"type\":\"heatmap\"}],\"heatmapgl\":[{\"colorbar\":{\"outlinewidth\":0,\"ticks\":\"\"},\"colorscale\":[[0.0,\"#0d0887\"],[0.1111111111111111,\"#46039f\"],[0.2222222222222222,\"#7201a8\"],[0.3333333333333333,\"#9c179e\"],[0.4444444444444444,\"#bd3786\"],[0.5555555555555556,\"#d8576b\"],[0.6666666666666666,\"#ed7953\"],[0.7777777777777778,\"#fb9f3a\"],[0.8888888888888888,\"#fdca26\"],[1.0,\"#f0f921\"]],\"type\":\"heatmapgl\"}],\"histogram\":[{\"marker\":{\"pattern\":{\"fillmode\":\"overlay\",\"size\":10,\"solidity\":0.2}},\"type\":\"histogram\"}],\"histogram2d\":[{\"colorbar\":{\"outlinewidth\":0,\"ticks\":\"\"},\"colorscale\":[[0.0,\"#0d0887\"],[0.1111111111111111,\"#46039f\"],[0.2222222222222222,\"#7201a8\"],[0.3333333333333333,\"#9c179e\"],[0.4444444444444444,\"#bd3786\"],[0.5555555555555556,\"#d8576b\"],[0.6666666666666666,\"#ed7953\"],[0.7777777777777778,\"#fb9f3a\"],[0.8888888888888888,\"#fdca26\"],[1.0,\"#f0f921\"]],\"type\":\"histogram2d\"}],\"histogram2dcontour\":[{\"colorbar\":{\"outlinewidth\":0,\"ticks\":\"\"},\"colorscale\":[[0.0,\"#0d0887\"],[0.1111111111111111,\"#46039f\"],[0.2222222222222222,\"#7201a8\"],[0.3333333333333333,\"#9c179e\"],[0.4444444444444444,\"#bd3786\"],[0.5555555555555556,\"#d8576b\"],[0.6666666666666666,\"#ed7953\"],[0.7777777777777778,\"#fb9f3a\"],[0.8888888888888888,\"#fdca26\"],[1.0,\"#f0f921\"]],\"type\":\"histogram2dcontour\"}],\"mesh3d\":[{\"colorbar\":{\"outlinewidth\":0,\"ticks\":\"\"},\"type\":\"mesh3d\"}],\"parcoords\":[{\"line\":{\"colorbar\":{\"outlinewidth\":0,\"ticks\":\"\"}},\"type\":\"parcoords\"}],\"pie\":[{\"automargin\":true,\"type\":\"pie\"}],\"scatter\":[{\"marker\":{\"colorbar\":{\"outlinewidth\":0,\"ticks\":\"\"}},\"type\":\"scatter\"}],\"scatter3d\":[{\"line\":{\"colorbar\":{\"outlinewidth\":0,\"ticks\":\"\"}},\"marker\":{\"colorbar\":{\"outlinewidth\":0,\"ticks\":\"\"}},\"type\":\"scatter3d\"}],\"scattercarpet\":[{\"marker\":{\"colorbar\":{\"outlinewidth\":0,\"ticks\":\"\"}},\"type\":\"scattercarpet\"}],\"scattergeo\":[{\"marker\":{\"colorbar\":{\"outlinewidth\":0,\"ticks\":\"\"}},\"type\":\"scattergeo\"}],\"scattergl\":[{\"marker\":{\"colorbar\":{\"outlinewidth\":0,\"ticks\":\"\"}},\"type\":\"scattergl\"}],\"scattermapbox\":[{\"marker\":{\"colorbar\":{\"outlinewidth\":0,\"ticks\":\"\"}},\"type\":\"scattermapbox\"}],\"scatterpolar\":[{\"marker\":{\"colorbar\":{\"outlinewidth\":0,\"ticks\":\"\"}},\"type\":\"scatterpolar\"}],\"scatterpolargl\":[{\"marker\":{\"colorbar\":{\"outlinewidth\":0,\"ticks\":\"\"}},\"type\":\"scatterpolargl\"}],\"scatterternary\":[{\"marker\":{\"colorbar\":{\"outlinewidth\":0,\"ticks\":\"\"}},\"type\":\"scatterternary\"}],\"surface\":[{\"colorbar\":{\"outlinewidth\":0,\"ticks\":\"\"},\"colorscale\":[[0.0,\"#0d0887\"],[0.1111111111111111,\"#46039f\"],[0.2222222222222222,\"#7201a8\"],[0.3333333333333333,\"#9c179e\"],[0.4444444444444444,\"#bd3786\"],[0.5555555555555556,\"#d8576b\"],[0.6666666666666666,\"#ed7953\"],[0.7777777777777778,\"#fb9f3a\"],[0.8888888888888888,\"#fdca26\"],[1.0,\"#f0f921\"]],\"type\":\"surface\"}],\"table\":[{\"cells\":{\"fill\":{\"color\":\"#EBF0F8\"},\"line\":{\"color\":\"white\"}},\"header\":{\"fill\":{\"color\":\"#C8D4E3\"},\"line\":{\"color\":\"white\"}},\"type\":\"table\"}]},\"layout\":{\"annotationdefaults\":{\"arrowcolor\":\"#2a3f5f\",\"arrowhead\":0,\"arrowwidth\":1},\"autotypenumbers\":\"strict\",\"coloraxis\":{\"colorbar\":{\"outlinewidth\":0,\"ticks\":\"\"}},\"colorscale\":{\"diverging\":[[0,\"#8e0152\"],[0.1,\"#c51b7d\"],[0.2,\"#de77ae\"],[0.3,\"#f1b6da\"],[0.4,\"#fde0ef\"],[0.5,\"#f7f7f7\"],[0.6,\"#e6f5d0\"],[0.7,\"#b8e186\"],[0.8,\"#7fbc41\"],[0.9,\"#4d9221\"],[1,\"#276419\"]],\"sequential\":[[0.0,\"#0d0887\"],[0.1111111111111111,\"#46039f\"],[0.2222222222222222,\"#7201a8\"],[0.3333333333333333,\"#9c179e\"],[0.4444444444444444,\"#bd3786\"],[0.5555555555555556,\"#d8576b\"],[0.6666666666666666,\"#ed7953\"],[0.7777777777777778,\"#fb9f3a\"],[0.8888888888888888,\"#fdca26\"],[1.0,\"#f0f921\"]],\"sequentialminus\":[[0.0,\"#0d0887\"],[0.1111111111111111,\"#46039f\"],[0.2222222222222222,\"#7201a8\"],[0.3333333333333333,\"#9c179e\"],[0.4444444444444444,\"#bd3786\"],[0.5555555555555556,\"#d8576b\"],[0.6666666666666666,\"#ed7953\"],[0.7777777777777778,\"#fb9f3a\"],[0.8888888888888888,\"#fdca26\"],[1.0,\"#f0f921\"]]},\"colorway\":[\"#636efa\",\"#EF553B\",\"#00cc96\",\"#ab63fa\",\"#FFA15A\",\"#19d3f3\",\"#FF6692\",\"#B6E880\",\"#FF97FF\",\"#FECB52\"],\"font\":{\"color\":\"#2a3f5f\"},\"geo\":{\"bgcolor\":\"white\",\"lakecolor\":\"white\",\"landcolor\":\"#E5ECF6\",\"showlakes\":true,\"showland\":true,\"subunitcolor\":\"white\"},\"hoverlabel\":{\"align\":\"left\"},\"hovermode\":\"closest\",\"mapbox\":{\"style\":\"light\"},\"paper_bgcolor\":\"white\",\"plot_bgcolor\":\"#E5ECF6\",\"polar\":{\"angularaxis\":{\"gridcolor\":\"white\",\"linecolor\":\"white\",\"ticks\":\"\"},\"bgcolor\":\"#E5ECF6\",\"radialaxis\":{\"gridcolor\":\"white\",\"linecolor\":\"white\",\"ticks\":\"\"}},\"scene\":{\"xaxis\":{\"backgroundcolor\":\"#E5ECF6\",\"gridcolor\":\"white\",\"gridwidth\":2,\"linecolor\":\"white\",\"showbackground\":true,\"ticks\":\"\",\"zerolinecolor\":\"white\"},\"yaxis\":{\"backgroundcolor\":\"#E5ECF6\",\"gridcolor\":\"white\",\"gridwidth\":2,\"linecolor\":\"white\",\"showbackground\":true,\"ticks\":\"\",\"zerolinecolor\":\"white\"},\"zaxis\":{\"backgroundcolor\":\"#E5ECF6\",\"gridcolor\":\"white\",\"gridwidth\":2,\"linecolor\":\"white\",\"showbackground\":true,\"ticks\":\"\",\"zerolinecolor\":\"white\"}},\"shapedefaults\":{\"line\":{\"color\":\"#2a3f5f\"}},\"ternary\":{\"aaxis\":{\"gridcolor\":\"white\",\"linecolor\":\"white\",\"ticks\":\"\"},\"baxis\":{\"gridcolor\":\"white\",\"linecolor\":\"white\",\"ticks\":\"\"},\"bgcolor\":\"#E5ECF6\",\"caxis\":{\"gridcolor\":\"white\",\"linecolor\":\"white\",\"ticks\":\"\"}},\"title\":{\"x\":0.05},\"xaxis\":{\"automargin\":true,\"gridcolor\":\"white\",\"linecolor\":\"white\",\"ticks\":\"\",\"title\":{\"standoff\":15},\"zerolinecolor\":\"white\",\"zerolinewidth\":2},\"yaxis\":{\"automargin\":true,\"gridcolor\":\"white\",\"linecolor\":\"white\",\"ticks\":\"\",\"title\":{\"standoff\":15},\"zerolinecolor\":\"white\",\"zerolinewidth\":2}}},\"xaxis\":{\"anchor\":\"y\",\"domain\":[0.0,1.0],\"title\":{\"text\":\"Date\"}},\"yaxis\":{\"anchor\":\"x\",\"domain\":[0.0,1.0],\"title\":{\"text\":\"Weekly_Sales\"}},\"legend\":{\"tracegroupgap\":0},\"margin\":{\"t\":60},\"barmode\":\"relative\",\"shapes\":[{\"line\":{\"dash\":\"dash\"},\"type\":\"line\",\"x0\":0,\"x1\":1,\"xref\":\"x domain\",\"y0\":8591427.00060606,\"y1\":8591427.00060606,\"yref\":\"y\"},{\"line\":{\"color\":\"lightgreen\",\"dash\":\"dash\"},\"type\":\"line\",\"x0\":0,\"x1\":1,\"xref\":\"x domain\",\"y0\":4050876.711636364,\"y1\":4050876.711636364,\"yref\":\"y\"}],\"annotations\":[{\"showarrow\":false,\"text\":\"8591427.00060606\",\"x\":1,\"xanchor\":\"right\",\"xref\":\"x domain\",\"y\":8591427.00060606,\"yanchor\":\"bottom\",\"yref\":\"y\"},{\"showarrow\":false,\"text\":\"Walmart_mean_sale\",\"x\":1,\"xanchor\":\"right\",\"xref\":\"x domain\",\"y\":4050876.711636364,\"yanchor\":\"top\",\"yref\":\"y\"}],\"width\":1000},                        {\"responsive\": true}                    ).then(function(){\n                            \nvar gd = document.getElementById('2b5fed43-adc0-4223-b527-065ae3015421');\nvar x = new MutationObserver(function (mutations, observer) {{\n        var display = window.getComputedStyle(gd).display;\n        if (!display || display === 'none') {{\n            console.log([gd, 'removed!']);\n            Plotly.purge(gd);\n            observer.disconnect();\n        }}\n}});\n\n// Listen for the removal of the full notebook cells\nvar notebookContainer = gd.closest('#notebook-container');\nif (notebookContainer) {{\n    x.observe(notebookContainer, {childList: true});\n}}\n\n// Listen for the clearing of the current output cell\nvar outputEl = gd.closest('.output');\nif (outputEl) {{\n    x.observe(outputEl, {childList: true});\n}}\n\n                        })                };                            </script>        </div>\n</body>\n</html>"
                },
                "metadata": {}
              }
            ]
          }
        },
        "a7cf4efa9f7542b4be229b0807ba79e6": {
          "model_module": "@jupyter-widgets/base",
          "model_name": "LayoutModel",
          "model_module_version": "1.2.0",
          "state": {
            "_model_module": "@jupyter-widgets/base",
            "_model_module_version": "1.2.0",
            "_model_name": "LayoutModel",
            "_view_count": null,
            "_view_module": "@jupyter-widgets/base",
            "_view_module_version": "1.2.0",
            "_view_name": "LayoutView",
            "align_content": null,
            "align_items": null,
            "align_self": null,
            "border": null,
            "bottom": null,
            "display": null,
            "flex": null,
            "flex_flow": null,
            "grid_area": null,
            "grid_auto_columns": null,
            "grid_auto_flow": null,
            "grid_auto_rows": null,
            "grid_column": null,
            "grid_gap": null,
            "grid_row": null,
            "grid_template_areas": null,
            "grid_template_columns": null,
            "grid_template_rows": null,
            "height": null,
            "justify_content": null,
            "justify_items": null,
            "left": null,
            "margin": null,
            "max_height": null,
            "max_width": null,
            "min_height": null,
            "min_width": null,
            "object_fit": null,
            "object_position": null,
            "order": null,
            "overflow": null,
            "overflow_x": null,
            "overflow_y": null,
            "padding": null,
            "right": null,
            "top": null,
            "visibility": null,
            "width": null
          }
        },
        "7538506b4aa0443d8a67ad6bee7d906f": {
          "model_module": "@jupyter-widgets/base",
          "model_name": "LayoutModel",
          "model_module_version": "1.2.0",
          "state": {
            "_model_module": "@jupyter-widgets/base",
            "_model_module_version": "1.2.0",
            "_model_name": "LayoutModel",
            "_view_count": null,
            "_view_module": "@jupyter-widgets/base",
            "_view_module_version": "1.2.0",
            "_view_name": "LayoutView",
            "align_content": null,
            "align_items": null,
            "align_self": null,
            "border": null,
            "bottom": null,
            "display": null,
            "flex": null,
            "flex_flow": null,
            "grid_area": null,
            "grid_auto_columns": null,
            "grid_auto_flow": null,
            "grid_auto_rows": null,
            "grid_column": null,
            "grid_gap": null,
            "grid_row": null,
            "grid_template_areas": null,
            "grid_template_columns": null,
            "grid_template_rows": null,
            "height": null,
            "justify_content": null,
            "justify_items": null,
            "left": null,
            "margin": null,
            "max_height": null,
            "max_width": null,
            "min_height": null,
            "min_width": null,
            "object_fit": null,
            "object_position": null,
            "order": null,
            "overflow": null,
            "overflow_x": null,
            "overflow_y": null,
            "padding": null,
            "right": null,
            "top": null,
            "visibility": null,
            "width": null
          }
        },
        "bf66910aad764469a1bb5ad9e3c656de": {
          "model_module": "@jupyter-widgets/controls",
          "model_name": "DescriptionStyleModel",
          "model_module_version": "1.5.0",
          "state": {
            "_model_module": "@jupyter-widgets/controls",
            "_model_module_version": "1.5.0",
            "_model_name": "DescriptionStyleModel",
            "_view_count": null,
            "_view_module": "@jupyter-widgets/base",
            "_view_module_version": "1.2.0",
            "_view_name": "StyleView",
            "description_width": ""
          }
        },
        "9c630a75d1b64bc894acdf61db43f731": {
          "model_module": "@jupyter-widgets/base",
          "model_name": "LayoutModel",
          "model_module_version": "1.2.0",
          "state": {
            "_model_module": "@jupyter-widgets/base",
            "_model_module_version": "1.2.0",
            "_model_name": "LayoutModel",
            "_view_count": null,
            "_view_module": "@jupyter-widgets/base",
            "_view_module_version": "1.2.0",
            "_view_name": "LayoutView",
            "align_content": null,
            "align_items": null,
            "align_self": null,
            "border": null,
            "bottom": null,
            "display": null,
            "flex": null,
            "flex_flow": null,
            "grid_area": null,
            "grid_auto_columns": null,
            "grid_auto_flow": null,
            "grid_auto_rows": null,
            "grid_column": null,
            "grid_gap": null,
            "grid_row": null,
            "grid_template_areas": null,
            "grid_template_columns": null,
            "grid_template_rows": null,
            "height": null,
            "justify_content": null,
            "justify_items": null,
            "left": null,
            "margin": null,
            "max_height": null,
            "max_width": null,
            "min_height": null,
            "min_width": null,
            "object_fit": null,
            "object_position": null,
            "order": null,
            "overflow": null,
            "overflow_x": null,
            "overflow_y": null,
            "padding": null,
            "right": null,
            "top": null,
            "visibility": null,
            "width": null
          }
        },
        "9e96beda671b4a8fa83c88e7b5782aa5": {
          "model_module": "@jupyter-widgets/controls",
          "model_name": "VBoxModel",
          "model_module_version": "1.5.0",
          "state": {
            "_dom_classes": [
              "widget-interact"
            ],
            "_model_module": "@jupyter-widgets/controls",
            "_model_module_version": "1.5.0",
            "_model_name": "VBoxModel",
            "_view_count": null,
            "_view_module": "@jupyter-widgets/controls",
            "_view_module_version": "1.5.0",
            "_view_name": "VBoxView",
            "box_style": "",
            "children": [
              "IPY_MODEL_0d48bb5c13b34eef86b2979b291fef45",
              "IPY_MODEL_81a736312d694c6d99d811e60ebe4a66"
            ],
            "layout": "IPY_MODEL_3951e2587d8d4afbba1f047e8dbdf4ce"
          }
        },
        "0d48bb5c13b34eef86b2979b291fef45": {
          "model_module": "@jupyter-widgets/controls",
          "model_name": "DropdownModel",
          "model_module_version": "1.5.0",
          "state": {
            "_dom_classes": [],
            "_model_module": "@jupyter-widgets/controls",
            "_model_module_version": "1.5.0",
            "_model_name": "DropdownModel",
            "_options_labels": [
              "31",
              "23",
              "24",
              "11",
              "28",
              "41",
              "32",
              "18",
              "22",
              "12",
              "26",
              "34",
              "40",
              "35",
              "8",
              "17",
              "45",
              "21",
              "25",
              "15",
              "7",
              "9",
              "29",
              "16"
            ],
            "_view_count": null,
            "_view_module": "@jupyter-widgets/controls",
            "_view_module_version": "1.5.0",
            "_view_name": "DropdownView",
            "description": "stores",
            "description_tooltip": null,
            "disabled": false,
            "index": 0,
            "layout": "IPY_MODEL_338977e4a6634c0fb8f0a5d66062deef",
            "style": "IPY_MODEL_cca0add31b5444d18a581dde14a0d0c8"
          }
        },
        "81a736312d694c6d99d811e60ebe4a66": {
          "model_module": "@jupyter-widgets/output",
          "model_name": "OutputModel",
          "model_module_version": "1.0.0",
          "state": {
            "_dom_classes": [],
            "_model_module": "@jupyter-widgets/output",
            "_model_module_version": "1.0.0",
            "_model_name": "OutputModel",
            "_view_count": null,
            "_view_module": "@jupyter-widgets/output",
            "_view_module_version": "1.0.0",
            "_view_name": "OutputView",
            "layout": "IPY_MODEL_73e022d02fb74e3ebaf5d5fe1c63804d",
            "msg_id": "",
            "outputs": [
              {
                "output_type": "display_data",
                "data": {
                  "text/html": "<html>\n<head><meta charset=\"utf-8\" /></head>\n<body>\n    <div>            <script src=\"https://cdnjs.cloudflare.com/ajax/libs/mathjax/2.7.5/MathJax.js?config=TeX-AMS-MML_SVG\"></script><script type=\"text/javascript\">if (window.MathJax) {MathJax.Hub.Config({SVG: {font: \"STIX-Web\"}});}</script>                <script type=\"text/javascript\">window.PlotlyConfig = {MathJaxConfig: 'local'};</script>\n        <script src=\"https://cdn.plot.ly/plotly-2.8.3.min.js\"></script>                <div id=\"f5b2a6a1-e253-4839-8e1d-4e488551dc36\" class=\"plotly-graph-div\" style=\"height:525px; width:1000px;\"></div>            <script type=\"text/javascript\">                                    window.PLOTLYENV=window.PLOTLYENV || {};                                    if (document.getElementById(\"f5b2a6a1-e253-4839-8e1d-4e488551dc36\")) {                    Plotly.newPlot(                        \"f5b2a6a1-e253-4839-8e1d-4e488551dc36\",                        [{\"alignmentgroup\":\"True\",\"hovertemplate\":\"Date=%{x}<br>Weekly_Sales=%{y}<extra></extra>\",\"legendgroup\":\"\",\"marker\":{\"color\":\"#636efa\",\"pattern\":{\"shape\":\"\"}},\"name\":\"\",\"offsetgroup\":\"\",\"orientation\":\"v\",\"showlegend\":false,\"textposition\":\"auto\",\"texttemplate\":\"%{y:.5s}\",\"x\":[\"2010-02\",\"2010-03\",\"2010-04\",\"2010-05\",\"2010-06\",\"2010-07\",\"2010-08\",\"2010-09\",\"2010-10\",\"2010-11\",\"2010-12\",\"2011-01\",\"2011-02\",\"2011-03\",\"2011-04\",\"2011-05\",\"2011-06\",\"2011-07\",\"2011-08\",\"2011-09\",\"2011-10\",\"2011-11\",\"2011-12\",\"2012-01\",\"2012-02\",\"2012-03\",\"2012-04\",\"2012-05\",\"2012-06\",\"2012-07\",\"2012-08\",\"2012-09\",\"2012-10\"],\"xaxis\":\"x\",\"y\":[5487046.76,5202660.5600000005,5318738.82,8112709.640000001,4024014.89,5225255.5,5331044.21,5235183.75,6569927.12,4595106.96,9244602.91,6666633.12,5679320.59,4212943.220000001,8483329.05,5566750.38,4255757.21,6864910.97,5744744.24,6930072.55,5559812.67,7768861.33,6436090.1899999995,5414447.79,4391238.11,6948061.859999999,5517489.03,4201933.13,8529733.19,5428540.5200000005,5606902.1899999995,5418885.75,5633124.17],\"yaxis\":\"y\",\"type\":\"bar\"}],                        {\"template\":{\"data\":{\"bar\":[{\"error_x\":{\"color\":\"#2a3f5f\"},\"error_y\":{\"color\":\"#2a3f5f\"},\"marker\":{\"line\":{\"color\":\"#E5ECF6\",\"width\":0.5},\"pattern\":{\"fillmode\":\"overlay\",\"size\":10,\"solidity\":0.2}},\"type\":\"bar\"}],\"barpolar\":[{\"marker\":{\"line\":{\"color\":\"#E5ECF6\",\"width\":0.5},\"pattern\":{\"fillmode\":\"overlay\",\"size\":10,\"solidity\":0.2}},\"type\":\"barpolar\"}],\"carpet\":[{\"aaxis\":{\"endlinecolor\":\"#2a3f5f\",\"gridcolor\":\"white\",\"linecolor\":\"white\",\"minorgridcolor\":\"white\",\"startlinecolor\":\"#2a3f5f\"},\"baxis\":{\"endlinecolor\":\"#2a3f5f\",\"gridcolor\":\"white\",\"linecolor\":\"white\",\"minorgridcolor\":\"white\",\"startlinecolor\":\"#2a3f5f\"},\"type\":\"carpet\"}],\"choropleth\":[{\"colorbar\":{\"outlinewidth\":0,\"ticks\":\"\"},\"type\":\"choropleth\"}],\"contour\":[{\"colorbar\":{\"outlinewidth\":0,\"ticks\":\"\"},\"colorscale\":[[0.0,\"#0d0887\"],[0.1111111111111111,\"#46039f\"],[0.2222222222222222,\"#7201a8\"],[0.3333333333333333,\"#9c179e\"],[0.4444444444444444,\"#bd3786\"],[0.5555555555555556,\"#d8576b\"],[0.6666666666666666,\"#ed7953\"],[0.7777777777777778,\"#fb9f3a\"],[0.8888888888888888,\"#fdca26\"],[1.0,\"#f0f921\"]],\"type\":\"contour\"}],\"contourcarpet\":[{\"colorbar\":{\"outlinewidth\":0,\"ticks\":\"\"},\"type\":\"contourcarpet\"}],\"heatmap\":[{\"colorbar\":{\"outlinewidth\":0,\"ticks\":\"\"},\"colorscale\":[[0.0,\"#0d0887\"],[0.1111111111111111,\"#46039f\"],[0.2222222222222222,\"#7201a8\"],[0.3333333333333333,\"#9c179e\"],[0.4444444444444444,\"#bd3786\"],[0.5555555555555556,\"#d8576b\"],[0.6666666666666666,\"#ed7953\"],[0.7777777777777778,\"#fb9f3a\"],[0.8888888888888888,\"#fdca26\"],[1.0,\"#f0f921\"]],\"type\":\"heatmap\"}],\"heatmapgl\":[{\"colorbar\":{\"outlinewidth\":0,\"ticks\":\"\"},\"colorscale\":[[0.0,\"#0d0887\"],[0.1111111111111111,\"#46039f\"],[0.2222222222222222,\"#7201a8\"],[0.3333333333333333,\"#9c179e\"],[0.4444444444444444,\"#bd3786\"],[0.5555555555555556,\"#d8576b\"],[0.6666666666666666,\"#ed7953\"],[0.7777777777777778,\"#fb9f3a\"],[0.8888888888888888,\"#fdca26\"],[1.0,\"#f0f921\"]],\"type\":\"heatmapgl\"}],\"histogram\":[{\"marker\":{\"pattern\":{\"fillmode\":\"overlay\",\"size\":10,\"solidity\":0.2}},\"type\":\"histogram\"}],\"histogram2d\":[{\"colorbar\":{\"outlinewidth\":0,\"ticks\":\"\"},\"colorscale\":[[0.0,\"#0d0887\"],[0.1111111111111111,\"#46039f\"],[0.2222222222222222,\"#7201a8\"],[0.3333333333333333,\"#9c179e\"],[0.4444444444444444,\"#bd3786\"],[0.5555555555555556,\"#d8576b\"],[0.6666666666666666,\"#ed7953\"],[0.7777777777777778,\"#fb9f3a\"],[0.8888888888888888,\"#fdca26\"],[1.0,\"#f0f921\"]],\"type\":\"histogram2d\"}],\"histogram2dcontour\":[{\"colorbar\":{\"outlinewidth\":0,\"ticks\":\"\"},\"colorscale\":[[0.0,\"#0d0887\"],[0.1111111111111111,\"#46039f\"],[0.2222222222222222,\"#7201a8\"],[0.3333333333333333,\"#9c179e\"],[0.4444444444444444,\"#bd3786\"],[0.5555555555555556,\"#d8576b\"],[0.6666666666666666,\"#ed7953\"],[0.7777777777777778,\"#fb9f3a\"],[0.8888888888888888,\"#fdca26\"],[1.0,\"#f0f921\"]],\"type\":\"histogram2dcontour\"}],\"mesh3d\":[{\"colorbar\":{\"outlinewidth\":0,\"ticks\":\"\"},\"type\":\"mesh3d\"}],\"parcoords\":[{\"line\":{\"colorbar\":{\"outlinewidth\":0,\"ticks\":\"\"}},\"type\":\"parcoords\"}],\"pie\":[{\"automargin\":true,\"type\":\"pie\"}],\"scatter\":[{\"marker\":{\"colorbar\":{\"outlinewidth\":0,\"ticks\":\"\"}},\"type\":\"scatter\"}],\"scatter3d\":[{\"line\":{\"colorbar\":{\"outlinewidth\":0,\"ticks\":\"\"}},\"marker\":{\"colorbar\":{\"outlinewidth\":0,\"ticks\":\"\"}},\"type\":\"scatter3d\"}],\"scattercarpet\":[{\"marker\":{\"colorbar\":{\"outlinewidth\":0,\"ticks\":\"\"}},\"type\":\"scattercarpet\"}],\"scattergeo\":[{\"marker\":{\"colorbar\":{\"outlinewidth\":0,\"ticks\":\"\"}},\"type\":\"scattergeo\"}],\"scattergl\":[{\"marker\":{\"colorbar\":{\"outlinewidth\":0,\"ticks\":\"\"}},\"type\":\"scattergl\"}],\"scattermapbox\":[{\"marker\":{\"colorbar\":{\"outlinewidth\":0,\"ticks\":\"\"}},\"type\":\"scattermapbox\"}],\"scatterpolar\":[{\"marker\":{\"colorbar\":{\"outlinewidth\":0,\"ticks\":\"\"}},\"type\":\"scatterpolar\"}],\"scatterpolargl\":[{\"marker\":{\"colorbar\":{\"outlinewidth\":0,\"ticks\":\"\"}},\"type\":\"scatterpolargl\"}],\"scatterternary\":[{\"marker\":{\"colorbar\":{\"outlinewidth\":0,\"ticks\":\"\"}},\"type\":\"scatterternary\"}],\"surface\":[{\"colorbar\":{\"outlinewidth\":0,\"ticks\":\"\"},\"colorscale\":[[0.0,\"#0d0887\"],[0.1111111111111111,\"#46039f\"],[0.2222222222222222,\"#7201a8\"],[0.3333333333333333,\"#9c179e\"],[0.4444444444444444,\"#bd3786\"],[0.5555555555555556,\"#d8576b\"],[0.6666666666666666,\"#ed7953\"],[0.7777777777777778,\"#fb9f3a\"],[0.8888888888888888,\"#fdca26\"],[1.0,\"#f0f921\"]],\"type\":\"surface\"}],\"table\":[{\"cells\":{\"fill\":{\"color\":\"#EBF0F8\"},\"line\":{\"color\":\"white\"}},\"header\":{\"fill\":{\"color\":\"#C8D4E3\"},\"line\":{\"color\":\"white\"}},\"type\":\"table\"}]},\"layout\":{\"annotationdefaults\":{\"arrowcolor\":\"#2a3f5f\",\"arrowhead\":0,\"arrowwidth\":1},\"autotypenumbers\":\"strict\",\"coloraxis\":{\"colorbar\":{\"outlinewidth\":0,\"ticks\":\"\"}},\"colorscale\":{\"diverging\":[[0,\"#8e0152\"],[0.1,\"#c51b7d\"],[0.2,\"#de77ae\"],[0.3,\"#f1b6da\"],[0.4,\"#fde0ef\"],[0.5,\"#f7f7f7\"],[0.6,\"#e6f5d0\"],[0.7,\"#b8e186\"],[0.8,\"#7fbc41\"],[0.9,\"#4d9221\"],[1,\"#276419\"]],\"sequential\":[[0.0,\"#0d0887\"],[0.1111111111111111,\"#46039f\"],[0.2222222222222222,\"#7201a8\"],[0.3333333333333333,\"#9c179e\"],[0.4444444444444444,\"#bd3786\"],[0.5555555555555556,\"#d8576b\"],[0.6666666666666666,\"#ed7953\"],[0.7777777777777778,\"#fb9f3a\"],[0.8888888888888888,\"#fdca26\"],[1.0,\"#f0f921\"]],\"sequentialminus\":[[0.0,\"#0d0887\"],[0.1111111111111111,\"#46039f\"],[0.2222222222222222,\"#7201a8\"],[0.3333333333333333,\"#9c179e\"],[0.4444444444444444,\"#bd3786\"],[0.5555555555555556,\"#d8576b\"],[0.6666666666666666,\"#ed7953\"],[0.7777777777777778,\"#fb9f3a\"],[0.8888888888888888,\"#fdca26\"],[1.0,\"#f0f921\"]]},\"colorway\":[\"#636efa\",\"#EF553B\",\"#00cc96\",\"#ab63fa\",\"#FFA15A\",\"#19d3f3\",\"#FF6692\",\"#B6E880\",\"#FF97FF\",\"#FECB52\"],\"font\":{\"color\":\"#2a3f5f\"},\"geo\":{\"bgcolor\":\"white\",\"lakecolor\":\"white\",\"landcolor\":\"#E5ECF6\",\"showlakes\":true,\"showland\":true,\"subunitcolor\":\"white\"},\"hoverlabel\":{\"align\":\"left\"},\"hovermode\":\"closest\",\"mapbox\":{\"style\":\"light\"},\"paper_bgcolor\":\"white\",\"plot_bgcolor\":\"#E5ECF6\",\"polar\":{\"angularaxis\":{\"gridcolor\":\"white\",\"linecolor\":\"white\",\"ticks\":\"\"},\"bgcolor\":\"#E5ECF6\",\"radialaxis\":{\"gridcolor\":\"white\",\"linecolor\":\"white\",\"ticks\":\"\"}},\"scene\":{\"xaxis\":{\"backgroundcolor\":\"#E5ECF6\",\"gridcolor\":\"white\",\"gridwidth\":2,\"linecolor\":\"white\",\"showbackground\":true,\"ticks\":\"\",\"zerolinecolor\":\"white\"},\"yaxis\":{\"backgroundcolor\":\"#E5ECF6\",\"gridcolor\":\"white\",\"gridwidth\":2,\"linecolor\":\"white\",\"showbackground\":true,\"ticks\":\"\",\"zerolinecolor\":\"white\"},\"zaxis\":{\"backgroundcolor\":\"#E5ECF6\",\"gridcolor\":\"white\",\"gridwidth\":2,\"linecolor\":\"white\",\"showbackground\":true,\"ticks\":\"\",\"zerolinecolor\":\"white\"}},\"shapedefaults\":{\"line\":{\"color\":\"#2a3f5f\"}},\"ternary\":{\"aaxis\":{\"gridcolor\":\"white\",\"linecolor\":\"white\",\"ticks\":\"\"},\"baxis\":{\"gridcolor\":\"white\",\"linecolor\":\"white\",\"ticks\":\"\"},\"bgcolor\":\"#E5ECF6\",\"caxis\":{\"gridcolor\":\"white\",\"linecolor\":\"white\",\"ticks\":\"\"}},\"title\":{\"x\":0.05},\"xaxis\":{\"automargin\":true,\"gridcolor\":\"white\",\"linecolor\":\"white\",\"ticks\":\"\",\"title\":{\"standoff\":15},\"zerolinecolor\":\"white\",\"zerolinewidth\":2},\"yaxis\":{\"automargin\":true,\"gridcolor\":\"white\",\"linecolor\":\"white\",\"ticks\":\"\",\"title\":{\"standoff\":15},\"zerolinecolor\":\"white\",\"zerolinewidth\":2}}},\"xaxis\":{\"anchor\":\"y\",\"domain\":[0.0,1.0],\"title\":{\"text\":\"Date\"}},\"yaxis\":{\"anchor\":\"x\",\"domain\":[0.0,1.0],\"title\":{\"text\":\"Weekly_Sales\"}},\"legend\":{\"tracegroupgap\":0},\"margin\":{\"t\":60},\"barmode\":\"relative\",\"shapes\":[{\"line\":{\"dash\":\"dash\"},\"type\":\"line\",\"x0\":0,\"x1\":1,\"xref\":\"x domain\",\"y0\":5927450.678181817,\"y1\":5927450.678181817,\"yref\":\"y\"},{\"line\":{\"color\":\"lightgreen\",\"dash\":\"dash\"},\"type\":\"line\",\"x0\":0,\"x1\":1,\"xref\":\"x domain\",\"y0\":4050876.711636364,\"y1\":4050876.711636364,\"yref\":\"y\"}],\"annotations\":[{\"showarrow\":false,\"text\":\"5927450.678181817\",\"x\":1,\"xanchor\":\"right\",\"xref\":\"x domain\",\"y\":5927450.678181817,\"yanchor\":\"bottom\",\"yref\":\"y\"},{\"showarrow\":false,\"text\":\"Walmart_mean_sale\",\"x\":1,\"xanchor\":\"right\",\"xref\":\"x domain\",\"y\":4050876.711636364,\"yanchor\":\"top\",\"yref\":\"y\"}],\"width\":1000},                        {\"responsive\": true}                    ).then(function(){\n                            \nvar gd = document.getElementById('f5b2a6a1-e253-4839-8e1d-4e488551dc36');\nvar x = new MutationObserver(function (mutations, observer) {{\n        var display = window.getComputedStyle(gd).display;\n        if (!display || display === 'none') {{\n            console.log([gd, 'removed!']);\n            Plotly.purge(gd);\n            observer.disconnect();\n        }}\n}});\n\n// Listen for the removal of the full notebook cells\nvar notebookContainer = gd.closest('#notebook-container');\nif (notebookContainer) {{\n    x.observe(notebookContainer, {childList: true});\n}}\n\n// Listen for the clearing of the current output cell\nvar outputEl = gd.closest('.output');\nif (outputEl) {{\n    x.observe(outputEl, {childList: true});\n}}\n\n                        })                };                            </script>        </div>\n</body>\n</html>"
                },
                "metadata": {}
              }
            ]
          }
        },
        "3951e2587d8d4afbba1f047e8dbdf4ce": {
          "model_module": "@jupyter-widgets/base",
          "model_name": "LayoutModel",
          "model_module_version": "1.2.0",
          "state": {
            "_model_module": "@jupyter-widgets/base",
            "_model_module_version": "1.2.0",
            "_model_name": "LayoutModel",
            "_view_count": null,
            "_view_module": "@jupyter-widgets/base",
            "_view_module_version": "1.2.0",
            "_view_name": "LayoutView",
            "align_content": null,
            "align_items": null,
            "align_self": null,
            "border": null,
            "bottom": null,
            "display": null,
            "flex": null,
            "flex_flow": null,
            "grid_area": null,
            "grid_auto_columns": null,
            "grid_auto_flow": null,
            "grid_auto_rows": null,
            "grid_column": null,
            "grid_gap": null,
            "grid_row": null,
            "grid_template_areas": null,
            "grid_template_columns": null,
            "grid_template_rows": null,
            "height": null,
            "justify_content": null,
            "justify_items": null,
            "left": null,
            "margin": null,
            "max_height": null,
            "max_width": null,
            "min_height": null,
            "min_width": null,
            "object_fit": null,
            "object_position": null,
            "order": null,
            "overflow": null,
            "overflow_x": null,
            "overflow_y": null,
            "padding": null,
            "right": null,
            "top": null,
            "visibility": null,
            "width": null
          }
        },
        "338977e4a6634c0fb8f0a5d66062deef": {
          "model_module": "@jupyter-widgets/base",
          "model_name": "LayoutModel",
          "model_module_version": "1.2.0",
          "state": {
            "_model_module": "@jupyter-widgets/base",
            "_model_module_version": "1.2.0",
            "_model_name": "LayoutModel",
            "_view_count": null,
            "_view_module": "@jupyter-widgets/base",
            "_view_module_version": "1.2.0",
            "_view_name": "LayoutView",
            "align_content": null,
            "align_items": null,
            "align_self": null,
            "border": null,
            "bottom": null,
            "display": null,
            "flex": null,
            "flex_flow": null,
            "grid_area": null,
            "grid_auto_columns": null,
            "grid_auto_flow": null,
            "grid_auto_rows": null,
            "grid_column": null,
            "grid_gap": null,
            "grid_row": null,
            "grid_template_areas": null,
            "grid_template_columns": null,
            "grid_template_rows": null,
            "height": null,
            "justify_content": null,
            "justify_items": null,
            "left": null,
            "margin": null,
            "max_height": null,
            "max_width": null,
            "min_height": null,
            "min_width": null,
            "object_fit": null,
            "object_position": null,
            "order": null,
            "overflow": null,
            "overflow_x": null,
            "overflow_y": null,
            "padding": null,
            "right": null,
            "top": null,
            "visibility": null,
            "width": null
          }
        },
        "cca0add31b5444d18a581dde14a0d0c8": {
          "model_module": "@jupyter-widgets/controls",
          "model_name": "DescriptionStyleModel",
          "model_module_version": "1.5.0",
          "state": {
            "_model_module": "@jupyter-widgets/controls",
            "_model_module_version": "1.5.0",
            "_model_name": "DescriptionStyleModel",
            "_view_count": null,
            "_view_module": "@jupyter-widgets/base",
            "_view_module_version": "1.2.0",
            "_view_name": "StyleView",
            "description_width": ""
          }
        },
        "73e022d02fb74e3ebaf5d5fe1c63804d": {
          "model_module": "@jupyter-widgets/base",
          "model_name": "LayoutModel",
          "model_module_version": "1.2.0",
          "state": {
            "_model_module": "@jupyter-widgets/base",
            "_model_module_version": "1.2.0",
            "_model_name": "LayoutModel",
            "_view_count": null,
            "_view_module": "@jupyter-widgets/base",
            "_view_module_version": "1.2.0",
            "_view_name": "LayoutView",
            "align_content": null,
            "align_items": null,
            "align_self": null,
            "border": null,
            "bottom": null,
            "display": null,
            "flex": null,
            "flex_flow": null,
            "grid_area": null,
            "grid_auto_columns": null,
            "grid_auto_flow": null,
            "grid_auto_rows": null,
            "grid_column": null,
            "grid_gap": null,
            "grid_row": null,
            "grid_template_areas": null,
            "grid_template_columns": null,
            "grid_template_rows": null,
            "height": null,
            "justify_content": null,
            "justify_items": null,
            "left": null,
            "margin": null,
            "max_height": null,
            "max_width": null,
            "min_height": null,
            "min_width": null,
            "object_fit": null,
            "object_position": null,
            "order": null,
            "overflow": null,
            "overflow_x": null,
            "overflow_y": null,
            "padding": null,
            "right": null,
            "top": null,
            "visibility": null,
            "width": null
          }
        },
        "f8d5bc8b89014c91a3ecbb30007dd846": {
          "model_module": "@jupyter-widgets/controls",
          "model_name": "VBoxModel",
          "model_module_version": "1.5.0",
          "state": {
            "_dom_classes": [
              "widget-interact"
            ],
            "_model_module": "@jupyter-widgets/controls",
            "_model_module_version": "1.5.0",
            "_model_name": "VBoxModel",
            "_view_count": null,
            "_view_module": "@jupyter-widgets/controls",
            "_view_module_version": "1.5.0",
            "_view_name": "VBoxView",
            "box_style": "",
            "children": [
              "IPY_MODEL_071ce3edd5af4850a4fd5a5b15cfc75f",
              "IPY_MODEL_4f49c04b34f54ecc96de5b70cc767032"
            ],
            "layout": "IPY_MODEL_a15bada596084406a1eb9b42a1215759"
          }
        },
        "071ce3edd5af4850a4fd5a5b15cfc75f": {
          "model_module": "@jupyter-widgets/controls",
          "model_name": "DropdownModel",
          "model_module_version": "1.5.0",
          "state": {
            "_dom_classes": [],
            "_model_module": "@jupyter-widgets/controls",
            "_model_module_version": "1.5.0",
            "_model_name": "DropdownModel",
            "_options_labels": [
              "20",
              "4",
              "14",
              "13",
              "2",
              "10",
              "27",
              "6",
              "1"
            ],
            "_view_count": null,
            "_view_module": "@jupyter-widgets/controls",
            "_view_module_version": "1.5.0",
            "_view_name": "DropdownView",
            "description": "stores",
            "description_tooltip": null,
            "disabled": false,
            "index": 0,
            "layout": "IPY_MODEL_453cfcbff00f41adacbdb80d758ce55d",
            "style": "IPY_MODEL_b023832e9e534323935bf9bd6b1ba678"
          }
        },
        "4f49c04b34f54ecc96de5b70cc767032": {
          "model_module": "@jupyter-widgets/output",
          "model_name": "OutputModel",
          "model_module_version": "1.0.0",
          "state": {
            "_dom_classes": [],
            "_model_module": "@jupyter-widgets/output",
            "_model_module_version": "1.0.0",
            "_model_name": "OutputModel",
            "_view_count": null,
            "_view_module": "@jupyter-widgets/output",
            "_view_module_version": "1.0.0",
            "_view_name": "OutputView",
            "layout": "IPY_MODEL_33607b307c4b4adc8a9be76d00f77504",
            "msg_id": "",
            "outputs": [
              {
                "output_type": "display_data",
                "data": {
                  "text/html": "<html>\n<head><meta charset=\"utf-8\" /></head>\n<body>\n    <div>            <script src=\"https://cdnjs.cloudflare.com/ajax/libs/mathjax/2.7.5/MathJax.js?config=TeX-AMS-MML_SVG\"></script><script type=\"text/javascript\">if (window.MathJax) {MathJax.Hub.Config({SVG: {font: \"STIX-Web\"}});}</script>                <script type=\"text/javascript\">window.PlotlyConfig = {MathJaxConfig: 'local'};</script>\n        <script src=\"https://cdn.plot.ly/plotly-2.8.3.min.js\"></script>                <div id=\"c7bcefb3-6ce1-4347-92b6-d217fe17a8b6\" class=\"plotly-graph-div\" style=\"height:525px; width:1000px;\"></div>            <script type=\"text/javascript\">                                    window.PLOTLYENV=window.PLOTLYENV || {};                                    if (document.getElementById(\"c7bcefb3-6ce1-4347-92b6-d217fe17a8b6\")) {                    Plotly.newPlot(                        \"c7bcefb3-6ce1-4347-92b6-d217fe17a8b6\",                        [{\"alignmentgroup\":\"True\",\"hovertemplate\":\"Date=%{x}<br>Weekly_Sales=%{y}<extra></extra>\",\"legendgroup\":\"\",\"marker\":{\"color\":\"#636efa\",\"pattern\":{\"shape\":\"\"}},\"name\":\"\",\"offsetgroup\":\"\",\"orientation\":\"v\",\"showlegend\":false,\"textposition\":\"auto\",\"texttemplate\":\"%{y:.5s}\",\"x\":[\"2010-03\",\"2010-04\",\"2010-05\",\"2010-06\",\"2010-07\",\"2010-08\",\"2010-10\",\"2011-01\",\"2011-03\",\"2011-04\",\"2011-05\",\"2011-06\",\"2011-07\",\"2011-08\",\"2011-10\",\"2012-01\",\"2012-03\",\"2012-04\",\"2012-05\",\"2012-06\",\"2012-07\",\"2012-08\",\"2012-10\"],\"xaxis\":\"x\",\"y\":[8384203.96,7987319.57,12697859.3,5975216.88,8025487.029999999,8053155.85,10503524.530000001,9408815.85,5938626.54,13031730.61,8123951.39,6106856.03,9828235.25,8074439.31,8314833.140000001,7708429.68,10430189.32,7979838.720000001,6400623.15,13169718.75,8096938.57,8344846.34,8638237.71],\"yaxis\":\"y\",\"type\":\"bar\"}],                        {\"template\":{\"data\":{\"bar\":[{\"error_x\":{\"color\":\"#2a3f5f\"},\"error_y\":{\"color\":\"#2a3f5f\"},\"marker\":{\"line\":{\"color\":\"#E5ECF6\",\"width\":0.5},\"pattern\":{\"fillmode\":\"overlay\",\"size\":10,\"solidity\":0.2}},\"type\":\"bar\"}],\"barpolar\":[{\"marker\":{\"line\":{\"color\":\"#E5ECF6\",\"width\":0.5},\"pattern\":{\"fillmode\":\"overlay\",\"size\":10,\"solidity\":0.2}},\"type\":\"barpolar\"}],\"carpet\":[{\"aaxis\":{\"endlinecolor\":\"#2a3f5f\",\"gridcolor\":\"white\",\"linecolor\":\"white\",\"minorgridcolor\":\"white\",\"startlinecolor\":\"#2a3f5f\"},\"baxis\":{\"endlinecolor\":\"#2a3f5f\",\"gridcolor\":\"white\",\"linecolor\":\"white\",\"minorgridcolor\":\"white\",\"startlinecolor\":\"#2a3f5f\"},\"type\":\"carpet\"}],\"choropleth\":[{\"colorbar\":{\"outlinewidth\":0,\"ticks\":\"\"},\"type\":\"choropleth\"}],\"contour\":[{\"colorbar\":{\"outlinewidth\":0,\"ticks\":\"\"},\"colorscale\":[[0.0,\"#0d0887\"],[0.1111111111111111,\"#46039f\"],[0.2222222222222222,\"#7201a8\"],[0.3333333333333333,\"#9c179e\"],[0.4444444444444444,\"#bd3786\"],[0.5555555555555556,\"#d8576b\"],[0.6666666666666666,\"#ed7953\"],[0.7777777777777778,\"#fb9f3a\"],[0.8888888888888888,\"#fdca26\"],[1.0,\"#f0f921\"]],\"type\":\"contour\"}],\"contourcarpet\":[{\"colorbar\":{\"outlinewidth\":0,\"ticks\":\"\"},\"type\":\"contourcarpet\"}],\"heatmap\":[{\"colorbar\":{\"outlinewidth\":0,\"ticks\":\"\"},\"colorscale\":[[0.0,\"#0d0887\"],[0.1111111111111111,\"#46039f\"],[0.2222222222222222,\"#7201a8\"],[0.3333333333333333,\"#9c179e\"],[0.4444444444444444,\"#bd3786\"],[0.5555555555555556,\"#d8576b\"],[0.6666666666666666,\"#ed7953\"],[0.7777777777777778,\"#fb9f3a\"],[0.8888888888888888,\"#fdca26\"],[1.0,\"#f0f921\"]],\"type\":\"heatmap\"}],\"heatmapgl\":[{\"colorbar\":{\"outlinewidth\":0,\"ticks\":\"\"},\"colorscale\":[[0.0,\"#0d0887\"],[0.1111111111111111,\"#46039f\"],[0.2222222222222222,\"#7201a8\"],[0.3333333333333333,\"#9c179e\"],[0.4444444444444444,\"#bd3786\"],[0.5555555555555556,\"#d8576b\"],[0.6666666666666666,\"#ed7953\"],[0.7777777777777778,\"#fb9f3a\"],[0.8888888888888888,\"#fdca26\"],[1.0,\"#f0f921\"]],\"type\":\"heatmapgl\"}],\"histogram\":[{\"marker\":{\"pattern\":{\"fillmode\":\"overlay\",\"size\":10,\"solidity\":0.2}},\"type\":\"histogram\"}],\"histogram2d\":[{\"colorbar\":{\"outlinewidth\":0,\"ticks\":\"\"},\"colorscale\":[[0.0,\"#0d0887\"],[0.1111111111111111,\"#46039f\"],[0.2222222222222222,\"#7201a8\"],[0.3333333333333333,\"#9c179e\"],[0.4444444444444444,\"#bd3786\"],[0.5555555555555556,\"#d8576b\"],[0.6666666666666666,\"#ed7953\"],[0.7777777777777778,\"#fb9f3a\"],[0.8888888888888888,\"#fdca26\"],[1.0,\"#f0f921\"]],\"type\":\"histogram2d\"}],\"histogram2dcontour\":[{\"colorbar\":{\"outlinewidth\":0,\"ticks\":\"\"},\"colorscale\":[[0.0,\"#0d0887\"],[0.1111111111111111,\"#46039f\"],[0.2222222222222222,\"#7201a8\"],[0.3333333333333333,\"#9c179e\"],[0.4444444444444444,\"#bd3786\"],[0.5555555555555556,\"#d8576b\"],[0.6666666666666666,\"#ed7953\"],[0.7777777777777778,\"#fb9f3a\"],[0.8888888888888888,\"#fdca26\"],[1.0,\"#f0f921\"]],\"type\":\"histogram2dcontour\"}],\"mesh3d\":[{\"colorbar\":{\"outlinewidth\":0,\"ticks\":\"\"},\"type\":\"mesh3d\"}],\"parcoords\":[{\"line\":{\"colorbar\":{\"outlinewidth\":0,\"ticks\":\"\"}},\"type\":\"parcoords\"}],\"pie\":[{\"automargin\":true,\"type\":\"pie\"}],\"scatter\":[{\"marker\":{\"colorbar\":{\"outlinewidth\":0,\"ticks\":\"\"}},\"type\":\"scatter\"}],\"scatter3d\":[{\"line\":{\"colorbar\":{\"outlinewidth\":0,\"ticks\":\"\"}},\"marker\":{\"colorbar\":{\"outlinewidth\":0,\"ticks\":\"\"}},\"type\":\"scatter3d\"}],\"scattercarpet\":[{\"marker\":{\"colorbar\":{\"outlinewidth\":0,\"ticks\":\"\"}},\"type\":\"scattercarpet\"}],\"scattergeo\":[{\"marker\":{\"colorbar\":{\"outlinewidth\":0,\"ticks\":\"\"}},\"type\":\"scattergeo\"}],\"scattergl\":[{\"marker\":{\"colorbar\":{\"outlinewidth\":0,\"ticks\":\"\"}},\"type\":\"scattergl\"}],\"scattermapbox\":[{\"marker\":{\"colorbar\":{\"outlinewidth\":0,\"ticks\":\"\"}},\"type\":\"scattermapbox\"}],\"scatterpolar\":[{\"marker\":{\"colorbar\":{\"outlinewidth\":0,\"ticks\":\"\"}},\"type\":\"scatterpolar\"}],\"scatterpolargl\":[{\"marker\":{\"colorbar\":{\"outlinewidth\":0,\"ticks\":\"\"}},\"type\":\"scatterpolargl\"}],\"scatterternary\":[{\"marker\":{\"colorbar\":{\"outlinewidth\":0,\"ticks\":\"\"}},\"type\":\"scatterternary\"}],\"surface\":[{\"colorbar\":{\"outlinewidth\":0,\"ticks\":\"\"},\"colorscale\":[[0.0,\"#0d0887\"],[0.1111111111111111,\"#46039f\"],[0.2222222222222222,\"#7201a8\"],[0.3333333333333333,\"#9c179e\"],[0.4444444444444444,\"#bd3786\"],[0.5555555555555556,\"#d8576b\"],[0.6666666666666666,\"#ed7953\"],[0.7777777777777778,\"#fb9f3a\"],[0.8888888888888888,\"#fdca26\"],[1.0,\"#f0f921\"]],\"type\":\"surface\"}],\"table\":[{\"cells\":{\"fill\":{\"color\":\"#EBF0F8\"},\"line\":{\"color\":\"white\"}},\"header\":{\"fill\":{\"color\":\"#C8D4E3\"},\"line\":{\"color\":\"white\"}},\"type\":\"table\"}]},\"layout\":{\"annotationdefaults\":{\"arrowcolor\":\"#2a3f5f\",\"arrowhead\":0,\"arrowwidth\":1},\"autotypenumbers\":\"strict\",\"coloraxis\":{\"colorbar\":{\"outlinewidth\":0,\"ticks\":\"\"}},\"colorscale\":{\"diverging\":[[0,\"#8e0152\"],[0.1,\"#c51b7d\"],[0.2,\"#de77ae\"],[0.3,\"#f1b6da\"],[0.4,\"#fde0ef\"],[0.5,\"#f7f7f7\"],[0.6,\"#e6f5d0\"],[0.7,\"#b8e186\"],[0.8,\"#7fbc41\"],[0.9,\"#4d9221\"],[1,\"#276419\"]],\"sequential\":[[0.0,\"#0d0887\"],[0.1111111111111111,\"#46039f\"],[0.2222222222222222,\"#7201a8\"],[0.3333333333333333,\"#9c179e\"],[0.4444444444444444,\"#bd3786\"],[0.5555555555555556,\"#d8576b\"],[0.6666666666666666,\"#ed7953\"],[0.7777777777777778,\"#fb9f3a\"],[0.8888888888888888,\"#fdca26\"],[1.0,\"#f0f921\"]],\"sequentialminus\":[[0.0,\"#0d0887\"],[0.1111111111111111,\"#46039f\"],[0.2222222222222222,\"#7201a8\"],[0.3333333333333333,\"#9c179e\"],[0.4444444444444444,\"#bd3786\"],[0.5555555555555556,\"#d8576b\"],[0.6666666666666666,\"#ed7953\"],[0.7777777777777778,\"#fb9f3a\"],[0.8888888888888888,\"#fdca26\"],[1.0,\"#f0f921\"]]},\"colorway\":[\"#636efa\",\"#EF553B\",\"#00cc96\",\"#ab63fa\",\"#FFA15A\",\"#19d3f3\",\"#FF6692\",\"#B6E880\",\"#FF97FF\",\"#FECB52\"],\"font\":{\"color\":\"#2a3f5f\"},\"geo\":{\"bgcolor\":\"white\",\"lakecolor\":\"white\",\"landcolor\":\"#E5ECF6\",\"showlakes\":true,\"showland\":true,\"subunitcolor\":\"white\"},\"hoverlabel\":{\"align\":\"left\"},\"hovermode\":\"closest\",\"mapbox\":{\"style\":\"light\"},\"paper_bgcolor\":\"white\",\"plot_bgcolor\":\"#E5ECF6\",\"polar\":{\"angularaxis\":{\"gridcolor\":\"white\",\"linecolor\":\"white\",\"ticks\":\"\"},\"bgcolor\":\"#E5ECF6\",\"radialaxis\":{\"gridcolor\":\"white\",\"linecolor\":\"white\",\"ticks\":\"\"}},\"scene\":{\"xaxis\":{\"backgroundcolor\":\"#E5ECF6\",\"gridcolor\":\"white\",\"gridwidth\":2,\"linecolor\":\"white\",\"showbackground\":true,\"ticks\":\"\",\"zerolinecolor\":\"white\"},\"yaxis\":{\"backgroundcolor\":\"#E5ECF6\",\"gridcolor\":\"white\",\"gridwidth\":2,\"linecolor\":\"white\",\"showbackground\":true,\"ticks\":\"\",\"zerolinecolor\":\"white\"},\"zaxis\":{\"backgroundcolor\":\"#E5ECF6\",\"gridcolor\":\"white\",\"gridwidth\":2,\"linecolor\":\"white\",\"showbackground\":true,\"ticks\":\"\",\"zerolinecolor\":\"white\"}},\"shapedefaults\":{\"line\":{\"color\":\"#2a3f5f\"}},\"ternary\":{\"aaxis\":{\"gridcolor\":\"white\",\"linecolor\":\"white\",\"ticks\":\"\"},\"baxis\":{\"gridcolor\":\"white\",\"linecolor\":\"white\",\"ticks\":\"\"},\"bgcolor\":\"#E5ECF6\",\"caxis\":{\"gridcolor\":\"white\",\"linecolor\":\"white\",\"ticks\":\"\"}},\"title\":{\"x\":0.05},\"xaxis\":{\"automargin\":true,\"gridcolor\":\"white\",\"linecolor\":\"white\",\"ticks\":\"\",\"title\":{\"standoff\":15},\"zerolinecolor\":\"white\",\"zerolinewidth\":2},\"yaxis\":{\"automargin\":true,\"gridcolor\":\"white\",\"linecolor\":\"white\",\"ticks\":\"\",\"title\":{\"standoff\":15},\"zerolinecolor\":\"white\",\"zerolinewidth\":2}}},\"xaxis\":{\"anchor\":\"y\",\"domain\":[0.0,1.0],\"title\":{\"text\":\"Date\"}},\"yaxis\":{\"anchor\":\"x\",\"domain\":[0.0,1.0],\"title\":{\"text\":\"Weekly_Sales\"}},\"legend\":{\"tracegroupgap\":0},\"margin\":{\"t\":60},\"barmode\":\"relative\",\"shapes\":[{\"line\":{\"dash\":\"dash\"},\"type\":\"line\",\"x0\":0,\"x1\":1,\"xref\":\"x domain\",\"y0\":8748829.455652175,\"y1\":8748829.455652175,\"yref\":\"y\"},{\"line\":{\"color\":\"lightgreen\",\"dash\":\"dash\"},\"type\":\"line\",\"x0\":0,\"x1\":1,\"xref\":\"x domain\",\"y0\":3975536.2516231886,\"y1\":3975536.2516231886,\"yref\":\"y\"}],\"annotations\":[{\"showarrow\":false,\"text\":\"8748829.455652175\",\"x\":1,\"xanchor\":\"right\",\"xref\":\"x domain\",\"y\":8748829.455652175,\"yanchor\":\"bottom\",\"yref\":\"y\"},{\"showarrow\":false,\"text\":\"Walmart_mean_sale\",\"x\":1,\"xanchor\":\"right\",\"xref\":\"x domain\",\"y\":3975536.2516231886,\"yanchor\":\"top\",\"yref\":\"y\"}],\"width\":1000},                        {\"responsive\": true}                    ).then(function(){\n                            \nvar gd = document.getElementById('c7bcefb3-6ce1-4347-92b6-d217fe17a8b6');\nvar x = new MutationObserver(function (mutations, observer) {{\n        var display = window.getComputedStyle(gd).display;\n        if (!display || display === 'none') {{\n            console.log([gd, 'removed!']);\n            Plotly.purge(gd);\n            observer.disconnect();\n        }}\n}});\n\n// Listen for the removal of the full notebook cells\nvar notebookContainer = gd.closest('#notebook-container');\nif (notebookContainer) {{\n    x.observe(notebookContainer, {childList: true});\n}}\n\n// Listen for the clearing of the current output cell\nvar outputEl = gd.closest('.output');\nif (outputEl) {{\n    x.observe(outputEl, {childList: true});\n}}\n\n                        })                };                            </script>        </div>\n</body>\n</html>"
                },
                "metadata": {}
              }
            ]
          }
        },
        "a15bada596084406a1eb9b42a1215759": {
          "model_module": "@jupyter-widgets/base",
          "model_name": "LayoutModel",
          "model_module_version": "1.2.0",
          "state": {
            "_model_module": "@jupyter-widgets/base",
            "_model_module_version": "1.2.0",
            "_model_name": "LayoutModel",
            "_view_count": null,
            "_view_module": "@jupyter-widgets/base",
            "_view_module_version": "1.2.0",
            "_view_name": "LayoutView",
            "align_content": null,
            "align_items": null,
            "align_self": null,
            "border": null,
            "bottom": null,
            "display": null,
            "flex": null,
            "flex_flow": null,
            "grid_area": null,
            "grid_auto_columns": null,
            "grid_auto_flow": null,
            "grid_auto_rows": null,
            "grid_column": null,
            "grid_gap": null,
            "grid_row": null,
            "grid_template_areas": null,
            "grid_template_columns": null,
            "grid_template_rows": null,
            "height": null,
            "justify_content": null,
            "justify_items": null,
            "left": null,
            "margin": null,
            "max_height": null,
            "max_width": null,
            "min_height": null,
            "min_width": null,
            "object_fit": null,
            "object_position": null,
            "order": null,
            "overflow": null,
            "overflow_x": null,
            "overflow_y": null,
            "padding": null,
            "right": null,
            "top": null,
            "visibility": null,
            "width": null
          }
        },
        "453cfcbff00f41adacbdb80d758ce55d": {
          "model_module": "@jupyter-widgets/base",
          "model_name": "LayoutModel",
          "model_module_version": "1.2.0",
          "state": {
            "_model_module": "@jupyter-widgets/base",
            "_model_module_version": "1.2.0",
            "_model_name": "LayoutModel",
            "_view_count": null,
            "_view_module": "@jupyter-widgets/base",
            "_view_module_version": "1.2.0",
            "_view_name": "LayoutView",
            "align_content": null,
            "align_items": null,
            "align_self": null,
            "border": null,
            "bottom": null,
            "display": null,
            "flex": null,
            "flex_flow": null,
            "grid_area": null,
            "grid_auto_columns": null,
            "grid_auto_flow": null,
            "grid_auto_rows": null,
            "grid_column": null,
            "grid_gap": null,
            "grid_row": null,
            "grid_template_areas": null,
            "grid_template_columns": null,
            "grid_template_rows": null,
            "height": null,
            "justify_content": null,
            "justify_items": null,
            "left": null,
            "margin": null,
            "max_height": null,
            "max_width": null,
            "min_height": null,
            "min_width": null,
            "object_fit": null,
            "object_position": null,
            "order": null,
            "overflow": null,
            "overflow_x": null,
            "overflow_y": null,
            "padding": null,
            "right": null,
            "top": null,
            "visibility": null,
            "width": null
          }
        },
        "b023832e9e534323935bf9bd6b1ba678": {
          "model_module": "@jupyter-widgets/controls",
          "model_name": "DescriptionStyleModel",
          "model_module_version": "1.5.0",
          "state": {
            "_model_module": "@jupyter-widgets/controls",
            "_model_module_version": "1.5.0",
            "_model_name": "DescriptionStyleModel",
            "_view_count": null,
            "_view_module": "@jupyter-widgets/base",
            "_view_module_version": "1.2.0",
            "_view_name": "StyleView",
            "description_width": ""
          }
        },
        "33607b307c4b4adc8a9be76d00f77504": {
          "model_module": "@jupyter-widgets/base",
          "model_name": "LayoutModel",
          "model_module_version": "1.2.0",
          "state": {
            "_model_module": "@jupyter-widgets/base",
            "_model_module_version": "1.2.0",
            "_model_name": "LayoutModel",
            "_view_count": null,
            "_view_module": "@jupyter-widgets/base",
            "_view_module_version": "1.2.0",
            "_view_name": "LayoutView",
            "align_content": null,
            "align_items": null,
            "align_self": null,
            "border": null,
            "bottom": null,
            "display": null,
            "flex": null,
            "flex_flow": null,
            "grid_area": null,
            "grid_auto_columns": null,
            "grid_auto_flow": null,
            "grid_auto_rows": null,
            "grid_column": null,
            "grid_gap": null,
            "grid_row": null,
            "grid_template_areas": null,
            "grid_template_columns": null,
            "grid_template_rows": null,
            "height": null,
            "justify_content": null,
            "justify_items": null,
            "left": null,
            "margin": null,
            "max_height": null,
            "max_width": null,
            "min_height": null,
            "min_width": null,
            "object_fit": null,
            "object_position": null,
            "order": null,
            "overflow": null,
            "overflow_x": null,
            "overflow_y": null,
            "padding": null,
            "right": null,
            "top": null,
            "visibility": null,
            "width": null
          }
        }
      }
    }
  },
  "cells": [
    {
      "cell_type": "markdown",
      "metadata": {
        "id": "view-in-github",
        "colab_type": "text"
      },
      "source": [
        "<a href=\"https://colab.research.google.com/github/henriqueborgo/Solved_Cases/blob/main/Case_2_Walmart.ipynb\" target=\"_parent\"><img src=\"https://colab.research.google.com/assets/colab-badge.svg\" alt=\"Open In Colab\"/></a>"
      ]
    },
    {
      "cell_type": "markdown",
      "source": [
        "# Case 2 - Walmart"
      ],
      "metadata": {
        "id": "JMxstVRMd26-"
      }
    },
    {
      "cell_type": "markdown",
      "source": [
        "## Business understanding"
      ],
      "metadata": {
        "id": "G0axN_yvaTUw"
      }
    },
    {
      "cell_type": "markdown",
      "source": [
        "### Business overview\n",
        "\n",
        "\n",
        "Walmart, Inc., is an American multinational grocery store\n",
        "Department.\n",
        "The company was founded by Sam Walton in 1962, incorporated on\n",
        "October 1969 and listed on the New York Stock Exchange in 1972.\n",
        "\n",
        "In the year 2021, it made a profit of $13.51 Billion.\n",
        "Being one of the main retail stores in the world, the data includes\n",
        "weekly sales from 45 stores across the United States.\n",
        "Walmart runs several discount promotional events throughout the year.\n",
        "year.\n",
        "These markdowns precede major holidays, the four major\n",
        "everyone, which is the Super Bowl, Labor Day, Thanksgiving and\n",
        "Christmas.\n",
        "Weeks that include these holidays carry greater weight.\n",
        "\n",
        "### Goals and developments of the study\n",
        "\n",
        "To carry out an information survey about the revenue of the stores in USA and point wich store would be better to expand the size.\n",
        "\n",
        "### Business Success Criteria\n",
        "\n",
        "The projet will be a success if there is a store that worth it to invest on expansio\n"
      ],
      "metadata": {
        "id": "QZUlw8UuaWvW"
      }
    },
    {
      "cell_type": "markdown",
      "source": [
        "### Libraries upload and dataset loading"
      ],
      "metadata": {
        "id": "1vjSakmHjZSY"
      }
    },
    {
      "cell_type": "code",
      "source": [
        "# Libraries upload\n",
        "\n",
        "import pandas as pd\n",
        "import seaborn as sns\n",
        "import matplotlib.pyplot as plt\n",
        "import plotly.express as px\n",
        "import numpy as np\n",
        "from ipywidgets import interact"
      ],
      "metadata": {
        "id": "HlxYpgY5ghBB"
      },
      "execution_count": null,
      "outputs": []
    },
    {
      "cell_type": "code",
      "source": [
        "# Data upload\n",
        "# Dataset available in: : https://www.kaggle.com/yasserh/walmart-dataset\n",
        "\n",
        "walmart = pd.read_csv('/content/drive/MyDrive/Colab Notebooks/DEX/Cases_Resolvidos/Walmart.csv')"
      ],
      "metadata": {
        "id": "jNHoMImwf4PX"
      },
      "execution_count": null,
      "outputs": []
    },
    {
      "cell_type": "markdown",
      "source": [
        "\n",
        "## Data Understanding"
      ],
      "metadata": {
        "id": "B512MgY8jrdb"
      }
    },
    {
      "cell_type": "markdown",
      "source": [
        "\n",
        "\n",
        "### Available Data\n",
        "\n",
        "- **Store** - ID Store\n",
        "- **Date** - Week of the sale\n",
        "- *Weekly_Sales** - Amount of sale on the week\n",
        "- **Holiday_Flag** Flag - (1 - Holiday Week 0 - Non-Holiday Week)\n",
        "- **Temperature** - in °F\n",
        "- **Fuel_Price** - Price of gas in the region of store\n",
        "- **CPI** - Customer price index\n",
        "- **Unemployment** - Unemployment ratio\n",
        "\n",
        "### Useful information\n",
        "\n",
        "- Holiday - Events Week\n",
        "- Super Bowl - 12-Feb-10, 11-Feb-11, 10-Feb-12\n",
        "- Labour Day - 10-Sep-10, 09-Sep-11, 07-Sep-12\n",
        "- Thanksgiving - 26-Nov-10, 25-Nov-11, 23-Nov-12\n",
        "- Christmas - 31-Dec-10, 30-Dec-11, 28-Dec-12\n",
        "\n",
        "The data it's easy to understand. \n",
        "\n"
      ],
      "metadata": {
        "id": "2NVlxqoKcpfF"
      }
    },
    {
      "cell_type": "code",
      "source": [
        "walmart.head()"
      ],
      "metadata": {
        "colab": {
          "base_uri": "https://localhost:8080/",
          "height": 206
        },
        "id": "d_vV9vAwk4Pk",
        "outputId": "0491205d-464e-4158-a03d-a31aa45d5d3c"
      },
      "execution_count": null,
      "outputs": [
        {
          "output_type": "execute_result",
          "data": {
            "text/plain": [
              "   Store        Date  Weekly_Sales  Holiday_Flag  Temperature  Fuel_Price  \\\n",
              "0      1  05-02-2010    1643690.90             0        42.31       2.572   \n",
              "1      1  12-02-2010    1641957.44             1        38.51       2.548   \n",
              "2      1  19-02-2010    1611968.17             0        39.93       2.514   \n",
              "3      1  26-02-2010    1409727.59             0        46.63       2.561   \n",
              "4      1  05-03-2010    1554806.68             0        46.50       2.625   \n",
              "\n",
              "          CPI  Unemployment  \n",
              "0  211.096358         8.106  \n",
              "1  211.242170         8.106  \n",
              "2  211.289143         8.106  \n",
              "3  211.319643         8.106  \n",
              "4  211.350143         8.106  "
            ],
            "text/html": [
              "\n",
              "  <div id=\"df-e7a08776-7c4e-455b-aca3-997d0b3f16c4\">\n",
              "    <div class=\"colab-df-container\">\n",
              "      <div>\n",
              "<style scoped>\n",
              "    .dataframe tbody tr th:only-of-type {\n",
              "        vertical-align: middle;\n",
              "    }\n",
              "\n",
              "    .dataframe tbody tr th {\n",
              "        vertical-align: top;\n",
              "    }\n",
              "\n",
              "    .dataframe thead th {\n",
              "        text-align: right;\n",
              "    }\n",
              "</style>\n",
              "<table border=\"1\" class=\"dataframe\">\n",
              "  <thead>\n",
              "    <tr style=\"text-align: right;\">\n",
              "      <th></th>\n",
              "      <th>Store</th>\n",
              "      <th>Date</th>\n",
              "      <th>Weekly_Sales</th>\n",
              "      <th>Holiday_Flag</th>\n",
              "      <th>Temperature</th>\n",
              "      <th>Fuel_Price</th>\n",
              "      <th>CPI</th>\n",
              "      <th>Unemployment</th>\n",
              "    </tr>\n",
              "  </thead>\n",
              "  <tbody>\n",
              "    <tr>\n",
              "      <th>0</th>\n",
              "      <td>1</td>\n",
              "      <td>05-02-2010</td>\n",
              "      <td>1643690.90</td>\n",
              "      <td>0</td>\n",
              "      <td>42.31</td>\n",
              "      <td>2.572</td>\n",
              "      <td>211.096358</td>\n",
              "      <td>8.106</td>\n",
              "    </tr>\n",
              "    <tr>\n",
              "      <th>1</th>\n",
              "      <td>1</td>\n",
              "      <td>12-02-2010</td>\n",
              "      <td>1641957.44</td>\n",
              "      <td>1</td>\n",
              "      <td>38.51</td>\n",
              "      <td>2.548</td>\n",
              "      <td>211.242170</td>\n",
              "      <td>8.106</td>\n",
              "    </tr>\n",
              "    <tr>\n",
              "      <th>2</th>\n",
              "      <td>1</td>\n",
              "      <td>19-02-2010</td>\n",
              "      <td>1611968.17</td>\n",
              "      <td>0</td>\n",
              "      <td>39.93</td>\n",
              "      <td>2.514</td>\n",
              "      <td>211.289143</td>\n",
              "      <td>8.106</td>\n",
              "    </tr>\n",
              "    <tr>\n",
              "      <th>3</th>\n",
              "      <td>1</td>\n",
              "      <td>26-02-2010</td>\n",
              "      <td>1409727.59</td>\n",
              "      <td>0</td>\n",
              "      <td>46.63</td>\n",
              "      <td>2.561</td>\n",
              "      <td>211.319643</td>\n",
              "      <td>8.106</td>\n",
              "    </tr>\n",
              "    <tr>\n",
              "      <th>4</th>\n",
              "      <td>1</td>\n",
              "      <td>05-03-2010</td>\n",
              "      <td>1554806.68</td>\n",
              "      <td>0</td>\n",
              "      <td>46.50</td>\n",
              "      <td>2.625</td>\n",
              "      <td>211.350143</td>\n",
              "      <td>8.106</td>\n",
              "    </tr>\n",
              "  </tbody>\n",
              "</table>\n",
              "</div>\n",
              "      <button class=\"colab-df-convert\" onclick=\"convertToInteractive('df-e7a08776-7c4e-455b-aca3-997d0b3f16c4')\"\n",
              "              title=\"Convert this dataframe to an interactive table.\"\n",
              "              style=\"display:none;\">\n",
              "        \n",
              "  <svg xmlns=\"http://www.w3.org/2000/svg\" height=\"24px\"viewBox=\"0 0 24 24\"\n",
              "       width=\"24px\">\n",
              "    <path d=\"M0 0h24v24H0V0z\" fill=\"none\"/>\n",
              "    <path d=\"M18.56 5.44l.94 2.06.94-2.06 2.06-.94-2.06-.94-.94-2.06-.94 2.06-2.06.94zm-11 1L8.5 8.5l.94-2.06 2.06-.94-2.06-.94L8.5 2.5l-.94 2.06-2.06.94zm10 10l.94 2.06.94-2.06 2.06-.94-2.06-.94-.94-2.06-.94 2.06-2.06.94z\"/><path d=\"M17.41 7.96l-1.37-1.37c-.4-.4-.92-.59-1.43-.59-.52 0-1.04.2-1.43.59L10.3 9.45l-7.72 7.72c-.78.78-.78 2.05 0 2.83L4 21.41c.39.39.9.59 1.41.59.51 0 1.02-.2 1.41-.59l7.78-7.78 2.81-2.81c.8-.78.8-2.07 0-2.86zM5.41 20L4 18.59l7.72-7.72 1.47 1.35L5.41 20z\"/>\n",
              "  </svg>\n",
              "      </button>\n",
              "      \n",
              "  <style>\n",
              "    .colab-df-container {\n",
              "      display:flex;\n",
              "      flex-wrap:wrap;\n",
              "      gap: 12px;\n",
              "    }\n",
              "\n",
              "    .colab-df-convert {\n",
              "      background-color: #E8F0FE;\n",
              "      border: none;\n",
              "      border-radius: 50%;\n",
              "      cursor: pointer;\n",
              "      display: none;\n",
              "      fill: #1967D2;\n",
              "      height: 32px;\n",
              "      padding: 0 0 0 0;\n",
              "      width: 32px;\n",
              "    }\n",
              "\n",
              "    .colab-df-convert:hover {\n",
              "      background-color: #E2EBFA;\n",
              "      box-shadow: 0px 1px 2px rgba(60, 64, 67, 0.3), 0px 1px 3px 1px rgba(60, 64, 67, 0.15);\n",
              "      fill: #174EA6;\n",
              "    }\n",
              "\n",
              "    [theme=dark] .colab-df-convert {\n",
              "      background-color: #3B4455;\n",
              "      fill: #D2E3FC;\n",
              "    }\n",
              "\n",
              "    [theme=dark] .colab-df-convert:hover {\n",
              "      background-color: #434B5C;\n",
              "      box-shadow: 0px 1px 3px 1px rgba(0, 0, 0, 0.15);\n",
              "      filter: drop-shadow(0px 1px 2px rgba(0, 0, 0, 0.3));\n",
              "      fill: #FFFFFF;\n",
              "    }\n",
              "  </style>\n",
              "\n",
              "      <script>\n",
              "        const buttonEl =\n",
              "          document.querySelector('#df-e7a08776-7c4e-455b-aca3-997d0b3f16c4 button.colab-df-convert');\n",
              "        buttonEl.style.display =\n",
              "          google.colab.kernel.accessAllowed ? 'block' : 'none';\n",
              "\n",
              "        async function convertToInteractive(key) {\n",
              "          const element = document.querySelector('#df-e7a08776-7c4e-455b-aca3-997d0b3f16c4');\n",
              "          const dataTable =\n",
              "            await google.colab.kernel.invokeFunction('convertToInteractive',\n",
              "                                                     [key], {});\n",
              "          if (!dataTable) return;\n",
              "\n",
              "          const docLinkHtml = 'Like what you see? Visit the ' +\n",
              "            '<a target=\"_blank\" href=https://colab.research.google.com/notebooks/data_table.ipynb>data table notebook</a>'\n",
              "            + ' to learn more about interactive tables.';\n",
              "          element.innerHTML = '';\n",
              "          dataTable['output_type'] = 'display_data';\n",
              "          await google.colab.output.renderOutput(dataTable, element);\n",
              "          const docLink = document.createElement('div');\n",
              "          docLink.innerHTML = docLinkHtml;\n",
              "          element.appendChild(docLink);\n",
              "        }\n",
              "      </script>\n",
              "    </div>\n",
              "  </div>\n",
              "  "
            ]
          },
          "metadata": {},
          "execution_count": 3
        }
      ]
    },
    {
      "cell_type": "code",
      "source": [
        "walmart.info()"
      ],
      "metadata": {
        "colab": {
          "base_uri": "https://localhost:8080/"
        },
        "id": "FIDxSR25j4pl",
        "outputId": "c691b1c3-ba25-4654-9a4d-05b97d5612ad"
      },
      "execution_count": null,
      "outputs": [
        {
          "output_type": "stream",
          "name": "stdout",
          "text": [
            "<class 'pandas.core.frame.DataFrame'>\n",
            "RangeIndex: 6435 entries, 0 to 6434\n",
            "Data columns (total 8 columns):\n",
            " #   Column        Non-Null Count  Dtype  \n",
            "---  ------        --------------  -----  \n",
            " 0   Store         6435 non-null   int64  \n",
            " 1   Date          6435 non-null   object \n",
            " 2   Weekly_Sales  6435 non-null   float64\n",
            " 3   Holiday_Flag  6435 non-null   int64  \n",
            " 4   Temperature   6435 non-null   float64\n",
            " 5   Fuel_Price    6435 non-null   float64\n",
            " 6   CPI           6435 non-null   float64\n",
            " 7   Unemployment  6435 non-null   float64\n",
            "dtypes: float64(5), int64(2), object(1)\n",
            "memory usage: 402.3+ KB\n"
          ]
        }
      ]
    },
    {
      "cell_type": "code",
      "source": [
        "walmart.describe()"
      ],
      "metadata": {
        "colab": {
          "base_uri": "https://localhost:8080/",
          "height": 300
        },
        "id": "O-uL1DQ_kpES",
        "outputId": "79a37e68-cc0b-4be8-dd48-1f1c6c80f6a8"
      },
      "execution_count": null,
      "outputs": [
        {
          "output_type": "execute_result",
          "data": {
            "text/plain": [
              "             Store  Weekly_Sales  Holiday_Flag  Temperature   Fuel_Price  \\\n",
              "count  6435.000000  6.435000e+03   6435.000000  6435.000000  6435.000000   \n",
              "mean     23.000000  1.046965e+06      0.069930    60.663782     3.358607   \n",
              "std      12.988182  5.643666e+05      0.255049    18.444933     0.459020   \n",
              "min       1.000000  2.099862e+05      0.000000    -2.060000     2.472000   \n",
              "25%      12.000000  5.533501e+05      0.000000    47.460000     2.933000   \n",
              "50%      23.000000  9.607460e+05      0.000000    62.670000     3.445000   \n",
              "75%      34.000000  1.420159e+06      0.000000    74.940000     3.735000   \n",
              "max      45.000000  3.818686e+06      1.000000   100.140000     4.468000   \n",
              "\n",
              "               CPI  Unemployment  \n",
              "count  6435.000000   6435.000000  \n",
              "mean    171.578394      7.999151  \n",
              "std      39.356712      1.875885  \n",
              "min     126.064000      3.879000  \n",
              "25%     131.735000      6.891000  \n",
              "50%     182.616521      7.874000  \n",
              "75%     212.743293      8.622000  \n",
              "max     227.232807     14.313000  "
            ],
            "text/html": [
              "\n",
              "  <div id=\"df-9e5795da-69ba-46f3-a581-2543bbff0602\">\n",
              "    <div class=\"colab-df-container\">\n",
              "      <div>\n",
              "<style scoped>\n",
              "    .dataframe tbody tr th:only-of-type {\n",
              "        vertical-align: middle;\n",
              "    }\n",
              "\n",
              "    .dataframe tbody tr th {\n",
              "        vertical-align: top;\n",
              "    }\n",
              "\n",
              "    .dataframe thead th {\n",
              "        text-align: right;\n",
              "    }\n",
              "</style>\n",
              "<table border=\"1\" class=\"dataframe\">\n",
              "  <thead>\n",
              "    <tr style=\"text-align: right;\">\n",
              "      <th></th>\n",
              "      <th>Store</th>\n",
              "      <th>Weekly_Sales</th>\n",
              "      <th>Holiday_Flag</th>\n",
              "      <th>Temperature</th>\n",
              "      <th>Fuel_Price</th>\n",
              "      <th>CPI</th>\n",
              "      <th>Unemployment</th>\n",
              "    </tr>\n",
              "  </thead>\n",
              "  <tbody>\n",
              "    <tr>\n",
              "      <th>count</th>\n",
              "      <td>6435.000000</td>\n",
              "      <td>6.435000e+03</td>\n",
              "      <td>6435.000000</td>\n",
              "      <td>6435.000000</td>\n",
              "      <td>6435.000000</td>\n",
              "      <td>6435.000000</td>\n",
              "      <td>6435.000000</td>\n",
              "    </tr>\n",
              "    <tr>\n",
              "      <th>mean</th>\n",
              "      <td>23.000000</td>\n",
              "      <td>1.046965e+06</td>\n",
              "      <td>0.069930</td>\n",
              "      <td>60.663782</td>\n",
              "      <td>3.358607</td>\n",
              "      <td>171.578394</td>\n",
              "      <td>7.999151</td>\n",
              "    </tr>\n",
              "    <tr>\n",
              "      <th>std</th>\n",
              "      <td>12.988182</td>\n",
              "      <td>5.643666e+05</td>\n",
              "      <td>0.255049</td>\n",
              "      <td>18.444933</td>\n",
              "      <td>0.459020</td>\n",
              "      <td>39.356712</td>\n",
              "      <td>1.875885</td>\n",
              "    </tr>\n",
              "    <tr>\n",
              "      <th>min</th>\n",
              "      <td>1.000000</td>\n",
              "      <td>2.099862e+05</td>\n",
              "      <td>0.000000</td>\n",
              "      <td>-2.060000</td>\n",
              "      <td>2.472000</td>\n",
              "      <td>126.064000</td>\n",
              "      <td>3.879000</td>\n",
              "    </tr>\n",
              "    <tr>\n",
              "      <th>25%</th>\n",
              "      <td>12.000000</td>\n",
              "      <td>5.533501e+05</td>\n",
              "      <td>0.000000</td>\n",
              "      <td>47.460000</td>\n",
              "      <td>2.933000</td>\n",
              "      <td>131.735000</td>\n",
              "      <td>6.891000</td>\n",
              "    </tr>\n",
              "    <tr>\n",
              "      <th>50%</th>\n",
              "      <td>23.000000</td>\n",
              "      <td>9.607460e+05</td>\n",
              "      <td>0.000000</td>\n",
              "      <td>62.670000</td>\n",
              "      <td>3.445000</td>\n",
              "      <td>182.616521</td>\n",
              "      <td>7.874000</td>\n",
              "    </tr>\n",
              "    <tr>\n",
              "      <th>75%</th>\n",
              "      <td>34.000000</td>\n",
              "      <td>1.420159e+06</td>\n",
              "      <td>0.000000</td>\n",
              "      <td>74.940000</td>\n",
              "      <td>3.735000</td>\n",
              "      <td>212.743293</td>\n",
              "      <td>8.622000</td>\n",
              "    </tr>\n",
              "    <tr>\n",
              "      <th>max</th>\n",
              "      <td>45.000000</td>\n",
              "      <td>3.818686e+06</td>\n",
              "      <td>1.000000</td>\n",
              "      <td>100.140000</td>\n",
              "      <td>4.468000</td>\n",
              "      <td>227.232807</td>\n",
              "      <td>14.313000</td>\n",
              "    </tr>\n",
              "  </tbody>\n",
              "</table>\n",
              "</div>\n",
              "      <button class=\"colab-df-convert\" onclick=\"convertToInteractive('df-9e5795da-69ba-46f3-a581-2543bbff0602')\"\n",
              "              title=\"Convert this dataframe to an interactive table.\"\n",
              "              style=\"display:none;\">\n",
              "        \n",
              "  <svg xmlns=\"http://www.w3.org/2000/svg\" height=\"24px\"viewBox=\"0 0 24 24\"\n",
              "       width=\"24px\">\n",
              "    <path d=\"M0 0h24v24H0V0z\" fill=\"none\"/>\n",
              "    <path d=\"M18.56 5.44l.94 2.06.94-2.06 2.06-.94-2.06-.94-.94-2.06-.94 2.06-2.06.94zm-11 1L8.5 8.5l.94-2.06 2.06-.94-2.06-.94L8.5 2.5l-.94 2.06-2.06.94zm10 10l.94 2.06.94-2.06 2.06-.94-2.06-.94-.94-2.06-.94 2.06-2.06.94z\"/><path d=\"M17.41 7.96l-1.37-1.37c-.4-.4-.92-.59-1.43-.59-.52 0-1.04.2-1.43.59L10.3 9.45l-7.72 7.72c-.78.78-.78 2.05 0 2.83L4 21.41c.39.39.9.59 1.41.59.51 0 1.02-.2 1.41-.59l7.78-7.78 2.81-2.81c.8-.78.8-2.07 0-2.86zM5.41 20L4 18.59l7.72-7.72 1.47 1.35L5.41 20z\"/>\n",
              "  </svg>\n",
              "      </button>\n",
              "      \n",
              "  <style>\n",
              "    .colab-df-container {\n",
              "      display:flex;\n",
              "      flex-wrap:wrap;\n",
              "      gap: 12px;\n",
              "    }\n",
              "\n",
              "    .colab-df-convert {\n",
              "      background-color: #E8F0FE;\n",
              "      border: none;\n",
              "      border-radius: 50%;\n",
              "      cursor: pointer;\n",
              "      display: none;\n",
              "      fill: #1967D2;\n",
              "      height: 32px;\n",
              "      padding: 0 0 0 0;\n",
              "      width: 32px;\n",
              "    }\n",
              "\n",
              "    .colab-df-convert:hover {\n",
              "      background-color: #E2EBFA;\n",
              "      box-shadow: 0px 1px 2px rgba(60, 64, 67, 0.3), 0px 1px 3px 1px rgba(60, 64, 67, 0.15);\n",
              "      fill: #174EA6;\n",
              "    }\n",
              "\n",
              "    [theme=dark] .colab-df-convert {\n",
              "      background-color: #3B4455;\n",
              "      fill: #D2E3FC;\n",
              "    }\n",
              "\n",
              "    [theme=dark] .colab-df-convert:hover {\n",
              "      background-color: #434B5C;\n",
              "      box-shadow: 0px 1px 3px 1px rgba(0, 0, 0, 0.15);\n",
              "      filter: drop-shadow(0px 1px 2px rgba(0, 0, 0, 0.3));\n",
              "      fill: #FFFFFF;\n",
              "    }\n",
              "  </style>\n",
              "\n",
              "      <script>\n",
              "        const buttonEl =\n",
              "          document.querySelector('#df-9e5795da-69ba-46f3-a581-2543bbff0602 button.colab-df-convert');\n",
              "        buttonEl.style.display =\n",
              "          google.colab.kernel.accessAllowed ? 'block' : 'none';\n",
              "\n",
              "        async function convertToInteractive(key) {\n",
              "          const element = document.querySelector('#df-9e5795da-69ba-46f3-a581-2543bbff0602');\n",
              "          const dataTable =\n",
              "            await google.colab.kernel.invokeFunction('convertToInteractive',\n",
              "                                                     [key], {});\n",
              "          if (!dataTable) return;\n",
              "\n",
              "          const docLinkHtml = 'Like what you see? Visit the ' +\n",
              "            '<a target=\"_blank\" href=https://colab.research.google.com/notebooks/data_table.ipynb>data table notebook</a>'\n",
              "            + ' to learn more about interactive tables.';\n",
              "          element.innerHTML = '';\n",
              "          dataTable['output_type'] = 'display_data';\n",
              "          await google.colab.output.renderOutput(dataTable, element);\n",
              "          const docLink = document.createElement('div');\n",
              "          docLink.innerHTML = docLinkHtml;\n",
              "          element.appendChild(docLink);\n",
              "        }\n",
              "      </script>\n",
              "    </div>\n",
              "  </div>\n",
              "  "
            ]
          },
          "metadata": {},
          "execution_count": 5
        }
      ]
    },
    {
      "cell_type": "markdown",
      "source": [
        "- Reading the dataset info, it's possible to see that there's no missing values.\n",
        "- The date may be coverted to datetime\n",
        "- Holiday flag may be converted in category\n",
        "- The titles area easy to understand, not necessary to change\n",
        "- CPI: An index that measures the monthly change in prices paid by U.S. consumers, based on a weight average of prices for a basket of goods and services representative of aggregated U.S. consumers spending. Source: [investopedia](https://www.investopedia.com/terms/c/consumerpriceindex.asp)"
      ],
      "metadata": {
        "id": "aNqnRK03ifLg"
      }
    },
    {
      "cell_type": "markdown",
      "source": [
        "## Data Preparation and Modeling\n",
        "\n",
        "For this step were used the following technics:\n",
        "\n",
        "- filtering and sorting\n",
        "- detection of outliers\n",
        "- descriptive and inferential statistics\n",
        "- data treatment\n",
        "- data visualization "
      ],
      "metadata": {
        "id": "2zJt7iXGh-0r"
      }
    },
    {
      "cell_type": "markdown",
      "source": [
        "### Filtering and sorting"
      ],
      "metadata": {
        "id": "-XDOKgK2re_A"
      }
    },
    {
      "cell_type": "code",
      "source": [
        "# Converting the Date from object to datetime\n",
        "# Converting the Holiday_Flag and from Store fromint64 to category\n",
        "# Removing the scienctific notation of the Weekly_Sales column\n",
        "# Modifying the date to %Y-%M format\n",
        "\n",
        "walmart['Date'] = pd.to_datetime(walmart['Date'], errors='ignore')\n",
        "walmart['Date'] = walmart['Date'].dt.strftime('%Y-%m')\n",
        "#walmart['Date'] = pd.to_datetime(walmart['Date'],errors='ignore')\n",
        "walmart['Holiday_Flag'] = walmart['Holiday_Flag'].astype('category')\n",
        "walmart['Store'] = walmart['Store'].astype('category')\n",
        "pd.set_option('display.float_format', lambda x: '%.2f' % x)\n"
      ],
      "metadata": {
        "id": "W3zaZN18jEV_"
      },
      "execution_count": null,
      "outputs": []
    },
    {
      "cell_type": "code",
      "source": [
        "display(walmart['Date'])"
      ],
      "metadata": {
        "colab": {
          "base_uri": "https://localhost:8080/",
          "height": 225
        },
        "id": "KVS_lDu9OuYb",
        "outputId": "eb6dceda-c8fd-4c0b-f507-ac4998edf640"
      },
      "execution_count": null,
      "outputs": [
        {
          "output_type": "display_data",
          "data": {
            "text/plain": [
              "0       2010-05\n",
              "1       2010-12\n",
              "2       2010-02\n",
              "3       2010-02\n",
              "4       2010-05\n",
              "         ...   \n",
              "6430    2012-09\n",
              "6431    2012-05\n",
              "6432    2012-12\n",
              "6433    2012-10\n",
              "6434    2012-10\n",
              "Name: Date, Length: 6435, dtype: object"
            ]
          },
          "metadata": {}
        }
      ]
    },
    {
      "cell_type": "code",
      "source": [
        "# Verifying the modified values\n",
        "\n",
        "walmart.info()"
      ],
      "metadata": {
        "colab": {
          "base_uri": "https://localhost:8080/"
        },
        "id": "rpWbwISEjmBJ",
        "outputId": "de37e159-23f9-46c2-e642-e143a89ff909"
      },
      "execution_count": null,
      "outputs": [
        {
          "output_type": "stream",
          "name": "stdout",
          "text": [
            "<class 'pandas.core.frame.DataFrame'>\n",
            "RangeIndex: 6435 entries, 0 to 6434\n",
            "Data columns (total 8 columns):\n",
            " #   Column        Non-Null Count  Dtype   \n",
            "---  ------        --------------  -----   \n",
            " 0   Store         6435 non-null   category\n",
            " 1   Date          6435 non-null   object  \n",
            " 2   Weekly_Sales  6435 non-null   float64 \n",
            " 3   Holiday_Flag  6435 non-null   category\n",
            " 4   Temperature   6435 non-null   float64 \n",
            " 5   Fuel_Price    6435 non-null   float64 \n",
            " 6   CPI           6435 non-null   float64 \n",
            " 7   Unemployment  6435 non-null   float64 \n",
            "dtypes: category(2), float64(5), object(1)\n",
            "memory usage: 315.9+ KB\n"
          ]
        }
      ]
    },
    {
      "cell_type": "code",
      "source": [
        "# Verifying if all stores have the same amount of data\n",
        "\n",
        "walmart_stores = walmart.groupby(['Date'])['Store'].count().reset_index()\n",
        "walmart_stores.describe()"
      ],
      "metadata": {
        "colab": {
          "base_uri": "https://localhost:8080/",
          "height": 300
        },
        "id": "lpaOJY2nl8fP",
        "outputId": "b118a660-f7cd-4e01-99b0-da931a1475c9"
      },
      "execution_count": null,
      "outputs": [
        {
          "output_type": "execute_result",
          "data": {
            "text/plain": [
              "       Store\n",
              "count  36.00\n",
              "mean  178.75\n",
              "std    56.40\n",
              "min    45.00\n",
              "25%   168.75\n",
              "50%   180.00\n",
              "75%   225.00\n",
              "max   270.00"
            ],
            "text/html": [
              "\n",
              "  <div id=\"df-1b4791fa-9e5f-471c-96c7-407ffd643917\">\n",
              "    <div class=\"colab-df-container\">\n",
              "      <div>\n",
              "<style scoped>\n",
              "    .dataframe tbody tr th:only-of-type {\n",
              "        vertical-align: middle;\n",
              "    }\n",
              "\n",
              "    .dataframe tbody tr th {\n",
              "        vertical-align: top;\n",
              "    }\n",
              "\n",
              "    .dataframe thead th {\n",
              "        text-align: right;\n",
              "    }\n",
              "</style>\n",
              "<table border=\"1\" class=\"dataframe\">\n",
              "  <thead>\n",
              "    <tr style=\"text-align: right;\">\n",
              "      <th></th>\n",
              "      <th>Store</th>\n",
              "    </tr>\n",
              "  </thead>\n",
              "  <tbody>\n",
              "    <tr>\n",
              "      <th>count</th>\n",
              "      <td>36.00</td>\n",
              "    </tr>\n",
              "    <tr>\n",
              "      <th>mean</th>\n",
              "      <td>178.75</td>\n",
              "    </tr>\n",
              "    <tr>\n",
              "      <th>std</th>\n",
              "      <td>56.40</td>\n",
              "    </tr>\n",
              "    <tr>\n",
              "      <th>min</th>\n",
              "      <td>45.00</td>\n",
              "    </tr>\n",
              "    <tr>\n",
              "      <th>25%</th>\n",
              "      <td>168.75</td>\n",
              "    </tr>\n",
              "    <tr>\n",
              "      <th>50%</th>\n",
              "      <td>180.00</td>\n",
              "    </tr>\n",
              "    <tr>\n",
              "      <th>75%</th>\n",
              "      <td>225.00</td>\n",
              "    </tr>\n",
              "    <tr>\n",
              "      <th>max</th>\n",
              "      <td>270.00</td>\n",
              "    </tr>\n",
              "  </tbody>\n",
              "</table>\n",
              "</div>\n",
              "      <button class=\"colab-df-convert\" onclick=\"convertToInteractive('df-1b4791fa-9e5f-471c-96c7-407ffd643917')\"\n",
              "              title=\"Convert this dataframe to an interactive table.\"\n",
              "              style=\"display:none;\">\n",
              "        \n",
              "  <svg xmlns=\"http://www.w3.org/2000/svg\" height=\"24px\"viewBox=\"0 0 24 24\"\n",
              "       width=\"24px\">\n",
              "    <path d=\"M0 0h24v24H0V0z\" fill=\"none\"/>\n",
              "    <path d=\"M18.56 5.44l.94 2.06.94-2.06 2.06-.94-2.06-.94-.94-2.06-.94 2.06-2.06.94zm-11 1L8.5 8.5l.94-2.06 2.06-.94-2.06-.94L8.5 2.5l-.94 2.06-2.06.94zm10 10l.94 2.06.94-2.06 2.06-.94-2.06-.94-.94-2.06-.94 2.06-2.06.94z\"/><path d=\"M17.41 7.96l-1.37-1.37c-.4-.4-.92-.59-1.43-.59-.52 0-1.04.2-1.43.59L10.3 9.45l-7.72 7.72c-.78.78-.78 2.05 0 2.83L4 21.41c.39.39.9.59 1.41.59.51 0 1.02-.2 1.41-.59l7.78-7.78 2.81-2.81c.8-.78.8-2.07 0-2.86zM5.41 20L4 18.59l7.72-7.72 1.47 1.35L5.41 20z\"/>\n",
              "  </svg>\n",
              "      </button>\n",
              "      \n",
              "  <style>\n",
              "    .colab-df-container {\n",
              "      display:flex;\n",
              "      flex-wrap:wrap;\n",
              "      gap: 12px;\n",
              "    }\n",
              "\n",
              "    .colab-df-convert {\n",
              "      background-color: #E8F0FE;\n",
              "      border: none;\n",
              "      border-radius: 50%;\n",
              "      cursor: pointer;\n",
              "      display: none;\n",
              "      fill: #1967D2;\n",
              "      height: 32px;\n",
              "      padding: 0 0 0 0;\n",
              "      width: 32px;\n",
              "    }\n",
              "\n",
              "    .colab-df-convert:hover {\n",
              "      background-color: #E2EBFA;\n",
              "      box-shadow: 0px 1px 2px rgba(60, 64, 67, 0.3), 0px 1px 3px 1px rgba(60, 64, 67, 0.15);\n",
              "      fill: #174EA6;\n",
              "    }\n",
              "\n",
              "    [theme=dark] .colab-df-convert {\n",
              "      background-color: #3B4455;\n",
              "      fill: #D2E3FC;\n",
              "    }\n",
              "\n",
              "    [theme=dark] .colab-df-convert:hover {\n",
              "      background-color: #434B5C;\n",
              "      box-shadow: 0px 1px 3px 1px rgba(0, 0, 0, 0.15);\n",
              "      filter: drop-shadow(0px 1px 2px rgba(0, 0, 0, 0.3));\n",
              "      fill: #FFFFFF;\n",
              "    }\n",
              "  </style>\n",
              "\n",
              "      <script>\n",
              "        const buttonEl =\n",
              "          document.querySelector('#df-1b4791fa-9e5f-471c-96c7-407ffd643917 button.colab-df-convert');\n",
              "        buttonEl.style.display =\n",
              "          google.colab.kernel.accessAllowed ? 'block' : 'none';\n",
              "\n",
              "        async function convertToInteractive(key) {\n",
              "          const element = document.querySelector('#df-1b4791fa-9e5f-471c-96c7-407ffd643917');\n",
              "          const dataTable =\n",
              "            await google.colab.kernel.invokeFunction('convertToInteractive',\n",
              "                                                     [key], {});\n",
              "          if (!dataTable) return;\n",
              "\n",
              "          const docLinkHtml = 'Like what you see? Visit the ' +\n",
              "            '<a target=\"_blank\" href=https://colab.research.google.com/notebooks/data_table.ipynb>data table notebook</a>'\n",
              "            + ' to learn more about interactive tables.';\n",
              "          element.innerHTML = '';\n",
              "          dataTable['output_type'] = 'display_data';\n",
              "          await google.colab.output.renderOutput(dataTable, element);\n",
              "          const docLink = document.createElement('div');\n",
              "          docLink.innerHTML = docLinkHtml;\n",
              "          element.appendChild(docLink);\n",
              "        }\n",
              "      </script>\n",
              "    </div>\n",
              "  </div>\n",
              "  "
            ]
          },
          "metadata": {},
          "execution_count": 9
        }
      ]
    },
    {
      "cell_type": "markdown",
      "source": [
        "It's possible to see that there is the same amount of data in each of the 45 stores"
      ],
      "metadata": {
        "id": "dxrzV009rNWy"
      }
    },
    {
      "cell_type": "markdown",
      "source": [
        "### Detection of Outliers"
      ],
      "metadata": {
        "id": "94PZQtnlr1gQ"
      }
    },
    {
      "cell_type": "code",
      "source": [
        "# Dropping 10/Jan and 12/Nov/Dez data (low grouped sales in month - outlier)\n",
        "\n",
        "exclude_dates = ['2010-01','2012-11','2012-12']\n",
        "walmart = walmart[walmart.isin(exclude_dates) == False]"
      ],
      "metadata": {
        "id": "raHJnNlQAtFF"
      },
      "execution_count": null,
      "outputs": []
    },
    {
      "cell_type": "code",
      "source": [
        "# Dropping Store 3, 5, 30, 33, 36, 37, 38, 42, 43, 44 (low weekly sales - no high outliers)\n",
        "# \n",
        "\n",
        "exclude_stores = [3, 5, 30, 33, 36, 37, 38, 42, 43, 44]\n",
        "walmart = walmart[walmart['Store'].isin(exclude_stores) == False]"
      ],
      "metadata": {
        "id": "dGouKTWhCiAg"
      },
      "execution_count": null,
      "outputs": []
    },
    {
      "cell_type": "code",
      "source": [
        "# Outliers of Weekly_Sales\n",
        "\n",
        "fig_1 = px.box(walmart, x=\"Store\", y=\"Weekly_Sales\", notched=True)\n",
        "fig_1.show()"
      ],
      "metadata": {
        "colab": {
          "base_uri": "https://localhost:8080/",
          "height": 542
        },
        "id": "BtG3l6kNthN7",
        "outputId": "e5661b3a-ed13-4a22-d9db-0b444c553784"
      },
      "execution_count": null,
      "outputs": [
        {
          "output_type": "display_data",
          "data": {
            "text/html": [
              "<html>\n",
              "<head><meta charset=\"utf-8\" /></head>\n",
              "<body>\n",
              "    <div>            <script src=\"https://cdnjs.cloudflare.com/ajax/libs/mathjax/2.7.5/MathJax.js?config=TeX-AMS-MML_SVG\"></script><script type=\"text/javascript\">if (window.MathJax) {MathJax.Hub.Config({SVG: {font: \"STIX-Web\"}});}</script>                <script type=\"text/javascript\">window.PlotlyConfig = {MathJaxConfig: 'local'};</script>\n",
              "        <script src=\"https://cdn.plot.ly/plotly-2.8.3.min.js\"></script>                <div id=\"e8009926-c883-4e4b-b813-11539601b8a1\" class=\"plotly-graph-div\" style=\"height:525px; width:100%;\"></div>            <script type=\"text/javascript\">                                    window.PLOTLYENV=window.PLOTLYENV || {};                                    if (document.getElementById(\"e8009926-c883-4e4b-b813-11539601b8a1\")) {                    Plotly.newPlot(                        \"e8009926-c883-4e4b-b813-11539601b8a1\",                        [{\"alignmentgroup\":\"True\",\"hovertemplate\":\"Store=%{x}<br>Weekly_Sales=%{y}<extra></extra>\",\"legendgroup\":\"\",\"marker\":{\"color\":\"#636efa\"},\"name\":\"\",\"notched\":true,\"offsetgroup\":\"\",\"orientation\":\"v\",\"showlegend\":false,\"x\":[1,1,1,1,1,1,1,1,1,1,1,1,1,1,1,1,1,1,1,1,1,1,1,1,1,1,1,1,1,1,1,1,1,1,1,1,1,1,1,1,1,1,1,1,1,1,1,1,1,1,1,1,1,1,1,1,1,1,1,1,1,1,1,1,1,1,1,1,1,1,1,1,1,1,1,1,1,1,1,1,1,1,1,1,1,1,1,1,1,1,1,1,1,1,1,1,1,1,1,1,1,1,1,1,1,1,1,1,1,1,1,1,1,1,1,1,1,1,1,1,1,1,1,1,1,1,1,1,1,1,1,1,1,1,1,1,1,1,1,1,1,1,1,2,2,2,2,2,2,2,2,2,2,2,2,2,2,2,2,2,2,2,2,2,2,2,2,2,2,2,2,2,2,2,2,2,2,2,2,2,2,2,2,2,2,2,2,2,2,2,2,2,2,2,2,2,2,2,2,2,2,2,2,2,2,2,2,2,2,2,2,2,2,2,2,2,2,2,2,2,2,2,2,2,2,2,2,2,2,2,2,2,2,2,2,2,2,2,2,2,2,2,2,2,2,2,2,2,2,2,2,2,2,2,2,2,2,2,2,2,2,2,2,2,2,2,2,2,2,2,2,2,2,2,2,2,2,2,2,2,2,2,2,2,2,2,4,4,4,4,4,4,4,4,4,4,4,4,4,4,4,4,4,4,4,4,4,4,4,4,4,4,4,4,4,4,4,4,4,4,4,4,4,4,4,4,4,4,4,4,4,4,4,4,4,4,4,4,4,4,4,4,4,4,4,4,4,4,4,4,4,4,4,4,4,4,4,4,4,4,4,4,4,4,4,4,4,4,4,4,4,4,4,4,4,4,4,4,4,4,4,4,4,4,4,4,4,4,4,4,4,4,4,4,4,4,4,4,4,4,4,4,4,4,4,4,4,4,4,4,4,4,4,4,4,4,4,4,4,4,4,4,4,4,4,4,4,4,4,6,6,6,6,6,6,6,6,6,6,6,6,6,6,6,6,6,6,6,6,6,6,6,6,6,6,6,6,6,6,6,6,6,6,6,6,6,6,6,6,6,6,6,6,6,6,6,6,6,6,6,6,6,6,6,6,6,6,6,6,6,6,6,6,6,6,6,6,6,6,6,6,6,6,6,6,6,6,6,6,6,6,6,6,6,6,6,6,6,6,6,6,6,6,6,6,6,6,6,6,6,6,6,6,6,6,6,6,6,6,6,6,6,6,6,6,6,6,6,6,6,6,6,6,6,6,6,6,6,6,6,6,6,6,6,6,6,6,6,6,6,6,6,7,7,7,7,7,7,7,7,7,7,7,7,7,7,7,7,7,7,7,7,7,7,7,7,7,7,7,7,7,7,7,7,7,7,7,7,7,7,7,7,7,7,7,7,7,7,7,7,7,7,7,7,7,7,7,7,7,7,7,7,7,7,7,7,7,7,7,7,7,7,7,7,7,7,7,7,7,7,7,7,7,7,7,7,7,7,7,7,7,7,7,7,7,7,7,7,7,7,7,7,7,7,7,7,7,7,7,7,7,7,7,7,7,7,7,7,7,7,7,7,7,7,7,7,7,7,7,7,7,7,7,7,7,7,7,7,7,7,7,7,7,7,7,8,8,8,8,8,8,8,8,8,8,8,8,8,8,8,8,8,8,8,8,8,8,8,8,8,8,8,8,8,8,8,8,8,8,8,8,8,8,8,8,8,8,8,8,8,8,8,8,8,8,8,8,8,8,8,8,8,8,8,8,8,8,8,8,8,8,8,8,8,8,8,8,8,8,8,8,8,8,8,8,8,8,8,8,8,8,8,8,8,8,8,8,8,8,8,8,8,8,8,8,8,8,8,8,8,8,8,8,8,8,8,8,8,8,8,8,8,8,8,8,8,8,8,8,8,8,8,8,8,8,8,8,8,8,8,8,8,8,8,8,8,8,8,9,9,9,9,9,9,9,9,9,9,9,9,9,9,9,9,9,9,9,9,9,9,9,9,9,9,9,9,9,9,9,9,9,9,9,9,9,9,9,9,9,9,9,9,9,9,9,9,9,9,9,9,9,9,9,9,9,9,9,9,9,9,9,9,9,9,9,9,9,9,9,9,9,9,9,9,9,9,9,9,9,9,9,9,9,9,9,9,9,9,9,9,9,9,9,9,9,9,9,9,9,9,9,9,9,9,9,9,9,9,9,9,9,9,9,9,9,9,9,9,9,9,9,9,9,9,9,9,9,9,9,9,9,9,9,9,9,9,9,9,9,9,9,10,10,10,10,10,10,10,10,10,10,10,10,10,10,10,10,10,10,10,10,10,10,10,10,10,10,10,10,10,10,10,10,10,10,10,10,10,10,10,10,10,10,10,10,10,10,10,10,10,10,10,10,10,10,10,10,10,10,10,10,10,10,10,10,10,10,10,10,10,10,10,10,10,10,10,10,10,10,10,10,10,10,10,10,10,10,10,10,10,10,10,10,10,10,10,10,10,10,10,10,10,10,10,10,10,10,10,10,10,10,10,10,10,10,10,10,10,10,10,10,10,10,10,10,10,10,10,10,10,10,10,10,10,10,10,10,10,10,10,10,10,10,10,11,11,11,11,11,11,11,11,11,11,11,11,11,11,11,11,11,11,11,11,11,11,11,11,11,11,11,11,11,11,11,11,11,11,11,11,11,11,11,11,11,11,11,11,11,11,11,11,11,11,11,11,11,11,11,11,11,11,11,11,11,11,11,11,11,11,11,11,11,11,11,11,11,11,11,11,11,11,11,11,11,11,11,11,11,11,11,11,11,11,11,11,11,11,11,11,11,11,11,11,11,11,11,11,11,11,11,11,11,11,11,11,11,11,11,11,11,11,11,11,11,11,11,11,11,11,11,11,11,11,11,11,11,11,11,11,11,11,11,11,11,11,11,12,12,12,12,12,12,12,12,12,12,12,12,12,12,12,12,12,12,12,12,12,12,12,12,12,12,12,12,12,12,12,12,12,12,12,12,12,12,12,12,12,12,12,12,12,12,12,12,12,12,12,12,12,12,12,12,12,12,12,12,12,12,12,12,12,12,12,12,12,12,12,12,12,12,12,12,12,12,12,12,12,12,12,12,12,12,12,12,12,12,12,12,12,12,12,12,12,12,12,12,12,12,12,12,12,12,12,12,12,12,12,12,12,12,12,12,12,12,12,12,12,12,12,12,12,12,12,12,12,12,12,12,12,12,12,12,12,12,12,12,12,12,12,13,13,13,13,13,13,13,13,13,13,13,13,13,13,13,13,13,13,13,13,13,13,13,13,13,13,13,13,13,13,13,13,13,13,13,13,13,13,13,13,13,13,13,13,13,13,13,13,13,13,13,13,13,13,13,13,13,13,13,13,13,13,13,13,13,13,13,13,13,13,13,13,13,13,13,13,13,13,13,13,13,13,13,13,13,13,13,13,13,13,13,13,13,13,13,13,13,13,13,13,13,13,13,13,13,13,13,13,13,13,13,13,13,13,13,13,13,13,13,13,13,13,13,13,13,13,13,13,13,13,13,13,13,13,13,13,13,13,13,13,13,13,13,14,14,14,14,14,14,14,14,14,14,14,14,14,14,14,14,14,14,14,14,14,14,14,14,14,14,14,14,14,14,14,14,14,14,14,14,14,14,14,14,14,14,14,14,14,14,14,14,14,14,14,14,14,14,14,14,14,14,14,14,14,14,14,14,14,14,14,14,14,14,14,14,14,14,14,14,14,14,14,14,14,14,14,14,14,14,14,14,14,14,14,14,14,14,14,14,14,14,14,14,14,14,14,14,14,14,14,14,14,14,14,14,14,14,14,14,14,14,14,14,14,14,14,14,14,14,14,14,14,14,14,14,14,14,14,14,14,14,14,14,14,14,14,15,15,15,15,15,15,15,15,15,15,15,15,15,15,15,15,15,15,15,15,15,15,15,15,15,15,15,15,15,15,15,15,15,15,15,15,15,15,15,15,15,15,15,15,15,15,15,15,15,15,15,15,15,15,15,15,15,15,15,15,15,15,15,15,15,15,15,15,15,15,15,15,15,15,15,15,15,15,15,15,15,15,15,15,15,15,15,15,15,15,15,15,15,15,15,15,15,15,15,15,15,15,15,15,15,15,15,15,15,15,15,15,15,15,15,15,15,15,15,15,15,15,15,15,15,15,15,15,15,15,15,15,15,15,15,15,15,15,15,15,15,15,15,16,16,16,16,16,16,16,16,16,16,16,16,16,16,16,16,16,16,16,16,16,16,16,16,16,16,16,16,16,16,16,16,16,16,16,16,16,16,16,16,16,16,16,16,16,16,16,16,16,16,16,16,16,16,16,16,16,16,16,16,16,16,16,16,16,16,16,16,16,16,16,16,16,16,16,16,16,16,16,16,16,16,16,16,16,16,16,16,16,16,16,16,16,16,16,16,16,16,16,16,16,16,16,16,16,16,16,16,16,16,16,16,16,16,16,16,16,16,16,16,16,16,16,16,16,16,16,16,16,16,16,16,16,16,16,16,16,16,16,16,16,16,16,17,17,17,17,17,17,17,17,17,17,17,17,17,17,17,17,17,17,17,17,17,17,17,17,17,17,17,17,17,17,17,17,17,17,17,17,17,17,17,17,17,17,17,17,17,17,17,17,17,17,17,17,17,17,17,17,17,17,17,17,17,17,17,17,17,17,17,17,17,17,17,17,17,17,17,17,17,17,17,17,17,17,17,17,17,17,17,17,17,17,17,17,17,17,17,17,17,17,17,17,17,17,17,17,17,17,17,17,17,17,17,17,17,17,17,17,17,17,17,17,17,17,17,17,17,17,17,17,17,17,17,17,17,17,17,17,17,17,17,17,17,17,17,18,18,18,18,18,18,18,18,18,18,18,18,18,18,18,18,18,18,18,18,18,18,18,18,18,18,18,18,18,18,18,18,18,18,18,18,18,18,18,18,18,18,18,18,18,18,18,18,18,18,18,18,18,18,18,18,18,18,18,18,18,18,18,18,18,18,18,18,18,18,18,18,18,18,18,18,18,18,18,18,18,18,18,18,18,18,18,18,18,18,18,18,18,18,18,18,18,18,18,18,18,18,18,18,18,18,18,18,18,18,18,18,18,18,18,18,18,18,18,18,18,18,18,18,18,18,18,18,18,18,18,18,18,18,18,18,18,18,18,18,18,18,18,19,19,19,19,19,19,19,19,19,19,19,19,19,19,19,19,19,19,19,19,19,19,19,19,19,19,19,19,19,19,19,19,19,19,19,19,19,19,19,19,19,19,19,19,19,19,19,19,19,19,19,19,19,19,19,19,19,19,19,19,19,19,19,19,19,19,19,19,19,19,19,19,19,19,19,19,19,19,19,19,19,19,19,19,19,19,19,19,19,19,19,19,19,19,19,19,19,19,19,19,19,19,19,19,19,19,19,19,19,19,19,19,19,19,19,19,19,19,19,19,19,19,19,19,19,19,19,19,19,19,19,19,19,19,19,19,19,19,19,19,19,19,19,20,20,20,20,20,20,20,20,20,20,20,20,20,20,20,20,20,20,20,20,20,20,20,20,20,20,20,20,20,20,20,20,20,20,20,20,20,20,20,20,20,20,20,20,20,20,20,20,20,20,20,20,20,20,20,20,20,20,20,20,20,20,20,20,20,20,20,20,20,20,20,20,20,20,20,20,20,20,20,20,20,20,20,20,20,20,20,20,20,20,20,20,20,20,20,20,20,20,20,20,20,20,20,20,20,20,20,20,20,20,20,20,20,20,20,20,20,20,20,20,20,20,20,20,20,20,20,20,20,20,20,20,20,20,20,20,20,20,20,20,20,20,20,21,21,21,21,21,21,21,21,21,21,21,21,21,21,21,21,21,21,21,21,21,21,21,21,21,21,21,21,21,21,21,21,21,21,21,21,21,21,21,21,21,21,21,21,21,21,21,21,21,21,21,21,21,21,21,21,21,21,21,21,21,21,21,21,21,21,21,21,21,21,21,21,21,21,21,21,21,21,21,21,21,21,21,21,21,21,21,21,21,21,21,21,21,21,21,21,21,21,21,21,21,21,21,21,21,21,21,21,21,21,21,21,21,21,21,21,21,21,21,21,21,21,21,21,21,21,21,21,21,21,21,21,21,21,21,21,21,21,21,21,21,21,21,22,22,22,22,22,22,22,22,22,22,22,22,22,22,22,22,22,22,22,22,22,22,22,22,22,22,22,22,22,22,22,22,22,22,22,22,22,22,22,22,22,22,22,22,22,22,22,22,22,22,22,22,22,22,22,22,22,22,22,22,22,22,22,22,22,22,22,22,22,22,22,22,22,22,22,22,22,22,22,22,22,22,22,22,22,22,22,22,22,22,22,22,22,22,22,22,22,22,22,22,22,22,22,22,22,22,22,22,22,22,22,22,22,22,22,22,22,22,22,22,22,22,22,22,22,22,22,22,22,22,22,22,22,22,22,22,22,22,22,22,22,22,22,23,23,23,23,23,23,23,23,23,23,23,23,23,23,23,23,23,23,23,23,23,23,23,23,23,23,23,23,23,23,23,23,23,23,23,23,23,23,23,23,23,23,23,23,23,23,23,23,23,23,23,23,23,23,23,23,23,23,23,23,23,23,23,23,23,23,23,23,23,23,23,23,23,23,23,23,23,23,23,23,23,23,23,23,23,23,23,23,23,23,23,23,23,23,23,23,23,23,23,23,23,23,23,23,23,23,23,23,23,23,23,23,23,23,23,23,23,23,23,23,23,23,23,23,23,23,23,23,23,23,23,23,23,23,23,23,23,23,23,23,23,23,23,24,24,24,24,24,24,24,24,24,24,24,24,24,24,24,24,24,24,24,24,24,24,24,24,24,24,24,24,24,24,24,24,24,24,24,24,24,24,24,24,24,24,24,24,24,24,24,24,24,24,24,24,24,24,24,24,24,24,24,24,24,24,24,24,24,24,24,24,24,24,24,24,24,24,24,24,24,24,24,24,24,24,24,24,24,24,24,24,24,24,24,24,24,24,24,24,24,24,24,24,24,24,24,24,24,24,24,24,24,24,24,24,24,24,24,24,24,24,24,24,24,24,24,24,24,24,24,24,24,24,24,24,24,24,24,24,24,24,24,24,24,24,24,25,25,25,25,25,25,25,25,25,25,25,25,25,25,25,25,25,25,25,25,25,25,25,25,25,25,25,25,25,25,25,25,25,25,25,25,25,25,25,25,25,25,25,25,25,25,25,25,25,25,25,25,25,25,25,25,25,25,25,25,25,25,25,25,25,25,25,25,25,25,25,25,25,25,25,25,25,25,25,25,25,25,25,25,25,25,25,25,25,25,25,25,25,25,25,25,25,25,25,25,25,25,25,25,25,25,25,25,25,25,25,25,25,25,25,25,25,25,25,25,25,25,25,25,25,25,25,25,25,25,25,25,25,25,25,25,25,25,25,25,25,25,25,26,26,26,26,26,26,26,26,26,26,26,26,26,26,26,26,26,26,26,26,26,26,26,26,26,26,26,26,26,26,26,26,26,26,26,26,26,26,26,26,26,26,26,26,26,26,26,26,26,26,26,26,26,26,26,26,26,26,26,26,26,26,26,26,26,26,26,26,26,26,26,26,26,26,26,26,26,26,26,26,26,26,26,26,26,26,26,26,26,26,26,26,26,26,26,26,26,26,26,26,26,26,26,26,26,26,26,26,26,26,26,26,26,26,26,26,26,26,26,26,26,26,26,26,26,26,26,26,26,26,26,26,26,26,26,26,26,26,26,26,26,26,26,27,27,27,27,27,27,27,27,27,27,27,27,27,27,27,27,27,27,27,27,27,27,27,27,27,27,27,27,27,27,27,27,27,27,27,27,27,27,27,27,27,27,27,27,27,27,27,27,27,27,27,27,27,27,27,27,27,27,27,27,27,27,27,27,27,27,27,27,27,27,27,27,27,27,27,27,27,27,27,27,27,27,27,27,27,27,27,27,27,27,27,27,27,27,27,27,27,27,27,27,27,27,27,27,27,27,27,27,27,27,27,27,27,27,27,27,27,27,27,27,27,27,27,27,27,27,27,27,27,27,27,27,27,27,27,27,27,27,27,27,27,27,27,28,28,28,28,28,28,28,28,28,28,28,28,28,28,28,28,28,28,28,28,28,28,28,28,28,28,28,28,28,28,28,28,28,28,28,28,28,28,28,28,28,28,28,28,28,28,28,28,28,28,28,28,28,28,28,28,28,28,28,28,28,28,28,28,28,28,28,28,28,28,28,28,28,28,28,28,28,28,28,28,28,28,28,28,28,28,28,28,28,28,28,28,28,28,28,28,28,28,28,28,28,28,28,28,28,28,28,28,28,28,28,28,28,28,28,28,28,28,28,28,28,28,28,28,28,28,28,28,28,28,28,28,28,28,28,28,28,28,28,28,28,28,28,29,29,29,29,29,29,29,29,29,29,29,29,29,29,29,29,29,29,29,29,29,29,29,29,29,29,29,29,29,29,29,29,29,29,29,29,29,29,29,29,29,29,29,29,29,29,29,29,29,29,29,29,29,29,29,29,29,29,29,29,29,29,29,29,29,29,29,29,29,29,29,29,29,29,29,29,29,29,29,29,29,29,29,29,29,29,29,29,29,29,29,29,29,29,29,29,29,29,29,29,29,29,29,29,29,29,29,29,29,29,29,29,29,29,29,29,29,29,29,29,29,29,29,29,29,29,29,29,29,29,29,29,29,29,29,29,29,29,29,29,29,29,29,31,31,31,31,31,31,31,31,31,31,31,31,31,31,31,31,31,31,31,31,31,31,31,31,31,31,31,31,31,31,31,31,31,31,31,31,31,31,31,31,31,31,31,31,31,31,31,31,31,31,31,31,31,31,31,31,31,31,31,31,31,31,31,31,31,31,31,31,31,31,31,31,31,31,31,31,31,31,31,31,31,31,31,31,31,31,31,31,31,31,31,31,31,31,31,31,31,31,31,31,31,31,31,31,31,31,31,31,31,31,31,31,31,31,31,31,31,31,31,31,31,31,31,31,31,31,31,31,31,31,31,31,31,31,31,31,31,31,31,31,31,31,31,32,32,32,32,32,32,32,32,32,32,32,32,32,32,32,32,32,32,32,32,32,32,32,32,32,32,32,32,32,32,32,32,32,32,32,32,32,32,32,32,32,32,32,32,32,32,32,32,32,32,32,32,32,32,32,32,32,32,32,32,32,32,32,32,32,32,32,32,32,32,32,32,32,32,32,32,32,32,32,32,32,32,32,32,32,32,32,32,32,32,32,32,32,32,32,32,32,32,32,32,32,32,32,32,32,32,32,32,32,32,32,32,32,32,32,32,32,32,32,32,32,32,32,32,32,32,32,32,32,32,32,32,32,32,32,32,32,32,32,32,32,32,32,34,34,34,34,34,34,34,34,34,34,34,34,34,34,34,34,34,34,34,34,34,34,34,34,34,34,34,34,34,34,34,34,34,34,34,34,34,34,34,34,34,34,34,34,34,34,34,34,34,34,34,34,34,34,34,34,34,34,34,34,34,34,34,34,34,34,34,34,34,34,34,34,34,34,34,34,34,34,34,34,34,34,34,34,34,34,34,34,34,34,34,34,34,34,34,34,34,34,34,34,34,34,34,34,34,34,34,34,34,34,34,34,34,34,34,34,34,34,34,34,34,34,34,34,34,34,34,34,34,34,34,34,34,34,34,34,34,34,34,34,34,34,34,35,35,35,35,35,35,35,35,35,35,35,35,35,35,35,35,35,35,35,35,35,35,35,35,35,35,35,35,35,35,35,35,35,35,35,35,35,35,35,35,35,35,35,35,35,35,35,35,35,35,35,35,35,35,35,35,35,35,35,35,35,35,35,35,35,35,35,35,35,35,35,35,35,35,35,35,35,35,35,35,35,35,35,35,35,35,35,35,35,35,35,35,35,35,35,35,35,35,35,35,35,35,35,35,35,35,35,35,35,35,35,35,35,35,35,35,35,35,35,35,35,35,35,35,35,35,35,35,35,35,35,35,35,35,35,35,35,35,35,35,35,35,35,39,39,39,39,39,39,39,39,39,39,39,39,39,39,39,39,39,39,39,39,39,39,39,39,39,39,39,39,39,39,39,39,39,39,39,39,39,39,39,39,39,39,39,39,39,39,39,39,39,39,39,39,39,39,39,39,39,39,39,39,39,39,39,39,39,39,39,39,39,39,39,39,39,39,39,39,39,39,39,39,39,39,39,39,39,39,39,39,39,39,39,39,39,39,39,39,39,39,39,39,39,39,39,39,39,39,39,39,39,39,39,39,39,39,39,39,39,39,39,39,39,39,39,39,39,39,39,39,39,39,39,39,39,39,39,39,39,39,39,39,39,39,39,40,40,40,40,40,40,40,40,40,40,40,40,40,40,40,40,40,40,40,40,40,40,40,40,40,40,40,40,40,40,40,40,40,40,40,40,40,40,40,40,40,40,40,40,40,40,40,40,40,40,40,40,40,40,40,40,40,40,40,40,40,40,40,40,40,40,40,40,40,40,40,40,40,40,40,40,40,40,40,40,40,40,40,40,40,40,40,40,40,40,40,40,40,40,40,40,40,40,40,40,40,40,40,40,40,40,40,40,40,40,40,40,40,40,40,40,40,40,40,40,40,40,40,40,40,40,40,40,40,40,40,40,40,40,40,40,40,40,40,40,40,40,40,41,41,41,41,41,41,41,41,41,41,41,41,41,41,41,41,41,41,41,41,41,41,41,41,41,41,41,41,41,41,41,41,41,41,41,41,41,41,41,41,41,41,41,41,41,41,41,41,41,41,41,41,41,41,41,41,41,41,41,41,41,41,41,41,41,41,41,41,41,41,41,41,41,41,41,41,41,41,41,41,41,41,41,41,41,41,41,41,41,41,41,41,41,41,41,41,41,41,41,41,41,41,41,41,41,41,41,41,41,41,41,41,41,41,41,41,41,41,41,41,41,41,41,41,41,41,41,41,41,41,41,41,41,41,41,41,41,41,41,41,41,41,41,45,45,45,45,45,45,45,45,45,45,45,45,45,45,45,45,45,45,45,45,45,45,45,45,45,45,45,45,45,45,45,45,45,45,45,45,45,45,45,45,45,45,45,45,45,45,45,45,45,45,45,45,45,45,45,45,45,45,45,45,45,45,45,45,45,45,45,45,45,45,45,45,45,45,45,45,45,45,45,45,45,45,45,45,45,45,45,45,45,45,45,45,45,45,45,45,45,45,45,45,45,45,45,45,45,45,45,45,45,45,45,45,45,45,45,45,45,45,45,45,45,45,45,45,45,45,45,45,45,45,45,45,45,45,45,45,45,45,45,45,45,45,45],\"x0\":\" \",\"xaxis\":\"x\",\"y\":[1643690.9,1641957.44,1611968.17,1409727.59,1554806.68,1439541.59,1472515.79,1404429.92,1594968.28,1545418.53,1466058.28,1391256.12,1425100.71,1603955.12,1494251.5,1399662.07,1432069.95,1615524.71,1542561.09,1503284.06,1422711.6,1492418.14,1546074.18,1448938.92,1385065.2,1371986.6,1605491.78,1508237.76,1513080.49,1449142.92,1540163.53,1507460.69,1430378.67,1351791.03,1453329.5,1508239.93,1459409.1,1345454.0,1384209.22,1551659.28,1494479.49,1483784.18,1955624.11,1548033.78,1682614.26,1891034.93,2387950.2,1367320.01,1444732.28,1391013.96,1327405.42,1316899.31,1606629.58,1649614.93,1686842.78,1456800.28,1636263.41,1553191.63,1576818.06,1541102.38,1495064.75,1614259.35,1559889.0,1564819.81,1455090.69,1629391.28,1604775.58,1428218.27,1466046.67,1635078.41,1588948.32,1532114.86,1438830.15,1488538.09,1534849.64,1455119.97,1396926.82,1352219.79,1624383.75,1525147.09,1530761.43,1464693.46,1550229.22,1540471.24,1514259.78,1380020.27,1394561.83,1630989.95,1493525.93,1502562.78,1445249.09,1697229.58,1594938.89,1539483.7,2033320.66,1584083.95,1799682.38,1881176.67,2270188.99,1497462.72,1550369.92,1459601.17,1394393.84,1319325.59,1636339.65,1802477.43,1819870.0,1539387.83,1688420.76,1675431.16,1677472.78,1511068.07,1649604.63,1899676.88,1621031.7,1521577.87,1468928.37,1684519.99,1611096.05,1595901.87,1555444.55,1624477.58,1697230.96,1630607.0,1527845.81,1540421.49,1769854.16,1527014.04,1497954.76,1439123.71,1631135.79,1592409.97,1597868.05,1494122.38,1582083.4,1661767.33,1517428.87,1506126.06,1437059.26,1670785.97,1573072.81,1508068.77,1493659.74,2136989.46,2137809.5,2124451.54,1865097.27,1991013.13,1990483.78,1946070.88,1750197.81,2066187.72,1954689.21,1874957.94,1821990.93,1802450.29,2042581.71,1880752.36,1896937.1,1957113.89,2102539.93,2025538.76,2001636.96,1939927.09,2003940.64,1880902.62,1845879.79,1781717.71,1804246.16,1991909.98,1895601.05,1964335.23,1863840.49,1904608.09,1839128.83,1793903.6,1724557.22,1827440.43,1849921.44,1794355.49,1737947.64,1802755.11,1939061.41,1916812.74,1956739.17,2658725.29,2015781.27,2378726.55,2609166.75,3436007.68,1750434.55,1758050.79,1744193.58,1751384.9,1695371.68,1929346.23,2168041.61,2080884.82,1833511.08,1981607.78,1879107.31,1902557.66,1766162.05,1800171.36,1847552.61,1856467.84,1886339.6,1745545.28,1837743.6,1838513.07,1688281.86,1797732.56,1933756.21,1929153.16,1953771.99,1790925.8,1866243.0,1853161.99,1785187.29,1743816.41,1680693.06,1876704.26,1812768.26,1844094.59,1821139.91,1809119.7,1748000.65,1691439.52,1669299.78,1650394.44,1837553.43,1743882.19,1834680.25,1769296.25,1959707.9,1920725.15,1902762.5,2614202.3,1954952.0,2290549.32,2432736.52,3224369.8,1874226.52,1799520.14,1744725.48,1711769.11,1660906.14,1935299.94,2103322.68,2196688.46,1861802.7,1952555.66,1937628.26,1976082.13,1790439.16,1857480.84,2129035.91,1935869.1,1847344.45,1764133.09,1923957.09,1917520.99,2000940.67,1912791.09,1910092.37,2010216.49,1962924.3,1887733.21,1881046.12,2041507.4,1830075.13,1819666.46,1757923.88,1946104.64,1866719.96,1928016.01,1876788.15,1947083.3,1898777.07,1814806.63,1829415.67,1746470.56,1998321.04,1900745.13,1847990.41,1834458.35,2135143.87,2188307.39,2049860.26,1925728.84,1971057.44,1894324.09,1897429.36,1762539.3,1979247.12,1818452.72,1851519.69,1802677.9,1817273.28,2000626.14,1875597.28,1903752.6,1857533.7,1903290.58,1870619.23,1929736.35,1846651.95,1881337.21,1812208.22,1898427.66,1848426.78,1796637.61,1907638.58,2007050.75,1997181.09,1848403.92,1935857.58,1865820.81,1899959.61,1810684.68,1842821.02,1951494.85,1867345.09,1927610.06,1933333.0,2013115.79,1999794.26,2097809.4,2789469.45,2102530.17,2302504.86,2740057.14,3526713.39,1794868.74,1862476.27,1865502.46,1886393.94,1814240.85,2119086.04,2187847.29,2316495.56,2078094.69,2103455.75,2039818.41,2116475.38,1944164.32,1900246.47,2074953.46,1960587.76,2220600.76,1878167.44,2063682.76,2002362.37,2015563.48,1986597.95,2065377.15,2073951.38,2141210.62,2008344.92,2051533.53,2066541.86,2049046.95,2036231.39,1989674.07,2160057.39,2105668.74,2232892.1,1988490.21,2078420.31,2093139.01,2075577.33,2031406.41,1929486.63,2166737.65,2074548.85,2207742.13,2151659.59,2281217.31,2203028.96,2243946.59,3004702.33,2180999.26,2508955.24,2771397.17,3676388.98,2007105.86,2047766.07,1941676.61,2005097.76,1928720.51,2173373.91,2374660.64,2427640.17,2226662.17,2206319.9,2202450.81,2214967.44,2091592.54,2089381.77,2470206.13,2105301.39,2144336.89,2064065.66,2196968.33,2127661.17,2207214.81,2154137.67,2179360.94,2245257.18,2234190.93,2197299.65,2128362.92,2224499.28,2100252.61,2175563.69,2048613.65,2174514.13,2193367.69,2283540.3,2125241.68,2081181.35,2125104.72,2117854.6,2119438.53,2027620.23,2209835.43,2133026.07,2097266.85,2149594.46,1652635.1,1606283.86,1567138.07,1432953.21,1601348.82,1558621.36,1693058.91,1472033.38,1770333.9,1667181.82,1519846.36,1540435.99,1498080.16,1619920.04,1524059.4,1531938.44,1644470.66,1857380.09,1685652.35,1677248.24,1640681.88,1759777.25,1690317.99,1560120.8,1585240.92,1532308.78,1633241.59,1547654.98,1539930.5,1450766.12,1510925.32,1424225.44,1308537.75,1275591.84,1328468.89,1360317.9,1344580.92,1332716.53,1385323.7,1505442.15,1495536.46,1518841.45,2267452.4,1677067.24,1834737.58,2090268.95,2727575.18,1464050.02,1350441.68,1306194.55,1261253.18,1287034.7,1514999.17,1486920.17,1572117.54,1422600.43,1502617.99,1494497.39,1685375.47,1438465.81,1459276.77,1534594.0,1448797.02,1639358.93,1479249.9,1504651.57,1453185.65,1382783.83,1523979.11,1705506.29,1598643.65,1622150.33,1543365.9,1694551.15,1709373.62,1526801.24,1526506.08,1483991.05,1601584.57,1484995.38,1493544.04,1420405.41,1481618.74,1483574.38,1351407.79,1336044.75,1307551.92,1481739.2,1386520.99,1417922.37,1419445.12,1523420.38,1536176.54,1524390.07,2249811.55,1688531.34,1903385.14,2034695.56,2644633.02,1598080.52,1395339.71,1344243.17,1326255.7,1315610.66,1496305.78,1620603.92,1632616.09,1465187.71,1550385.65,1569304.4,1748010.29,1495143.62,1508933.26,1840131.19,1616394.45,1456073.24,1456221.1,1543461.12,1517075.67,1513635.64,1603793.42,1681121.38,1696619.52,1642247.48,1618272.25,1648863.46,1876359.39,1588142.26,1574361.97,1513229.16,1627274.93,1588380.73,1543049.52,1501095.49,1577439.81,1608077.01,1375166.86,1425603.65,1369131.46,1518177.71,1459396.84,1436883.99,1431426.34,496725.44,524104.92,506760.54,496083.24,491419.55,480452.1,574450.23,514731.6,561145.14,484263.25,406228.19,404751.25,373655.61,395453.83,372673.61,395195.65,442734.55,509183.22,498580.87,481144.09,553714.87,575570.77,593462.34,557166.35,570231.21,603547.16,643854.17,598185.4,582353.17,554309.24,532765.05,535769.32,489408.53,488008.83,448998.73,480239.88,463370.48,472450.81,465493.15,480512.44,507584.29,482528.36,835189.26,552811.62,599730.07,716388.81,1045124.88,729572.08,661163.94,547384.9,521539.46,513372.17,558027.77,559903.13,572387.47,546690.84,551378.39,558963.83,635014.69,559061.58,513409.67,500552.16,423380.14,466594.89,410429.73,407012.47,414094.05,424670.98,457216.87,542295.37,621099.95,610991.35,640043.97,704344.21,761793.94,642748.21,688043.96,653382.62,695392.84,670670.46,645156.21,629994.47,592355.24,613135.23,558981.45,536144.81,488880.26,525866.36,501959.19,558691.43,527339.52,564536.01,556015.59,539826.56,949075.87,591907.88,653845.45,720242.19,1059715.27,815915.52,713117.66,593875.46,578002.85,541037.98,580453.32,563460.77,620908.18,603041.14,551058.13,579166.5,669205.73,615997.29,583322.2,621425.98,517420.23,457340.06,467827.75,465198.89,460397.41,468428.3,532739.77,598495.02,642963.75,666942.02,687344.68,704335.41,805642.61,694150.89,686345.69,686365.4,680954.81,675926.3,642450.4,609099.37,586467.16,597876.55,541120.2,530842.25,525545.76,505830.56,503463.93,516424.83,495543.28,1004137.09,994801.4,963960.37,847592.11,881503.95,860336.16,839911.0,772539.12,914500.91,916033.92,882917.12,850440.26,778672.64,916820.96,873337.84,818333.21,868041.56,958225.41,914835.86,869922.56,814919.11,852333.75,845289.77,848630.57,785515.88,787295.09,893399.77,867919.21,870676.44,888816.78,899036.47,831425.2,836707.85,773725.08,804105.49,870349.86,826546.96,836419.14,830756.76,927266.34,911538.98,885608.04,1261693.16,952766.93,1069061.63,1220579.55,1511641.09,773586.49,873065.23,809646.66,822668.23,782256.66,944594.78,996147.39,1065108.64,917317.15,935266.43,900387.29,898289.14,827968.36,878762.3,949825.83,908278.74,937473.13,855014.77,941457.34,895763.41,836049.89,857939.41,929222.16,897309.41,922048.41,864881.24,883683.35,861965.12,849925.37,829902.42,807082.19,892393.77,856796.1,895066.5,912542.82,891387.14,848358.09,870971.82,806444.29,809049.37,929976.55,863188.26,905984.49,876712.31,947815.05,917088.48,897032.19,1235163.86,986601.46,1051922.95,1118163.94,1462254.05,858572.22,872113.23,817661.76,813954.82,778178.53,927610.69,1021400.42,1096232.89,928537.54,952264.91,960115.56,921178.39,874223.25,905935.29,1046816.59,909989.45,872288.46,879448.25,937232.09,920128.89,913922.01,895157.44,921161.2,928820.0,916918.7,899449.65,878298.22,936205.5,890488.01,888834.07,838227.52,897076.73,930745.69,896613.19,936373.65,976137.73,932160.37,883569.38,857796.45,884724.41,976436.02,927511.99,900309.75,891671.44,549505.55,552677.48,511327.9,473773.27,507297.88,494145.8,485744.61,484946.56,545206.32,529384.31,485764.32,488683.57,491723.42,526128.61,492792.8,506274.94,558143.53,586061.46,522715.68,513073.87,509263.28,528832.54,485389.15,474030.51,462676.5,468675.19,522815.45,481897.98,499325.38,506789.66,511049.06,484835.2,463448.59,452905.22,495692.19,505069.21,454769.68,466322.76,508801.61,517869.97,520846.68,519823.3,768070.53,578164.82,618121.82,685243.2,873347.55,459770.85,490981.78,458086.69,454021.69,463561.48,544612.28,555279.02,610985.56,513107.2,542016.18,517783.5,515226.11,497488.4,520962.14,561625.92,528420.28,549502.11,532226.2,545251.1,539126.0,518266.9,553834.04,587004.29,550076.32,558671.14,538745.93,537064.03,535983.13,512834.04,491449.94,471449.98,554879.67,520284.79,540819.44,542663.53,544643.33,528784.86,500274.03,506743.78,508567.04,553836.98,529515.66,557075.21,548527.49,597855.07,594574.12,542414.27,814753.5,613115.21,630327.28,705557.97,905324.68,549788.36,519585.67,474964.6,480130.04,482451.21,549967.89,609736.12,658965.05,563578.79,619498.28,574955.95,550373.57,550791.32,574985.37,677885.99,578539.86,542819.03,550414.99,586289.08,592572.3,571463.93,547226.0,583648.59,582525.42,564606.1,562173.12,544770.7,578790.36,536537.64,513991.57,495951.0,533887.54,538713.47,535153.47,572887.78,576879.15,565812.29,523427.35,533756.88,516361.06,606755.3,558464.8,542009.46,549731.49,2193048.75,2176028.52,2113432.58,2006774.96,1987090.09,1941346.13,1946875.06,1893532.46,2138651.97,2041069.37,1826241.44,1829521.83,1790694.59,1921432.16,1808056.41,1847613.58,1904618.17,1931406.28,1827521.71,1837636.24,1768172.31,1845893.87,1769793.37,1828052.47,1831676.03,1832664.03,1949236.09,1962996.7,1983190.56,1727565.42,1766331.45,1720530.23,1716755.78,1655036.75,1645892.97,1772192.42,1703850.25,1740234.06,1741308.56,1832211.96,1895901.59,1949177.13,2939946.38,2251206.64,2411790.21,2811646.85,3749057.69,1707298.14,1714309.9,1710803.59,1677556.18,1715769.05,1968045.91,2115408.31,2106934.55,1967996.71,1958003.19,1933469.15,1884734.31,1815798.85,1827733.18,1870720.73,1781767.22,2004831.14,1873646.34,1841369.99,1712995.44,1720908.01,1743000.38,1792210.89,1740063.1,1817934.76,1711813.13,1751369.75,1699708.38,1775068.4,1774342.61,1745841.33,1886299.98,1917397.63,1954849.68,1728399.07,1758587.35,1670579.82,1650894.3,1685910.53,1627707.31,1788227.6,1704753.02,1745928.56,1771792.97,1904438.59,2076570.84,1869087.85,2950198.64,2068097.18,2429310.9,2555031.18,3487986.89,1930690.37,1683401.78,1711562.73,1675562.94,1632406.0,1867403.01,2218595.8,2168709.76,2039415.74,1990371.02,1917483.1,1930814.66,1837457.69,1815760.42,2163384.17,1974687.51,1777166.53,1712987.56,1821364.42,1792345.3,1795152.73,1830939.1,1767471.48,1840491.41,1811562.88,1755334.18,1707481.9,1805999.79,1765571.91,1869967.03,1817603.66,1939440.09,1880436.94,1827797.4,1764984.15,1650285.54,1708283.28,1640168.99,1671857.57,1694862.41,1758971.38,1713889.11,1734834.82,1744349.05,1528008.64,1574684.08,1503298.7,1336404.65,1426622.65,1331883.16,1364207.0,1245624.27,1446210.26,1470308.32,1323243.35,1283766.55,1239766.89,1312329.78,1266796.13,1271646.62,1264272.52,1396322.19,1339570.85,1336522.92,1262025.08,1302600.14,1280156.47,1290609.54,1244390.03,1250178.89,1369634.92,1384339.1,1430192.37,1311263.07,1303914.27,1231428.46,1215676.31,1170103.25,1182490.46,1293472.8,1175003.67,1169831.38,1195036.0,1332759.13,1281675.6,1292346.57,1757242.51,1380522.64,1564516.43,1843971.15,2306265.36,1172003.1,1178905.44,1194449.78,1187776.19,1100418.69,1422546.05,1419236.9,1554747.15,1323999.36,1399456.99,1314557.31,1391813.69,1229777.24,1258674.12,1327401.06,1312905.8,1388118.53,1357589.89,1331453.41,1277959.42,1239466.97,1216876.52,1343637.0,1314626.75,1337506.74,1254587.84,1297472.06,1334627.96,1266546.73,1290576.44,1212938.67,1403198.94,1354188.43,1484169.74,1304706.75,1297792.41,1249439.95,1270816.01,1235775.15,1190515.83,1346271.06,1286388.96,1325107.53,1310684.1,1458287.38,1366053.69,1315091.63,1848953.48,1399322.44,1646655.94,1783910.06,2213518.5,1352084.21,1283885.55,1264736.59,1207303.29,1162675.85,1376732.18,1574287.76,1569607.94,1379473.03,1438383.44,1413382.76,1441884.28,1300593.61,1300104.03,1596325.01,1472752.01,1315356.99,1236238.29,1370251.22,1300147.07,1352442.31,1297335.87,1361595.33,1414343.53,1417875.42,1355680.3,1297028.6,1461129.94,1320239.51,1344483.81,1272395.02,1399341.07,1388973.65,1421307.2,1409515.73,1372872.35,1304584.4,1267675.05,1326132.98,1227430.73,1422794.26,1311965.09,1232073.18,1200729.45,1100046.37,1117863.33,1095421.65,1048617.17,1077018.27,985594.23,972088.34,981615.81,1011822.3,1041238.87,957997.52,993833.44,954220.22,1043240.27,966054.97,958374.56,955451.16,1049357.36,1016039.71,956211.2,958007.69,951957.31,943506.28,916402.76,912403.67,913548.25,967576.95,928264.4,948447.34,1004516.46,1075758.55,903119.03,852882.61,851919.34,850936.26,918335.68,862419.84,857883.46,955294.7,929690.71,942475.24,894493.7,1601377.41,1069533.17,1121934.15,1295605.35,1768249.89,891736.91,910110.24,812011.8,802105.5,873119.06,1046068.17,1086421.57,1128485.1,1046203.72,1085248.21,997672.62,1009502.01,954107.32,1005463.49,998362.05,990951.77,1016019.47,994966.1,1021154.48,977033.5,924134.99,964332.51,970328.68,996937.95,986504.93,997282.75,961993.34,943717.38,936001.98,922231.92,890547.07,988712.52,955913.68,966817.24,1017593.47,1052051.45,922850.57,889290.23,871692.74,866401.45,951244.66,927600.01,938604.58,990926.38,1051944.79,1095091.53,970641.34,1591920.42,1071383.1,1189646.45,1293404.18,1617612.03,1111638.07,945823.65,865467.86,855922.64,888203.69,1058767.95,1199330.85,1240048.85,1112034.72,1147636.96,1113208.57,1088498.52,1045419.87,1025382.22,1128765.71,1083811.19,1006486.96,1004252.38,1073433.69,1041995.22,1020486.05,991514.21,981345.2,1086231.47,1019555.51,981386.25,943124.74,1014898.78,960312.75,941550.34,916967.92,958667.23,984689.9,1005003.12,1048101.39,1061943.49,955146.04,885892.37,922735.37,880415.67,979825.92,934917.47,960945.43,974697.6,1967220.53,2030933.46,1970274.64,1817850.32,1939980.43,1840686.94,1879794.89,1882095.98,2142482.14,1898321.33,1819660.44,1909330.77,1785823.37,2005478.46,1890273.44,1853657.6,1877358.86,2022705.22,2037880.96,2003435.31,1970340.25,2018314.71,1870843.9,1932231.05,1907351.2,1817887.23,1969121.45,1877592.55,1997397.63,1908278.27,1911852.58,1772143.94,1790279.74,1705655.09,1765584.48,1871924.07,1851431.06,1796949.59,1887895.07,1854967.66,1939964.63,1925393.91,2766400.05,2083379.89,2461468.35,2771646.81,3595903.2,1675292.0,1744544.39,1682316.31,1770177.37,1633663.12,1848186.58,1944438.9,2003480.59,1831933.95,1894960.68,1852432.58,1852443.78,1807545.43,1864238.64,1887465.04,1950994.04,2124316.34,1895583.12,1986380.4,1958823.56,1860923.55,1866369.93,1935593.87,1997816.98,2086433.49,2009163.08,2048035.74,2021699.38,1956813.31,1987089.36,1880785.69,2076231.8,1970341.38,2090340.98,2035244.54,1953628.82,1872921.31,1923223.82,1847430.96,1835662.69,2067232.56,1929659.07,1973544.27,1948733.81,2036317.54,2111592.09,2016323.51,2864170.61,2051315.66,2462779.06,2760346.71,3556766.03,1969056.91,1865752.78,1794962.64,1811606.21,1733983.09,1927780.74,2069284.57,2214477.06,1929768.03,1969742.76,1986445.65,2025582.62,1904421.74,1948982.7,2271614.76,2057637.86,1955689.12,1970121.65,1995994.51,2080764.17,2131900.55,2043349.41,2035431.39,2182437.9,2152229.11,2094373.0,2037663.71,2184980.35,2002750.99,2053089.32,1914430.53,2044148.23,2041019.92,2095769.18,2059458.25,2073855.42,2165796.31,1919917.03,1938379.66,1927664.11,2041918.74,1999079.44,2018010.15,2035189.66,2623469.95,1704218.84,2204556.7,2095591.63,2237544.75,2156035.06,2066219.3,2050396.27,2495630.51,2258781.28,2121788.61,2138144.91,2082355.12,2370116.52,2129771.13,2108187.1,2227152.16,2363601.47,2249570.04,2248645.59,2246179.91,2334788.42,2236209.13,2130287.27,2044155.39,2054843.28,2219813.5,2052984.81,2057138.31,2020332.07,2182563.66,2191767.76,1953539.85,1879891.13,1855703.66,2091663.2,1932162.63,1936621.09,1984768.34,2078417.47,2092189.06,1968462.58,2921709.71,2258489.63,2600519.26,2762861.41,3818686.45,1623716.46,1864746.1,1699095.9,1743188.87,1613718.38,1995891.87,1980405.03,2019031.67,1875708.88,2041215.61,1931104.67,1932491.42,1879451.23,1869110.55,2037798.88,1974960.86,2256461.39,1930617.64,2095599.93,2004330.3,1959967.8,2080694.24,2079899.47,2132446.0,2082083.34,2069523.52,2074668.19,2063401.06,1953544.76,1882070.88,1871021.01,2066020.69,1928773.82,1896873.99,2273470.62,1750891.47,2202742.9,1864637.89,1871555.64,1809989.29,2078796.76,1890870.75,2009004.59,2056846.12,2174056.71,2081534.65,1969360.72,2685351.81,2143080.57,2470581.29,2594363.09,3369068.99,1914148.89,1859144.96,1696248.27,1789113.32,1595362.27,1877410.36,2077256.24,2020550.99,1875040.16,1926004.99,2020839.31,1941040.5,1893447.71,1905033.01,2376022.26,1912909.69,1875686.44,1784029.95,1949354.29,1987531.05,1932233.17,2030869.61,2049485.49,2099615.88,1905733.68,1660228.88,1591835.02,1862128.95,1544422.35,1553250.16,1479514.66,1656886.46,1648570.03,1660433.3,1621841.33,1613342.19,1904512.34,1554794.22,1565352.46,1522512.2,1687592.16,1639585.61,1590274.72,1704357.62,652122.44,682447.1,660838.75,564883.2,605325.43,604173.59,593710.67,592111.49,718470.71,634605.77,641208.65,643097.6,570791.11,661348.88,594385.2,616598.1,744772.88,693192.5,619337.29,652329.53,672194.03,709337.11,691497.62,633203.69,598553.43,619224.06,639651.24,622437.08,637090.44,649791.15,638647.21,641965.2,583210.87,548542.47,566945.95,591603.79,577011.26,600395.73,598301.5,612987.64,619639.74,608200.81,1120018.92,754134.95,847294.04,983825.15,1368318.17,543754.17,509640.77,479424.2,487311.03,481119.6,556550.85,582864.35,649993.5,547564.09,573374.49,537035.28,551553.99,527389.28,542556.05,587370.81,607691.36,655318.26,560764.41,630522.67,630482.91,593941.9,636193.24,695396.19,642679.81,639928.85,656594.95,674669.16,635118.48,624114.56,607475.44,577511.02,607961.21,590836.37,599488.98,605413.17,649159.68,607593.51,545052.34,545570.86,521297.31,579068.88,537300.94,603318.89,589842.69,615121.78,618949.82,597856.51,1066478.1,699028.66,764565.55,870415.49,1182691.87,603460.79,516087.65,454183.42,492721.85,466045.63,523831.64,628218.22,598502.83,561137.06,541292.64,545120.67,570611.23,565481.88,557547.25,659950.36,558585.13,534780.57,527402.62,577868.38,579539.95,600050.98,693780.42,663971.26,611390.67,636737.65,687085.6,624099.48,678024.75,591335.5,592369.22,571190.83,590739.62,590453.63,579738.2,606210.77,610185.32,587259.82,527509.76,533161.64,553901.97,573498.64,551799.63,555652.77,558473.6,477409.3,472044.28,469868.7,443242.17,444181.85,445393.74,504307.35,483177.2,490503.69,424083.99,436312.41,370230.94,383550.93,403217.22,401770.9,435300.51,479430.0,516295.81,535587.31,540149.85,546554.96,610641.42,614253.33,586583.69,588344.18,562633.67,586936.45,543757.97,521516.96,581010.52,542087.89,537518.57,522049.52,511330.32,463977.54,442894.2,452169.28,541216.92,495022.51,446905.02,453632.76,458634.68,651837.77,512260.59,570103.64,648652.01,1004730.69,575317.38,573545.96,470365.59,462888.13,448391.99,479263.15,466806.89,491179.79,475201.64,484829.07,457504.35,497373.49,465279.68,459756.11,439276.5,427855.24,368600.0,378100.31,423805.22,410406.95,435397.19,444718.68,531080.31,600952.06,581546.23,569105.03,608737.56,634634.66,586841.77,581758.22,582381.95,592981.33,563884.47,554630.42,557312.01,580805.33,574622.56,539081.09,504856.97,450075.31,482926.93,498241.06,560104.16,505918.21,511059.95,513181.31,480353.64,712422.4,530492.84,574798.86,679481.9,950691.96,665861.06,564538.07,508520.09,474389.75,453979.19,475905.1,473766.97,494069.49,495720.3,464189.09,495951.66,520850.71,493503.89,485095.41,502662.07,450756.71,436221.26,398445.15,426959.62,479855.0,493506.47,518045.09,532311.93,603618.89,570045.79,581745.72,570162.28,641763.53,569005.06,565297.54,539337.87,584000.71,554036.84,521896.6,551152.15,551837.31,537138.58,526525.16,509942.56,469607.73,471281.68,491817.19,577198.97,475770.14,789036.02,841951.91,800714.0,749549.55,783300.05,763961.82,752034.52,793097.64,848521.17,770228.02,757738.76,977790.83,807798.73,843848.65,813756.09,826626.5,872817.62,876902.87,845252.21,877996.27,893995.44,958875.37,836915.92,876591.41,893504.87,833517.19,795301.17,759995.18,783929.7,802583.89,834373.73,1200888.28,871264.25,852876.29,829207.27,827738.06,838297.32,815093.76,861941.25,818434.49,855459.96,782252.57,1005448.76,926573.81,962475.55,1049372.38,1309226.79,635862.55,1083071.14,758510.36,755804.37,736335.69,816603.05,813211.46,860962.91,767256.53,816138.33,779602.36,778436.81,781267.76,795859.23,811855.72,825283.43,1060770.11,806979.15,882132.28,870625.49,844443.35,892056.64,895020.48,881190.46,894686.67,920719.98,940554.34,915064.22,902727.76,899044.34,861894.77,866184.92,800819.79,797523.04,837390.79,847380.07,1161900.18,1051116.95,895535.31,868191.05,918006.9,884042.63,877380.22,936508.43,927657.63,914759.2,877724.31,1225700.28,945267.68,976522.93,1067754.06,1289156.9,777207.3,1198104.22,873576.96,809272.65,769522.33,864852.85,880165.7,927084.65,843864.43,856178.47,860224.98,853136.46,851762.28,872469.03,986922.62,877055.32,1119979.98,925916.65,930121.14,944100.3,968816.33,984881.59,938914.28,987990.24,964169.67,981210.57,982322.24,1046782.52,960746.04,944698.7,907493.24,877813.33,849074.04,844928.17,924299.78,865924.2,1255633.29,1071040.22,938303.28,972716.24,952609.17,919878.34,957356.84,943465.29,1205307.5,1187880.7,1150663.42,1068157.45,1179738.5,1138800.32,1087507.47,1092704.09,1254107.84,1174447.55,1135577.62,1132433.55,1060446.16,1222255.47,1092616.49,1101621.36,1256282.79,1271311.76,1173521.82,1183225.92,1220983.17,1257928.35,1171391.41,1115514.61,1032908.23,1078557.62,1166117.85,1084722.78,1141860.67,1214302.76,1187359.77,1011201.12,997998.21,950862.92,948977.5,1107432.71,1029618.1,1052120.43,1038576.54,1089530.94,1081322.12,1045722.37,1653759.36,1211026.13,1416168.98,1588430.71,2027507.15,887907.01,933960.3,777175.28,891148.55,849540.85,1055841.24,1122053.58,1095058.57,1005983.31,1063310.62,1002714.25,945889.59,944523.3,938083.17,1018541.3,988157.72,1105860.06,974114.39,1065427.37,993172.98,994610.43,1065214.14,1178039.0,1044079.2,1045859.39,1056478.65,1087051.26,1048802.62,974916.13,991262.46,954148.64,1002806.39,928470.83,932679.79,1147906.46,540922.94,951549.61,845715.37,853073.17,847348.08,1019741.1,953533.95,1048212.62,1106642.63,1100625.06,1079931.63,1056992.18,1624170.99,1188047.61,1368471.23,1516924.23,1882393.4,1010562.49,977286.07,890130.25,937522.77,825584.22,1049772.04,1161615.51,1115985.81,1037861.11,1047178.91,1084894.47,1022018.43,1031139.3,1009121.2,1200815.3,998443.5,1025813.8,961186.23,1050027.89,1060433.1,1047444.59,1088446.58,1118313.7,1110479.94,1057425.83,1080357.89,1097006.3,1158247.31,1024784.92,1033543.56,924506.26,1052066.58,967304.07,1048134.24,1145840.91,1117097.23,1083521.24,960476.1,971386.65,1002856.2,1092204.79,1074079.0,1048706.75,1127516.25,1507637.17,1536549.95,1515976.11,1373270.06,1495844.57,1467889.2,1332940.35,1427023.45,1642970.27,1489613.32,1460354.67,1456793.33,1405065.57,1566219.77,1437319.45,1377716.17,1648882.62,1519013.49,1410683.94,1457314.39,1450407.32,1549018.68,1577541.24,1412157.02,1372043.71,1366395.96,1492060.89,1418027.08,1419383.19,1557888.16,1623519.64,1591453.39,1386789.31,1318343.58,1379456.3,1428960.72,1369317.63,1357154.71,1404576.48,1435379.25,1490235.86,1377593.1,1993367.83,1615987.96,1799070.98,1911967.44,2678206.42,1275146.94,1224175.99,1181204.53,1212967.84,1284185.49,1370562.11,1430851.11,1457270.16,1296658.47,1433569.44,1351450.43,1257972.37,1266564.94,1305950.22,1419911.91,1392093.04,1514288.82,1297237.7,1451953.95,1429143.06,1355234.3,1388553.11,1457345.75,1467473.63,1418973.62,1440785.7,1462731.93,1465489.75,1391580.41,1377119.45,1298775.8,1408968.55,1360969.45,1391792.69,1547729.24,1609951.02,1566712.79,1365633.53,1300375.76,1330757.22,1461718.87,1318905.53,1374863.1,1396612.36,1480289.64,1502078.93,1411835.57,1974646.78,1484708.38,1713769.06,1852179.15,2480159.47,1405168.06,1266570.4,1182198.7,1237104.73,1279623.26,1345311.65,1499496.67,1424720.27,1352470.09,1308977.05,1358816.46,1312849.1,1342254.55,1327139.35,1631737.68,1365098.46,1255087.26,1285897.24,1405007.44,1442873.22,1366937.1,1485540.28,1450733.29,1390122.11,1440263.15,1468350.36,1379652.65,1557120.44,1321741.35,1317672.92,1248915.43,1342123.78,1408907.89,1375101.26,1544653.37,1542719.87,1497073.82,1370653.41,1338572.29,1338299.02,1408016.1,1352809.5,1321102.35,1322117.96,2401395.47,2109107.9,2161549.76,1898193.95,2119213.72,2010974.84,1951848.43,1894742.95,2405395.22,2007796.26,1985784.59,1878862.42,1919053.21,2137202.38,2033211.62,1893736.9,2065984.95,2203619.35,2100489.79,2091903.63,1973135.87,2143676.77,2107285.85,2031852.16,1900535.9,1955896.59,1910177.38,2071022.45,1975374.56,1946369.57,2121561.41,2014954.79,1948359.78,1789687.65,1933719.21,2060389.27,1950676.39,1893955.27,1891816.0,2184316.64,2187765.28,2105058.91,2811634.04,2416051.17,2752122.08,2819193.17,3766687.43,1799737.79,1843030.95,1884345.01,1781805.66,1761506.68,2351143.07,2211388.14,2258616.24,1938608.52,2143424.61,1990932.77,1931668.64,1824711.21,1927993.09,2027056.39,2057406.33,2313861.81,1881788.19,2090838.44,2036748.53,1953416.06,1944433.17,2182246.69,2135062.04,2065191.27,1950826.32,2053165.41,2123787.79,2039875.75,1950904.84,1858440.92,2189353.63,2052246.4,1990017.93,1933577.2,2141765.98,2050542.56,1979009.46,1888119.7,1945808.26,2135982.79,2010107.68,2104241.9,2065421.52,2284106.6,2269975.85,2169933.82,2906233.25,2298776.83,2546123.78,2762816.65,3555371.03,2043245.0,1964701.94,1911510.64,1892775.94,1761016.51,2203523.2,2462978.28,2309025.16,2045837.55,2148822.76,2139265.4,2064991.71,1992436.96,2074721.74,2565259.92,2045396.06,1884427.84,1886503.93,2163510.89,2168097.11,2039222.26,2114989.0,2143126.59,2231962.13,2165160.29,2060588.69,2055952.61,2358055.3,2134680.12,1970170.29,1911559.1,2094515.71,2144245.39,2045061.22,2005341.43,2062481.56,2080529.06,2047949.98,2028587.24,2008350.58,2246411.89,2162951.36,1999363.49,2031650.55,798593.88,809321.44,867283.25,749597.24,747444.32,712312.89,727070.0,686497.53,753664.12,751181.4,716026.51,718780.59,680532.69,744969.42,723559.88,753361.72,755214.26,806012.48,784305.55,785104.29,769848.75,711470.8,714677.47,755098.41,765823.48,715876.27,739279.19,793589.18,848873.28,855882.57,727772.8,674055.81,684340.86,671688.06,677158.39,680579.49,693412.05,710668.45,731756.65,719888.76,735796.38,756288.89,1245628.61,829210.73,943891.64,1147556.83,1587257.78,672903.23,629152.06,650789.13,663941.73,649878.29,596218.24,771908.51,884701.92,768313.85,796277.72,763479.9,793569.0,753711.32,732056.37,744782.89,768390.05,801302.01,783250.75,718898.33,754236.7,744836.56,744389.81,773878.58,794397.89,823220.43,771298.98,784639.12,734099.4,728311.15,784490.67,751167.12,783614.89,776933.37,855546.5,821127.53,705557.8,653989.65,653525.84,681913.29,651970.48,663452.46,671379.44,729036.06,738812.0,767358.37,757369.87,737014.09,1219263.4,793184.25,897747.13,1027584.51,1384552.17,804362.36,640181.86,631181.25,651178.2,611258.71,680725.43,770652.79,834663.52,747099.07,764385.4,755084.4,767338.32,729759.97,724798.76,761956.58,769319.04,734858.91,674829.58,697645.32,649945.54,700554.16,722891.24,695439.83,707895.72,727049.04,735870.0,716341.39,693013.59,668132.36,691200.33,677789.14,693785.85,700272.01,751963.81,802003.61,763867.59,642827.29,628494.63,667151.46,647097.65,651768.91,653043.44,641368.14,675202.87,1033017.37,1022571.25,988467.61,899761.48,1009201.24,967187.37,966145.09,1012075.12,1177340.99,1033171.07,1000968.67,969594.47,977683.06,1052973.28,973585.33,979977.89,1103740.4,1095539.13,1061196.47,1052895.25,1095020.33,1120259.71,1092654.26,988392.99,974123.2,970773.64,1010326.14,993097.43,1017045.44,1081420.96,1074535.88,924174.4,918285.97,902779.25,905987.17,1015051.62,954401.46,960998.52,1025766.27,1006888.16,1043698.64,985896.44,1564502.26,1230514.58,1367202.84,1527682.99,1962445.04,774262.28,873954.7,807535.52,855001.02,799369.15,946060.98,1009206.33,975964.86,911245.43,997353.15,944587.23,926427.12,933528.39,951588.37,969046.69,1008557.04,1152781.9,926133.8,1032076.06,1001558.74,970307.83,1021568.34,1125169.92,1060868.49,1042454.61,1012584.2,1077491.68,1017050.65,961953.57,964683.8,944958.69,983232.96,991779.2,973004.91,1181815.31,912762.76,1004434.54,937420.65,899834.75,953314.16,993436.67,944337.32,981567.22,1099351.68,1106575.59,1051740.29,1007579.44,1535857.49,1167621.14,1308967.44,1453153.33,1863195.68,982661.14,895358.2,855437.57,897027.44,786459.23,958487.75,1034448.07,1004749.41,912958.95,974866.65,991127.01,966780.01,992774.4,965769.93,1197489.66,939118.24,1000342.87,922539.94,1005083.31,997868.63,986612.02,1047297.38,1102857.37,1061134.37,1061219.19,1112449.3,1053881.78,1097786.14,971361.38,991969.37,925731.21,1007257.83,973812.79,981273.26,1060906.75,1022270.86,996628.8,918049.28,921612.53,976479.51,1009887.36,1004039.84,978027.95,1094422.69,1364721.58,1380892.08,1319588.04,1198709.65,1311175.93,1408082.96,1229008.32,1310701.8,1556627.62,1264434.7,1288823.72,1315023.08,1259414.52,1365552.28,1303055.09,1327424.28,1571158.56,1514435.51,1439432.06,1507708.93,1415204.88,1549113.18,1417535.78,1413124.11,1333634.45,1319773.55,1417013.07,1346345.97,1439901.05,1584623.36,1405119.23,1272842.85,1159132.58,1099055.65,1129909.44,1179851.68,1119809.71,1147503.92,1112871.23,1203119.96,1387953.75,1314994.32,2072685.05,1617025.41,1872365.99,2238573.48,2734277.1,1169773.85,1122034.48,1016756.1,1110706.06,1083657.61,1159438.53,1249786.4,1369971.57,1206917.2,1301185.28,1042043.55,1203682.62,1148624.83,1182694.95,1248901.98,1263680.51,1447301.24,1173307.4,1359921.13,1254914.87,1337617.55,1361945.18,1562161.97,1447028.06,1470520.83,1434036.18,1492507.44,1379488.05,1360520.56,1362144.0,1319767.55,1416344.68,1380952.05,1453416.53,1637266.29,1464295.69,1423289.9,1253329.17,1289082.81,1275597.85,1463501.99,1257778.34,1441032.59,1407191.96,1428436.33,1436940.78,1345631.96,2057059.53,1552886.59,1841173.6,2173621.2,2587953.32,1213486.95,1150662.55,1031451.35,1146992.13,1037476.38,1261872.67,1358444.07,1365546.69,1272948.27,1322852.2,1292724.9,1258364.31,1288154.1,1261964.96,1604605.69,1231752.54,1287899.41,1277758.76,1317379.68,1321914.34,1332952.47,1552934.64,1476144.34,1568048.54,1543667.68,1522042.57,1451782.16,1545370.16,1384921.63,1381339.23,1322932.36,1416926.31,1436311.76,1510131.45,1702220.96,1577468.78,1427162.26,1279041.64,1338627.55,1319035.06,1464616.59,1412925.25,1363155.77,1347454.59,1388725.63,1414107.1,1385362.49,1158722.74,1412387.37,1309340.16,1222511.29,1258311.56,1478321.26,1379579.63,1268266.72,1264117.01,1259877.19,1409705.03,1346783.35,1283482.85,1473868.15,1566668.91,1375458.21,1354168.18,1399073.75,1563387.94,1665502.55,1418697.05,1333740.35,1387517.63,1442819.28,1384243.75,1375307.54,1350059.35,1366381.6,1474498.59,1273295.46,1169413.27,1215273.2,1361944.94,1300806.74,1234875.33,1244925.94,1285358.01,1312877.01,1277150.6,1779276.51,1413302.7,1593012.75,1663525.77,2386015.75,1208600.05,1178641.71,1167740.2,1107170.39,1126921.34,1225182.04,1341240.62,1360150.12,1235121.33,1346994.53,1253218.7,1168397.26,1158693.12,1163803.3,1273670.32,1245576.65,1372484.9,1197761.17,1339630.35,1311950.16,1234281.7,1311153.72,1554837.62,1373841.91,1320359.23,1304850.67,1445596.61,1567340.07,1356938.95,1357672.24,1310973.06,1417616.81,1402818.01,1352039.88,1402372.09,1196105.44,1527455.19,1227535.97,1232376.49,1246242.61,1405914.39,1333315.03,1283563.43,1307142.75,1385860.38,1425078.59,1297535.69,1761235.67,1335647.1,1529615.54,1624994.43,2168344.23,1363973.16,1251581.89,1155594.2,1151993.85,1057290.41,1249696.97,1403460.87,1326370.08,1303233.15,1213994.39,1325835.7,1239299.12,1221723.94,1230106.13,1524734.29,1285783.87,1208654.4,1194334.65,1306551.71,1355391.79,1298809.8,1407897.57,1467722.19,1406313.13,1364445.98,1434709.63,1428869.9,1645097.75,1405475.78,1394299.0,1307339.14,1440374.13,1497054.81,1397970.54,1303726.54,1344558.92,1477134.75,1242909.53,1261158.47,1259278.36,1416720.54,1416301.17,1255414.84,1307182.29,677231.63,583364.02,676260.67,628516.57,665750.06,660619.99,659795.84,696687.6,822486.37,712647.97,715311.6,694531.72,706924.02,724468.97,698073.95,704113.22,792442.54,764155.44,737163.2,780444.94,737569.14,759407.87,719591.13,726997.84,665290.93,682124.34,699464.43,686072.39,724499.81,711461.95,685700.08,655811.95,628989.88,607819.33,658640.14,674283.86,616094.72,661644.19,674458.03,696314.53,713250.08,718056.73,1115240.61,885572.96,964729.18,1047707.59,1295391.19,623092.54,558794.63,572360.83,568093.57,600448.69,639830.45,615666.78,634637.03,570816.34,640912.18,599828.39,603393.64,616324.24,618377.79,648606.13,674562.45,756588.42,649245.0,659446.55,684783.15,677971.33,718373.94,737551.74,740259.63,717373.43,699270.1,706206.86,698529.64,680510.23,670854.96,668390.82,679706.01,667130.48,688958.75,726422.55,699779.0,673248.48,628720.46,620885.93,639160.24,671522.87,646915.47,690675.5,724443.97,718393.61,719235.07,728525.6,1116211.39,878314.57,916446.02,997502.47,1290532.97,683665.37,636419.12,614764.31,594744.89,589554.29,642776.4,658984.38,654088.02,613501.05,643155.89,643711.53,638204.27,672831.78,684348.92,791356.9,658691.56,661566.48,655157.32,696421.72,739866.16,717207.19,783371.02,694765.95,730254.19,753860.89,721601.9,718890.81,753385.55,714093.95,685676.58,659109.53,709724.6,710496.97,728467.72,756527.64,714828.73,671482.9,657241.63,664745.2,683300.84,699536.73,697317.41,685531.85,688940.94,1034119.21,1015684.09,999348.55,855385.01,1005669.58,963382.09,903366.55,893613.0,1029849.2,1022293.81,905548.38,881930.87,904503.85,1074479.73,972663.59,986765.01,1069851.59,1003202.66,1073862.59,1001286.67,976242.09,1078455.48,1122356.53,1028151.72,971615.62,1005324.28,1125329.77,1011938.29,1007385.36,977322.52,1037549.71,1042226.3,923473.7,868636.3,923221.52,1001069.52,937956.89,916522.66,895069.88,970224.51,971193.01,901972.7,1286833.62,1016143.64,1149612.04,1196813.33,1573982.47,877268.29,938149.21,812323.29,809833.21,817485.14,911807.02,1010711.08,981978.02,910298.44,945643.17,946614.55,887426.12,866566.54,849231.61,985229.81,863266.12,921700.61,873450.29,1024778.23,941008.85,938334.62,996723.58,1054454.4,1094058.68,981646.46,997474.93,1070119.09,1133807.03,1021534.7,1017867.8,1005360.5,1107552.43,1087644.5,1021766.75,1064617.62,1040143.14,1069710.97,951569.84,923644.6,959339.51,1130022.99,987886.08,974907.28,972256.98,988950.75,1077640.13,946091.79,1282320.05,1012498.49,1148987.46,1204807.83,1515175.01,972834.42,971557.62,836305.65,838751.5,820059.89,939158.25,1081005.64,965788.76,917924.47,955641.74,1028569.01,919503.4,874790.68,922018.43,1116829.23,889670.29,923600.02,911969.0,946573.29,1062548.73,978082.84,1067310.74,1015853.03,1106176.83,1029248.22,1056282.91,1051190.44,1180470.8,1063149.78,1049625.9,1031745.14,1090915.09,1121476.51,1068292.56,1022704.2,1053495.51,1081874.03,986131.94,961084.08,964726.37,1095504.26,1044639.69,975578.02,958619.8,1874289.79,1745362.72,1945070.33,1390934.27,1313729.72,1925113.12,1700627.97,1836714.84,2053952.97,1955814.13,1857500.96,1850205.47,1805885.04,1939458.84,1842465.78,1836595.58,1962468.67,2073102.59,1873812.93,1887182.27,1962625.01,2024554.1,2119163.01,1880691.64,1808250.71,1816489.53,1908036.68,1864436.12,1936878.46,1870684.21,1908110.9,1913494.81,1629978.46,1597002.71,1543532.83,1707662.87,1728388.2,1693935.29,1688955.49,1686010.02,1828010.25,1704785.74,2627910.75,1884343.67,2139733.68,2350098.36,3078162.08,1440963.0,1568159.48,1532308.62,1517029.9,1421111.55,1628100.79,1636224.77,1709365.19,1688935.71,1656130.67,1613259.77,1624539.21,1554651.08,1628868.28,1689844.18,1727175.61,1921655.48,1642074.64,1757041.96,1763545.32,1725268.56,1820723.17,2053708.01,1817914.71,1814740.09,1811455.15,1949983.93,2000055.27,1762155.79,1754879.45,1744879.06,1747289.53,1758437.96,1781905.24,2034400.78,1511717.53,1911470.84,1613773.9,1606208.68,1599626.26,1672339.27,1682652.51,1689591.44,1710372.4,1621109.3,1800728.07,1723739.44,2504400.71,1806924.74,2014665.98,2205919.86,2739019.75,1650604.6,1535287.4,1492399.13,1542131.05,1263534.86,1564246.02,1651605.35,1606221.56,1648602.39,1509323.09,1607343.41,1635984.07,1620839.34,1615494.14,1899013.34,1650405.21,1639999.47,1565498.84,1669388.45,1674306.31,1707158.82,1818906.73,1900638.6,1764756.31,1773500.56,1837884.79,1842555.32,2062224.92,1755889.53,1730913.66,1625883.71,1705810.84,1720537.26,1735339.59,1780443.36,1731935.43,1840955.23,1519604.5,1557485.75,1540687.63,1591816.88,1660081.29,1620374.24,1703047.74,1672352.29,1558968.49,1491300.42,1542173.33,1608435.45,1326877.11,1279819.43,1245268.77,1441559.4,1382359.21,1268240.66,1244177.21,1186971.02,1532893.22,1245898.73,1217923.71,1176588.25,1543678.02,1348995.17,1267619.06,1231025.07,1399960.15,1340293.87,1225336.41,1205884.98,1150204.71,1523101.38,1218688.09,1195897.6,1191585.92,1523410.71,1246062.17,1159812.35,1111797.21,1203080.41,1334571.87,1158062.99,1120619.32,1231688.48,1501663.26,1266460.45,1179315.72,1937033.5,1447916.29,1466164.49,1510443.62,2026026.39,1090558.57,1402902.47,1098286.61,1079669.11,1127859.69,1564897.32,1397301.38,1514828.82,1311796.91,1723736.91,1380836.35,1286413.71,1201059.72,1336838.41,1414713.5,1240126.07,1297452.0,1222367.9,1515890.38,1253316.3,1151282.31,1160043.98,1403779.25,1339972.83,1268503.49,1208809.34,1319054.57,1459655.85,1197373.13,1165870.54,1114530.29,1523870.89,1218764.94,1200019.74,1166479.51,1468871.49,1310087.0,1159212.1,1109105.92,1120731.76,1557314.58,1220984.94,1203172.05,1242746.06,1576654.67,1402654.95,1255081.22,1929738.27,1368130.35,1467024.3,1429954.66,1796203.51,1270036.53,1466046.07,1161190.29,1129540.48,1132948.48,1531599.44,1572966.15,1501503.68,1323487.91,1451740.57,1680764.06,1337875.49,1216059.41,1209524.11,1559592.79,1290684.95,1180797.2,1170456.16,1450628.85,1264575.18,1213310.45,1151214.41,1245480.95,1440687.69,1229760.97,1180671.55,1129031.98,1500863.54,1179915.04,1149427.48,1135035.09,1376520.1,1269113.41,1184198.41,1199309.59,1227118.75,1469693.99,1124660.77,1135340.19,1129508.61,1462941.03,1205536.71,1143724.48,1213860.61,538634.46,529672.95,542399.07,488417.61,535087.91,519042.49,496851.6,552985.34,599629.25,569937.23,509100.84,505329.66,501013.47,568497.35,518940.88,502021.82,577627.66,588017.66,540716.58,558731.74,585548.79,581473.55,563449.43,512292.01,506502.09,509872.77,519787.93,495269.0,531640.19,545766.13,579272.38,491290.37,463752.89,465338.41,474698.01,530059.06,483011.69,505221.17,527058.59,521002.97,524450.7,508174.55,975268.91,642678.53,713834.74,850538.25,1130926.79,465992.02,455952.18,426905.26,445134.15,410426.97,504126.89,550387.78,542529.21,483660.15,536031.67,493430.45,493653.43,478773.05,475615.26,505304.33,518245.97,589252.69,493078.64,534372.53,549551.02,492932.51,550735.64,598251.57,558431.44,536914.17,545368.17,567114.6,547586.07,505246.15,507335.75,474653.06,503486.37,471311.5,498056.0,608294.98,497085.91,505406.72,474129.35,475696.37,446516.26,514993.0,475776.45,505068.22,515119.64,620735.72,531600.62,504601.29,913165.19,579874.22,633240.53,736805.66,1016637.39,551743.05,469773.85,444756.37,446863.31,395987.24,493159.35,545840.05,559606.91,488782.63,500801.72,504750.35,489293.72,517408.48,504566.28,633826.55,520493.83,525200.59,497250.22,504963.84,529707.87,543706.04,549665.67,576252.35,554093.15,552338.76,581854.5,555954.13,578832.41,514709.76,506705.36,475158.24,504754.74,518628.42,416881.66,615026.15,545844.91,540811.85,475127.18,489079.23,489674.23,520632.8,513737.0,516909.24,534970.68,1469252.05,1543947.23,1473386.75,1344354.41,1384870.51,1366193.35,1332261.01,1229635.7,1357600.68,1395710.09,1367448.28,1280465.8,1243200.24,1381796.8,1287288.59,1337405.6,1309437.17,1427624.5,1377092.33,1368090.08,1303523.73,1311704.92,1315118.4,1335433.72,1276031.84,1231993.14,1352401.08,1327719.34,1376571.21,1326621.98,1302047.48,1308179.02,1294105.01,1230250.25,1213981.64,1300131.68,1265852.43,1262289.29,1257921.28,1324455.72,1352780.76,1359158.57,1858856.06,1338716.37,1475685.1,1714667.0,2068942.97,1198071.6,1311986.87,1350730.31,1344167.13,1254955.68,1443206.46,1539230.32,1539063.91,1365678.22,1412721.18,1405572.93,1425559.02,1357036.1,1344890.73,1416790.17,1408464.08,1461393.91,1331137.96,1388755.61,1408118.22,1387365.19,1342273.64,1430348.1,1425299.37,1491039.14,1375962.46,1371889.27,1423144.47,1415473.91,1401944.8,1308122.15,1428993.33,1443311.49,1487542.53,1417267.07,1385769.03,1376670.27,1363460.86,1347607.74,1285534.74,1427383.24,1378340.18,1409310.4,1346862.72,1426405.46,1444783.64,1445174.79,1934099.65,1388809.43,1556798.94,1611196.61,2026176.14,1355405.95,1401232.52,1377485.12,1372504.9,1259941.48,1391479.91,1527688.58,1570813.52,1392543.37,1427881.22,1439034.86,1481728.13,1365824.97,1318854.22,1496169.81,1407842.91,1407036.59,1311352.25,1391257.28,1392938.06,1441473.82,1397094.26,1404516.29,1443285.79,1431003.43,1394065.76,1349202.25,1458059.42,1374301.34,1392395.2,1303732.36,1390174.63,1386472.59,1410181.7,1379783.21,1373651.49,1358111.62,1327705.44,1373064.87,1279080.58,1363365.05,1401113.42,1378730.45,1340232.55,1087616.19,1123566.12,1082559.06,1053247.1,1066566.74,1093319.37,1059781.78,1076021.58,1131732.94,1095889.22,1082763.27,1072474.8,1066792.63,1133657.58,1079314.52,1143819.35,1205662.85,1149234.96,1192074.09,1150191.72,1124763.74,1187988.64,1077253.67,1120172.24,1109574.11,1065350.56,1144552.09,1157975.68,1189887.86,1140501.03,1095932.51,1028635.39,1043962.36,1067432.1,1061089.56,1085483.44,1096692.88,1102185.0,1115138.51,1063056.21,1141019.11,1150729.89,1634635.86,1200892.56,1377322.73,1557776.1,1949183.14,955463.84,1046416.17,1028206.51,1078348.91,1006814.85,1070457.8,1124357.2,1183528.58,1054754.67,1106847.62,1101458.21,1100765.5,1068719.22,1051121.02,1102975.59,1120508.14,1210602.91,1107494.55,1181793.55,1138162.76,1145084.76,1175447.49,1167757.0,1239741.34,1192031.38,1163869.52,1199845.29,1110244.52,1144254.26,1185674.48,1169988.62,1201694.14,1206795.74,1221318.17,1183740.91,1152117.5,1128237.3,1142499.25,1116140.29,1088943.98,1149448.02,1175420.26,1151258.74,1185391.96,1204628.28,1182733.0,1181651.55,1684468.66,1179773.88,1415746.91,1556017.91,1959526.96,1102367.65,1099937.25,1071598.36,1080012.04,1051864.6,1156826.31,1129422.86,1243812.59,1091822.72,1153332.89,1124537.97,1138101.18,1146632.46,1108686.87,1270577.01,1171834.47,1121405.91,1126962.44,1187384.53,1187051.07,1177539.71,1232784.22,1157557.79,1246322.44,1234759.54,1196880.11,1178211.81,1214183.97,1141184.66,1167829.33,1144901.52,1183571.35,1227469.2,1261306.37,1272809.11,1183979.27,1126685.95,1156377.47,1159119.6,1157111.15,1202775.24,1176681.31,1199292.06,1219979.29,956228.96,994610.99,983963.07,905756.13,918295.79,921247.88,892070.82,880742.35,979428.66,950684.2,923344.54,910240.68,859922.19,953495.48,933924.44,913616.32,942868.38,966187.51,954681.56,941612.04,895800.07,919229.36,911210.81,930269.79,902050.95,875976.83,987435.35,951208.65,985152.94,855421.39,964356.74,932240.96,885445.47,867539.07,865709.11,931710.67,888703.62,936293.6,926294.02,972292.31,979730.78,955766.33,1309476.68,1001512.21,1086661.02,1227148.13,1620748.25,902109.69,900646.94,898610.33,891025.39,836717.75,971932.87,1015654.6,1062629.3,953331.45,963910.81,943951.67,1014218.8,922898.38,884233.67,975479.83,941829.0,1051518.45,895973.02,965853.58,966232.69,945018.83,941311.83,947229.24,943912.77,968258.09,923795.04,911106.22,926934.57,903882.96,913236.62,851461.9,942236.45,956251.18,960418.54,871404.6,926455.64,930506.14,927249.61,902852.73,871847.85,954069.45,911788.79,953693.23,958063.87,992621.93,991570.02,947552.44,1345595.82,988742.08,1084243.91,1151052.86,1593655.96,965512.36,953844.85,913755.12,910899.05,872450.37,939367.14,1047658.09,1123446.51,950154.24,990263.7,976393.43,999298.43,945143.33,938861.77,1091020.37,987353.65,977628.78,940299.87,991104.4,949625.52,998672.85,1015737.61,977062.44,999511.29,982345.51,1000285.1,942970.63,1007867.68,954677.75,950929.59,917883.79,973250.41,1004523.59,1013820.86,926250.21,933487.71,976415.56,955211.7,943047.78,928629.31,968896.68,948613.39,963516.28,956987.81,1230613.5,1168815.31,1270658.64,1020651.74,1162610.27,1150344.39,1117536.09,1078900.44,1189556.47,1198014.97,1084487.55,1110827.48,1096930.65,1182099.88,1104277.57,1078182.18,1223777.48,1282378.71,1160412.71,1198025.76,1230245.74,1245827.08,1268766.76,1124414.87,1121756.43,1139131.78,1180183.39,1090587.5,1033719.5,917693.06,948660.79,961685.98,831443.61,758069.78,771065.21,874615.32,798376.99,827705.82,857797.33,843755.12,870914.69,846850.35,1781866.98,982598.88,1108580.19,1314987.4,1779236.54,576332.05,649289.75,687670.78,659902.07,633289.78,747577.05,859258.17,865305.88,841129.26,850448.54,830601.39,800662.82,762184.1,762620.94,813352.41,795157.2,841778.34,811824.06,835181.18,826155.95,776838.56,850708.6,955466.84,855130.21,828594.86,849397.57,874453.88,827717.85,813845.5,820188.42,770820.27,826820.71,819911.89,820288.35,897037.25,813486.55,922440.64,738792.11,705802.45,749676.95,791637.53,772859.25,811328.4,808821.5,653468.75,880576.33,820964.1,1733822.4,903606.03,948964.99,1115255.65,1550214.02,904650.55,671708.09,625135.11,669850.04,588722.99,746901.03,849779.14,824568.39,805028.74,766571.1,796351.35,793045.82,760671.1,744525.69,860293.46,788633.42,794660.24,721212.45,772036.6,802383.63,819196.68,822167.17,932195.52,873415.01,848289.41,911696.0,892133.41,985479.64,825763.48,841224.74,808030.15,866216.36,888368.8,887979.47,895274.72,931278.97,984833.35,821568.64,772302.94,814099.86,866064.4,873643.14,829284.67,865137.6,1230596.8,1266229.07,1230591.97,1168582.02,1266254.21,1244391.83,1301590.13,1235094.66,1463942.62,1327035.27,1242874.98,1280231.85,1263836.59,1355704.21,1226997.7,1350673.98,1365541.59,1512207.95,1371405.33,1368312.45,1280414.8,1352547.7,1330473.47,1339811.68,1314651.83,1308222.24,1409989.67,1371465.66,1471816.52,1417515.93,1345167.61,1279666.47,1252915.43,1199449.54,1219583.91,1286598.59,1238742.0,1261109.01,1294769.08,1293707.19,1291398.71,1370659.54,2149355.2,1431910.98,1630564.48,1842172.46,2495489.25,1230012.16,1224475.12,1193199.39,1243370.74,1158698.44,1343773.94,1227893.89,1335233.74,1240921.19,1316385.43,1283716.81,1348410.05,1284334.79,1316849.36,1350646.16,1348031.55,1563140.85,1379651.87,1370920.87,1325022.77,1373907.21,1406124.14,1541745.59,1442092.08,1451392.67,1363167.95,1429829.36,1414564.53,1380257.12,1416005.59,1426418.53,1518790.89,1514055.97,1629066.9,1573898.63,1465089.85,1429345.86,1372500.63,1338657.95,1311775.83,1443884.39,1384721.84,1465283.29,1472663.1,1553629.59,1456957.38,1510397.27,2338832.4,1632894.58,1781528.77,1991824.05,2554482.84,1537139.56,1478537.93,1369125.37,1394841.03,1320301.61,1396150.15,1442988.44,1511041.69,1412065.04,1453047.02,1470764.35,1522421.07,1469593.37,1499727.02,1764847.94,1580732.73,1433391.04,1456997.2,1512227.34,1470792.41,1522978.54,1596036.66,1640476.77,1623442.24,1587499.82,1532316.79,1492388.98,1659221.99,1471261.76,1582168.27,1487797.54,1608277.74,1641867.92,1720221.91,1724669.75,1710923.94,1609811.75,1447614.08,1555672.51,1495607.07,1574408.67,1494417.07,1577486.33,1569502.0,1001943.8,955338.29,916289.2,863917.41,990152.28,899352.4,894865.3,873354.58,1041202.13,919839.19,882636.96,844958.49,816838.31,1009797.06,907262.47,885613.91,1008483.07,1052429.03,1007574.67,973105.3,940405.03,1087578.78,1058250.91,959229.09,922341.82,953393.02,1057295.87,924011.76,932397.0,922328.02,976453.34,967310.82,855046.95,844373.31,891152.33,972405.38,917883.17,882180.91,875038.84,968270.66,935481.32,852452.93,1166142.85,1000582.06,1111215.72,1179036.3,1648829.18,811318.3,894280.19,771315.62,764014.75,775910.43,904261.65,931939.52,968694.45,888869.27,977070.62,860255.58,871024.26,834621.39,841889.08,947753.32,874446.32,965056.4,847246.5,1016752.55,903864.02,907110.83,972373.81,1075687.74,984336.04,971422.67,977103.64,1048866.3,1107366.06,953252.14,980642.1,929096.9,1063818.2,955506.95,943237.12,969611.3,957298.26,1021391.99,890661.79,876583.98,912857.1,1070389.98,936751.68,942319.65,941675.95,1011321.18,1037687.07,905399.99,1230011.95,1059676.62,1158708.98,1198670.19,1601585.7,908853.15,954576.86,780607.52,811365.42,770157.29,979552.34,999785.48,975500.87,919301.81,927732.02,954233.87,891154.18,844490.86,871945.64,1132064.23,857811.17,896979.93,875372.91,993311.59,967729.35,896295.41,991054.49,1037464.27,1079386.88,977950.28,1033552.18,988764.84,1182901.56,979848.71,968502.38,954396.85,1068346.76,1007906.43,969387.48,945318.47,987264.67,1088248.4,901709.82,899768.4,919595.44,1069112.0,982523.26,918170.5,921264.52,1086533.18,1075656.34,1052034.74,991941.73,1063557.49,1023997.71,1006597.69,1015196.46,1168826.39,1082158.21,1043388.79,1067340.74,1063960.11,1175738.22,1116439.02,1163234.33,1246654.24,1305068.1,1217199.39,1202963.06,1174209.52,1273279.79,1176079.59,1179788.38,1192213.87,1211136.63,1338132.72,1285976.53,1353838.39,1173131.63,1223355.5,1172672.27,1111170.91,1110941.78,1109216.35,1162042.24,1133913.33,1156003.7,1144854.56,1163878.49,1175326.23,1172155.28,1866681.57,1220115.75,1434908.13,1627904.68,2225016.73,1001790.16,1153596.53,1052609.16,1088025.8,1026439.93,1179420.5,1150003.36,1203399.64,1099714.93,1229257.7,1159089.6,1115504.26,1140578.16,1179125.48,1206252.12,1192982.07,1304481.75,1178841.05,1244956.91,1270025.74,1244542.33,1278304.33,1297584.95,1311690.11,1289151.84,1244381.98,1333347.78,1338862.58,1245772.7,1292830.93,1248330.1,1402233.69,1356689.88,1412959.97,1328740.71,1283849.38,1280958.97,1197019.39,1173059.79,1160619.61,1277882.77,1247130.22,1214944.29,1274463.02,1315684.86,1302499.23,1230118.02,1906713.35,1292436.23,1548661.45,1682368.32,2263722.68,1264014.16,1208191.61,1134767.28,1116295.24,1079398.81,1208825.6,1238844.56,1330451.46,1224915.66,1239813.26,1243814.77,1201511.62,1215354.38,1239423.19,1460234.31,1323004.73,1220815.33,1248950.65,1359770.73,1353285.1,1331514.44,1424500.47,1374891.36,1436383.84,1384584.59,1386407.17,1355600.01,1456300.89,1332594.07,1347175.93,1344723.97,1439607.35,1504545.94,1560590.05,1464462.85,1360517.52,1392143.82,1306644.25,1276609.36,1307928.01,1400160.95,1409544.97,1326197.24,1316542.59,890689.51,656988.64,841264.04,741891.65,777951.22,765687.42,773819.49,782563.38,877235.96,833782.7,782221.96,749779.1,737265.57,812190.76,758182.2,747888.25,801098.43,837548.62,794698.77,815130.5,792299.15,800147.84,787062.0,723708.99,714601.11,716859.27,746517.32,722262.21,708568.29,721744.33,790144.7,721460.22,716987.58,678228.58,690007.76,745782.1,715263.3,730899.37,732859.76,764014.06,765648.93,723987.85,1182500.16,879244.9,1002364.34,1123282.85,1682862.03,679156.2,680254.35,654018.95,644285.33,617207.58,759442.33,766456.0,802253.41,733716.78,761880.36,714014.73,733564.77,719737.25,712425.76,750182.71,765270.02,813630.44,786561.61,810150.64,793889.1,727163.67,817653.25,877423.45,814395.17,811153.67,762861.78,791495.25,768718.11,748435.2,741625.25,704680.97,765996.92,724180.89,712362.72,833979.01,726482.39,746129.56,711367.56,714106.42,698986.34,753447.05,720946.99,771686.4,781694.57,833429.22,808624.82,773603.77,1170672.94,875699.81,957155.31,1078905.68,1521957.99,869403.63,714081.05,676615.53,700392.21,624081.64,757330.95,803657.12,858853.75,753060.78,782796.01,776968.87,788340.23,791835.37,777254.06,899479.43,781970.6,776661.74,711571.88,782300.68,770487.37,800842.28,817741.17,837144.63,795133.0,821498.18,822569.16,773367.71,843361.1,749817.08,737613.65,711671.58,725729.51,733037.32,722496.93,718232.26,734297.87,766512.66,702238.27,723086.2,713173.95,733455.07,734464.36,718125.53,760281.43],\"y0\":\" \",\"yaxis\":\"y\",\"type\":\"box\"}],                        {\"template\":{\"data\":{\"bar\":[{\"error_x\":{\"color\":\"#2a3f5f\"},\"error_y\":{\"color\":\"#2a3f5f\"},\"marker\":{\"line\":{\"color\":\"#E5ECF6\",\"width\":0.5},\"pattern\":{\"fillmode\":\"overlay\",\"size\":10,\"solidity\":0.2}},\"type\":\"bar\"}],\"barpolar\":[{\"marker\":{\"line\":{\"color\":\"#E5ECF6\",\"width\":0.5},\"pattern\":{\"fillmode\":\"overlay\",\"size\":10,\"solidity\":0.2}},\"type\":\"barpolar\"}],\"carpet\":[{\"aaxis\":{\"endlinecolor\":\"#2a3f5f\",\"gridcolor\":\"white\",\"linecolor\":\"white\",\"minorgridcolor\":\"white\",\"startlinecolor\":\"#2a3f5f\"},\"baxis\":{\"endlinecolor\":\"#2a3f5f\",\"gridcolor\":\"white\",\"linecolor\":\"white\",\"minorgridcolor\":\"white\",\"startlinecolor\":\"#2a3f5f\"},\"type\":\"carpet\"}],\"choropleth\":[{\"colorbar\":{\"outlinewidth\":0,\"ticks\":\"\"},\"type\":\"choropleth\"}],\"contour\":[{\"colorbar\":{\"outlinewidth\":0,\"ticks\":\"\"},\"colorscale\":[[0.0,\"#0d0887\"],[0.1111111111111111,\"#46039f\"],[0.2222222222222222,\"#7201a8\"],[0.3333333333333333,\"#9c179e\"],[0.4444444444444444,\"#bd3786\"],[0.5555555555555556,\"#d8576b\"],[0.6666666666666666,\"#ed7953\"],[0.7777777777777778,\"#fb9f3a\"],[0.8888888888888888,\"#fdca26\"],[1.0,\"#f0f921\"]],\"type\":\"contour\"}],\"contourcarpet\":[{\"colorbar\":{\"outlinewidth\":0,\"ticks\":\"\"},\"type\":\"contourcarpet\"}],\"heatmap\":[{\"colorbar\":{\"outlinewidth\":0,\"ticks\":\"\"},\"colorscale\":[[0.0,\"#0d0887\"],[0.1111111111111111,\"#46039f\"],[0.2222222222222222,\"#7201a8\"],[0.3333333333333333,\"#9c179e\"],[0.4444444444444444,\"#bd3786\"],[0.5555555555555556,\"#d8576b\"],[0.6666666666666666,\"#ed7953\"],[0.7777777777777778,\"#fb9f3a\"],[0.8888888888888888,\"#fdca26\"],[1.0,\"#f0f921\"]],\"type\":\"heatmap\"}],\"heatmapgl\":[{\"colorbar\":{\"outlinewidth\":0,\"ticks\":\"\"},\"colorscale\":[[0.0,\"#0d0887\"],[0.1111111111111111,\"#46039f\"],[0.2222222222222222,\"#7201a8\"],[0.3333333333333333,\"#9c179e\"],[0.4444444444444444,\"#bd3786\"],[0.5555555555555556,\"#d8576b\"],[0.6666666666666666,\"#ed7953\"],[0.7777777777777778,\"#fb9f3a\"],[0.8888888888888888,\"#fdca26\"],[1.0,\"#f0f921\"]],\"type\":\"heatmapgl\"}],\"histogram\":[{\"marker\":{\"pattern\":{\"fillmode\":\"overlay\",\"size\":10,\"solidity\":0.2}},\"type\":\"histogram\"}],\"histogram2d\":[{\"colorbar\":{\"outlinewidth\":0,\"ticks\":\"\"},\"colorscale\":[[0.0,\"#0d0887\"],[0.1111111111111111,\"#46039f\"],[0.2222222222222222,\"#7201a8\"],[0.3333333333333333,\"#9c179e\"],[0.4444444444444444,\"#bd3786\"],[0.5555555555555556,\"#d8576b\"],[0.6666666666666666,\"#ed7953\"],[0.7777777777777778,\"#fb9f3a\"],[0.8888888888888888,\"#fdca26\"],[1.0,\"#f0f921\"]],\"type\":\"histogram2d\"}],\"histogram2dcontour\":[{\"colorbar\":{\"outlinewidth\":0,\"ticks\":\"\"},\"colorscale\":[[0.0,\"#0d0887\"],[0.1111111111111111,\"#46039f\"],[0.2222222222222222,\"#7201a8\"],[0.3333333333333333,\"#9c179e\"],[0.4444444444444444,\"#bd3786\"],[0.5555555555555556,\"#d8576b\"],[0.6666666666666666,\"#ed7953\"],[0.7777777777777778,\"#fb9f3a\"],[0.8888888888888888,\"#fdca26\"],[1.0,\"#f0f921\"]],\"type\":\"histogram2dcontour\"}],\"mesh3d\":[{\"colorbar\":{\"outlinewidth\":0,\"ticks\":\"\"},\"type\":\"mesh3d\"}],\"parcoords\":[{\"line\":{\"colorbar\":{\"outlinewidth\":0,\"ticks\":\"\"}},\"type\":\"parcoords\"}],\"pie\":[{\"automargin\":true,\"type\":\"pie\"}],\"scatter\":[{\"marker\":{\"colorbar\":{\"outlinewidth\":0,\"ticks\":\"\"}},\"type\":\"scatter\"}],\"scatter3d\":[{\"line\":{\"colorbar\":{\"outlinewidth\":0,\"ticks\":\"\"}},\"marker\":{\"colorbar\":{\"outlinewidth\":0,\"ticks\":\"\"}},\"type\":\"scatter3d\"}],\"scattercarpet\":[{\"marker\":{\"colorbar\":{\"outlinewidth\":0,\"ticks\":\"\"}},\"type\":\"scattercarpet\"}],\"scattergeo\":[{\"marker\":{\"colorbar\":{\"outlinewidth\":0,\"ticks\":\"\"}},\"type\":\"scattergeo\"}],\"scattergl\":[{\"marker\":{\"colorbar\":{\"outlinewidth\":0,\"ticks\":\"\"}},\"type\":\"scattergl\"}],\"scattermapbox\":[{\"marker\":{\"colorbar\":{\"outlinewidth\":0,\"ticks\":\"\"}},\"type\":\"scattermapbox\"}],\"scatterpolar\":[{\"marker\":{\"colorbar\":{\"outlinewidth\":0,\"ticks\":\"\"}},\"type\":\"scatterpolar\"}],\"scatterpolargl\":[{\"marker\":{\"colorbar\":{\"outlinewidth\":0,\"ticks\":\"\"}},\"type\":\"scatterpolargl\"}],\"scatterternary\":[{\"marker\":{\"colorbar\":{\"outlinewidth\":0,\"ticks\":\"\"}},\"type\":\"scatterternary\"}],\"surface\":[{\"colorbar\":{\"outlinewidth\":0,\"ticks\":\"\"},\"colorscale\":[[0.0,\"#0d0887\"],[0.1111111111111111,\"#46039f\"],[0.2222222222222222,\"#7201a8\"],[0.3333333333333333,\"#9c179e\"],[0.4444444444444444,\"#bd3786\"],[0.5555555555555556,\"#d8576b\"],[0.6666666666666666,\"#ed7953\"],[0.7777777777777778,\"#fb9f3a\"],[0.8888888888888888,\"#fdca26\"],[1.0,\"#f0f921\"]],\"type\":\"surface\"}],\"table\":[{\"cells\":{\"fill\":{\"color\":\"#EBF0F8\"},\"line\":{\"color\":\"white\"}},\"header\":{\"fill\":{\"color\":\"#C8D4E3\"},\"line\":{\"color\":\"white\"}},\"type\":\"table\"}]},\"layout\":{\"annotationdefaults\":{\"arrowcolor\":\"#2a3f5f\",\"arrowhead\":0,\"arrowwidth\":1},\"autotypenumbers\":\"strict\",\"coloraxis\":{\"colorbar\":{\"outlinewidth\":0,\"ticks\":\"\"}},\"colorscale\":{\"diverging\":[[0,\"#8e0152\"],[0.1,\"#c51b7d\"],[0.2,\"#de77ae\"],[0.3,\"#f1b6da\"],[0.4,\"#fde0ef\"],[0.5,\"#f7f7f7\"],[0.6,\"#e6f5d0\"],[0.7,\"#b8e186\"],[0.8,\"#7fbc41\"],[0.9,\"#4d9221\"],[1,\"#276419\"]],\"sequential\":[[0.0,\"#0d0887\"],[0.1111111111111111,\"#46039f\"],[0.2222222222222222,\"#7201a8\"],[0.3333333333333333,\"#9c179e\"],[0.4444444444444444,\"#bd3786\"],[0.5555555555555556,\"#d8576b\"],[0.6666666666666666,\"#ed7953\"],[0.7777777777777778,\"#fb9f3a\"],[0.8888888888888888,\"#fdca26\"],[1.0,\"#f0f921\"]],\"sequentialminus\":[[0.0,\"#0d0887\"],[0.1111111111111111,\"#46039f\"],[0.2222222222222222,\"#7201a8\"],[0.3333333333333333,\"#9c179e\"],[0.4444444444444444,\"#bd3786\"],[0.5555555555555556,\"#d8576b\"],[0.6666666666666666,\"#ed7953\"],[0.7777777777777778,\"#fb9f3a\"],[0.8888888888888888,\"#fdca26\"],[1.0,\"#f0f921\"]]},\"colorway\":[\"#636efa\",\"#EF553B\",\"#00cc96\",\"#ab63fa\",\"#FFA15A\",\"#19d3f3\",\"#FF6692\",\"#B6E880\",\"#FF97FF\",\"#FECB52\"],\"font\":{\"color\":\"#2a3f5f\"},\"geo\":{\"bgcolor\":\"white\",\"lakecolor\":\"white\",\"landcolor\":\"#E5ECF6\",\"showlakes\":true,\"showland\":true,\"subunitcolor\":\"white\"},\"hoverlabel\":{\"align\":\"left\"},\"hovermode\":\"closest\",\"mapbox\":{\"style\":\"light\"},\"paper_bgcolor\":\"white\",\"plot_bgcolor\":\"#E5ECF6\",\"polar\":{\"angularaxis\":{\"gridcolor\":\"white\",\"linecolor\":\"white\",\"ticks\":\"\"},\"bgcolor\":\"#E5ECF6\",\"radialaxis\":{\"gridcolor\":\"white\",\"linecolor\":\"white\",\"ticks\":\"\"}},\"scene\":{\"xaxis\":{\"backgroundcolor\":\"#E5ECF6\",\"gridcolor\":\"white\",\"gridwidth\":2,\"linecolor\":\"white\",\"showbackground\":true,\"ticks\":\"\",\"zerolinecolor\":\"white\"},\"yaxis\":{\"backgroundcolor\":\"#E5ECF6\",\"gridcolor\":\"white\",\"gridwidth\":2,\"linecolor\":\"white\",\"showbackground\":true,\"ticks\":\"\",\"zerolinecolor\":\"white\"},\"zaxis\":{\"backgroundcolor\":\"#E5ECF6\",\"gridcolor\":\"white\",\"gridwidth\":2,\"linecolor\":\"white\",\"showbackground\":true,\"ticks\":\"\",\"zerolinecolor\":\"white\"}},\"shapedefaults\":{\"line\":{\"color\":\"#2a3f5f\"}},\"ternary\":{\"aaxis\":{\"gridcolor\":\"white\",\"linecolor\":\"white\",\"ticks\":\"\"},\"baxis\":{\"gridcolor\":\"white\",\"linecolor\":\"white\",\"ticks\":\"\"},\"bgcolor\":\"#E5ECF6\",\"caxis\":{\"gridcolor\":\"white\",\"linecolor\":\"white\",\"ticks\":\"\"}},\"title\":{\"x\":0.05},\"xaxis\":{\"automargin\":true,\"gridcolor\":\"white\",\"linecolor\":\"white\",\"ticks\":\"\",\"title\":{\"standoff\":15},\"zerolinecolor\":\"white\",\"zerolinewidth\":2},\"yaxis\":{\"automargin\":true,\"gridcolor\":\"white\",\"linecolor\":\"white\",\"ticks\":\"\",\"title\":{\"standoff\":15},\"zerolinecolor\":\"white\",\"zerolinewidth\":2}}},\"xaxis\":{\"anchor\":\"y\",\"domain\":[0.0,1.0],\"title\":{\"text\":\"Store\"}},\"yaxis\":{\"anchor\":\"x\",\"domain\":[0.0,1.0],\"title\":{\"text\":\"Weekly_Sales\"}},\"legend\":{\"tracegroupgap\":0},\"margin\":{\"t\":60},\"boxmode\":\"group\"},                        {\"responsive\": true}                    ).then(function(){\n",
              "                            \n",
              "var gd = document.getElementById('e8009926-c883-4e4b-b813-11539601b8a1');\n",
              "var x = new MutationObserver(function (mutations, observer) {{\n",
              "        var display = window.getComputedStyle(gd).display;\n",
              "        if (!display || display === 'none') {{\n",
              "            console.log([gd, 'removed!']);\n",
              "            Plotly.purge(gd);\n",
              "            observer.disconnect();\n",
              "        }}\n",
              "}});\n",
              "\n",
              "// Listen for the removal of the full notebook cells\n",
              "var notebookContainer = gd.closest('#notebook-container');\n",
              "if (notebookContainer) {{\n",
              "    x.observe(notebookContainer, {childList: true});\n",
              "}}\n",
              "\n",
              "// Listen for the clearing of the current output cell\n",
              "var outputEl = gd.closest('.output');\n",
              "if (outputEl) {{\n",
              "    x.observe(outputEl, {childList: true});\n",
              "}}\n",
              "\n",
              "                        })                };                            </script>        </div>\n",
              "</body>\n",
              "</html>"
            ]
          },
          "metadata": {}
        }
      ]
    },
    {
      "cell_type": "code",
      "source": [
        "# Outliers of Temperature\n",
        "\n",
        "fig_2 = px.box(walmart, x=\"Store\", y=\"Temperature\", notched=True)\n",
        "fig_2.show()"
      ],
      "metadata": {
        "colab": {
          "base_uri": "https://localhost:8080/",
          "height": 542
        },
        "id": "PkgRFQiCth8C",
        "outputId": "e68c34f6-81d8-4ec5-98f9-62617b7370e6"
      },
      "execution_count": null,
      "outputs": [
        {
          "output_type": "display_data",
          "data": {
            "text/html": [
              "<html>\n",
              "<head><meta charset=\"utf-8\" /></head>\n",
              "<body>\n",
              "    <div>            <script src=\"https://cdnjs.cloudflare.com/ajax/libs/mathjax/2.7.5/MathJax.js?config=TeX-AMS-MML_SVG\"></script><script type=\"text/javascript\">if (window.MathJax) {MathJax.Hub.Config({SVG: {font: \"STIX-Web\"}});}</script>                <script type=\"text/javascript\">window.PlotlyConfig = {MathJaxConfig: 'local'};</script>\n",
              "        <script src=\"https://cdn.plot.ly/plotly-2.8.3.min.js\"></script>                <div id=\"bf1fe504-80f0-438d-9ac3-c3458a4360da\" class=\"plotly-graph-div\" style=\"height:525px; width:100%;\"></div>            <script type=\"text/javascript\">                                    window.PLOTLYENV=window.PLOTLYENV || {};                                    if (document.getElementById(\"bf1fe504-80f0-438d-9ac3-c3458a4360da\")) {                    Plotly.newPlot(                        \"bf1fe504-80f0-438d-9ac3-c3458a4360da\",                        [{\"alignmentgroup\":\"True\",\"hovertemplate\":\"Store=%{x}<br>Temperature=%{y}<extra></extra>\",\"legendgroup\":\"\",\"marker\":{\"color\":\"#636efa\"},\"name\":\"\",\"notched\":true,\"offsetgroup\":\"\",\"orientation\":\"v\",\"showlegend\":false,\"x\":[1,1,1,1,1,1,1,1,1,1,1,1,1,1,1,1,1,1,1,1,1,1,1,1,1,1,1,1,1,1,1,1,1,1,1,1,1,1,1,1,1,1,1,1,1,1,1,1,1,1,1,1,1,1,1,1,1,1,1,1,1,1,1,1,1,1,1,1,1,1,1,1,1,1,1,1,1,1,1,1,1,1,1,1,1,1,1,1,1,1,1,1,1,1,1,1,1,1,1,1,1,1,1,1,1,1,1,1,1,1,1,1,1,1,1,1,1,1,1,1,1,1,1,1,1,1,1,1,1,1,1,1,1,1,1,1,1,1,1,1,1,1,1,2,2,2,2,2,2,2,2,2,2,2,2,2,2,2,2,2,2,2,2,2,2,2,2,2,2,2,2,2,2,2,2,2,2,2,2,2,2,2,2,2,2,2,2,2,2,2,2,2,2,2,2,2,2,2,2,2,2,2,2,2,2,2,2,2,2,2,2,2,2,2,2,2,2,2,2,2,2,2,2,2,2,2,2,2,2,2,2,2,2,2,2,2,2,2,2,2,2,2,2,2,2,2,2,2,2,2,2,2,2,2,2,2,2,2,2,2,2,2,2,2,2,2,2,2,2,2,2,2,2,2,2,2,2,2,2,2,2,2,2,2,2,2,4,4,4,4,4,4,4,4,4,4,4,4,4,4,4,4,4,4,4,4,4,4,4,4,4,4,4,4,4,4,4,4,4,4,4,4,4,4,4,4,4,4,4,4,4,4,4,4,4,4,4,4,4,4,4,4,4,4,4,4,4,4,4,4,4,4,4,4,4,4,4,4,4,4,4,4,4,4,4,4,4,4,4,4,4,4,4,4,4,4,4,4,4,4,4,4,4,4,4,4,4,4,4,4,4,4,4,4,4,4,4,4,4,4,4,4,4,4,4,4,4,4,4,4,4,4,4,4,4,4,4,4,4,4,4,4,4,4,4,4,4,4,4,6,6,6,6,6,6,6,6,6,6,6,6,6,6,6,6,6,6,6,6,6,6,6,6,6,6,6,6,6,6,6,6,6,6,6,6,6,6,6,6,6,6,6,6,6,6,6,6,6,6,6,6,6,6,6,6,6,6,6,6,6,6,6,6,6,6,6,6,6,6,6,6,6,6,6,6,6,6,6,6,6,6,6,6,6,6,6,6,6,6,6,6,6,6,6,6,6,6,6,6,6,6,6,6,6,6,6,6,6,6,6,6,6,6,6,6,6,6,6,6,6,6,6,6,6,6,6,6,6,6,6,6,6,6,6,6,6,6,6,6,6,6,6,7,7,7,7,7,7,7,7,7,7,7,7,7,7,7,7,7,7,7,7,7,7,7,7,7,7,7,7,7,7,7,7,7,7,7,7,7,7,7,7,7,7,7,7,7,7,7,7,7,7,7,7,7,7,7,7,7,7,7,7,7,7,7,7,7,7,7,7,7,7,7,7,7,7,7,7,7,7,7,7,7,7,7,7,7,7,7,7,7,7,7,7,7,7,7,7,7,7,7,7,7,7,7,7,7,7,7,7,7,7,7,7,7,7,7,7,7,7,7,7,7,7,7,7,7,7,7,7,7,7,7,7,7,7,7,7,7,7,7,7,7,7,7,8,8,8,8,8,8,8,8,8,8,8,8,8,8,8,8,8,8,8,8,8,8,8,8,8,8,8,8,8,8,8,8,8,8,8,8,8,8,8,8,8,8,8,8,8,8,8,8,8,8,8,8,8,8,8,8,8,8,8,8,8,8,8,8,8,8,8,8,8,8,8,8,8,8,8,8,8,8,8,8,8,8,8,8,8,8,8,8,8,8,8,8,8,8,8,8,8,8,8,8,8,8,8,8,8,8,8,8,8,8,8,8,8,8,8,8,8,8,8,8,8,8,8,8,8,8,8,8,8,8,8,8,8,8,8,8,8,8,8,8,8,8,8,9,9,9,9,9,9,9,9,9,9,9,9,9,9,9,9,9,9,9,9,9,9,9,9,9,9,9,9,9,9,9,9,9,9,9,9,9,9,9,9,9,9,9,9,9,9,9,9,9,9,9,9,9,9,9,9,9,9,9,9,9,9,9,9,9,9,9,9,9,9,9,9,9,9,9,9,9,9,9,9,9,9,9,9,9,9,9,9,9,9,9,9,9,9,9,9,9,9,9,9,9,9,9,9,9,9,9,9,9,9,9,9,9,9,9,9,9,9,9,9,9,9,9,9,9,9,9,9,9,9,9,9,9,9,9,9,9,9,9,9,9,9,9,10,10,10,10,10,10,10,10,10,10,10,10,10,10,10,10,10,10,10,10,10,10,10,10,10,10,10,10,10,10,10,10,10,10,10,10,10,10,10,10,10,10,10,10,10,10,10,10,10,10,10,10,10,10,10,10,10,10,10,10,10,10,10,10,10,10,10,10,10,10,10,10,10,10,10,10,10,10,10,10,10,10,10,10,10,10,10,10,10,10,10,10,10,10,10,10,10,10,10,10,10,10,10,10,10,10,10,10,10,10,10,10,10,10,10,10,10,10,10,10,10,10,10,10,10,10,10,10,10,10,10,10,10,10,10,10,10,10,10,10,10,10,10,11,11,11,11,11,11,11,11,11,11,11,11,11,11,11,11,11,11,11,11,11,11,11,11,11,11,11,11,11,11,11,11,11,11,11,11,11,11,11,11,11,11,11,11,11,11,11,11,11,11,11,11,11,11,11,11,11,11,11,11,11,11,11,11,11,11,11,11,11,11,11,11,11,11,11,11,11,11,11,11,11,11,11,11,11,11,11,11,11,11,11,11,11,11,11,11,11,11,11,11,11,11,11,11,11,11,11,11,11,11,11,11,11,11,11,11,11,11,11,11,11,11,11,11,11,11,11,11,11,11,11,11,11,11,11,11,11,11,11,11,11,11,11,12,12,12,12,12,12,12,12,12,12,12,12,12,12,12,12,12,12,12,12,12,12,12,12,12,12,12,12,12,12,12,12,12,12,12,12,12,12,12,12,12,12,12,12,12,12,12,12,12,12,12,12,12,12,12,12,12,12,12,12,12,12,12,12,12,12,12,12,12,12,12,12,12,12,12,12,12,12,12,12,12,12,12,12,12,12,12,12,12,12,12,12,12,12,12,12,12,12,12,12,12,12,12,12,12,12,12,12,12,12,12,12,12,12,12,12,12,12,12,12,12,12,12,12,12,12,12,12,12,12,12,12,12,12,12,12,12,12,12,12,12,12,12,13,13,13,13,13,13,13,13,13,13,13,13,13,13,13,13,13,13,13,13,13,13,13,13,13,13,13,13,13,13,13,13,13,13,13,13,13,13,13,13,13,13,13,13,13,13,13,13,13,13,13,13,13,13,13,13,13,13,13,13,13,13,13,13,13,13,13,13,13,13,13,13,13,13,13,13,13,13,13,13,13,13,13,13,13,13,13,13,13,13,13,13,13,13,13,13,13,13,13,13,13,13,13,13,13,13,13,13,13,13,13,13,13,13,13,13,13,13,13,13,13,13,13,13,13,13,13,13,13,13,13,13,13,13,13,13,13,13,13,13,13,13,13,14,14,14,14,14,14,14,14,14,14,14,14,14,14,14,14,14,14,14,14,14,14,14,14,14,14,14,14,14,14,14,14,14,14,14,14,14,14,14,14,14,14,14,14,14,14,14,14,14,14,14,14,14,14,14,14,14,14,14,14,14,14,14,14,14,14,14,14,14,14,14,14,14,14,14,14,14,14,14,14,14,14,14,14,14,14,14,14,14,14,14,14,14,14,14,14,14,14,14,14,14,14,14,14,14,14,14,14,14,14,14,14,14,14,14,14,14,14,14,14,14,14,14,14,14,14,14,14,14,14,14,14,14,14,14,14,14,14,14,14,14,14,14,15,15,15,15,15,15,15,15,15,15,15,15,15,15,15,15,15,15,15,15,15,15,15,15,15,15,15,15,15,15,15,15,15,15,15,15,15,15,15,15,15,15,15,15,15,15,15,15,15,15,15,15,15,15,15,15,15,15,15,15,15,15,15,15,15,15,15,15,15,15,15,15,15,15,15,15,15,15,15,15,15,15,15,15,15,15,15,15,15,15,15,15,15,15,15,15,15,15,15,15,15,15,15,15,15,15,15,15,15,15,15,15,15,15,15,15,15,15,15,15,15,15,15,15,15,15,15,15,15,15,15,15,15,15,15,15,15,15,15,15,15,15,15,16,16,16,16,16,16,16,16,16,16,16,16,16,16,16,16,16,16,16,16,16,16,16,16,16,16,16,16,16,16,16,16,16,16,16,16,16,16,16,16,16,16,16,16,16,16,16,16,16,16,16,16,16,16,16,16,16,16,16,16,16,16,16,16,16,16,16,16,16,16,16,16,16,16,16,16,16,16,16,16,16,16,16,16,16,16,16,16,16,16,16,16,16,16,16,16,16,16,16,16,16,16,16,16,16,16,16,16,16,16,16,16,16,16,16,16,16,16,16,16,16,16,16,16,16,16,16,16,16,16,16,16,16,16,16,16,16,16,16,16,16,16,16,17,17,17,17,17,17,17,17,17,17,17,17,17,17,17,17,17,17,17,17,17,17,17,17,17,17,17,17,17,17,17,17,17,17,17,17,17,17,17,17,17,17,17,17,17,17,17,17,17,17,17,17,17,17,17,17,17,17,17,17,17,17,17,17,17,17,17,17,17,17,17,17,17,17,17,17,17,17,17,17,17,17,17,17,17,17,17,17,17,17,17,17,17,17,17,17,17,17,17,17,17,17,17,17,17,17,17,17,17,17,17,17,17,17,17,17,17,17,17,17,17,17,17,17,17,17,17,17,17,17,17,17,17,17,17,17,17,17,17,17,17,17,17,18,18,18,18,18,18,18,18,18,18,18,18,18,18,18,18,18,18,18,18,18,18,18,18,18,18,18,18,18,18,18,18,18,18,18,18,18,18,18,18,18,18,18,18,18,18,18,18,18,18,18,18,18,18,18,18,18,18,18,18,18,18,18,18,18,18,18,18,18,18,18,18,18,18,18,18,18,18,18,18,18,18,18,18,18,18,18,18,18,18,18,18,18,18,18,18,18,18,18,18,18,18,18,18,18,18,18,18,18,18,18,18,18,18,18,18,18,18,18,18,18,18,18,18,18,18,18,18,18,18,18,18,18,18,18,18,18,18,18,18,18,18,18,19,19,19,19,19,19,19,19,19,19,19,19,19,19,19,19,19,19,19,19,19,19,19,19,19,19,19,19,19,19,19,19,19,19,19,19,19,19,19,19,19,19,19,19,19,19,19,19,19,19,19,19,19,19,19,19,19,19,19,19,19,19,19,19,19,19,19,19,19,19,19,19,19,19,19,19,19,19,19,19,19,19,19,19,19,19,19,19,19,19,19,19,19,19,19,19,19,19,19,19,19,19,19,19,19,19,19,19,19,19,19,19,19,19,19,19,19,19,19,19,19,19,19,19,19,19,19,19,19,19,19,19,19,19,19,19,19,19,19,19,19,19,19,20,20,20,20,20,20,20,20,20,20,20,20,20,20,20,20,20,20,20,20,20,20,20,20,20,20,20,20,20,20,20,20,20,20,20,20,20,20,20,20,20,20,20,20,20,20,20,20,20,20,20,20,20,20,20,20,20,20,20,20,20,20,20,20,20,20,20,20,20,20,20,20,20,20,20,20,20,20,20,20,20,20,20,20,20,20,20,20,20,20,20,20,20,20,20,20,20,20,20,20,20,20,20,20,20,20,20,20,20,20,20,20,20,20,20,20,20,20,20,20,20,20,20,20,20,20,20,20,20,20,20,20,20,20,20,20,20,20,20,20,20,20,20,21,21,21,21,21,21,21,21,21,21,21,21,21,21,21,21,21,21,21,21,21,21,21,21,21,21,21,21,21,21,21,21,21,21,21,21,21,21,21,21,21,21,21,21,21,21,21,21,21,21,21,21,21,21,21,21,21,21,21,21,21,21,21,21,21,21,21,21,21,21,21,21,21,21,21,21,21,21,21,21,21,21,21,21,21,21,21,21,21,21,21,21,21,21,21,21,21,21,21,21,21,21,21,21,21,21,21,21,21,21,21,21,21,21,21,21,21,21,21,21,21,21,21,21,21,21,21,21,21,21,21,21,21,21,21,21,21,21,21,21,21,21,21,22,22,22,22,22,22,22,22,22,22,22,22,22,22,22,22,22,22,22,22,22,22,22,22,22,22,22,22,22,22,22,22,22,22,22,22,22,22,22,22,22,22,22,22,22,22,22,22,22,22,22,22,22,22,22,22,22,22,22,22,22,22,22,22,22,22,22,22,22,22,22,22,22,22,22,22,22,22,22,22,22,22,22,22,22,22,22,22,22,22,22,22,22,22,22,22,22,22,22,22,22,22,22,22,22,22,22,22,22,22,22,22,22,22,22,22,22,22,22,22,22,22,22,22,22,22,22,22,22,22,22,22,22,22,22,22,22,22,22,22,22,22,22,23,23,23,23,23,23,23,23,23,23,23,23,23,23,23,23,23,23,23,23,23,23,23,23,23,23,23,23,23,23,23,23,23,23,23,23,23,23,23,23,23,23,23,23,23,23,23,23,23,23,23,23,23,23,23,23,23,23,23,23,23,23,23,23,23,23,23,23,23,23,23,23,23,23,23,23,23,23,23,23,23,23,23,23,23,23,23,23,23,23,23,23,23,23,23,23,23,23,23,23,23,23,23,23,23,23,23,23,23,23,23,23,23,23,23,23,23,23,23,23,23,23,23,23,23,23,23,23,23,23,23,23,23,23,23,23,23,23,23,23,23,23,23,24,24,24,24,24,24,24,24,24,24,24,24,24,24,24,24,24,24,24,24,24,24,24,24,24,24,24,24,24,24,24,24,24,24,24,24,24,24,24,24,24,24,24,24,24,24,24,24,24,24,24,24,24,24,24,24,24,24,24,24,24,24,24,24,24,24,24,24,24,24,24,24,24,24,24,24,24,24,24,24,24,24,24,24,24,24,24,24,24,24,24,24,24,24,24,24,24,24,24,24,24,24,24,24,24,24,24,24,24,24,24,24,24,24,24,24,24,24,24,24,24,24,24,24,24,24,24,24,24,24,24,24,24,24,24,24,24,24,24,24,24,24,24,25,25,25,25,25,25,25,25,25,25,25,25,25,25,25,25,25,25,25,25,25,25,25,25,25,25,25,25,25,25,25,25,25,25,25,25,25,25,25,25,25,25,25,25,25,25,25,25,25,25,25,25,25,25,25,25,25,25,25,25,25,25,25,25,25,25,25,25,25,25,25,25,25,25,25,25,25,25,25,25,25,25,25,25,25,25,25,25,25,25,25,25,25,25,25,25,25,25,25,25,25,25,25,25,25,25,25,25,25,25,25,25,25,25,25,25,25,25,25,25,25,25,25,25,25,25,25,25,25,25,25,25,25,25,25,25,25,25,25,25,25,25,25,26,26,26,26,26,26,26,26,26,26,26,26,26,26,26,26,26,26,26,26,26,26,26,26,26,26,26,26,26,26,26,26,26,26,26,26,26,26,26,26,26,26,26,26,26,26,26,26,26,26,26,26,26,26,26,26,26,26,26,26,26,26,26,26,26,26,26,26,26,26,26,26,26,26,26,26,26,26,26,26,26,26,26,26,26,26,26,26,26,26,26,26,26,26,26,26,26,26,26,26,26,26,26,26,26,26,26,26,26,26,26,26,26,26,26,26,26,26,26,26,26,26,26,26,26,26,26,26,26,26,26,26,26,26,26,26,26,26,26,26,26,26,26,27,27,27,27,27,27,27,27,27,27,27,27,27,27,27,27,27,27,27,27,27,27,27,27,27,27,27,27,27,27,27,27,27,27,27,27,27,27,27,27,27,27,27,27,27,27,27,27,27,27,27,27,27,27,27,27,27,27,27,27,27,27,27,27,27,27,27,27,27,27,27,27,27,27,27,27,27,27,27,27,27,27,27,27,27,27,27,27,27,27,27,27,27,27,27,27,27,27,27,27,27,27,27,27,27,27,27,27,27,27,27,27,27,27,27,27,27,27,27,27,27,27,27,27,27,27,27,27,27,27,27,27,27,27,27,27,27,27,27,27,27,27,27,28,28,28,28,28,28,28,28,28,28,28,28,28,28,28,28,28,28,28,28,28,28,28,28,28,28,28,28,28,28,28,28,28,28,28,28,28,28,28,28,28,28,28,28,28,28,28,28,28,28,28,28,28,28,28,28,28,28,28,28,28,28,28,28,28,28,28,28,28,28,28,28,28,28,28,28,28,28,28,28,28,28,28,28,28,28,28,28,28,28,28,28,28,28,28,28,28,28,28,28,28,28,28,28,28,28,28,28,28,28,28,28,28,28,28,28,28,28,28,28,28,28,28,28,28,28,28,28,28,28,28,28,28,28,28,28,28,28,28,28,28,28,28,29,29,29,29,29,29,29,29,29,29,29,29,29,29,29,29,29,29,29,29,29,29,29,29,29,29,29,29,29,29,29,29,29,29,29,29,29,29,29,29,29,29,29,29,29,29,29,29,29,29,29,29,29,29,29,29,29,29,29,29,29,29,29,29,29,29,29,29,29,29,29,29,29,29,29,29,29,29,29,29,29,29,29,29,29,29,29,29,29,29,29,29,29,29,29,29,29,29,29,29,29,29,29,29,29,29,29,29,29,29,29,29,29,29,29,29,29,29,29,29,29,29,29,29,29,29,29,29,29,29,29,29,29,29,29,29,29,29,29,29,29,29,29,31,31,31,31,31,31,31,31,31,31,31,31,31,31,31,31,31,31,31,31,31,31,31,31,31,31,31,31,31,31,31,31,31,31,31,31,31,31,31,31,31,31,31,31,31,31,31,31,31,31,31,31,31,31,31,31,31,31,31,31,31,31,31,31,31,31,31,31,31,31,31,31,31,31,31,31,31,31,31,31,31,31,31,31,31,31,31,31,31,31,31,31,31,31,31,31,31,31,31,31,31,31,31,31,31,31,31,31,31,31,31,31,31,31,31,31,31,31,31,31,31,31,31,31,31,31,31,31,31,31,31,31,31,31,31,31,31,31,31,31,31,31,31,32,32,32,32,32,32,32,32,32,32,32,32,32,32,32,32,32,32,32,32,32,32,32,32,32,32,32,32,32,32,32,32,32,32,32,32,32,32,32,32,32,32,32,32,32,32,32,32,32,32,32,32,32,32,32,32,32,32,32,32,32,32,32,32,32,32,32,32,32,32,32,32,32,32,32,32,32,32,32,32,32,32,32,32,32,32,32,32,32,32,32,32,32,32,32,32,32,32,32,32,32,32,32,32,32,32,32,32,32,32,32,32,32,32,32,32,32,32,32,32,32,32,32,32,32,32,32,32,32,32,32,32,32,32,32,32,32,32,32,32,32,32,32,34,34,34,34,34,34,34,34,34,34,34,34,34,34,34,34,34,34,34,34,34,34,34,34,34,34,34,34,34,34,34,34,34,34,34,34,34,34,34,34,34,34,34,34,34,34,34,34,34,34,34,34,34,34,34,34,34,34,34,34,34,34,34,34,34,34,34,34,34,34,34,34,34,34,34,34,34,34,34,34,34,34,34,34,34,34,34,34,34,34,34,34,34,34,34,34,34,34,34,34,34,34,34,34,34,34,34,34,34,34,34,34,34,34,34,34,34,34,34,34,34,34,34,34,34,34,34,34,34,34,34,34,34,34,34,34,34,34,34,34,34,34,34,35,35,35,35,35,35,35,35,35,35,35,35,35,35,35,35,35,35,35,35,35,35,35,35,35,35,35,35,35,35,35,35,35,35,35,35,35,35,35,35,35,35,35,35,35,35,35,35,35,35,35,35,35,35,35,35,35,35,35,35,35,35,35,35,35,35,35,35,35,35,35,35,35,35,35,35,35,35,35,35,35,35,35,35,35,35,35,35,35,35,35,35,35,35,35,35,35,35,35,35,35,35,35,35,35,35,35,35,35,35,35,35,35,35,35,35,35,35,35,35,35,35,35,35,35,35,35,35,35,35,35,35,35,35,35,35,35,35,35,35,35,35,35,39,39,39,39,39,39,39,39,39,39,39,39,39,39,39,39,39,39,39,39,39,39,39,39,39,39,39,39,39,39,39,39,39,39,39,39,39,39,39,39,39,39,39,39,39,39,39,39,39,39,39,39,39,39,39,39,39,39,39,39,39,39,39,39,39,39,39,39,39,39,39,39,39,39,39,39,39,39,39,39,39,39,39,39,39,39,39,39,39,39,39,39,39,39,39,39,39,39,39,39,39,39,39,39,39,39,39,39,39,39,39,39,39,39,39,39,39,39,39,39,39,39,39,39,39,39,39,39,39,39,39,39,39,39,39,39,39,39,39,39,39,39,39,40,40,40,40,40,40,40,40,40,40,40,40,40,40,40,40,40,40,40,40,40,40,40,40,40,40,40,40,40,40,40,40,40,40,40,40,40,40,40,40,40,40,40,40,40,40,40,40,40,40,40,40,40,40,40,40,40,40,40,40,40,40,40,40,40,40,40,40,40,40,40,40,40,40,40,40,40,40,40,40,40,40,40,40,40,40,40,40,40,40,40,40,40,40,40,40,40,40,40,40,40,40,40,40,40,40,40,40,40,40,40,40,40,40,40,40,40,40,40,40,40,40,40,40,40,40,40,40,40,40,40,40,40,40,40,40,40,40,40,40,40,40,40,41,41,41,41,41,41,41,41,41,41,41,41,41,41,41,41,41,41,41,41,41,41,41,41,41,41,41,41,41,41,41,41,41,41,41,41,41,41,41,41,41,41,41,41,41,41,41,41,41,41,41,41,41,41,41,41,41,41,41,41,41,41,41,41,41,41,41,41,41,41,41,41,41,41,41,41,41,41,41,41,41,41,41,41,41,41,41,41,41,41,41,41,41,41,41,41,41,41,41,41,41,41,41,41,41,41,41,41,41,41,41,41,41,41,41,41,41,41,41,41,41,41,41,41,41,41,41,41,41,41,41,41,41,41,41,41,41,41,41,41,41,41,41,45,45,45,45,45,45,45,45,45,45,45,45,45,45,45,45,45,45,45,45,45,45,45,45,45,45,45,45,45,45,45,45,45,45,45,45,45,45,45,45,45,45,45,45,45,45,45,45,45,45,45,45,45,45,45,45,45,45,45,45,45,45,45,45,45,45,45,45,45,45,45,45,45,45,45,45,45,45,45,45,45,45,45,45,45,45,45,45,45,45,45,45,45,45,45,45,45,45,45,45,45,45,45,45,45,45,45,45,45,45,45,45,45,45,45,45,45,45,45,45,45,45,45,45,45,45,45,45,45,45,45,45,45,45,45,45,45,45,45,45,45,45,45],\"x0\":\" \",\"xaxis\":\"x\",\"y\":[42.31,38.51,39.93,46.63,46.5,57.79,54.58,51.45,62.27,65.86,66.32,64.84,67.41,72.55,74.78,76.44,80.44,80.69,80.43,84.11,84.34,80.91,80.48,83.15,83.36,81.84,87.16,87.0,86.65,85.22,81.21,78.69,82.11,80.94,71.89,63.93,67.18,69.86,69.64,58.74,59.61,51.41,64.52,49.27,46.33,49.84,52.33,48.43,48.27,35.4,44.04,43.83,42.27,36.39,57.36,62.9,59.58,53.56,62.76,69.97,59.17,67.84,71.27,72.99,72.03,64.61,75.64,67.63,77.72,83.0,83.13,86.41,83.58,85.55,85.83,88.54,85.77,86.83,91.65,90.76,89.94,87.96,87.83,76.0,79.94,75.8,79.69,69.31,71.74,63.71,66.57,54.98,59.11,62.25,60.14,48.91,43.93,51.63,47.96,44.55,49.01,48.53,54.11,54.26,56.55,48.02,45.32,57.25,60.96,58.76,64.74,65.93,67.61,70.43,69.07,66.76,67.23,75.55,73.77,70.33,77.22,77.95,78.3,79.35,78.39,84.88,81.57,77.12,80.42,82.66,86.11,85.05,84.85,77.66,80.49,83.96,74.97,69.87,76.08,68.55,62.99,67.97,69.16,40.19,38.49,39.69,46.1,47.17,57.56,54.52,51.26,63.27,65.41,68.07,65.11,66.98,71.28,73.31,74.83,81.13,81.81,83.4,85.81,86.26,82.74,82.59,85.32,87.66,83.49,89.53,89.05,88.7,87.12,81.83,79.09,82.05,81.79,69.24,63.19,65.8,68.5,66.24,57.85,59.69,50.81,62.98,49.33,45.5,47.55,49.97,47.3,44.69,33.02,41.4,42.83,38.25,33.19,57.83,60.8,57.77,52.7,62.32,69.42,55.43,67.0,69.48,69.39,69.21,61.48,74.61,67.14,76.42,83.07,83.4,86.53,85.17,85.69,87.7,89.83,89.34,90.07,93.34,91.58,89.86,90.45,89.64,77.97,78.85,75.58,78.14,69.92,71.67,64.53,65.87,55.53,59.33,62.01,56.36,48.74,41.76,50.13,46.66,44.57,46.75,45.99,51.7,50.5,55.21,46.98,43.82,54.63,58.79,57.11,63.68,64.01,66.83,68.43,68.08,65.69,67.2,76.73,73.87,71.27,78.19,78.38,78.69,80.56,81.04,86.32,84.2,80.17,83.23,86.37,90.22,88.55,84.79,76.91,82.64,87.65,75.88,71.09,79.45,70.27,60.97,68.08,69.79,43.76,28.84,36.45,41.36,43.49,49.63,55.19,39.91,48.77,54.16,56.23,56.87,53.04,56.77,62.35,67.4,67.73,70.83,78.45,81.53,81.1,73.66,80.35,78.53,79.78,80.7,76.53,78.08,78.83,74.44,76.8,73.54,64.91,60.96,63.96,67.73,62.03,64.17,56.94,51.6,52.65,48.05,48.08,46.4,42.4,46.57,43.21,38.09,39.34,31.6,38.34,40.6,34.61,33.29,48.17,49.0,46.56,50.93,51.86,59.1,56.99,62.61,62.34,68.8,64.22,63.41,70.65,70.49,73.65,78.26,80.05,83.51,81.85,84.54,84.59,83.27,82.84,84.36,86.09,82.98,82.77,81.47,77.99,73.34,72.76,69.23,72.15,65.79,63.75,64.79,55.31,49.86,47.12,50.44,47.96,38.71,31.64,36.44,35.92,36.89,38.64,34.41,42.09,40.31,41.81,33.0,34.19,41.31,50.38,53.63,59.81,59.07,72.63,67.69,68.69,68.6,76.47,80.14,67.64,68.43,77.47,77.41,78.11,80.94,81.63,84.23,80.37,76.86,79.14,81.06,83.86,83.21,81.41,75.76,76.47,82.09,68.2,68.97,71.74,63.07,57.11,64.46,63.64,40.43,40.57,43.58,47.1,49.63,58.82,56.55,53.74,64.94,66.15,65.68,64.11,68.91,73.68,74.95,74.8,78.89,79.44,81.81,83.89,84.2,80.34,80.93,83.75,83.9,81.37,86.61,86.83,87.36,85.71,82.15,78.78,81.78,76.49,70.69,65.21,68.93,70.97,70.39,59.9,62.11,52.99,65.79,52.3,48.46,52.24,55.07,49.14,47.78,38.37,46.2,44.98,40.59,39.38,59.61,62.86,60.45,57.71,65.07,70.83,62.25,70.35,73.17,74.24,75.27,65.42,76.95,72.01,80.83,84.01,84.49,87.08,85.51,87.0,88.36,88.93,88.06,90.22,91.46,90.49,89.26,90.07,91.22,80.21,84.94,78.49,82.51,74.1,71.24,68.53,69.51,58.54,61.33,63.89,62.78,51.18,43.64,53.27,49.45,46.8,50.82,48.33,55.37,53.95,57.45,48.58,49.03,59.17,60.32,57.89,62.8,63.71,67.91,71.6,71.29,68.64,71.5,77.66,72.66,70.5,78.47,80.39,80.5,82.1,81.2,87.35,82.95,80.27,81.57,85.78,87.55,87.04,87.53,79.03,83.58,86.33,76.41,70.81,77.82,70.84,65.43,69.68,72.34,10.53,25.9,27.28,24.91,35.86,27.25,29.04,23.33,38.26,33.79,41.89,43.07,38.99,40.07,41.41,46.6,54.24,53.63,63.59,52.7,59.94,61.31,58.0,62.19,64.64,66.07,61.7,60.13,59.59,57.57,49.84,48.5,48.56,47.55,49.99,44.13,35.86,36.84,34.78,49.44,22.12,25.56,17.95,21.88,24.24,20.74,26.04,13.76,10.09,11.32,25.4,10.11,-2.06,10.24,17.3,17.46,21.84,20.7,27.69,25.69,24.83,30.64,27.79,31.84,26.79,26.54,36.61,36.16,37.51,45.77,53.3,48.79,46.85,58.54,59.08,54.37,56.22,56.66,55.91,54.56,56.06,57.6,53.4,45.61,43.67,43.67,47.34,40.65,32.65,37.49,28.82,23.41,19.53,29.53,27.6,20.38,11.17,15.2,12.19,15.56,18.67,7.46,27.41,26.9,22.2,18.79,27.03,24.41,21.64,30.1,37.29,35.06,44.99,44.29,41.43,39.3,51.49,45.38,48.54,49.41,50.6,55.06,63.07,59.33,63.69,68.84,64.67,64.21,62.87,64.6,61.83,63.41,59.66,59.27,60.46,57.84,53.66,51.77,50.64,48.43,41.43,43.01,42.53,34.14,33.34,39.1,37.91,45.64,49.76,47.26,46.51,60.18,59.25,62.66,56.1,61.01,62.68,61.35,66.03,74.71,75.71,82.21,78.79,81.78,74.78,72.49,77.49,78.29,76.02,80.37,80.11,79.36,74.92,76.14,74.34,75.32,72.21,68.7,62.94,62.59,62.86,57.93,55.76,54.89,43.86,51.07,42.85,42.47,45.03,45.67,41.47,35.77,31.62,42.06,39.26,24.48,28.26,50.64,51.29,53.18,49.14,56.68,59.74,49.86,65.62,63.55,65.11,62.29,58.92,72.96,65.54,73.14,82.05,82.21,84.73,83.94,87.26,83.57,84.26,85.46,86.46,85.15,86.05,82.92,84.69,84.77,69.01,69.09,68.72,72.2,67.61,61.74,59.97,56.86,49.68,50.56,51.72,49.61,40.82,30.51,39.79,38.16,36.33,43.47,36.46,46.81,45.52,45.56,35.71,37.51,46.33,50.95,49.59,56.63,52.9,66.69,62.18,65.19,63.59,70.34,73.96,64.96,64.16,76.11,78.31,74.28,77.14,78.85,84.47,81.24,78.46,79.94,81.71,85.06,83.74,81.21,73.77,75.33,80.87,67.21,66.96,71.1,61.41,55.03,62.99,64.74,38.01,37.08,43.06,43.83,48.43,55.76,53.15,51.8,65.21,64.95,66.09,61.26,66.07,68.58,70.53,71.5,77.12,79.65,83.75,82.99,85.02,78.55,78.51,82.93,84.49,79.83,87.09,86.85,86.3,84.01,82.47,77.7,81.19,77.15,69.08,65.35,67.36,69.99,64.43,58.69,61.59,49.96,60.18,49.89,46.1,49.7,50.93,45.92,41.82,36.43,44.72,43.9,31.82,34.13,58.5,59.01,60.67,54.75,63.82,68.79,56.12,71.4,71.9,72.35,70.85,62.2,77.66,70.49,80.42,85.8,85.81,89.15,86.74,89.14,89.04,90.45,89.08,91.1,91.52,91.63,85.8,88.95,89.33,75.65,77.95,74.42,78.45,72.62,67.27,65.46,63.96,54.46,58.28,58.8,54.32,46.84,37.65,47.31,44.43,43.41,47.54,42.44,51.56,49.38,54.43,44.03,43.81,53.67,57.2,54.03,59.94,58.79,67.87,68.83,69.19,68.04,73.07,78.98,70.94,69.52,79.69,80.26,78.91,82.21,81.05,87.18,84.15,82.39,83.39,86.41,90.23,88.66,86.37,77.9,80.71,87.93,73.55,69.92,76.8,66.61,60.09,68.01,69.52,54.34,49.96,58.22,52.77,55.92,52.33,61.46,60.05,63.66,65.29,69.74,66.42,69.76,71.06,73.88,78.32,76.67,82.82,89.67,83.49,90.32,92.89,91.03,91.8,88.44,85.03,86.13,88.37,89.88,84.99,83.8,84.04,85.52,85.75,86.01,77.04,75.48,68.12,68.76,71.04,61.24,58.83,55.33,51.17,60.51,59.15,57.06,49.67,43.43,49.98,56.75,53.03,44.88,51.51,61.77,53.59,56.96,64.22,70.12,62.53,67.64,73.03,61.05,75.93,73.38,73.56,74.04,72.62,78.62,81.87,84.57,87.96,90.69,95.36,88.57,86.01,88.59,86.75,89.8,85.61,87.4,91.59,91.61,89.06,77.49,82.51,82.27,75.01,70.27,77.91,72.79,68.57,55.28,58.97,60.68,57.29,42.58,50.53,48.36,48.92,59.85,51.0,54.51,53.59,56.85,55.73,54.12,56.02,57.62,57.65,62.11,56.54,67.92,65.99,70.28,67.75,80.11,77.02,76.03,85.19,86.03,80.06,86.87,88.58,89.92,91.36,86.87,89.8,84.45,83.98,84.76,90.78,88.83,82.5,86.97,83.07,78.47,81.93,82.52,80.88,76.03,72.71,70.5,46.04,48.01,48.3,52.79,53.96,64.1,61.51,58.09,66.16,69.57,67.81,68.37,71.13,75.57,77.64,76.97,79.69,79.66,82.81,84.13,84.5,83.09,83.01,84.9,84.57,83.26,86.54,87.73,88.93,87.7,84.94,81.93,83.04,77.36,75.11,68.71,71.46,72.6,74.21,64.41,63.74,58.63,69.9,55.9,53.33,54.63,59.33,55.03,54.43,45.34,51.51,51.04,47.17,44.61,61.5,68.74,66.5,63.29,70.17,73.74,69.1,73.57,76.64,78.31,79.97,71.39,80.93,76.97,85.61,86.14,85.79,87.9,86.13,86.43,87.17,88.3,87.8,89.46,90.04,90.3,89.51,89.09,91.44,84.91,85.11,82.14,84.4,76.97,75.56,70.91,72.66,61.13,64.2,66.17,70.03,56.89,50.63,59.69,54.29,48.86,54.44,53.1,56.43,58.36,60.24,52.23,52.77,61.11,62.61,61.44,64.21,67.16,70.23,74.19,72.74,71.97,73.4,79.07,75.13,72.53,78.44,81.67,82.1,84.97,83.26,87.86,83.44,82.46,82.41,85.43,86.94,86.21,87.73,83.17,86.49,85.17,79.61,73.64,77.67,73.37,69.94,73.77,74.26,49.47,47.87,54.83,50.23,53.77,50.11,59.57,60.06,59.84,59.25,64.95,64.55,67.38,70.15,68.44,76.2,67.84,81.39,90.84,81.06,87.27,91.98,90.37,97.18,99.22,96.31,92.95,87.01,92.81,93.19,83.12,83.63,82.45,81.77,85.2,71.82,75.0,68.85,61.09,65.49,57.79,58.18,47.66,43.33,50.01,52.77,52.02,45.64,37.64,43.15,53.53,50.74,45.14,51.3,53.35,48.45,51.72,57.75,64.21,54.4,63.63,64.47,57.63,72.12,68.27,68.4,70.93,66.59,76.67,71.81,78.72,86.84,88.95,89.85,89.9,88.1,91.17,93.29,90.61,91.04,91.74,94.61,93.66,88.0,76.36,82.95,83.26,70.44,67.31,73.05,67.41,59.77,48.76,54.2,53.25,52.5,42.17,43.29,45.4,44.64,50.43,48.07,46.2,50.43,50.58,52.27,51.8,53.13,52.27,54.54,64.44,56.26,64.36,64.05,64.28,66.73,77.99,76.03,77.27,84.51,83.84,78.11,84.83,85.94,91.61,90.47,89.13,95.61,85.53,93.47,88.16,95.91,94.87,85.32,89.78,88.52,83.64,82.97,81.22,81.61,71.74,68.66,65.95,31.53,33.16,35.7,29.98,40.65,37.62,42.49,41.48,42.15,38.97,50.39,55.66,48.33,44.42,50.15,57.71,53.11,59.85,65.24,58.41,71.83,78.82,71.33,77.79,82.27,78.94,81.24,74.93,76.34,75.31,65.71,65.74,66.84,68.22,68.74,63.03,54.12,56.89,45.12,49.96,42.55,42.0,28.22,25.8,36.78,35.21,34.9,26.79,16.94,20.6,34.8,31.64,23.35,30.83,40.85,33.17,34.23,41.28,44.69,42.38,42.49,42.75,41.72,47.55,43.85,47.75,52.4,52.12,54.62,52.76,61.39,63.35,66.38,74.29,77.3,75.59,78.5,77.62,75.56,75.95,76.68,81.53,77.0,70.19,67.54,63.6,68.28,60.62,51.74,54.66,47.41,43.51,33.8,40.65,38.89,33.94,24.82,27.85,24.76,31.53,33.8,25.61,32.71,34.32,31.39,33.73,36.57,35.38,32.36,38.24,52.5,47.83,53.2,48.85,51.7,50.24,64.8,54.41,56.47,65.17,62.39,61.11,68.4,65.97,72.89,82.0,79.23,83.68,75.69,80.42,81.99,81.69,79.4,77.37,79.18,70.65,68.55,67.96,64.8,61.79,55.1,52.06,46.97,27.31,27.73,31.27,34.89,37.13,45.8,48.79,54.36,47.74,65.45,54.28,53.47,53.15,70.75,54.26,62.62,69.27,75.93,69.71,72.62,79.32,76.61,82.45,77.84,81.46,79.78,77.17,78.44,76.01,71.36,78.37,70.87,66.55,68.59,70.58,56.49,58.61,53.15,61.3,45.65,46.14,50.02,46.15,40.93,30.54,30.51,30.59,29.67,34.32,24.78,30.55,24.05,28.73,30.3,40.7,35.78,38.65,45.01,46.66,41.76,37.27,48.71,53.69,53.04,66.18,58.21,60.38,62.28,69.7,76.38,73.88,69.32,74.85,74.04,77.49,78.47,82.33,81.31,78.22,77.0,72.98,72.55,70.63,71.48,69.17,63.75,70.66,55.82,63.82,59.6,51.78,43.92,47.65,51.34,48.71,50.19,46.57,39.93,42.27,37.79,35.88,41.18,31.85,37.93,42.96,37.0,36.85,42.86,41.55,45.52,50.56,59.45,50.04,49.73,51.83,63.13,53.2,55.21,61.24,66.3,67.21,74.48,64.3,71.93,74.22,75.22,82.99,79.97,78.89,77.2,76.58,78.65,75.71,72.62,75.09,75.7,67.87,65.32,64.88,64.89,54.47,56.47,58.85,19.83,22.0,27.54,29.87,31.79,41.39,44.69,39.53,45.27,57.77,49.63,46.54,49.09,63.16,47.13,59.09,70.61,69.99,61.04,65.83,72.79,66.13,77.33,72.83,73.2,72.04,72.7,72.17,71.1,65.07,73.17,62.36,57.94,62.53,59.69,52.19,49.96,47.1,55.09,40.29,39.63,44.1,40.71,36.0,23.97,25.3,25.07,26.54,30.53,19.53,21.84,19.61,20.69,21.64,33.06,20.87,28.16,34.27,40.23,32.63,30.34,40.94,48.63,41.37,55.46,49.87,57.07,57.19,65.87,69.8,69.86,63.9,69.96,67.43,73.47,73.34,79.97,74.67,73.63,70.63,70.41,69.19,67.63,67.59,62.1,59.0,64.87,51.24,61.3,51.67,45.54,43.39,47.13,46.53,41.1,45.67,38.53,35.49,34.93,31.44,30.24,36.26,21.39,30.87,35.3,31.91,30.26,33.18,33.24,36.97,47.42,58.92,42.65,40.01,43.52,54.47,41.57,51.04,54.23,58.84,67.97,67.61,59.35,67.7,74.28,68.91,74.64,72.62,75.31,73.9,73.13,73.99,70.29,66.98,71.42,71.61,65.44,60.34,57.13,59.57,49.12,52.89,55.75,19.79,20.87,21.13,18.12,27.92,28.64,33.45,29.88,36.19,34.21,45.69,44.9,37.75,37.43,41.26,47.34,52.08,53.76,62.63,52.4,62.37,64.44,61.79,67.68,70.67,70.71,67.42,63.91,63.59,65.66,58.02,57.24,56.55,58.19,59.39,54.29,45.0,45.85,35.76,39.94,34.04,27.26,23.46,23.68,32.02,26.01,32.46,19.66,12.39,17.46,28.6,20.8,13.64,15.02,27.18,26.15,31.77,29.36,36.5,32.61,35.75,38.04,34.59,40.74,37.77,38.64,43.29,43.95,45.17,54.08,55.78,58.34,54.36,63.59,65.0,65.16,65.36,66.84,63.96,67.09,68.83,67.51,63.44,56.99,53.68,50.39,57.61,48.91,39.97,46.99,41.97,33.43,29.56,31.73,31.39,27.83,14.44,22.5,20.79,23.91,26.49,19.55,29.3,28.17,25.53,23.69,31.19,26.21,23.4,28.16,38.02,38.7,48.29,48.93,45.83,43.61,59.69,51.34,53.57,56.74,57.36,58.97,65.43,65.36,70.41,77.31,70.49,70.29,68.43,69.0,68.59,70.24,62.07,61.44,64.19,60.09,56.69,56.48,51.4,50.46,43.26,40.59,40.99,23.11,18.36,25.06,15.64,31.58,29.71,33.96,35.59,36.94,34.05,45.22,52.25,43.82,40.26,47.28,53.94,48.19,53.79,57.14,54.94,62.64,68.98,62.41,65.66,69.66,69.96,70.53,65.17,67.04,65.03,57.86,56.28,58.53,58.39,60.07,58.06,47.35,47.95,39.87,42.54,36.32,36.31,19.03,22.47,31.64,25.13,26.58,20.79,6.23,16.57,26.62,22.16,11.29,14.19,26.86,24.36,24.21,32.42,34.48,36.71,39.38,39.16,39.98,42.24,40.14,45.66,49.26,51.93,51.04,49.61,54.57,56.61,60.99,67.39,70.6,67.93,69.82,68.59,65.71,64.79,67.59,72.04,69.31,61.94,61.48,56.96,61.4,54.4,47.69,47.27,41.89,37.52,27.61,32.93,32.81,26.47,17.56,21.07,18.76,26.73,27.64,20.28,27.26,29.99,26.26,23.63,30.76,30.01,26.28,32.02,43.69,40.69,45.29,43.92,46.94,47.69,59.11,48.86,49.96,59.67,55.69,54.13,60.51,56.67,62.9,71.14,68.91,72.94,70.59,74.2,72.94,73.29,70.98,68.89,68.07,61.99,59.64,58.43,57.77,52.81,44.82,48.16,39.94,21.33,26.41,30.91,35.42,37.17,42.39,45.42,47.55,45.63,59.91,50.26,50.3,51.12,65.64,49.9,60.27,69.12,70.28,64.08,65.96,74.04,71.22,79.75,76.9,75.71,75.79,73.67,74.19,71.76,67.05,75.42,67.09,60.94,64.82,67.76,54.73,52.02,47.12,55.85,42.05,43.17,45.26,40.81,37.09,25.64,27.4,28.16,26.1,30.1,22.69,22.55,14.84,20.79,24.3,31.59,26.15,28.49,38.4,41.12,36.65,35.06,43.32,49.91,45.99,58.82,54.17,58.48,57.55,64.6,70.9,69.49,63.23,67.41,69.75,73.12,74.36,78.68,73.85,74.58,73.57,69.24,70.32,68.23,68.11,66.23,60.44,69.01,54.65,60.26,55.83,45.61,38.29,45.69,47.88,41.97,46.25,42.36,35.52,35.78,32.36,31.27,35.25,24.2,30.44,37.62,32.83,32.87,36.34,33.59,38.1,45.84,58.06,45.35,43.8,47.75,60.88,50.43,49.66,57.44,62.31,65.48,71.42,59.1,66.58,70.92,70.17,76.08,75.09,77.43,72.97,72.67,75.7,73.25,68.52,70.09,71.85,64.45,60.23,58.24,59.68,50.97,51.96,56.09,20.96,23.22,28.57,30.33,32.92,39.06,43.74,39.07,45.26,55.66,49.67,46.87,49.89,62.54,46.53,57.53,68.85,68.88,61.64,66.25,72.3,66.25,78.22,74.6,74.68,72.83,74.2,72.71,72.22,66.4,74.69,63.36,58.68,63.43,59.91,53.74,51.32,48.45,56.11,41.78,40.3,44.22,42.62,36.64,25.12,26.83,26.05,28.65,31.34,21.68,22.8,20.66,21.02,21.79,34.74,23.24,29.28,35.59,40.32,33.26,30.68,41.26,48.67,41.66,54.23,50.43,54.2,52.8,63.2,66.01,68.26,64.02,68.4,67.64,73.2,73.7,79.37,74.86,73.84,70.92,71.14,69.34,69.27,68.28,62.76,61.32,64.99,53.1,61.86,52.05,46.49,44.97,48.22,48.21,42.75,45.67,40.18,37.07,36.09,31.65,31.84,37.08,23.44,32.41,36.22,32.61,30.95,33.91,34.83,38.15,48.2,56.72,43.47,40.23,44.42,55.2,42.45,50.76,55.33,58.81,67.79,68.18,60.19,68.19,75.83,69.92,76.07,73.17,76.17,74.43,73.41,74.45,69.83,66.66,71.85,72.2,65.08,60.62,56.81,59.86,48.29,53.44,56.49,25.92,22.12,25.43,32.32,31.75,43.82,47.32,50.49,51.0,65.1,55.43,50.65,54.75,66.74,55.91,60.38,70.97,72.52,67.32,72.62,75.17,70.1,78.09,75.14,77.75,76.03,74.57,75.98,75.34,70.51,75.5,65.02,65.28,69.37,61.08,51.5,59.17,50.52,57.56,42.78,42.38,45.88,46.66,35.47,24.27,24.07,25.17,28.85,31.43,20.39,27.43,23.21,28.58,25.38,42.95,33.2,37.33,39.53,44.8,44.83,32.43,47.09,55.0,52.56,62.97,53.41,62.26,59.01,69.12,73.51,73.64,66.41,72.4,69.66,74.69,74.88,78.89,77.47,77.8,73.52,71.25,70.15,70.82,68.74,64.02,62.15,63.44,52.42,62.54,53.69,49.36,43.88,47.27,49.3,46.38,46.32,41.64,37.16,40.19,36.35,33.42,37.79,27.65,37.19,39.93,33.47,31.11,39.79,39.98,41.14,53.73,66.11,51.52,50.06,45.68,60.11,47.64,62.74,63.19,60.99,70.04,73.67,62.01,71.51,76.51,74.15,79.2,78.27,76.04,74.6,74.73,75.4,69.57,68.27,72.66,76.36,64.84,60.94,58.65,60.77,47.2,56.26,60.04,39.05,37.77,39.75,45.31,48.61,57.1,54.68,51.66,64.12,65.74,67.87,64.21,66.93,70.87,73.08,74.24,80.94,82.68,83.51,86.18,87.01,82.29,81.67,85.61,87.17,83.59,90.3,89.65,89.58,86.2,82.57,79.3,83.03,80.79,70.28,65.76,68.61,70.72,67.51,58.71,60.95,51.71,62.96,50.43,46.35,48.63,51.29,47.19,44.24,34.14,42.72,44.04,36.33,34.61,59.87,61.27,59.52,54.69,63.26,70.33,56.36,68.62,71.01,70.79,70.19,61.87,75.04,68.36,76.86,83.82,84.71,87.54,85.72,87.57,89.16,91.05,90.27,91.56,94.22,92.32,90.11,92.07,91.94,78.87,80.62,75.68,78.91,71.64,69.79,65.16,65.46,56.01,59.8,61.9,56.43,48.72,41.44,50.56,46.54,45.16,48.1,45.0,52.21,50.79,55.83,46.52,45.03,54.81,59.3,57.16,63.39,62.96,67.87,69.02,69.03,66.97,69.21,77.53,74.14,72.42,79.49,79.24,79.47,81.51,81.78,88.05,85.26,82.51,84.25,88.09,91.57,89.57,85.55,77.72,83.58,88.4,76.1,71.54,80.38,70.28,61.53,68.52,70.5,24.36,28.14,31.96,35.98,36.82,43.43,46.03,48.56,44.96,57.06,51.14,51.04,50.96,63.81,50.99,59.99,65.64,69.49,65.01,67.13,74.37,72.88,79.22,76.3,76.91,76.35,74.37,74.75,73.21,68.99,75.85,68.6,62.49,65.14,69.31,56.32,55.23,50.24,57.73,44.34,44.42,48.62,44.61,39.42,28.43,30.46,29.76,28.49,32.56,24.76,26.8,20.61,26.39,28.89,35.34,30.23,33.52,41.42,43.38,38.77,36.04,44.42,48.88,47.76,57.2,53.63,57.71,58.56,62.59,70.09,69.53,63.97,68.53,70.8,74.22,75.2,77.79,75.32,75.33,74.69,71.3,72.22,69.16,69.14,68.08,62.36,69.78,56.44,62.63,59.3,49.31,42.81,47.8,50.62,46.28,49.11,45.35,39.11,39.83,36.28,34.61,39.0,29.16,35.68,40.58,35.68,36.25,39.0,37.47,41.72,46.06,54.68,46.4,46.38,49.89,58.81,51.42,50.75,56.72,61.9,62.39,70.01,61.71,66.56,70.61,70.99,77.41,75.81,76.57,73.52,72.99,76.74,74.92,70.42,71.93,73.3,66.42,63.38,62.17,62.09,54.18,55.28,57.58,15.25,18.75,26.7,32.68,33.15,36.07,43.01,38.59,40.5,56.82,44.25,46.4,45.47,61.04,45.33,57.94,69.26,64.94,58.35,60.29,69.83,64.76,77.16,73.94,70.2,69.71,70.03,67.43,68.65,63.25,72.91,63.21,55.3,57.75,62.07,50.75,45.55,43.19,48.68,36.6,35.59,41.66,34.95,34.3,20.12,23.05,22.96,19.05,27.81,18.2,15.58,10.91,14.5,21.52,26.6,17.0,20.67,29.36,37.28,29.11,29.44,36.74,45.51,39.62,54.2,50.07,55.12,56.67,63.27,67.21,65.23,61.06,63.8,65.65,69.92,69.8,76.74,69.55,69.53,69.86,67.09,67.04,65.33,66.04,60.52,57.14,64.76,49.0,56.79,52.12,42.57,39.18,44.04,45.48,35.23,43.6,36.4,32.99,27.8,22.3,24.29,28.49,15.33,25.71,29.71,26.6,27.01,31.12,25.91,33.11,41.19,57.82,36.71,37.43,41.81,56.55,44.62,45.88,52.9,58.42,66.43,66.22,56.82,64.73,71.82,64.23,70.86,69.19,71.13,69.31,71.51,71.12,69.97,64.63,68.34,66.74,61.37,56.8,53.71,56.65,48.1,47.89,50.56,22.43,25.94,31.05,33.98,36.73,42.31,46.09,48.87,45.22,62.06,51.08,51.07,51.48,66.65,51.31,60.44,69.59,71.99,64.84,67.17,74.9,71.12,79.05,76.56,75.27,75.91,74.54,74.17,72.17,67.0,73.52,67.11,60.31,64.3,66.88,54.82,52.83,48.69,57.29,42.2,41.76,45.63,41.92,37.08,27.11,27.99,27.74,25.9,30.72,22.41,23.69,17.91,23.83,26.51,34.04,26.09,31.36,39.51,43.39,36.88,35.73,44.7,52.36,46.0,60.48,55.75,58.49,59.84,65.74,73.12,70.02,64.34,68.88,70.27,72.56,74.43,79.29,74.84,74.64,72.52,69.93,69.94,68.14,68.32,65.56,60.61,68.0,53.87,60.21,56.6,48.0,39.87,46.78,48.17,41.83,47.21,42.3,36.0,36.93,33.45,32.86,36.5,25.73,31.92,38.61,33.82,33.92,37.35,35.36,41.5,48.68,59.51,47.28,45.25,48.65,61.05,49.26,52.14,58.7,63.1,65.79,71.79,59.93,68.28,72.29,70.4,77.18,75.36,76.42,73.62,73.26,75.53,72.87,68.13,71.18,72.81,64.28,61.25,58.86,60.35,51.64,52.59,55.16,21.1,19.64,24.16,29.16,29.45,40.05,45.0,45.84,47.2,61.36,52.16,46.12,50.97,63.67,50.27,57.17,69.31,69.22,63.68,69.56,72.17,66.42,75.24,73.43,75.37,71.99,71.79,72.73,71.81,67.15,71.17,61.14,60.13,65.06,57.56,48.46,54.09,46.73,55.72,38.8,40.68,42.72,43.43,32.41,22.65,21.6,22.94,25.89,29.0,18.3,23.21,18.92,23.94,21.18,38.42,28.36,31.59,36.73,40.94,38.51,28.5,42.11,51.43,45.87,58.43,49.5,60.1,56.56,67.18,70.69,71.45,63.58,70.71,66.61,71.64,72.67,78.1,74.72,74.0,70.93,68.09,66.8,67.2,67.51,62.05,60.28,60.7,50.82,58.95,50.22,46.28,40.88,44.81,46.41,43.49,42.85,38.69,33.09,36.56,32.42,30.23,34.6,23.87,32.24,34.98,32.47,32.23,35.51,36.01,37.44,50.64,62.7,47.92,44.73,42.46,57.1,44.2,58.76,59.21,58.21,67.69,69.54,58.48,68.34,73.52,69.84,75.52,73.87,74.32,72.98,72.08,71.93,66.99,64.53,68.55,72.79,60.9,57.6,54.52,57.58,43.74,51.93,56.69,9.55,18.14,22.62,27.32,28.6,31.1,35.34,35.26,36.53,50.13,36.6,39.68,40.56,54.72,39.08,50.81,61.65,58.46,51.62,53.62,63.78,58.9,71.08,67.66,65.4,63.79,62.93,61.58,62.68,57.23,66.93,54.82,50.08,52.47,57.8,46.81,39.93,36.13,40.3,30.51,37.51,36.73,28.11,27.73,16.6,20.61,21.81,18.73,21.13,16.7,12.98,5.54,11.17,15.12,19.63,16.3,14.31,28.13,31.76,22.99,22.99,29.09,39.46,33.81,47.17,45.0,48.2,48.86,56.74,60.49,59.85,54.5,56.94,59.89,63.34,64.43,69.52,63.32,63.16,62.99,60.58,61.1,59.67,60.98,55.19,50.72,59.42,46.84,53.91,45.23,35.06,31.7,40.08,37.78,31.07,36.74,34.24,28.24,22.53,18.8,22.94,25.55,15.22,24.16,25.24,23.89,23.9,28.06,22.49,29.03,35.06,49.97,33.33,33.35,36.9,50.81,43.6,40.29,47.11,52.55,58.2,58.51,49.43,57.84,63.04,60.71,64.94,64.47,66.75,64.12,65.6,67.01,65.54,62.08,63.69,61.58,57.69,52.68,50.66,54.07,45.19,43.51,46.95,27.19,29.81,32.44,36.0,38.07,45.98,49.04,52.34,46.9,62.62,54.95,53.91,53.55,69.02,53.82,63.31,67.88,74.29,68.9,70.0,78.02,76.25,82.69,78.26,81.56,79.78,77.45,77.36,75.16,70.31,78.52,70.38,64.5,67.08,70.19,57.78,58.38,52.82,61.02,45.91,45.9,50.81,46.67,41.81,30.83,31.62,31.34,29.59,34.42,25.7,30.13,23.64,28.7,30.45,39.32,33.05,36.99,43.64,46.65,40.11,37.27,46.87,52.24,50.02,61.71,56.48,60.07,60.22,66.43,74.17,73.26,67.03,72.02,73.76,76.87,77.83,82.28,79.41,78.14,76.67,72.97,72.88,71.44,70.93,69.65,63.61,70.92,56.91,64.78,59.62,51.81,44.46,49.69,51.42,47.88,50.55,46.28,40.68,41.59,37.85,35.8,41.3,30.35,36.96,42.52,37.86,37.24,41.74,40.07,44.32,49.6,57.3,49.4,48.73,52.22,62.62,52.33,53.68,58.97,65.15,64.77,73.4,64.05,69.52,73.23,73.94,82.08,78.95,78.64,76.01,75.22,78.44,76.51,72.93,75.0,76.0,68.72,66.1,64.92,64.5,55.4,56.53,58.99,49.47,47.87,54.83,50.23,53.77,50.11,59.57,60.06,59.84,59.25,64.95,64.55,67.38,70.15,68.44,76.2,67.84,81.39,90.84,81.06,87.27,91.98,90.37,97.18,99.22,96.31,92.95,87.01,92.81,93.19,83.12,83.63,82.45,81.77,85.2,71.82,75.0,68.85,61.09,65.49,57.79,58.18,47.66,43.33,50.01,52.77,52.02,45.64,37.64,43.15,53.53,50.74,45.14,51.3,53.35,48.45,51.72,57.75,64.21,54.4,63.63,64.47,57.63,72.12,68.27,68.4,70.93,66.59,76.67,71.81,78.72,86.84,88.95,89.85,89.9,88.1,91.17,93.29,90.61,91.04,91.74,94.61,93.66,88.0,76.36,82.95,83.26,70.44,67.31,73.05,67.41,59.77,48.76,54.2,53.25,52.5,42.17,43.29,45.4,44.64,50.43,48.07,46.2,50.43,50.58,52.27,51.8,53.13,52.27,54.54,64.44,56.26,64.36,64.05,64.28,66.73,77.99,76.03,77.27,84.51,83.84,78.11,84.83,85.94,91.61,90.47,89.13,95.61,85.53,93.47,88.16,95.91,94.87,85.32,89.78,88.52,83.64,82.97,81.22,81.61,71.74,68.66,65.95,24.36,28.14,31.96,35.98,36.82,43.43,46.03,48.56,44.96,57.06,51.14,51.04,50.96,63.81,50.99,59.99,65.64,69.49,65.01,67.13,74.37,72.88,79.22,76.3,76.91,76.35,74.37,74.75,73.21,68.99,75.85,68.6,62.49,65.14,69.31,56.32,55.23,50.24,57.73,44.34,44.42,48.62,44.61,39.42,28.43,30.46,29.76,28.49,32.56,24.76,26.8,20.61,26.39,28.89,35.34,30.23,33.52,41.42,43.38,38.77,36.04,44.42,48.88,47.76,57.2,53.63,57.71,58.56,62.59,70.09,69.53,63.97,68.53,70.8,74.22,75.2,77.79,75.32,75.33,74.69,71.3,72.22,69.16,69.14,68.08,62.36,69.78,56.44,62.63,59.3,49.31,42.81,47.8,50.62,46.28,49.11,45.35,39.11,39.83,36.28,34.61,39.0,29.16,35.68,40.58,35.68,36.25,39.0,37.47,41.72,46.06,54.68,46.4,46.38,49.89,58.81,51.42,50.75,56.72,61.9,62.39,70.01,61.71,66.56,70.61,70.99,77.41,75.81,76.57,73.52,72.99,76.74,74.92,70.42,71.93,73.3,66.42,63.38,62.17,62.09,54.18,55.28,57.58,39.05,37.77,39.75,45.31,48.61,57.1,54.68,51.66,64.12,65.74,67.87,64.21,66.93,70.87,73.08,74.24,80.94,82.68,83.51,86.18,87.01,82.29,81.67,85.61,87.17,83.59,90.3,89.65,89.58,86.2,82.57,79.3,83.03,80.79,70.28,65.76,68.61,70.72,67.51,58.71,60.95,51.71,62.96,50.43,46.35,48.63,51.29,47.19,44.24,34.14,42.72,44.04,36.33,34.61,59.87,61.27,59.52,54.69,63.26,70.33,56.36,68.62,71.01,70.79,70.19,61.87,75.04,68.36,76.86,83.82,84.71,87.54,85.72,87.57,89.16,91.05,90.27,91.56,94.22,92.32,90.11,92.07,91.94,78.87,80.62,75.68,78.91,71.64,69.79,65.16,65.46,56.01,59.8,61.9,56.43,48.72,41.44,50.56,46.54,45.16,48.1,45.0,52.21,50.79,55.83,46.52,45.03,54.81,59.3,57.16,63.39,62.96,67.87,69.02,69.03,66.97,69.21,77.53,74.14,72.42,79.49,79.24,79.47,81.51,81.78,88.05,85.26,82.51,84.25,88.09,91.57,89.57,85.55,77.72,83.58,88.4,76.1,71.54,80.38,70.28,61.53,68.52,70.5,34.43,28.09,29.16,26.64,37.72,39.88,42.43,36.59,48.28,44.88,53.49,50.06,47.51,48.94,46.42,55.89,64.69,66.69,70.86,60.94,72.42,74.74,67.55,76.2,75.69,75.62,72.95,74.97,71.46,74.95,70.2,68.44,67.17,64.19,66.14,61.81,52.96,52.3,45.45,49.2,42.3,36.24,29.97,35.18,36.62,36.07,30.72,27.7,23.78,21.69,34.54,34.86,15.47,18.51,42.09,33.0,39.17,36.51,45.25,46.7,44.83,48.81,45.97,48.69,44.86,46.65,56.09,45.71,55.13,61.25,65.49,67.38,65.06,72.86,72.56,70.55,76.0,75.91,74.83,74.2,73.72,75.64,74.6,61.24,60.88,58.66,65.04,62.62,50.15,48.87,42.76,37.95,38.1,42.61,40.22,33.8,17.94,26.23,25.97,32.99,36.75,28.99,36.86,36.67,35.89,23.34,24.26,33.41,33.4,39.9,51.51,47.64,56.09,51.49,52.1,49.15,61.76,58.29,55.4,57.46,59.74,62.84,71.14,70.91,74.85,81.95,78.68,71.57,77.76,77.56,75.09,75.93,70.75,70.12,76.12,72.56,64.05,63.49,60.62,55.34,43.49,53.57,47.22,35.44,36.13,38.36,37.28,42.65,42.26,45.86,42.91,50.07,51.26,59.18,55.04,56.58,57.39,60.74,63.99,68.68,72.17,80.84,73.48,78.47,73.66,75.0,78.53,79.58,72.26,73.8,76.72,76.45,72.87,72.59,72.61,70.71,69.78,70.13,65.21,59.57,58.11,50.78,52.43,47.2,40.93,41.13,34.7,41.93,42.64,42.74,34.11,24.5,30.75,39.57,34.68,23.82,28.66,45.12,44.57,46.21,45.87,55.58,53.11,55.46,58.59,53.3,63.83,57.73,54.4,63.05,61.47,65.99,74.64,74.57,76.58,77.16,81.96,80.84,78.09,80.75,78.04,76.71,80.23,77.08,77.27,78.24,70.05,64.94,66.23,69.44,60.42,54.72,58.93,54.56,48.04,41.04,46.0,45.99,39.75,24.69,32.31,32.45,28.84,36.39,33.99,39.28,39.81,38.64,36.7,37.25,39.89,42.74,42.7,48.09,47.93,59.29,54.42,59.12,55.34,66.49,65.04,61.92,64.97,72.42,70.41,75.35,76.48,78.85,81.91,77.95,74.02,77.7,77.3,78.93,78.26,77.78,72.44,75.89,78.26,64.28,66.08,67.06,65.41,59.94,58.47,57.95,27.19,29.81,32.44,36.0,38.07,45.98,49.04,52.34,46.9,62.62,54.95,53.91,53.55,69.02,53.82,63.31,67.88,74.29,68.9,70.0,78.02,76.25,82.69,78.26,81.56,79.78,77.45,77.36,75.16,70.31,78.52,70.38,64.5,67.08,70.19,57.78,58.38,52.82,61.02,45.91,45.9,50.81,46.67,41.81,30.83,31.62,31.34,29.59,34.42,25.7,30.13,23.64,28.7,30.45,39.32,33.05,36.99,43.64,46.65,40.11,37.27,46.87,52.24,50.02,61.71,56.48,60.07,60.22,66.43,74.17,73.26,67.03,72.02,73.76,76.87,77.83,82.28,79.41,78.14,76.67,72.97,72.88,71.44,70.93,69.65,63.61,70.92,56.91,64.78,59.62,51.81,44.46,49.69,51.42,47.88,50.55,46.28,40.68,41.59,37.85,35.8,41.3,30.35,36.96,42.52,37.86,37.24,41.74,40.07,44.32,49.6,57.3,49.4,48.73,52.22,62.62,52.33,53.68,58.97,65.15,64.77,73.4,64.05,69.52,73.23,73.94,82.08,78.95,78.64,76.01,75.22,78.44,76.51,72.93,75.0,76.0,68.72,66.1,64.92,64.5,55.4,56.53,58.99,44.3,44.58,43.96,49.79,50.93,61.88,58.62,54.83,63.31,68.15,66.33,67.64,70.03,74.86,77.49,76.67,80.22,79.83,81.78,83.96,83.24,81.35,81.1,83.86,82.2,80.99,84.92,85.66,85.73,84.31,82.13,79.94,81.83,78.5,72.74,64.8,69.96,71.73,75.14,61.62,62.21,55.5,67.75,53.55,50.81,55.31,58.86,52.45,52.74,41.74,50.25,47.94,45.96,40.34,58.2,67.77,63.56,58.35,65.28,71.17,66.57,69.45,73.19,74.98,76.47,68.75,77.39,73.31,82.1,83.59,82.75,85.21,84.06,84.93,84.33,85.96,84.6,86.24,87.73,88.27,87.93,86.49,88.65,79.15,83.11,78.75,81.51,71.68,73.79,67.65,71.05,58.04,63.11,66.09,66.36,53.14,49.36,58.58,54.62,47.6,55.83,54.66,58.04,60.65,60.69,52.89,52.75,61.1,64.05,61.64,65.81,67.91,69.11,73.49,71.59,70.04,69.11,77.15,75.52,72.36,78.31,80.33,81.12,81.33,79.84,85.72,81.05,78.16,80.32,82.89,84.05,83.47,84.72,80.49,83.72,83.71,76.71,73.58,78.04,72.05,69.88,71.45,72.9,14.48,20.84,27.84,33.32,34.78,35.1,40.54,39.51,41.39,54.31,43.3,45.85,46.5,60.05,45.5,56.75,67.88,65.7,59.42,60.97,69.72,65.47,76.67,74.25,71.79,71.35,69.16,67.47,67.05,62.57,70.66,62.75,55.34,55.63,62.01,52.02,44.56,41.25,47.1,36.45,38.5,40.52,32.94,33.6,21.64,23.01,24.18,19.29,24.05,18.55,14.64,9.51,13.29,16.87,21.82,16.5,18.49,30.53,35.76,28.89,28.6,34.77,43.69,39.32,52.68,50.81,54.09,56.38,63.11,66.16,64.19,59.16,62.59,65.25,67.86,68.9,73.34,67.45,68.1,68.3,64.05,65.01,63.79,64.83,58.28,54.09,63.45,50.21,53.9,51.61,42.09,35.4,40.75,41.85,32.76,38.51,34.48,29.53,24.46,18.75,23.29,25.9,14.02,22.91,27.86,23.92,25.56,29.88,23.79,30.58,37.13,52.27,36.25,36.54,40.65,55.3,47.51,44.47,52.06,57.59,65.25,64.75,55.78,63.39,69.32,64.42,69.08,67.48,70.45,67.88,70.15,70.09,69.41,63.91,66.11,65.06,59.38,54.12,50.98,57.21,47.35,46.33,49.65,30.27,23.04,24.13,21.84,32.49,33.4,36.7,32.3,41.31,37.3,46.79,45.29,40.2,41.5,40.23,50.59,56.97,60.13,63.36,54.9,66.0,69.39,60.93,69.06,70.77,70.07,69.21,70.24,66.19,70.59,64.13,63.3,62.4,60.11,62.67,57.1,49.91,48.09,42.16,46.74,38.99,31.34,25.3,33.0,33.9,31.51,29.81,25.19,23.76,22.44,32.7,32.23,14.56,16.81,39.39,26.1,34.99,31.6,40.19,41.11,38.16,42.87,39.94,42.86,39.81,41.2,50.29,41.11,50.56,54.81,61.1,62.3,59.54,67.01,68.49,68.18,74.11,71.3,72.19,67.65,70.55,71.61,70.37,58.31,54.82,55.06,61.77,58.74,47.43,45.62,37.02,35.04,32.87,36.64,36.37,34.53,17.05,25.01,25.59,34.12,37.21,27.49,31.56,33.15,31.65,22.0,22.52,27.89,27.39,35.3,47.76,44.04,51.56,48.48,46.84,43.57,57.66,52.86,50.22,55.24,54.89,57.29,65.11,64.92,66.88,76.54,74.47,67.24,74.06,73.31,73.16,71.73,65.77,69.07,71.56,67.41,59.39,59.81,56.08,50.14,39.38,49.56,41.8,27.31,27.73,31.27,34.89,37.13,45.8,48.79,54.36,47.74,65.45,54.28,53.47,53.15,70.75,54.26,62.62,69.27,75.93,69.71,72.62,79.32,76.61,82.45,77.84,81.46,79.78,77.17,78.44,76.01,71.36,78.37,70.87,66.55,68.59,70.58,56.49,58.61,53.15,61.3,45.65,46.14,50.02,46.15,40.93,30.54,30.51,30.59,29.67,34.32,24.78,30.55,24.05,28.73,30.3,40.7,35.78,38.65,45.01,46.66,41.76,37.27,48.71,53.69,53.04,66.18,58.21,60.38,62.28,69.7,76.38,73.88,69.32,74.85,74.04,77.49,78.47,82.33,81.31,78.22,77.0,72.98,72.55,70.63,71.48,69.17,63.75,70.66,55.82,63.82,59.6,51.78,43.92,47.65,51.34,48.71,50.19,46.57,39.93,42.27,37.79,35.88,41.18,31.85,37.93,42.96,37.0,36.85,42.86,41.55,45.52,50.56,59.45,50.04,49.73,51.83,63.13,53.2,55.21,61.24,66.3,67.21,74.48,64.3,71.93,74.22,75.22,82.99,79.97,78.89,77.2,76.58,78.65,75.71,72.62,75.09,75.7,67.87,65.32,64.88,64.89,54.47,56.47,58.85],\"y0\":\" \",\"yaxis\":\"y\",\"type\":\"box\"}],                        {\"template\":{\"data\":{\"bar\":[{\"error_x\":{\"color\":\"#2a3f5f\"},\"error_y\":{\"color\":\"#2a3f5f\"},\"marker\":{\"line\":{\"color\":\"#E5ECF6\",\"width\":0.5},\"pattern\":{\"fillmode\":\"overlay\",\"size\":10,\"solidity\":0.2}},\"type\":\"bar\"}],\"barpolar\":[{\"marker\":{\"line\":{\"color\":\"#E5ECF6\",\"width\":0.5},\"pattern\":{\"fillmode\":\"overlay\",\"size\":10,\"solidity\":0.2}},\"type\":\"barpolar\"}],\"carpet\":[{\"aaxis\":{\"endlinecolor\":\"#2a3f5f\",\"gridcolor\":\"white\",\"linecolor\":\"white\",\"minorgridcolor\":\"white\",\"startlinecolor\":\"#2a3f5f\"},\"baxis\":{\"endlinecolor\":\"#2a3f5f\",\"gridcolor\":\"white\",\"linecolor\":\"white\",\"minorgridcolor\":\"white\",\"startlinecolor\":\"#2a3f5f\"},\"type\":\"carpet\"}],\"choropleth\":[{\"colorbar\":{\"outlinewidth\":0,\"ticks\":\"\"},\"type\":\"choropleth\"}],\"contour\":[{\"colorbar\":{\"outlinewidth\":0,\"ticks\":\"\"},\"colorscale\":[[0.0,\"#0d0887\"],[0.1111111111111111,\"#46039f\"],[0.2222222222222222,\"#7201a8\"],[0.3333333333333333,\"#9c179e\"],[0.4444444444444444,\"#bd3786\"],[0.5555555555555556,\"#d8576b\"],[0.6666666666666666,\"#ed7953\"],[0.7777777777777778,\"#fb9f3a\"],[0.8888888888888888,\"#fdca26\"],[1.0,\"#f0f921\"]],\"type\":\"contour\"}],\"contourcarpet\":[{\"colorbar\":{\"outlinewidth\":0,\"ticks\":\"\"},\"type\":\"contourcarpet\"}],\"heatmap\":[{\"colorbar\":{\"outlinewidth\":0,\"ticks\":\"\"},\"colorscale\":[[0.0,\"#0d0887\"],[0.1111111111111111,\"#46039f\"],[0.2222222222222222,\"#7201a8\"],[0.3333333333333333,\"#9c179e\"],[0.4444444444444444,\"#bd3786\"],[0.5555555555555556,\"#d8576b\"],[0.6666666666666666,\"#ed7953\"],[0.7777777777777778,\"#fb9f3a\"],[0.8888888888888888,\"#fdca26\"],[1.0,\"#f0f921\"]],\"type\":\"heatmap\"}],\"heatmapgl\":[{\"colorbar\":{\"outlinewidth\":0,\"ticks\":\"\"},\"colorscale\":[[0.0,\"#0d0887\"],[0.1111111111111111,\"#46039f\"],[0.2222222222222222,\"#7201a8\"],[0.3333333333333333,\"#9c179e\"],[0.4444444444444444,\"#bd3786\"],[0.5555555555555556,\"#d8576b\"],[0.6666666666666666,\"#ed7953\"],[0.7777777777777778,\"#fb9f3a\"],[0.8888888888888888,\"#fdca26\"],[1.0,\"#f0f921\"]],\"type\":\"heatmapgl\"}],\"histogram\":[{\"marker\":{\"pattern\":{\"fillmode\":\"overlay\",\"size\":10,\"solidity\":0.2}},\"type\":\"histogram\"}],\"histogram2d\":[{\"colorbar\":{\"outlinewidth\":0,\"ticks\":\"\"},\"colorscale\":[[0.0,\"#0d0887\"],[0.1111111111111111,\"#46039f\"],[0.2222222222222222,\"#7201a8\"],[0.3333333333333333,\"#9c179e\"],[0.4444444444444444,\"#bd3786\"],[0.5555555555555556,\"#d8576b\"],[0.6666666666666666,\"#ed7953\"],[0.7777777777777778,\"#fb9f3a\"],[0.8888888888888888,\"#fdca26\"],[1.0,\"#f0f921\"]],\"type\":\"histogram2d\"}],\"histogram2dcontour\":[{\"colorbar\":{\"outlinewidth\":0,\"ticks\":\"\"},\"colorscale\":[[0.0,\"#0d0887\"],[0.1111111111111111,\"#46039f\"],[0.2222222222222222,\"#7201a8\"],[0.3333333333333333,\"#9c179e\"],[0.4444444444444444,\"#bd3786\"],[0.5555555555555556,\"#d8576b\"],[0.6666666666666666,\"#ed7953\"],[0.7777777777777778,\"#fb9f3a\"],[0.8888888888888888,\"#fdca26\"],[1.0,\"#f0f921\"]],\"type\":\"histogram2dcontour\"}],\"mesh3d\":[{\"colorbar\":{\"outlinewidth\":0,\"ticks\":\"\"},\"type\":\"mesh3d\"}],\"parcoords\":[{\"line\":{\"colorbar\":{\"outlinewidth\":0,\"ticks\":\"\"}},\"type\":\"parcoords\"}],\"pie\":[{\"automargin\":true,\"type\":\"pie\"}],\"scatter\":[{\"marker\":{\"colorbar\":{\"outlinewidth\":0,\"ticks\":\"\"}},\"type\":\"scatter\"}],\"scatter3d\":[{\"line\":{\"colorbar\":{\"outlinewidth\":0,\"ticks\":\"\"}},\"marker\":{\"colorbar\":{\"outlinewidth\":0,\"ticks\":\"\"}},\"type\":\"scatter3d\"}],\"scattercarpet\":[{\"marker\":{\"colorbar\":{\"outlinewidth\":0,\"ticks\":\"\"}},\"type\":\"scattercarpet\"}],\"scattergeo\":[{\"marker\":{\"colorbar\":{\"outlinewidth\":0,\"ticks\":\"\"}},\"type\":\"scattergeo\"}],\"scattergl\":[{\"marker\":{\"colorbar\":{\"outlinewidth\":0,\"ticks\":\"\"}},\"type\":\"scattergl\"}],\"scattermapbox\":[{\"marker\":{\"colorbar\":{\"outlinewidth\":0,\"ticks\":\"\"}},\"type\":\"scattermapbox\"}],\"scatterpolar\":[{\"marker\":{\"colorbar\":{\"outlinewidth\":0,\"ticks\":\"\"}},\"type\":\"scatterpolar\"}],\"scatterpolargl\":[{\"marker\":{\"colorbar\":{\"outlinewidth\":0,\"ticks\":\"\"}},\"type\":\"scatterpolargl\"}],\"scatterternary\":[{\"marker\":{\"colorbar\":{\"outlinewidth\":0,\"ticks\":\"\"}},\"type\":\"scatterternary\"}],\"surface\":[{\"colorbar\":{\"outlinewidth\":0,\"ticks\":\"\"},\"colorscale\":[[0.0,\"#0d0887\"],[0.1111111111111111,\"#46039f\"],[0.2222222222222222,\"#7201a8\"],[0.3333333333333333,\"#9c179e\"],[0.4444444444444444,\"#bd3786\"],[0.5555555555555556,\"#d8576b\"],[0.6666666666666666,\"#ed7953\"],[0.7777777777777778,\"#fb9f3a\"],[0.8888888888888888,\"#fdca26\"],[1.0,\"#f0f921\"]],\"type\":\"surface\"}],\"table\":[{\"cells\":{\"fill\":{\"color\":\"#EBF0F8\"},\"line\":{\"color\":\"white\"}},\"header\":{\"fill\":{\"color\":\"#C8D4E3\"},\"line\":{\"color\":\"white\"}},\"type\":\"table\"}]},\"layout\":{\"annotationdefaults\":{\"arrowcolor\":\"#2a3f5f\",\"arrowhead\":0,\"arrowwidth\":1},\"autotypenumbers\":\"strict\",\"coloraxis\":{\"colorbar\":{\"outlinewidth\":0,\"ticks\":\"\"}},\"colorscale\":{\"diverging\":[[0,\"#8e0152\"],[0.1,\"#c51b7d\"],[0.2,\"#de77ae\"],[0.3,\"#f1b6da\"],[0.4,\"#fde0ef\"],[0.5,\"#f7f7f7\"],[0.6,\"#e6f5d0\"],[0.7,\"#b8e186\"],[0.8,\"#7fbc41\"],[0.9,\"#4d9221\"],[1,\"#276419\"]],\"sequential\":[[0.0,\"#0d0887\"],[0.1111111111111111,\"#46039f\"],[0.2222222222222222,\"#7201a8\"],[0.3333333333333333,\"#9c179e\"],[0.4444444444444444,\"#bd3786\"],[0.5555555555555556,\"#d8576b\"],[0.6666666666666666,\"#ed7953\"],[0.7777777777777778,\"#fb9f3a\"],[0.8888888888888888,\"#fdca26\"],[1.0,\"#f0f921\"]],\"sequentialminus\":[[0.0,\"#0d0887\"],[0.1111111111111111,\"#46039f\"],[0.2222222222222222,\"#7201a8\"],[0.3333333333333333,\"#9c179e\"],[0.4444444444444444,\"#bd3786\"],[0.5555555555555556,\"#d8576b\"],[0.6666666666666666,\"#ed7953\"],[0.7777777777777778,\"#fb9f3a\"],[0.8888888888888888,\"#fdca26\"],[1.0,\"#f0f921\"]]},\"colorway\":[\"#636efa\",\"#EF553B\",\"#00cc96\",\"#ab63fa\",\"#FFA15A\",\"#19d3f3\",\"#FF6692\",\"#B6E880\",\"#FF97FF\",\"#FECB52\"],\"font\":{\"color\":\"#2a3f5f\"},\"geo\":{\"bgcolor\":\"white\",\"lakecolor\":\"white\",\"landcolor\":\"#E5ECF6\",\"showlakes\":true,\"showland\":true,\"subunitcolor\":\"white\"},\"hoverlabel\":{\"align\":\"left\"},\"hovermode\":\"closest\",\"mapbox\":{\"style\":\"light\"},\"paper_bgcolor\":\"white\",\"plot_bgcolor\":\"#E5ECF6\",\"polar\":{\"angularaxis\":{\"gridcolor\":\"white\",\"linecolor\":\"white\",\"ticks\":\"\"},\"bgcolor\":\"#E5ECF6\",\"radialaxis\":{\"gridcolor\":\"white\",\"linecolor\":\"white\",\"ticks\":\"\"}},\"scene\":{\"xaxis\":{\"backgroundcolor\":\"#E5ECF6\",\"gridcolor\":\"white\",\"gridwidth\":2,\"linecolor\":\"white\",\"showbackground\":true,\"ticks\":\"\",\"zerolinecolor\":\"white\"},\"yaxis\":{\"backgroundcolor\":\"#E5ECF6\",\"gridcolor\":\"white\",\"gridwidth\":2,\"linecolor\":\"white\",\"showbackground\":true,\"ticks\":\"\",\"zerolinecolor\":\"white\"},\"zaxis\":{\"backgroundcolor\":\"#E5ECF6\",\"gridcolor\":\"white\",\"gridwidth\":2,\"linecolor\":\"white\",\"showbackground\":true,\"ticks\":\"\",\"zerolinecolor\":\"white\"}},\"shapedefaults\":{\"line\":{\"color\":\"#2a3f5f\"}},\"ternary\":{\"aaxis\":{\"gridcolor\":\"white\",\"linecolor\":\"white\",\"ticks\":\"\"},\"baxis\":{\"gridcolor\":\"white\",\"linecolor\":\"white\",\"ticks\":\"\"},\"bgcolor\":\"#E5ECF6\",\"caxis\":{\"gridcolor\":\"white\",\"linecolor\":\"white\",\"ticks\":\"\"}},\"title\":{\"x\":0.05},\"xaxis\":{\"automargin\":true,\"gridcolor\":\"white\",\"linecolor\":\"white\",\"ticks\":\"\",\"title\":{\"standoff\":15},\"zerolinecolor\":\"white\",\"zerolinewidth\":2},\"yaxis\":{\"automargin\":true,\"gridcolor\":\"white\",\"linecolor\":\"white\",\"ticks\":\"\",\"title\":{\"standoff\":15},\"zerolinecolor\":\"white\",\"zerolinewidth\":2}}},\"xaxis\":{\"anchor\":\"y\",\"domain\":[0.0,1.0],\"title\":{\"text\":\"Store\"}},\"yaxis\":{\"anchor\":\"x\",\"domain\":[0.0,1.0],\"title\":{\"text\":\"Temperature\"}},\"legend\":{\"tracegroupgap\":0},\"margin\":{\"t\":60},\"boxmode\":\"group\"},                        {\"responsive\": true}                    ).then(function(){\n",
              "                            \n",
              "var gd = document.getElementById('bf1fe504-80f0-438d-9ac3-c3458a4360da');\n",
              "var x = new MutationObserver(function (mutations, observer) {{\n",
              "        var display = window.getComputedStyle(gd).display;\n",
              "        if (!display || display === 'none') {{\n",
              "            console.log([gd, 'removed!']);\n",
              "            Plotly.purge(gd);\n",
              "            observer.disconnect();\n",
              "        }}\n",
              "}});\n",
              "\n",
              "// Listen for the removal of the full notebook cells\n",
              "var notebookContainer = gd.closest('#notebook-container');\n",
              "if (notebookContainer) {{\n",
              "    x.observe(notebookContainer, {childList: true});\n",
              "}}\n",
              "\n",
              "// Listen for the clearing of the current output cell\n",
              "var outputEl = gd.closest('.output');\n",
              "if (outputEl) {{\n",
              "    x.observe(outputEl, {childList: true});\n",
              "}}\n",
              "\n",
              "                        })                };                            </script>        </div>\n",
              "</body>\n",
              "</html>"
            ]
          },
          "metadata": {}
        }
      ]
    },
    {
      "cell_type": "code",
      "source": [
        "# Outliers of CPI\n",
        "\n",
        "fig_3 = px.box(walmart, x=\"Store\", y=\"CPI\", notched=True)\n",
        "fig_3.show()"
      ],
      "metadata": {
        "colab": {
          "base_uri": "https://localhost:8080/",
          "height": 542
        },
        "id": "7GBjsQVCtiXd",
        "outputId": "8e724b25-6afd-4822-bc14-a489e4c5a232"
      },
      "execution_count": null,
      "outputs": [
        {
          "output_type": "display_data",
          "data": {
            "text/html": [
              "<html>\n",
              "<head><meta charset=\"utf-8\" /></head>\n",
              "<body>\n",
              "    <div>            <script src=\"https://cdnjs.cloudflare.com/ajax/libs/mathjax/2.7.5/MathJax.js?config=TeX-AMS-MML_SVG\"></script><script type=\"text/javascript\">if (window.MathJax) {MathJax.Hub.Config({SVG: {font: \"STIX-Web\"}});}</script>                <script type=\"text/javascript\">window.PlotlyConfig = {MathJaxConfig: 'local'};</script>\n",
              "        <script src=\"https://cdn.plot.ly/plotly-2.8.3.min.js\"></script>                <div id=\"757d4951-14c4-4d9d-9ae8-25a88896e57d\" class=\"plotly-graph-div\" style=\"height:525px; width:100%;\"></div>            <script type=\"text/javascript\">                                    window.PLOTLYENV=window.PLOTLYENV || {};                                    if (document.getElementById(\"757d4951-14c4-4d9d-9ae8-25a88896e57d\")) {                    Plotly.newPlot(                        \"757d4951-14c4-4d9d-9ae8-25a88896e57d\",                        [{\"alignmentgroup\":\"True\",\"hovertemplate\":\"Store=%{x}<br>CPI=%{y}<extra></extra>\",\"legendgroup\":\"\",\"marker\":{\"color\":\"#636efa\"},\"name\":\"\",\"notched\":true,\"offsetgroup\":\"\",\"orientation\":\"v\",\"showlegend\":false,\"x\":[1,1,1,1,1,1,1,1,1,1,1,1,1,1,1,1,1,1,1,1,1,1,1,1,1,1,1,1,1,1,1,1,1,1,1,1,1,1,1,1,1,1,1,1,1,1,1,1,1,1,1,1,1,1,1,1,1,1,1,1,1,1,1,1,1,1,1,1,1,1,1,1,1,1,1,1,1,1,1,1,1,1,1,1,1,1,1,1,1,1,1,1,1,1,1,1,1,1,1,1,1,1,1,1,1,1,1,1,1,1,1,1,1,1,1,1,1,1,1,1,1,1,1,1,1,1,1,1,1,1,1,1,1,1,1,1,1,1,1,1,1,1,1,2,2,2,2,2,2,2,2,2,2,2,2,2,2,2,2,2,2,2,2,2,2,2,2,2,2,2,2,2,2,2,2,2,2,2,2,2,2,2,2,2,2,2,2,2,2,2,2,2,2,2,2,2,2,2,2,2,2,2,2,2,2,2,2,2,2,2,2,2,2,2,2,2,2,2,2,2,2,2,2,2,2,2,2,2,2,2,2,2,2,2,2,2,2,2,2,2,2,2,2,2,2,2,2,2,2,2,2,2,2,2,2,2,2,2,2,2,2,2,2,2,2,2,2,2,2,2,2,2,2,2,2,2,2,2,2,2,2,2,2,2,2,2,4,4,4,4,4,4,4,4,4,4,4,4,4,4,4,4,4,4,4,4,4,4,4,4,4,4,4,4,4,4,4,4,4,4,4,4,4,4,4,4,4,4,4,4,4,4,4,4,4,4,4,4,4,4,4,4,4,4,4,4,4,4,4,4,4,4,4,4,4,4,4,4,4,4,4,4,4,4,4,4,4,4,4,4,4,4,4,4,4,4,4,4,4,4,4,4,4,4,4,4,4,4,4,4,4,4,4,4,4,4,4,4,4,4,4,4,4,4,4,4,4,4,4,4,4,4,4,4,4,4,4,4,4,4,4,4,4,4,4,4,4,4,4,6,6,6,6,6,6,6,6,6,6,6,6,6,6,6,6,6,6,6,6,6,6,6,6,6,6,6,6,6,6,6,6,6,6,6,6,6,6,6,6,6,6,6,6,6,6,6,6,6,6,6,6,6,6,6,6,6,6,6,6,6,6,6,6,6,6,6,6,6,6,6,6,6,6,6,6,6,6,6,6,6,6,6,6,6,6,6,6,6,6,6,6,6,6,6,6,6,6,6,6,6,6,6,6,6,6,6,6,6,6,6,6,6,6,6,6,6,6,6,6,6,6,6,6,6,6,6,6,6,6,6,6,6,6,6,6,6,6,6,6,6,6,6,7,7,7,7,7,7,7,7,7,7,7,7,7,7,7,7,7,7,7,7,7,7,7,7,7,7,7,7,7,7,7,7,7,7,7,7,7,7,7,7,7,7,7,7,7,7,7,7,7,7,7,7,7,7,7,7,7,7,7,7,7,7,7,7,7,7,7,7,7,7,7,7,7,7,7,7,7,7,7,7,7,7,7,7,7,7,7,7,7,7,7,7,7,7,7,7,7,7,7,7,7,7,7,7,7,7,7,7,7,7,7,7,7,7,7,7,7,7,7,7,7,7,7,7,7,7,7,7,7,7,7,7,7,7,7,7,7,7,7,7,7,7,7,8,8,8,8,8,8,8,8,8,8,8,8,8,8,8,8,8,8,8,8,8,8,8,8,8,8,8,8,8,8,8,8,8,8,8,8,8,8,8,8,8,8,8,8,8,8,8,8,8,8,8,8,8,8,8,8,8,8,8,8,8,8,8,8,8,8,8,8,8,8,8,8,8,8,8,8,8,8,8,8,8,8,8,8,8,8,8,8,8,8,8,8,8,8,8,8,8,8,8,8,8,8,8,8,8,8,8,8,8,8,8,8,8,8,8,8,8,8,8,8,8,8,8,8,8,8,8,8,8,8,8,8,8,8,8,8,8,8,8,8,8,8,8,9,9,9,9,9,9,9,9,9,9,9,9,9,9,9,9,9,9,9,9,9,9,9,9,9,9,9,9,9,9,9,9,9,9,9,9,9,9,9,9,9,9,9,9,9,9,9,9,9,9,9,9,9,9,9,9,9,9,9,9,9,9,9,9,9,9,9,9,9,9,9,9,9,9,9,9,9,9,9,9,9,9,9,9,9,9,9,9,9,9,9,9,9,9,9,9,9,9,9,9,9,9,9,9,9,9,9,9,9,9,9,9,9,9,9,9,9,9,9,9,9,9,9,9,9,9,9,9,9,9,9,9,9,9,9,9,9,9,9,9,9,9,9,10,10,10,10,10,10,10,10,10,10,10,10,10,10,10,10,10,10,10,10,10,10,10,10,10,10,10,10,10,10,10,10,10,10,10,10,10,10,10,10,10,10,10,10,10,10,10,10,10,10,10,10,10,10,10,10,10,10,10,10,10,10,10,10,10,10,10,10,10,10,10,10,10,10,10,10,10,10,10,10,10,10,10,10,10,10,10,10,10,10,10,10,10,10,10,10,10,10,10,10,10,10,10,10,10,10,10,10,10,10,10,10,10,10,10,10,10,10,10,10,10,10,10,10,10,10,10,10,10,10,10,10,10,10,10,10,10,10,10,10,10,10,10,11,11,11,11,11,11,11,11,11,11,11,11,11,11,11,11,11,11,11,11,11,11,11,11,11,11,11,11,11,11,11,11,11,11,11,11,11,11,11,11,11,11,11,11,11,11,11,11,11,11,11,11,11,11,11,11,11,11,11,11,11,11,11,11,11,11,11,11,11,11,11,11,11,11,11,11,11,11,11,11,11,11,11,11,11,11,11,11,11,11,11,11,11,11,11,11,11,11,11,11,11,11,11,11,11,11,11,11,11,11,11,11,11,11,11,11,11,11,11,11,11,11,11,11,11,11,11,11,11,11,11,11,11,11,11,11,11,11,11,11,11,11,11,12,12,12,12,12,12,12,12,12,12,12,12,12,12,12,12,12,12,12,12,12,12,12,12,12,12,12,12,12,12,12,12,12,12,12,12,12,12,12,12,12,12,12,12,12,12,12,12,12,12,12,12,12,12,12,12,12,12,12,12,12,12,12,12,12,12,12,12,12,12,12,12,12,12,12,12,12,12,12,12,12,12,12,12,12,12,12,12,12,12,12,12,12,12,12,12,12,12,12,12,12,12,12,12,12,12,12,12,12,12,12,12,12,12,12,12,12,12,12,12,12,12,12,12,12,12,12,12,12,12,12,12,12,12,12,12,12,12,12,12,12,12,12,13,13,13,13,13,13,13,13,13,13,13,13,13,13,13,13,13,13,13,13,13,13,13,13,13,13,13,13,13,13,13,13,13,13,13,13,13,13,13,13,13,13,13,13,13,13,13,13,13,13,13,13,13,13,13,13,13,13,13,13,13,13,13,13,13,13,13,13,13,13,13,13,13,13,13,13,13,13,13,13,13,13,13,13,13,13,13,13,13,13,13,13,13,13,13,13,13,13,13,13,13,13,13,13,13,13,13,13,13,13,13,13,13,13,13,13,13,13,13,13,13,13,13,13,13,13,13,13,13,13,13,13,13,13,13,13,13,13,13,13,13,13,13,14,14,14,14,14,14,14,14,14,14,14,14,14,14,14,14,14,14,14,14,14,14,14,14,14,14,14,14,14,14,14,14,14,14,14,14,14,14,14,14,14,14,14,14,14,14,14,14,14,14,14,14,14,14,14,14,14,14,14,14,14,14,14,14,14,14,14,14,14,14,14,14,14,14,14,14,14,14,14,14,14,14,14,14,14,14,14,14,14,14,14,14,14,14,14,14,14,14,14,14,14,14,14,14,14,14,14,14,14,14,14,14,14,14,14,14,14,14,14,14,14,14,14,14,14,14,14,14,14,14,14,14,14,14,14,14,14,14,14,14,14,14,14,15,15,15,15,15,15,15,15,15,15,15,15,15,15,15,15,15,15,15,15,15,15,15,15,15,15,15,15,15,15,15,15,15,15,15,15,15,15,15,15,15,15,15,15,15,15,15,15,15,15,15,15,15,15,15,15,15,15,15,15,15,15,15,15,15,15,15,15,15,15,15,15,15,15,15,15,15,15,15,15,15,15,15,15,15,15,15,15,15,15,15,15,15,15,15,15,15,15,15,15,15,15,15,15,15,15,15,15,15,15,15,15,15,15,15,15,15,15,15,15,15,15,15,15,15,15,15,15,15,15,15,15,15,15,15,15,15,15,15,15,15,15,15,16,16,16,16,16,16,16,16,16,16,16,16,16,16,16,16,16,16,16,16,16,16,16,16,16,16,16,16,16,16,16,16,16,16,16,16,16,16,16,16,16,16,16,16,16,16,16,16,16,16,16,16,16,16,16,16,16,16,16,16,16,16,16,16,16,16,16,16,16,16,16,16,16,16,16,16,16,16,16,16,16,16,16,16,16,16,16,16,16,16,16,16,16,16,16,16,16,16,16,16,16,16,16,16,16,16,16,16,16,16,16,16,16,16,16,16,16,16,16,16,16,16,16,16,16,16,16,16,16,16,16,16,16,16,16,16,16,16,16,16,16,16,16,17,17,17,17,17,17,17,17,17,17,17,17,17,17,17,17,17,17,17,17,17,17,17,17,17,17,17,17,17,17,17,17,17,17,17,17,17,17,17,17,17,17,17,17,17,17,17,17,17,17,17,17,17,17,17,17,17,17,17,17,17,17,17,17,17,17,17,17,17,17,17,17,17,17,17,17,17,17,17,17,17,17,17,17,17,17,17,17,17,17,17,17,17,17,17,17,17,17,17,17,17,17,17,17,17,17,17,17,17,17,17,17,17,17,17,17,17,17,17,17,17,17,17,17,17,17,17,17,17,17,17,17,17,17,17,17,17,17,17,17,17,17,17,18,18,18,18,18,18,18,18,18,18,18,18,18,18,18,18,18,18,18,18,18,18,18,18,18,18,18,18,18,18,18,18,18,18,18,18,18,18,18,18,18,18,18,18,18,18,18,18,18,18,18,18,18,18,18,18,18,18,18,18,18,18,18,18,18,18,18,18,18,18,18,18,18,18,18,18,18,18,18,18,18,18,18,18,18,18,18,18,18,18,18,18,18,18,18,18,18,18,18,18,18,18,18,18,18,18,18,18,18,18,18,18,18,18,18,18,18,18,18,18,18,18,18,18,18,18,18,18,18,18,18,18,18,18,18,18,18,18,18,18,18,18,18,19,19,19,19,19,19,19,19,19,19,19,19,19,19,19,19,19,19,19,19,19,19,19,19,19,19,19,19,19,19,19,19,19,19,19,19,19,19,19,19,19,19,19,19,19,19,19,19,19,19,19,19,19,19,19,19,19,19,19,19,19,19,19,19,19,19,19,19,19,19,19,19,19,19,19,19,19,19,19,19,19,19,19,19,19,19,19,19,19,19,19,19,19,19,19,19,19,19,19,19,19,19,19,19,19,19,19,19,19,19,19,19,19,19,19,19,19,19,19,19,19,19,19,19,19,19,19,19,19,19,19,19,19,19,19,19,19,19,19,19,19,19,19,20,20,20,20,20,20,20,20,20,20,20,20,20,20,20,20,20,20,20,20,20,20,20,20,20,20,20,20,20,20,20,20,20,20,20,20,20,20,20,20,20,20,20,20,20,20,20,20,20,20,20,20,20,20,20,20,20,20,20,20,20,20,20,20,20,20,20,20,20,20,20,20,20,20,20,20,20,20,20,20,20,20,20,20,20,20,20,20,20,20,20,20,20,20,20,20,20,20,20,20,20,20,20,20,20,20,20,20,20,20,20,20,20,20,20,20,20,20,20,20,20,20,20,20,20,20,20,20,20,20,20,20,20,20,20,20,20,20,20,20,20,20,20,21,21,21,21,21,21,21,21,21,21,21,21,21,21,21,21,21,21,21,21,21,21,21,21,21,21,21,21,21,21,21,21,21,21,21,21,21,21,21,21,21,21,21,21,21,21,21,21,21,21,21,21,21,21,21,21,21,21,21,21,21,21,21,21,21,21,21,21,21,21,21,21,21,21,21,21,21,21,21,21,21,21,21,21,21,21,21,21,21,21,21,21,21,21,21,21,21,21,21,21,21,21,21,21,21,21,21,21,21,21,21,21,21,21,21,21,21,21,21,21,21,21,21,21,21,21,21,21,21,21,21,21,21,21,21,21,21,21,21,21,21,21,21,22,22,22,22,22,22,22,22,22,22,22,22,22,22,22,22,22,22,22,22,22,22,22,22,22,22,22,22,22,22,22,22,22,22,22,22,22,22,22,22,22,22,22,22,22,22,22,22,22,22,22,22,22,22,22,22,22,22,22,22,22,22,22,22,22,22,22,22,22,22,22,22,22,22,22,22,22,22,22,22,22,22,22,22,22,22,22,22,22,22,22,22,22,22,22,22,22,22,22,22,22,22,22,22,22,22,22,22,22,22,22,22,22,22,22,22,22,22,22,22,22,22,22,22,22,22,22,22,22,22,22,22,22,22,22,22,22,22,22,22,22,22,22,23,23,23,23,23,23,23,23,23,23,23,23,23,23,23,23,23,23,23,23,23,23,23,23,23,23,23,23,23,23,23,23,23,23,23,23,23,23,23,23,23,23,23,23,23,23,23,23,23,23,23,23,23,23,23,23,23,23,23,23,23,23,23,23,23,23,23,23,23,23,23,23,23,23,23,23,23,23,23,23,23,23,23,23,23,23,23,23,23,23,23,23,23,23,23,23,23,23,23,23,23,23,23,23,23,23,23,23,23,23,23,23,23,23,23,23,23,23,23,23,23,23,23,23,23,23,23,23,23,23,23,23,23,23,23,23,23,23,23,23,23,23,23,24,24,24,24,24,24,24,24,24,24,24,24,24,24,24,24,24,24,24,24,24,24,24,24,24,24,24,24,24,24,24,24,24,24,24,24,24,24,24,24,24,24,24,24,24,24,24,24,24,24,24,24,24,24,24,24,24,24,24,24,24,24,24,24,24,24,24,24,24,24,24,24,24,24,24,24,24,24,24,24,24,24,24,24,24,24,24,24,24,24,24,24,24,24,24,24,24,24,24,24,24,24,24,24,24,24,24,24,24,24,24,24,24,24,24,24,24,24,24,24,24,24,24,24,24,24,24,24,24,24,24,24,24,24,24,24,24,24,24,24,24,24,24,25,25,25,25,25,25,25,25,25,25,25,25,25,25,25,25,25,25,25,25,25,25,25,25,25,25,25,25,25,25,25,25,25,25,25,25,25,25,25,25,25,25,25,25,25,25,25,25,25,25,25,25,25,25,25,25,25,25,25,25,25,25,25,25,25,25,25,25,25,25,25,25,25,25,25,25,25,25,25,25,25,25,25,25,25,25,25,25,25,25,25,25,25,25,25,25,25,25,25,25,25,25,25,25,25,25,25,25,25,25,25,25,25,25,25,25,25,25,25,25,25,25,25,25,25,25,25,25,25,25,25,25,25,25,25,25,25,25,25,25,25,25,25,26,26,26,26,26,26,26,26,26,26,26,26,26,26,26,26,26,26,26,26,26,26,26,26,26,26,26,26,26,26,26,26,26,26,26,26,26,26,26,26,26,26,26,26,26,26,26,26,26,26,26,26,26,26,26,26,26,26,26,26,26,26,26,26,26,26,26,26,26,26,26,26,26,26,26,26,26,26,26,26,26,26,26,26,26,26,26,26,26,26,26,26,26,26,26,26,26,26,26,26,26,26,26,26,26,26,26,26,26,26,26,26,26,26,26,26,26,26,26,26,26,26,26,26,26,26,26,26,26,26,26,26,26,26,26,26,26,26,26,26,26,26,26,27,27,27,27,27,27,27,27,27,27,27,27,27,27,27,27,27,27,27,27,27,27,27,27,27,27,27,27,27,27,27,27,27,27,27,27,27,27,27,27,27,27,27,27,27,27,27,27,27,27,27,27,27,27,27,27,27,27,27,27,27,27,27,27,27,27,27,27,27,27,27,27,27,27,27,27,27,27,27,27,27,27,27,27,27,27,27,27,27,27,27,27,27,27,27,27,27,27,27,27,27,27,27,27,27,27,27,27,27,27,27,27,27,27,27,27,27,27,27,27,27,27,27,27,27,27,27,27,27,27,27,27,27,27,27,27,27,27,27,27,27,27,27,28,28,28,28,28,28,28,28,28,28,28,28,28,28,28,28,28,28,28,28,28,28,28,28,28,28,28,28,28,28,28,28,28,28,28,28,28,28,28,28,28,28,28,28,28,28,28,28,28,28,28,28,28,28,28,28,28,28,28,28,28,28,28,28,28,28,28,28,28,28,28,28,28,28,28,28,28,28,28,28,28,28,28,28,28,28,28,28,28,28,28,28,28,28,28,28,28,28,28,28,28,28,28,28,28,28,28,28,28,28,28,28,28,28,28,28,28,28,28,28,28,28,28,28,28,28,28,28,28,28,28,28,28,28,28,28,28,28,28,28,28,28,28,29,29,29,29,29,29,29,29,29,29,29,29,29,29,29,29,29,29,29,29,29,29,29,29,29,29,29,29,29,29,29,29,29,29,29,29,29,29,29,29,29,29,29,29,29,29,29,29,29,29,29,29,29,29,29,29,29,29,29,29,29,29,29,29,29,29,29,29,29,29,29,29,29,29,29,29,29,29,29,29,29,29,29,29,29,29,29,29,29,29,29,29,29,29,29,29,29,29,29,29,29,29,29,29,29,29,29,29,29,29,29,29,29,29,29,29,29,29,29,29,29,29,29,29,29,29,29,29,29,29,29,29,29,29,29,29,29,29,29,29,29,29,29,31,31,31,31,31,31,31,31,31,31,31,31,31,31,31,31,31,31,31,31,31,31,31,31,31,31,31,31,31,31,31,31,31,31,31,31,31,31,31,31,31,31,31,31,31,31,31,31,31,31,31,31,31,31,31,31,31,31,31,31,31,31,31,31,31,31,31,31,31,31,31,31,31,31,31,31,31,31,31,31,31,31,31,31,31,31,31,31,31,31,31,31,31,31,31,31,31,31,31,31,31,31,31,31,31,31,31,31,31,31,31,31,31,31,31,31,31,31,31,31,31,31,31,31,31,31,31,31,31,31,31,31,31,31,31,31,31,31,31,31,31,31,31,32,32,32,32,32,32,32,32,32,32,32,32,32,32,32,32,32,32,32,32,32,32,32,32,32,32,32,32,32,32,32,32,32,32,32,32,32,32,32,32,32,32,32,32,32,32,32,32,32,32,32,32,32,32,32,32,32,32,32,32,32,32,32,32,32,32,32,32,32,32,32,32,32,32,32,32,32,32,32,32,32,32,32,32,32,32,32,32,32,32,32,32,32,32,32,32,32,32,32,32,32,32,32,32,32,32,32,32,32,32,32,32,32,32,32,32,32,32,32,32,32,32,32,32,32,32,32,32,32,32,32,32,32,32,32,32,32,32,32,32,32,32,32,34,34,34,34,34,34,34,34,34,34,34,34,34,34,34,34,34,34,34,34,34,34,34,34,34,34,34,34,34,34,34,34,34,34,34,34,34,34,34,34,34,34,34,34,34,34,34,34,34,34,34,34,34,34,34,34,34,34,34,34,34,34,34,34,34,34,34,34,34,34,34,34,34,34,34,34,34,34,34,34,34,34,34,34,34,34,34,34,34,34,34,34,34,34,34,34,34,34,34,34,34,34,34,34,34,34,34,34,34,34,34,34,34,34,34,34,34,34,34,34,34,34,34,34,34,34,34,34,34,34,34,34,34,34,34,34,34,34,34,34,34,34,34,35,35,35,35,35,35,35,35,35,35,35,35,35,35,35,35,35,35,35,35,35,35,35,35,35,35,35,35,35,35,35,35,35,35,35,35,35,35,35,35,35,35,35,35,35,35,35,35,35,35,35,35,35,35,35,35,35,35,35,35,35,35,35,35,35,35,35,35,35,35,35,35,35,35,35,35,35,35,35,35,35,35,35,35,35,35,35,35,35,35,35,35,35,35,35,35,35,35,35,35,35,35,35,35,35,35,35,35,35,35,35,35,35,35,35,35,35,35,35,35,35,35,35,35,35,35,35,35,35,35,35,35,35,35,35,35,35,35,35,35,35,35,35,39,39,39,39,39,39,39,39,39,39,39,39,39,39,39,39,39,39,39,39,39,39,39,39,39,39,39,39,39,39,39,39,39,39,39,39,39,39,39,39,39,39,39,39,39,39,39,39,39,39,39,39,39,39,39,39,39,39,39,39,39,39,39,39,39,39,39,39,39,39,39,39,39,39,39,39,39,39,39,39,39,39,39,39,39,39,39,39,39,39,39,39,39,39,39,39,39,39,39,39,39,39,39,39,39,39,39,39,39,39,39,39,39,39,39,39,39,39,39,39,39,39,39,39,39,39,39,39,39,39,39,39,39,39,39,39,39,39,39,39,39,39,39,40,40,40,40,40,40,40,40,40,40,40,40,40,40,40,40,40,40,40,40,40,40,40,40,40,40,40,40,40,40,40,40,40,40,40,40,40,40,40,40,40,40,40,40,40,40,40,40,40,40,40,40,40,40,40,40,40,40,40,40,40,40,40,40,40,40,40,40,40,40,40,40,40,40,40,40,40,40,40,40,40,40,40,40,40,40,40,40,40,40,40,40,40,40,40,40,40,40,40,40,40,40,40,40,40,40,40,40,40,40,40,40,40,40,40,40,40,40,40,40,40,40,40,40,40,40,40,40,40,40,40,40,40,40,40,40,40,40,40,40,40,40,40,41,41,41,41,41,41,41,41,41,41,41,41,41,41,41,41,41,41,41,41,41,41,41,41,41,41,41,41,41,41,41,41,41,41,41,41,41,41,41,41,41,41,41,41,41,41,41,41,41,41,41,41,41,41,41,41,41,41,41,41,41,41,41,41,41,41,41,41,41,41,41,41,41,41,41,41,41,41,41,41,41,41,41,41,41,41,41,41,41,41,41,41,41,41,41,41,41,41,41,41,41,41,41,41,41,41,41,41,41,41,41,41,41,41,41,41,41,41,41,41,41,41,41,41,41,41,41,41,41,41,41,41,41,41,41,41,41,41,41,41,41,41,41,45,45,45,45,45,45,45,45,45,45,45,45,45,45,45,45,45,45,45,45,45,45,45,45,45,45,45,45,45,45,45,45,45,45,45,45,45,45,45,45,45,45,45,45,45,45,45,45,45,45,45,45,45,45,45,45,45,45,45,45,45,45,45,45,45,45,45,45,45,45,45,45,45,45,45,45,45,45,45,45,45,45,45,45,45,45,45,45,45,45,45,45,45,45,45,45,45,45,45,45,45,45,45,45,45,45,45,45,45,45,45,45,45,45,45,45,45,45,45,45,45,45,45,45,45,45,45,45,45,45,45,45,45,45,45,45,45,45,45,45,45,45,45],\"x0\":\" \",\"xaxis\":\"x\",\"y\":[211.0963582,211.2421698,211.2891429,211.3196429,211.3501429,211.3806429,211.215635,211.0180424,210.8204499,210.6228574,210.4887,210.4391228,210.3895456,210.3399684,210.3374261,210.6170934,210.8967606,211.1764278,211.4560951,211.4537719,211.3386526,211.2235333,211.108414,211.1003854,211.2351443,211.3699032,211.5046621,211.6394211,211.6033633,211.5673056,211.5312479,211.4951902,211.5224596,211.5972246,211.6719895,211.7467544,211.8137436,211.8612937,211.9088438,211.9563939,212.003944,211.8896737,211.7484333,211.607193,211.4659526,211.4053124,211.4051222,211.4049321,211.4047419,211.4574109,211.8272343,212.1970577,212.5668812,212.9367046,213.2478853,213.535609,213.8233327,214.1110564,214.3627114,214.5999389,214.8371664,215.0743939,215.2918561,215.4599053,215.6279544,215.7960035,215.9640526,215.7339202,215.5037878,215.2736553,215.0435229,214.9980596,215.0910982,215.1841368,215.2771754,215.3611087,215.4222784,215.4834482,215.544618,215.6057878,215.6693107,215.7332258,215.7971409,215.861056,216.0410526,216.3758246,216.7105965,217.0453684,217.3552733,217.5159762,217.6766791,217.837382,217.9980849,218.2205088,218.4676211,218.7147333,218.9618456,219.1794533,219.3577216,219.5359898,219.7142581,219.8925263,219.9856893,220.0788523,220.1720153,220.2651783,220.4257586,220.636902,220.8480454,221.0591887,221.2118132,221.2864126,221.3610119,221.4356112,221.5102105,221.5640737,221.6179368,221.6718,221.7256632,221.742674,221.744944,221.7472139,221.7494839,221.7626421,221.8030211,221.8434,221.8837789,221.9241579,221.9327267,221.9412954,221.9498642,221.9584329,222.0384109,222.1719457,222.3054805,222.4390153,222.5820193,222.7818386,222.9816579,223.1814772,223.3812965,223.4257233,223.4442513,210.7526053,210.8979935,210.9451605,210.9759573,211.0067542,211.037551,210.8733316,210.6766095,210.4798874,210.2831653,210.1495463,210.1000648,210.0505833,210.0011018,209.9984585,210.2768443,210.5552301,210.833616,211.1120018,211.1096543,210.9950134,210.8803726,210.7657317,210.7577954,210.8921319,211.0264684,211.1608049,211.2951413,211.2596586,211.2241759,211.1886931,211.1532104,211.1806415,211.2552578,211.3298742,211.4044906,211.4713286,211.5187208,211.5661131,211.6135053,211.6608975,211.5470304,211.4062867,211.265543,211.1247993,211.0645458,211.0646599,211.064774,211.0648881,211.1176713,211.4864691,211.8552668,212.2240646,212.5928624,212.9033115,213.190421,213.4775305,213.7646401,214.0156238,214.2521573,214.4886908,214.7252242,214.9420631,215.1096657,215.2772683,215.4448709,215.6124735,215.3834778,215.1544822,214.9254865,214.6964908,214.6513538,214.7441108,214.8368678,214.9296249,215.0134426,215.0749122,215.1363819,215.1978515,215.2593211,215.3229307,215.386897,215.4508632,215.5148295,215.6944378,216.0282356,216.3620333,216.6958311,217.0048261,217.1650042,217.3251824,217.4853605,217.6455387,217.8670218,218.1130269,218.3590319,218.605037,218.8217928,218.9995495,219.1773063,219.355063,219.5328198,219.6258417,219.7188636,219.8118854,219.9049073,220.0651993,220.275944,220.4866886,220.6974332,220.8498468,220.9244858,220.9991248,221.0737638,221.1484028,221.2021074,221.255812,221.3095166,221.3632212,221.380331,221.3828029,221.3852748,221.3877467,221.4009901,221.4411622,221.4813343,221.5215064,221.5616784,221.5701123,221.5785461,221.5869799,221.5954138,221.6751459,221.8083518,221.9415576,222.0747635,222.2174395,222.4169362,222.6164329,222.8159296,223.0154263,223.0598077,223.0783366,126.4420645,126.4962581,126.5262857,126.5522857,126.5782857,126.6042857,126.6066452,126.6050645,126.6034839,126.6019032,126.5621,126.4713333,126.3805667,126.2898,126.2085484,126.1843871,126.1602258,126.1360645,126.1119032,126.114,126.1266,126.1392,126.1518,126.1498065,126.1283548,126.1069032,126.0854516,126.064,126.0766452,126.0892903,126.1019355,126.1145806,126.1454667,126.1900333,126.2346,126.2791667,126.3266774,126.3815484,126.4364194,126.4912903,126.5461613,126.6072,126.6692667,126.7313333,126.7934,126.8794839,126.9835806,127.0876774,127.1917742,127.3009355,127.4404839,127.5800323,127.7195806,127.859129,127.99525,128.13,128.26475,128.3995,128.5121935,128.6160645,128.7199355,128.8238065,128.9107333,128.9553,128.9998667,129.0444333,129.089,129.0756774,129.0623548,129.0490323,129.0357097,129.0432,129.0663,129.0894,129.1125,129.1338387,129.1507742,129.1677097,129.1846452,129.2015806,129.2405806,129.2832581,129.3259355,129.3686129,129.4306,129.5183333,129.6060667,129.6938,129.7706452,129.7821613,129.7936774,129.8051935,129.8167097,129.8268333,129.8364,129.8459667,129.8555333,129.8980645,129.9845484,130.0710323,130.1575161,130.244,130.2792258,130.3144516,130.3496774,130.3849032,130.4546207,130.5502069,130.6457931,130.7413793,130.8261935,130.8966452,130.9670968,131.0375484,131.108,131.1173333,131.1266667,131.136,131.1453333,131.0983226,131.0287742,130.9592258,130.8896774,130.8295333,130.7929,130.7562667,130.7196333,130.683,130.7012903,130.7195806,130.737871,130.7561613,130.7909677,130.8381613,130.8853548,130.9325484,130.9776667,131.0103333,131.043,131.0756667,131.1083333,131.1499677,131.1930968,212.6223518,212.7700425,212.8161546,212.845337,212.8745193,212.9037017,212.7351935,212.533737,212.3322805,212.1308239,211.9942765,211.9442745,211.8942725,211.8442706,211.8421769,212.1275324,212.412888,212.6982436,212.9835992,212.9813843,212.8641412,212.746898,212.6296549,212.6212163,212.7578505,212.8944846,213.0311188,213.1677529,213.1291427,213.0905324,213.0519222,213.013312,213.0398643,213.1152886,213.1907129,213.2661373,213.3337977,213.3820486,213.4302994,213.4785503,213.5268011,213.4107412,213.2672961,213.123851,212.9804059,212.918049,212.9165082,212.9149674,212.9134266,212.9655882,213.3399647,213.7143412,214.0887176,214.4630941,214.7775231,215.0679731,215.3584231,215.6488731,215.9035078,216.1438163,216.3841249,216.6244334,216.8446627,217.0146941,217.1847255,217.3547569,217.5247882,217.2896095,217.0544307,216.819252,216.5840732,216.5371616,216.6314502,216.7257388,216.8200275,216.9044732,216.964312,217.0241507,217.0839894,217.1438281,217.2069662,217.2706543,217.3343423,217.3980304,217.5797506,217.9188471,218.2579435,218.59704,218.9109844,219.0740167,219.237049,219.4000812,219.5631135,219.7897137,220.0417412,220.2937686,220.5457961,220.7671856,220.9477245,221.1282634,221.3088023,221.4893412,221.5831306,221.6769199,221.7707093,221.8644987,222.026359,222.2392726,222.4521862,222.6650998,222.8186603,222.8930835,222.9675066,223.0419298,223.1163529,223.17092,223.2254871,223.2800541,223.3346212,223.3511928,223.3525662,223.3539397,223.3553131,223.3680933,223.4093906,223.4506878,223.4919851,223.5332824,223.5424501,223.5516178,223.5607856,223.5699533,223.6510224,223.7860175,223.9210125,224.0560076,224.2004678,224.4017192,224.6029706,224.804222,225.0054733,225.0501013,225.0686254,189.3816974,189.4642725,189.5340998,189.6018023,189.6695049,189.7372075,189.734262,189.7195417,189.7048215,189.6901012,189.6628845,189.6190057,189.575127,189.5312483,189.4904116,189.467827,189.4452425,189.422658,189.4000734,189.4185259,189.4533931,189.4882603,189.5231276,189.6125456,189.774698,189.9368504,190.0990028,190.2611552,190.2948237,190.3284922,190.3621607,190.3958293,190.4688287,190.5713264,190.6738241,190.7763218,190.8623087,190.9070184,190.951728,190.9964377,191.0411474,191.0312172,191.0121805,190.9931437,190.9741069,191.0303376,191.1430189,191.2557002,191.3683815,191.4784939,191.5731924,191.667891,191.7625895,191.8572881,191.9178331,191.9647167,192.0116004,192.058484,192.1237981,192.1964844,192.2691707,192.3418571,192.4225954,192.5234638,192.6243322,192.7252006,192.826069,192.831317,192.8365651,192.8418131,192.8470612,192.9034759,192.9982655,193.0930552,193.1878448,193.3125484,193.5120367,193.711525,193.9110133,194.1105017,194.2500634,194.3796374,194.5092113,194.6387853,194.7419707,194.8099713,194.8779718,194.9459724,195.0261012,195.1789994,195.3318977,195.4847959,195.6376941,195.7184713,195.7704,195.8223287,195.8742575,195.9841685,196.1713893,196.3586101,196.5458309,196.7330517,196.7796652,196.8262786,196.8728921,196.9195056,196.9432711,196.9499007,196.9565303,196.9631599,197.0457208,197.2295234,197.4133259,197.5971285,197.780931,197.7227385,197.664546,197.6063534,197.5481609,197.5553137,197.5886046,197.6218954,197.6551863,197.692292,197.7389345,197.785577,197.8322195,197.8788621,197.9290378,197.9792136,198.0293893,198.0795651,198.1001057,198.0984199,198.0967341,198.0950484,198.1267184,198.358523,198.5903276,198.8221322,199.0539368,199.1481963,199.2195317,214.4714512,214.6214189,214.6664878,214.6940735,214.7216592,214.7492449,214.5764954,214.3703567,214.164218,213.9580793,213.8186357,213.768119,213.7176024,213.6670857,213.6655355,213.9577839,214.2500323,214.5422806,214.834529,214.8324452,214.7126286,214.5928119,214.4729952,214.4640599,214.6029664,214.7418728,214.8807793,215.0196857,214.9779825,214.9362793,214.894576,214.8528728,214.8785562,214.9547795,215.0310029,215.1072262,215.1757,215.2248,215.2739,215.323,215.3721,215.2538714,215.1077548,214.9616381,214.8155214,214.7510843,214.7479069,214.7447295,214.7415521,214.7930991,215.1729926,215.5528862,215.9327797,216.3126733,216.6310383,216.9247918,217.2185454,217.512299,217.7705442,218.0145862,218.2586281,218.50267,218.7262524,218.8986857,219.071119,219.2435524,219.4159857,219.1746922,218.9333986,218.6921051,218.4508115,218.4021448,218.4979481,218.5937514,218.6895548,218.7746217,218.8328475,218.8910733,218.9492991,219.0075249,219.0701968,219.1336097,219.1970226,219.2604355,219.4442443,219.788581,220.1329176,220.4772543,220.7960935,220.9619484,221.1278032,221.2936581,221.4595129,221.6911738,221.9491571,222.2071405,222.4651238,222.6910959,222.8743862,223.0576765,223.2409668,223.4242571,223.5188055,223.6133539,223.7079023,223.8024507,223.9658621,224.1809207,224.3959793,224.6110379,224.7657327,224.8399424,224.9141521,224.9883618,225.0625714,225.1179914,225.1734114,225.2288314,225.2842514,225.3002908,225.3005779,225.300865,225.3011521,225.3134743,225.3558843,225.3982943,225.4407043,225.4831143,225.4930078,225.5029014,225.5127949,225.5226885,225.6050797,225.7418442,225.8786088,226.0153733,226.1615981,226.3645848,226.5675714,226.7705581,226.9735448,227.0184166,227.0369359,214.6554591,214.8056534,214.8506185,214.8780453,214.9054721,214.932899,214.7597274,214.5531227,214.3465181,214.1399135,214.0001817,213.9496138,213.8990459,213.848478,213.8469819,214.1399162,214.4328505,214.7257848,215.0187191,215.0166484,214.8965756,214.7765028,214.6564301,214.6474453,214.7865779,214.9257105,215.064843,215.2039756,215.1619646,215.1199536,215.0779426,215.0359315,215.0615285,215.1378313,215.2141341,215.290437,215.3589917,215.4081762,215.4573607,215.5065452,215.5557297,215.4372854,215.2909028,215.1445203,214.9981378,214.9334937,214.9301534,214.9268131,214.9234729,214.9749587,215.3554013,215.7358438,216.1162864,216.496729,216.8154856,217.1095679,217.4036503,217.6977326,217.9563371,218.2007506,218.445164,218.6895775,218.9134935,219.0861659,219.2588382,219.4315106,219.6041829,219.3622809,219.1203788,218.8784768,218.6365747,218.5877333,218.6836874,218.7796415,218.8755955,218.9607242,219.0187895,219.0768548,219.1349201,219.1929854,219.2556109,219.3189965,219.382382,219.4457675,219.6297841,219.9746423,220.3195004,220.6643585,220.9836849,221.1498206,221.3159563,221.4820921,221.6482278,221.8803923,222.1389683,222.3975443,222.6561203,222.8825484,223.0661125,223.2496766,223.4332408,223.6168049,223.7114288,223.8060527,223.9006766,223.9953006,224.1588663,224.3741384,224.5894104,224.8046825,224.9594902,225.0336786,225.107867,225.1820555,225.2562439,225.3117488,225.3672537,225.4227585,225.4782634,225.4942498,225.4944288,225.4946078,225.4947868,225.5070634,225.5495841,225.5921049,225.6346256,225.6771463,225.6871121,225.6970779,225.7070437,225.7170094,225.7995323,225.9364729,226.0734135,226.2103541,226.3567545,226.5599138,226.7630732,226.9662325,227.1693919,227.214288,227.2328068,126.4420645,126.4962581,126.5262857,126.5522857,126.5782857,126.6042857,126.6066452,126.6050645,126.6034839,126.6019032,126.5621,126.4713333,126.3805667,126.2898,126.2085484,126.1843871,126.1602258,126.1360645,126.1119032,126.114,126.1266,126.1392,126.1518,126.1498065,126.1283548,126.1069032,126.0854516,126.064,126.0766452,126.0892903,126.1019355,126.1145806,126.1454667,126.1900333,126.2346,126.2791667,126.3266774,126.3815484,126.4364194,126.4912903,126.5461613,126.6072,126.6692667,126.7313333,126.7934,126.8794839,126.9835806,127.0876774,127.1917742,127.3009355,127.4404839,127.5800323,127.7195806,127.859129,127.99525,128.13,128.26475,128.3995,128.5121935,128.6160645,128.7199355,128.8238065,128.9107333,128.9553,128.9998667,129.0444333,129.089,129.0756774,129.0623548,129.0490323,129.0357097,129.0432,129.0663,129.0894,129.1125,129.1338387,129.1507742,129.1677097,129.1846452,129.2015806,129.2405806,129.2832581,129.3259355,129.3686129,129.4306,129.5183333,129.6060667,129.6938,129.7706452,129.7821613,129.7936774,129.8051935,129.8167097,129.8268333,129.8364,129.8459667,129.8555333,129.8980645,129.9845484,130.0710323,130.1575161,130.244,130.2792258,130.3144516,130.3496774,130.3849032,130.4546207,130.5502069,130.6457931,130.7413793,130.8261935,130.8966452,130.9670968,131.0375484,131.108,131.1173333,131.1266667,131.136,131.1453333,131.0983226,131.0287742,130.9592258,130.8896774,130.8295333,130.7929,130.7562667,130.7196333,130.683,130.7012903,130.7195806,130.737871,130.7561613,130.7909677,130.8381613,130.8853548,130.9325484,130.9776667,131.0103333,131.043,131.0756667,131.1083333,131.1499677,131.1930968,214.4248812,214.5747916,214.6198868,214.6475127,214.6751386,214.7027646,214.5301219,214.3241011,214.1180803,213.9120595,213.7726889,213.7221852,213.6716815,213.6211778,213.6196139,213.9116886,214.2037634,214.4958382,214.787913,214.7858259,214.6660741,214.5463222,214.4265704,214.4176476,214.5564968,214.695346,214.8341952,214.9730444,214.9314191,214.8897938,214.8481685,214.8065431,214.8322484,214.9084516,214.9846548,215.060858,215.1293114,215.17839,215.2274686,215.2765472,215.3256258,215.2074519,215.0614025,214.9153531,214.7693037,214.704919,214.7017828,214.6986466,214.6955104,214.7470729,215.1268275,215.5065821,215.8863367,216.2660913,216.5843571,216.8780275,217.1716979,217.4653683,217.7235226,217.9674705,218.2114184,218.4553663,218.6788642,218.851237,219.0236099,219.1959827,219.3683556,219.127216,218.8860765,218.6449369,218.4037974,218.3551748,218.45094,218.5467052,218.6424704,218.7275216,218.7857881,218.8440545,218.9023209,218.9605873,219.023271,219.0866908,219.1501106,219.2135305,219.3972867,219.7414914,220.085696,220.4299007,220.7486167,220.9144005,221.0801842,221.245968,221.4117517,221.6432852,221.9011185,222.1589519,222.4167852,222.6426418,222.8258628,223.0090839,223.1923049,223.3755259,223.4700552,223.5645845,223.6591137,223.753643,223.9170153,224.1320199,224.3470245,224.5620291,224.7166953,224.7909104,224.8651254,224.9393405,225.0135556,225.0689541,225.1243526,225.1797511,225.2351496,225.2512024,225.2515168,225.2518313,225.2521458,225.2644795,225.3068615,225.3492435,225.3916254,225.4340074,225.4438827,225.4537579,225.4636332,225.4735085,225.5558664,225.6925864,225.8293063,225.9660263,226.1122067,226.3151496,226.5180926,226.7210356,226.9239785,226.9688442,226.9873637,126.4420645,126.4962581,126.5262857,126.5522857,126.5782857,126.6042857,126.6066452,126.6050645,126.6034839,126.6019032,126.5621,126.4713333,126.3805667,126.2898,126.2085484,126.1843871,126.1602258,126.1360645,126.1119032,126.114,126.1266,126.1392,126.1518,126.1498065,126.1283548,126.1069032,126.0854516,126.064,126.0766452,126.0892903,126.1019355,126.1145806,126.1454667,126.1900333,126.2346,126.2791667,126.3266774,126.3815484,126.4364194,126.4912903,126.5461613,126.6072,126.6692667,126.7313333,126.7934,126.8794839,126.9835806,127.0876774,127.1917742,127.3009355,127.4404839,127.5800323,127.7195806,127.859129,127.99525,128.13,128.26475,128.3995,128.5121935,128.6160645,128.7199355,128.8238065,128.9107333,128.9553,128.9998667,129.0444333,129.089,129.0756774,129.0623548,129.0490323,129.0357097,129.0432,129.0663,129.0894,129.1125,129.1338387,129.1507742,129.1677097,129.1846452,129.2015806,129.2405806,129.2832581,129.3259355,129.3686129,129.4306,129.5183333,129.6060667,129.6938,129.7706452,129.7821613,129.7936774,129.8051935,129.8167097,129.8268333,129.8364,129.8459667,129.8555333,129.8980645,129.9845484,130.0710323,130.1575161,130.244,130.2792258,130.3144516,130.3496774,130.3849032,130.4546207,130.5502069,130.6457931,130.7413793,130.8261935,130.8966452,130.9670968,131.0375484,131.108,131.1173333,131.1266667,131.136,131.1453333,131.0983226,131.0287742,130.9592258,130.8896774,130.8295333,130.7929,130.7562667,130.7196333,130.683,130.7012903,130.7195806,130.737871,130.7561613,130.7909677,130.8381613,130.8853548,130.9325484,130.9776667,131.0103333,131.043,131.0756667,131.1083333,131.1499677,131.1930968,126.4420645,126.4962581,126.5262857,126.5522857,126.5782857,126.6042857,126.6066452,126.6050645,126.6034839,126.6019032,126.5621,126.4713333,126.3805667,126.2898,126.2085484,126.1843871,126.1602258,126.1360645,126.1119032,126.114,126.1266,126.1392,126.1518,126.1498065,126.1283548,126.1069032,126.0854516,126.064,126.0766452,126.0892903,126.1019355,126.1145806,126.1454667,126.1900333,126.2346,126.2791667,126.3266774,126.3815484,126.4364194,126.4912903,126.5461613,126.6072,126.6692667,126.7313333,126.7934,126.8794839,126.9835806,127.0876774,127.1917742,127.3009355,127.4404839,127.5800323,127.7195806,127.859129,127.99525,128.13,128.26475,128.3995,128.5121935,128.6160645,128.7199355,128.8238065,128.9107333,128.9553,128.9998667,129.0444333,129.089,129.0756774,129.0623548,129.0490323,129.0357097,129.0432,129.0663,129.0894,129.1125,129.1338387,129.1507742,129.1677097,129.1846452,129.2015806,129.2405806,129.2832581,129.3259355,129.3686129,129.4306,129.5183333,129.6060667,129.6938,129.7706452,129.7821613,129.7936774,129.8051935,129.8167097,129.8268333,129.8364,129.8459667,129.8555333,129.8980645,129.9845484,130.0710323,130.1575161,130.244,130.2792258,130.3144516,130.3496774,130.3849032,130.4546207,130.5502069,130.6457931,130.7413793,130.8261935,130.8966452,130.9670968,131.0375484,131.108,131.1173333,131.1266667,131.136,131.1453333,131.0983226,131.0287742,130.9592258,130.8896774,130.8295333,130.7929,130.7562667,130.7196333,130.683,130.7012903,130.7195806,130.737871,130.7561613,130.7909677,130.8381613,130.8853548,130.9325484,130.9776667,131.0103333,131.043,131.0756667,131.1083333,131.1499677,131.1930968,181.8711898,181.982317,182.0347816,182.0774691,182.1201566,182.1628441,182.0779857,181.9718697,181.8657537,181.7596377,181.6924769,181.6772564,181.6620359,181.6468154,181.6612792,181.8538486,182.0464181,182.2389876,182.4315571,182.4424199,182.3806,182.3187801,182.2569603,182.2604411,182.3509895,182.4415378,182.5320862,182.6226346,182.6165205,182.6104063,182.6042922,182.598178,182.622509,182.6696737,182.7168385,182.7640032,182.8106203,182.8558685,182.9011166,182.9463648,182.9916129,182.8989385,182.7832769,182.6676154,182.5519538,182.517732,182.54459,182.5714479,182.5983058,182.6585782,182.9193368,183.1800955,183.4408542,183.7016129,183.9371353,184.1625632,184.3879911,184.613419,184.809719,184.9943679,185.1790167,185.3636656,185.5339821,185.6684673,185.8029526,185.9374378,186.0719231,185.9661154,185.8603077,185.7545,185.6486923,185.6719333,185.7919609,185.9119885,186.032016,186.1399808,186.2177885,186.2955962,186.3734038,186.4512115,186.5093071,186.5641172,186.6189274,186.6737376,186.8024,187.0295321,187.2566641,187.4837962,187.6917481,187.7846197,187.8774913,187.9703629,188.0632345,188.1983654,188.3504,188.5024346,188.6544692,188.7979349,188.9299752,189.0620155,189.1940558,189.3260962,189.4214733,189.5168505,189.6122277,189.7076048,189.8424834,190.0069881,190.1714927,190.3359973,190.4618964,190.5363213,190.6107463,190.6851712,190.7595962,190.8138013,190.8680064,190.9222115,190.9764167,190.9964479,191.0028096,191.0091712,191.0155329,191.0299731,191.0646096,191.0992462,191.1338827,191.1685192,191.1670428,191.1655664,191.16409,191.1626135,191.2284919,191.3448865,191.461281,191.5776756,191.69985,191.8567038,192.0135577,192.1704115,192.3272654,192.3308542,192.3088989,131.5279032,131.5866129,131.637,131.686,131.735,131.784,131.8242903,131.863129,131.9019677,131.9408065,131.9809,132.0226667,132.0644333,132.1062,132.152129,132.2230323,132.2939355,132.3648387,132.4357419,132.4733333,132.4976,132.5218667,132.5461333,132.5667742,132.5825806,132.5983871,132.6141935,132.63,132.6616129,132.6932258,132.7248387,132.7564516,132.7670667,132.7619333,132.7568,132.7516667,132.7633548,132.8170968,132.8708387,132.9245806,132.9783226,132.9172,132.8369333,132.7566667,132.6764,132.6804516,132.7477419,132.8150323,132.8823226,132.9510645,133.0285161,133.1059677,133.1834194,133.260871,133.3701429,133.4921429,133.6141429,133.7361429,133.8492258,133.9587419,134.0682581,134.1777742,134.2784667,134.3571,134.4357333,134.5143667,134.593,134.6803871,134.7677742,134.8551613,134.9425484,135.0837333,135.2652667,135.4468,135.6283333,135.7837419,135.8738387,135.9639355,136.0540323,136.144129,136.183129,136.2136129,136.2440968,136.2745806,136.3145,136.367,136.4195,136.472,136.5150968,136.5017742,136.4884516,136.475129,136.4618065,136.4666667,136.4788,136.4909333,136.5030667,136.5335161,136.5883871,136.6432581,136.698129,136.753,136.8564194,136.9598387,137.0632581,137.1666774,137.2583103,137.3411034,137.4238966,137.5066897,137.5843871,137.6552903,137.7261935,137.7970968,137.868,137.9230667,137.9781333,138.0332,138.0882667,138.1065806,138.1101935,138.1138065,138.1174194,138.1295333,138.1629,138.1962667,138.2296333,138.263,138.2331935,138.2033871,138.1735806,138.1437742,138.1857097,138.2814516,138.3771935,138.4729355,138.5673,138.6534,138.7395,138.8256,138.9117,138.8336129,138.7281613,189.3816974,189.4642725,189.5340998,189.6018023,189.6695049,189.7372075,189.734262,189.7195417,189.7048215,189.6901012,189.6628845,189.6190057,189.575127,189.5312483,189.4904116,189.467827,189.4452425,189.422658,189.4000734,189.4185259,189.4533931,189.4882603,189.5231276,189.6125456,189.774698,189.9368504,190.0990028,190.2611552,190.2948237,190.3284922,190.3621607,190.3958293,190.4688287,190.5713264,190.6738241,190.7763218,190.8623087,190.9070184,190.951728,190.9964377,191.0411474,191.0312172,191.0121805,190.9931437,190.9741069,191.0303376,191.1430189,191.2557002,191.3683815,191.4784939,191.5731924,191.667891,191.7625895,191.8572881,191.9178331,191.9647167,192.0116004,192.058484,192.1237981,192.1964844,192.2691707,192.3418571,192.4225954,192.5234638,192.6243322,192.7252006,192.826069,192.831317,192.8365651,192.8418131,192.8470612,192.9034759,192.9982655,193.0930552,193.1878448,193.3125484,193.5120367,193.711525,193.9110133,194.1105017,194.2500634,194.3796374,194.5092113,194.6387853,194.7419707,194.8099713,194.8779718,194.9459724,195.0261012,195.1789994,195.3318977,195.4847959,195.6376941,195.7184713,195.7704,195.8223287,195.8742575,195.9841685,196.1713893,196.3586101,196.5458309,196.7330517,196.7796652,196.8262786,196.8728921,196.9195056,196.9432711,196.9499007,196.9565303,196.9631599,197.0457208,197.2295234,197.4133259,197.5971285,197.780931,197.7227385,197.664546,197.6063534,197.5481609,197.5553137,197.5886046,197.6218954,197.6551863,197.692292,197.7389345,197.785577,197.8322195,197.8788621,197.9290378,197.9792136,198.0293893,198.0795651,198.1001057,198.0984199,198.0967341,198.0950484,198.1267184,198.358523,198.5903276,198.8221322,199.0539368,199.1481963,199.2195317,126.4420645,126.4962581,126.5262857,126.5522857,126.5782857,126.6042857,126.6066452,126.6050645,126.6034839,126.6019032,126.5621,126.4713333,126.3805667,126.2898,126.2085484,126.1843871,126.1602258,126.1360645,126.1119032,126.114,126.1266,126.1392,126.1518,126.1498065,126.1283548,126.1069032,126.0854516,126.064,126.0766452,126.0892903,126.1019355,126.1145806,126.1454667,126.1900333,126.2346,126.2791667,126.3266774,126.3815484,126.4364194,126.4912903,126.5461613,126.6072,126.6692667,126.7313333,126.7934,126.8794839,126.9835806,127.0876774,127.1917742,127.3009355,127.4404839,127.5800323,127.7195806,127.859129,127.99525,128.13,128.26475,128.3995,128.5121935,128.6160645,128.7199355,128.8238065,128.9107333,128.9553,128.9998667,129.0444333,129.089,129.0756774,129.0623548,129.0490323,129.0357097,129.0432,129.0663,129.0894,129.1125,129.1338387,129.1507742,129.1677097,129.1846452,129.2015806,129.2405806,129.2832581,129.3259355,129.3686129,129.4306,129.5183333,129.6060667,129.6938,129.7706452,129.7821613,129.7936774,129.8051935,129.8167097,129.8268333,129.8364,129.8459667,129.8555333,129.8980645,129.9845484,130.0710323,130.1575161,130.244,130.2792258,130.3144516,130.3496774,130.3849032,130.4546207,130.5502069,130.6457931,130.7413793,130.8261935,130.8966452,130.9670968,131.0375484,131.108,131.1173333,131.1266667,131.136,131.1453333,131.0983226,131.0287742,130.9592258,130.8896774,130.8295333,130.7929,130.7562667,130.7196333,130.683,130.7012903,130.7195806,130.737871,130.7561613,130.7909677,130.8381613,130.8853548,130.9325484,130.9776667,131.0103333,131.043,131.0756667,131.1083333,131.1499677,131.1930968,131.5279032,131.5866129,131.637,131.686,131.735,131.784,131.8242903,131.863129,131.9019677,131.9408065,131.9809,132.0226667,132.0644333,132.1062,132.152129,132.2230323,132.2939355,132.3648387,132.4357419,132.4733333,132.4976,132.5218667,132.5461333,132.5667742,132.5825806,132.5983871,132.6141935,132.63,132.6616129,132.6932258,132.7248387,132.7564516,132.7670667,132.7619333,132.7568,132.7516667,132.7633548,132.8170968,132.8708387,132.9245806,132.9783226,132.9172,132.8369333,132.7566667,132.6764,132.6804516,132.7477419,132.8150323,132.8823226,132.9510645,133.0285161,133.1059677,133.1834194,133.260871,133.3701429,133.4921429,133.6141429,133.7361429,133.8492258,133.9587419,134.0682581,134.1777742,134.2784667,134.3571,134.4357333,134.5143667,134.593,134.6803871,134.7677742,134.8551613,134.9425484,135.0837333,135.2652667,135.4468,135.6283333,135.7837419,135.8738387,135.9639355,136.0540323,136.144129,136.183129,136.2136129,136.2440968,136.2745806,136.3145,136.367,136.4195,136.472,136.5150968,136.5017742,136.4884516,136.475129,136.4618065,136.4666667,136.4788,136.4909333,136.5030667,136.5335161,136.5883871,136.6432581,136.698129,136.753,136.8564194,136.9598387,137.0632581,137.1666774,137.2583103,137.3411034,137.4238966,137.5066897,137.5843871,137.6552903,137.7261935,137.7970968,137.868,137.9230667,137.9781333,138.0332,138.0882667,138.1065806,138.1101935,138.1138065,138.1174194,138.1295333,138.1629,138.1962667,138.2296333,138.263,138.2331935,138.2033871,138.1735806,138.1437742,138.1857097,138.2814516,138.3771935,138.4729355,138.5673,138.6534,138.7395,138.8256,138.9117,138.8336129,138.7281613,131.5279032,131.5866129,131.637,131.686,131.735,131.784,131.8242903,131.863129,131.9019677,131.9408065,131.9809,132.0226667,132.0644333,132.1062,132.152129,132.2230323,132.2939355,132.3648387,132.4357419,132.4733333,132.4976,132.5218667,132.5461333,132.5667742,132.5825806,132.5983871,132.6141935,132.63,132.6616129,132.6932258,132.7248387,132.7564516,132.7670667,132.7619333,132.7568,132.7516667,132.7633548,132.8170968,132.8708387,132.9245806,132.9783226,132.9172,132.8369333,132.7566667,132.6764,132.6804516,132.7477419,132.8150323,132.8823226,132.9510645,133.0285161,133.1059677,133.1834194,133.260871,133.3701429,133.4921429,133.6141429,133.7361429,133.8492258,133.9587419,134.0682581,134.1777742,134.2784667,134.3571,134.4357333,134.5143667,134.593,134.6803871,134.7677742,134.8551613,134.9425484,135.0837333,135.2652667,135.4468,135.6283333,135.7837419,135.8738387,135.9639355,136.0540323,136.144129,136.183129,136.2136129,136.2440968,136.2745806,136.3145,136.367,136.4195,136.472,136.5150968,136.5017742,136.4884516,136.475129,136.4618065,136.4666667,136.4788,136.4909333,136.5030667,136.5335161,136.5883871,136.6432581,136.698129,136.753,136.8564194,136.9598387,137.0632581,137.1666774,137.2583103,137.3411034,137.4238966,137.5066897,137.5843871,137.6552903,137.7261935,137.7970968,137.868,137.9230667,137.9781333,138.0332,138.0882667,138.1065806,138.1101935,138.1138065,138.1174194,138.1295333,138.1629,138.1962667,138.2296333,138.263,138.2331935,138.2033871,138.1735806,138.1437742,138.1857097,138.2814516,138.3771935,138.4729355,138.5673,138.6534,138.7395,138.8256,138.9117,138.8336129,138.7281613,204.2471935,204.3857472,204.4321004,204.4630869,204.4940734,204.5250598,204.3782258,204.201755,204.0252842,203.8488134,203.7307486,203.6905586,203.6503685,203.6101784,203.6133915,203.8770235,204.1406556,204.4042877,204.6679198,204.670036,204.5675459,204.4650559,204.3625658,204.3571656,204.4812188,204.605272,204.7293252,204.8533784,204.8217044,204.7900305,204.7583566,204.7266827,204.7513279,204.8182126,204.8850973,204.951982,205.0137637,205.0627881,205.1118126,205.160837,205.2098614,205.0992811,204.9621,204.8249189,204.6877378,204.6321194,204.6376731,204.6432267,204.6487803,204.7026042,205.0460497,205.3894952,205.7329407,206.0763862,206.3694701,206.6424093,206.9153485,207.1882876,207.4283845,207.6553444,207.8823043,208.1092642,208.3172811,208.4779405,208.6386,208.7992595,208.9599189,208.7583165,208.556714,208.3551116,208.1535092,208.1265604,208.2306018,208.3346432,208.4386847,208.5309337,208.5937018,208.6564699,208.719238,208.7820061,208.8424359,208.902476,208.9625161,209.0225562,209.1893892,209.4986126,209.807836,210.1170595,210.4027602,210.5473252,210.6918901,210.8364551,210.9810201,211.1847207,211.4120757,211.6394306,211.8667856,212.0685039,212.2360401,212.4035763,212.5711125,212.7386486,212.8336399,212.9286312,213.0236225,213.1186138,213.2732106,213.4725116,213.6718127,213.8711137,214.0167132,214.0907105,214.1647079,214.2387053,214.3127027,214.3675045,214.4223063,214.4771081,214.5319099,214.5485571,214.5499425,214.5513278,214.5527132,214.5653243,214.606,214.6466757,214.6873514,214.728027,214.7331351,214.7382432,214.7433514,214.7484595,214.825578,214.9567044,215.0878309,215.2189573,215.3583757,215.5475459,215.7367162,215.9258865,216.1150568,216.1464699,216.1515902,210.7526053,210.8979935,210.9451605,210.9759573,211.0067542,211.037551,210.8733316,210.6766095,210.4798874,210.2831653,210.1495463,210.1000648,210.0505833,210.0011018,209.9984585,210.2768443,210.5552301,210.833616,211.1120018,211.1096543,210.9950134,210.8803726,210.7657317,210.7577954,210.8921319,211.0264684,211.1608049,211.2951413,211.2596586,211.2241759,211.1886931,211.1532104,211.1806415,211.2552578,211.3298742,211.4044906,211.4713286,211.5187208,211.5661131,211.6135053,211.6608975,211.5470304,211.4062867,211.265543,211.1247993,211.0645458,211.0646599,211.064774,211.0648881,211.1176713,211.4864691,211.8552668,212.2240646,212.5928624,212.9033115,213.190421,213.4775305,213.7646401,214.0156238,214.2521573,214.4886908,214.7252242,214.9420631,215.1096657,215.2772683,215.4448709,215.6124735,215.3834778,215.1544822,214.9254865,214.6964908,214.6513538,214.7441108,214.8368678,214.9296249,215.0134426,215.0749122,215.1363819,215.1978515,215.2593211,215.3229307,215.386897,215.4508632,215.5148295,215.6944378,216.0282356,216.3620333,216.6958311,217.0048261,217.1650042,217.3251824,217.4853605,217.6455387,217.8670218,218.1130269,218.3590319,218.605037,218.8217928,218.9995495,219.1773063,219.355063,219.5328198,219.6258417,219.7188636,219.8118854,219.9049073,220.0651993,220.275944,220.4866886,220.6974332,220.8498468,220.9244858,220.9991248,221.0737638,221.1484028,221.2021074,221.255812,221.3095166,221.3632212,221.380331,221.3828029,221.3852748,221.3877467,221.4009901,221.4411622,221.4813343,221.5215064,221.5616784,221.5701123,221.5785461,221.5869799,221.5954138,221.6751459,221.8083518,221.9415576,222.0747635,222.2174395,222.4169362,222.6164329,222.8159296,223.0154263,223.0598077,223.0783366,135.3524608,135.4113076,135.4657781,135.5195191,135.5732602,135.6270013,135.6682247,135.7073618,135.7464988,135.7856359,135.82725,135.8721667,135.9170833,135.962,136.010394,136.0796521,136.1489101,136.2181682,136.2874263,136.3243393,136.3483143,136.3722893,136.3962643,136.4179827,136.4366924,136.4554021,136.4741118,136.4928214,136.5249182,136.557015,136.5891118,136.6212085,136.6338071,136.6317821,136.6297571,136.6277321,136.6401935,136.688871,136.7375484,136.7862258,136.8349032,136.7715714,136.6895714,136.6075714,136.5255714,136.5292811,136.597273,136.665265,136.7332569,136.803477,136.8870657,136.9706544,137.0542431,137.1378318,137.2511849,137.3764439,137.5017028,137.6269617,137.7398929,137.8478929,137.9558929,138.0638929,138.1646952,138.2475036,138.3303119,138.4131202,138.4959286,138.587106,138.6782834,138.7694608,138.8606382,139.0028333,139.1832917,139.36375,139.5442083,139.7006325,139.7969712,139.8933099,139.9896486,140.0859873,140.1289205,140.1629528,140.196985,140.2310173,140.2735,140.32725,140.381,140.43475,140.4784194,140.4616048,140.4447903,140.4279758,140.4111613,140.4127857,140.4217857,140.4307857,140.4397857,140.4700795,140.528765,140.5874505,140.6461359,140.7048214,140.8086118,140.9124021,141.0161924,141.1199827,141.2140357,141.3007857,141.3875357,141.4742857,141.55478,141.6269332,141.6990864,141.7712396,141.8433929,141.9015262,141.9596595,142.0177929,142.0759262,142.0970115,142.1032776,142.1095438,142.1158099,142.1292548,142.1606464,142.1920381,142.2234298,142.2548214,142.2337569,142.2126924,142.1916279,142.1705634,142.2157385,142.3105933,142.4054482,142.500303,142.5938833,142.6798167,142.76575,142.8516833,142.9376167,142.8633629,142.7624113,131.5279032,131.5866129,131.637,131.686,131.735,131.784,131.8242903,131.863129,131.9019677,131.9408065,131.9809,132.0226667,132.0644333,132.1062,132.152129,132.2230323,132.2939355,132.3648387,132.4357419,132.4733333,132.4976,132.5218667,132.5461333,132.5667742,132.5825806,132.5983871,132.6141935,132.63,132.6616129,132.6932258,132.7248387,132.7564516,132.7670667,132.7619333,132.7568,132.7516667,132.7633548,132.8170968,132.8708387,132.9245806,132.9783226,132.9172,132.8369333,132.7566667,132.6764,132.6804516,132.7477419,132.8150323,132.8823226,132.9510645,133.0285161,133.1059677,133.1834194,133.260871,133.3701429,133.4921429,133.6141429,133.7361429,133.8492258,133.9587419,134.0682581,134.1777742,134.2784667,134.3571,134.4357333,134.5143667,134.593,134.6803871,134.7677742,134.8551613,134.9425484,135.0837333,135.2652667,135.4468,135.6283333,135.7837419,135.8738387,135.9639355,136.0540323,136.144129,136.183129,136.2136129,136.2440968,136.2745806,136.3145,136.367,136.4195,136.472,136.5150968,136.5017742,136.4884516,136.475129,136.4618065,136.4666667,136.4788,136.4909333,136.5030667,136.5335161,136.5883871,136.6432581,136.698129,136.753,136.8564194,136.9598387,137.0632581,137.1666774,137.2583103,137.3411034,137.4238966,137.5066897,137.5843871,137.6552903,137.7261935,137.7970968,137.868,137.9230667,137.9781333,138.0332,138.0882667,138.1065806,138.1101935,138.1138065,138.1174194,138.1295333,138.1629,138.1962667,138.2296333,138.263,138.2331935,138.2033871,138.1735806,138.1437742,138.1857097,138.2814516,138.3771935,138.4729355,138.5673,138.6534,138.7395,138.8256,138.9117,138.8336129,138.7281613,131.5279032,131.5866129,131.637,131.686,131.735,131.784,131.8242903,131.863129,131.9019677,131.9408065,131.9809,132.0226667,132.0644333,132.1062,132.152129,132.2230323,132.2939355,132.3648387,132.4357419,132.4733333,132.4976,132.5218667,132.5461333,132.5667742,132.5825806,132.5983871,132.6141935,132.63,132.6616129,132.6932258,132.7248387,132.7564516,132.7670667,132.7619333,132.7568,132.7516667,132.7633548,132.8170968,132.8708387,132.9245806,132.9783226,132.9172,132.8369333,132.7566667,132.6764,132.6804516,132.7477419,132.8150323,132.8823226,132.9510645,133.0285161,133.1059677,133.1834194,133.260871,133.3701429,133.4921429,133.6141429,133.7361429,133.8492258,133.9587419,134.0682581,134.1777742,134.2784667,134.3571,134.4357333,134.5143667,134.593,134.6803871,134.7677742,134.8551613,134.9425484,135.0837333,135.2652667,135.4468,135.6283333,135.7837419,135.8738387,135.9639355,136.0540323,136.144129,136.183129,136.2136129,136.2440968,136.2745806,136.3145,136.367,136.4195,136.472,136.5150968,136.5017742,136.4884516,136.475129,136.4618065,136.4666667,136.4788,136.4909333,136.5030667,136.5335161,136.5883871,136.6432581,136.698129,136.753,136.8564194,136.9598387,137.0632581,137.1666774,137.2583103,137.3411034,137.4238966,137.5066897,137.5843871,137.6552903,137.7261935,137.7970968,137.868,137.9230667,137.9781333,138.0332,138.0882667,138.1065806,138.1101935,138.1138065,138.1174194,138.1295333,138.1629,138.1962667,138.2296333,138.263,138.2331935,138.2033871,138.1735806,138.1437742,138.1857097,138.2814516,138.3771935,138.4729355,138.5673,138.6534,138.7395,138.8256,138.9117,138.8336129,138.7281613,204.2471935,204.3857472,204.4321004,204.4630869,204.4940734,204.5250598,204.3782258,204.201755,204.0252842,203.8488134,203.7307486,203.6905586,203.6503685,203.6101784,203.6133915,203.8770235,204.1406556,204.4042877,204.6679198,204.670036,204.5675459,204.4650559,204.3625658,204.3571656,204.4812188,204.605272,204.7293252,204.8533784,204.8217044,204.7900305,204.7583566,204.7266827,204.7513279,204.8182126,204.8850973,204.951982,205.0137637,205.0627881,205.1118126,205.160837,205.2098614,205.0992811,204.9621,204.8249189,204.6877378,204.6321194,204.6376731,204.6432267,204.6487803,204.7026042,205.0460497,205.3894952,205.7329407,206.0763862,206.3694701,206.6424093,206.9153485,207.1882876,207.4283845,207.6553444,207.8823043,208.1092642,208.3172811,208.4779405,208.6386,208.7992595,208.9599189,208.7583165,208.556714,208.3551116,208.1535092,208.1265604,208.2306018,208.3346432,208.4386847,208.5309337,208.5937018,208.6564699,208.719238,208.7820061,208.8424359,208.902476,208.9625161,209.0225562,209.1893892,209.4986126,209.807836,210.1170595,210.4027602,210.5473252,210.6918901,210.8364551,210.9810201,211.1847207,211.4120757,211.6394306,211.8667856,212.0685039,212.2360401,212.4035763,212.5711125,212.7386486,212.8336399,212.9286312,213.0236225,213.1186138,213.2732106,213.4725116,213.6718127,213.8711137,214.0167132,214.0907105,214.1647079,214.2387053,214.3127027,214.3675045,214.4223063,214.4771081,214.5319099,214.5485571,214.5499425,214.5513278,214.5527132,214.5653243,214.606,214.6466757,214.6873514,214.728027,214.7331351,214.7382432,214.7433514,214.7484595,214.825578,214.9567044,215.0878309,215.2189573,215.3583757,215.5475459,215.7367162,215.9258865,216.1150568,216.1464699,216.1515902,131.5279032,131.5866129,131.637,131.686,131.735,131.784,131.8242903,131.863129,131.9019677,131.9408065,131.9809,132.0226667,132.0644333,132.1062,132.152129,132.2230323,132.2939355,132.3648387,132.4357419,132.4733333,132.4976,132.5218667,132.5461333,132.5667742,132.5825806,132.5983871,132.6141935,132.63,132.6616129,132.6932258,132.7248387,132.7564516,132.7670667,132.7619333,132.7568,132.7516667,132.7633548,132.8170968,132.8708387,132.9245806,132.9783226,132.9172,132.8369333,132.7566667,132.6764,132.6804516,132.7477419,132.8150323,132.8823226,132.9510645,133.0285161,133.1059677,133.1834194,133.260871,133.3701429,133.4921429,133.6141429,133.7361429,133.8492258,133.9587419,134.0682581,134.1777742,134.2784667,134.3571,134.4357333,134.5143667,134.593,134.6803871,134.7677742,134.8551613,134.9425484,135.0837333,135.2652667,135.4468,135.6283333,135.7837419,135.8738387,135.9639355,136.0540323,136.144129,136.183129,136.2136129,136.2440968,136.2745806,136.3145,136.367,136.4195,136.472,136.5150968,136.5017742,136.4884516,136.475129,136.4618065,136.4666667,136.4788,136.4909333,136.5030667,136.5335161,136.5883871,136.6432581,136.698129,136.753,136.8564194,136.9598387,137.0632581,137.1666774,137.2583103,137.3411034,137.4238966,137.5066897,137.5843871,137.6552903,137.7261935,137.7970968,137.868,137.9230667,137.9781333,138.0332,138.0882667,138.1065806,138.1101935,138.1138065,138.1174194,138.1295333,138.1629,138.1962667,138.2296333,138.263,138.2331935,138.2033871,138.1735806,138.1437742,138.1857097,138.2814516,138.3771935,138.4729355,138.5673,138.6534,138.7395,138.8256,138.9117,138.8336129,138.7281613,135.3524608,135.4113076,135.4657781,135.5195191,135.5732602,135.6270013,135.6682247,135.7073618,135.7464988,135.7856359,135.82725,135.8721667,135.9170833,135.962,136.010394,136.0796521,136.1489101,136.2181682,136.2874263,136.3243393,136.3483143,136.3722893,136.3962643,136.4179827,136.4366924,136.4554021,136.4741118,136.4928214,136.5249182,136.557015,136.5891118,136.6212085,136.6338071,136.6317821,136.6297571,136.6277321,136.6401935,136.688871,136.7375484,136.7862258,136.8349032,136.7715714,136.6895714,136.6075714,136.5255714,136.5292811,136.597273,136.665265,136.7332569,136.803477,136.8870657,136.9706544,137.0542431,137.1378318,137.2511849,137.3764439,137.5017028,137.6269617,137.7398929,137.8478929,137.9558929,138.0638929,138.1646952,138.2475036,138.3303119,138.4131202,138.4959286,138.587106,138.6782834,138.7694608,138.8606382,139.0028333,139.1832917,139.36375,139.5442083,139.7006325,139.7969712,139.8933099,139.9896486,140.0859873,140.1289205,140.1629528,140.196985,140.2310173,140.2735,140.32725,140.381,140.43475,140.4784194,140.4616048,140.4447903,140.4279758,140.4111613,140.4127857,140.4217857,140.4307857,140.4397857,140.4700795,140.528765,140.5874505,140.6461359,140.7048214,140.8086118,140.9124021,141.0161924,141.1199827,141.2140357,141.3007857,141.3875357,141.4742857,141.55478,141.6269332,141.6990864,141.7712396,141.8433929,141.9015262,141.9596595,142.0177929,142.0759262,142.0970115,142.1032776,142.1095438,142.1158099,142.1292548,142.1606464,142.1920381,142.2234298,142.2548214,142.2337569,142.2126924,142.1916279,142.1705634,142.2157385,142.3105933,142.4054482,142.500303,142.5938833,142.6798167,142.76575,142.8516833,142.9376167,142.8633629,142.7624113,126.4420645,126.4962581,126.5262857,126.5522857,126.5782857,126.6042857,126.6066452,126.6050645,126.6034839,126.6019032,126.5621,126.4713333,126.3805667,126.2898,126.2085484,126.1843871,126.1602258,126.1360645,126.1119032,126.114,126.1266,126.1392,126.1518,126.1498065,126.1283548,126.1069032,126.0854516,126.064,126.0766452,126.0892903,126.1019355,126.1145806,126.1454667,126.1900333,126.2346,126.2791667,126.3266774,126.3815484,126.4364194,126.4912903,126.5461613,126.6072,126.6692667,126.7313333,126.7934,126.8794839,126.9835806,127.0876774,127.1917742,127.3009355,127.4404839,127.5800323,127.7195806,127.859129,127.99525,128.13,128.26475,128.3995,128.5121935,128.6160645,128.7199355,128.8238065,128.9107333,128.9553,128.9998667,129.0444333,129.089,129.0756774,129.0623548,129.0490323,129.0357097,129.0432,129.0663,129.0894,129.1125,129.1338387,129.1507742,129.1677097,129.1846452,129.2015806,129.2405806,129.2832581,129.3259355,129.3686129,129.4306,129.5183333,129.6060667,129.6938,129.7706452,129.7821613,129.7936774,129.8051935,129.8167097,129.8268333,129.8364,129.8459667,129.8555333,129.8980645,129.9845484,130.0710323,130.1575161,130.244,130.2792258,130.3144516,130.3496774,130.3849032,130.4546207,130.5502069,130.6457931,130.7413793,130.8261935,130.8966452,130.9670968,131.0375484,131.108,131.1173333,131.1266667,131.136,131.1453333,131.0983226,131.0287742,130.9592258,130.8896774,130.8295333,130.7929,130.7562667,130.7196333,130.683,130.7012903,130.7195806,130.737871,130.7561613,130.7909677,130.8381613,130.8853548,130.9325484,130.9776667,131.0103333,131.043,131.0756667,131.1083333,131.1499677,131.1930968,131.5279032,131.5866129,131.637,131.686,131.735,131.784,131.8242903,131.863129,131.9019677,131.9408065,131.9809,132.0226667,132.0644333,132.1062,132.152129,132.2230323,132.2939355,132.3648387,132.4357419,132.4733333,132.4976,132.5218667,132.5461333,132.5667742,132.5825806,132.5983871,132.6141935,132.63,132.6616129,132.6932258,132.7248387,132.7564516,132.7670667,132.7619333,132.7568,132.7516667,132.7633548,132.8170968,132.8708387,132.9245806,132.9783226,132.9172,132.8369333,132.7566667,132.6764,132.6804516,132.7477419,132.8150323,132.8823226,132.9510645,133.0285161,133.1059677,133.1834194,133.260871,133.3701429,133.4921429,133.6141429,133.7361429,133.8492258,133.9587419,134.0682581,134.1777742,134.2784667,134.3571,134.4357333,134.5143667,134.593,134.6803871,134.7677742,134.8551613,134.9425484,135.0837333,135.2652667,135.4468,135.6283333,135.7837419,135.8738387,135.9639355,136.0540323,136.144129,136.183129,136.2136129,136.2440968,136.2745806,136.3145,136.367,136.4195,136.472,136.5150968,136.5017742,136.4884516,136.475129,136.4618065,136.4666667,136.4788,136.4909333,136.5030667,136.5335161,136.5883871,136.6432581,136.698129,136.753,136.8564194,136.9598387,137.0632581,137.1666774,137.2583103,137.3411034,137.4238966,137.5066897,137.5843871,137.6552903,137.7261935,137.7970968,137.868,137.9230667,137.9781333,138.0332,138.0882667,138.1065806,138.1101935,138.1138065,138.1174194,138.1295333,138.1629,138.1962667,138.2296333,138.263,138.2331935,138.2033871,138.1735806,138.1437742,138.1857097,138.2814516,138.3771935,138.4729355,138.5673,138.6534,138.7395,138.8256,138.9117,138.8336129,138.7281613,210.7526053,210.8979935,210.9451605,210.9759573,211.0067542,211.037551,210.8733316,210.6766095,210.4798874,210.2831653,210.1495463,210.1000648,210.0505833,210.0011018,209.9984585,210.2768443,210.5552301,210.833616,211.1120018,211.1096543,210.9950134,210.8803726,210.7657317,210.7577954,210.8921319,211.0264684,211.1608049,211.2951413,211.2596586,211.2241759,211.1886931,211.1532104,211.1806415,211.2552578,211.3298742,211.4044906,211.4713286,211.5187208,211.5661131,211.6135053,211.6608975,211.5470304,211.4062867,211.265543,211.1247993,211.0645458,211.0646599,211.064774,211.0648881,211.1176713,211.4864691,211.8552668,212.2240646,212.5928624,212.9033115,213.190421,213.4775305,213.7646401,214.0156238,214.2521573,214.4886908,214.7252242,214.9420631,215.1096657,215.2772683,215.4448709,215.6124735,215.3834778,215.1544822,214.9254865,214.6964908,214.6513538,214.7441108,214.8368678,214.9296249,215.0134426,215.0749122,215.1363819,215.1978515,215.2593211,215.3229307,215.386897,215.4508632,215.5148295,215.6944378,216.0282356,216.3620333,216.6958311,217.0048261,217.1650042,217.3251824,217.4853605,217.6455387,217.8670218,218.1130269,218.3590319,218.605037,218.8217928,218.9995495,219.1773063,219.355063,219.5328198,219.6258417,219.7188636,219.8118854,219.9049073,220.0651993,220.275944,220.4866886,220.6974332,220.8498468,220.9244858,220.9991248,221.0737638,221.1484028,221.2021074,221.255812,221.3095166,221.3632212,221.380331,221.3828029,221.3852748,221.3877467,221.4009901,221.4411622,221.4813343,221.5215064,221.5616784,221.5701123,221.5785461,221.5869799,221.5954138,221.6751459,221.8083518,221.9415576,222.0747635,222.2174395,222.4169362,222.6164329,222.8159296,223.0154263,223.0598077,223.0783366,189.3816974,189.4642725,189.5340998,189.6018023,189.6695049,189.7372075,189.734262,189.7195417,189.7048215,189.6901012,189.6628845,189.6190057,189.575127,189.5312483,189.4904116,189.467827,189.4452425,189.422658,189.4000734,189.4185259,189.4533931,189.4882603,189.5231276,189.6125456,189.774698,189.9368504,190.0990028,190.2611552,190.2948237,190.3284922,190.3621607,190.3958293,190.4688287,190.5713264,190.6738241,190.7763218,190.8623087,190.9070184,190.951728,190.9964377,191.0411474,191.0312172,191.0121805,190.9931437,190.9741069,191.0303376,191.1430189,191.2557002,191.3683815,191.4784939,191.5731924,191.667891,191.7625895,191.8572881,191.9178331,191.9647167,192.0116004,192.058484,192.1237981,192.1964844,192.2691707,192.3418571,192.4225954,192.5234638,192.6243322,192.7252006,192.826069,192.831317,192.8365651,192.8418131,192.8470612,192.9034759,192.9982655,193.0930552,193.1878448,193.3125484,193.5120367,193.711525,193.9110133,194.1105017,194.2500634,194.3796374,194.5092113,194.6387853,194.7419707,194.8099713,194.8779718,194.9459724,195.0261012,195.1789994,195.3318977,195.4847959,195.6376941,195.7184713,195.7704,195.8223287,195.8742575,195.9841685,196.1713893,196.3586101,196.5458309,196.7330517,196.7796652,196.8262786,196.8728921,196.9195056,196.9432711,196.9499007,196.9565303,196.9631599,197.0457208,197.2295234,197.4133259,197.5971285,197.780931,197.7227385,197.664546,197.6063534,197.5481609,197.5553137,197.5886046,197.6218954,197.6551863,197.692292,197.7389345,197.785577,197.8322195,197.8788621,197.9290378,197.9792136,198.0293893,198.0795651,198.1001057,198.0984199,198.0967341,198.0950484,198.1267184,198.358523,198.5903276,198.8221322,199.0539368,199.1481963,199.2195317,126.4420645,126.4962581,126.5262857,126.5522857,126.5782857,126.6042857,126.6066452,126.6050645,126.6034839,126.6019032,126.5621,126.4713333,126.3805667,126.2898,126.2085484,126.1843871,126.1602258,126.1360645,126.1119032,126.114,126.1266,126.1392,126.1518,126.1498065,126.1283548,126.1069032,126.0854516,126.064,126.0766452,126.0892903,126.1019355,126.1145806,126.1454667,126.1900333,126.2346,126.2791667,126.3266774,126.3815484,126.4364194,126.4912903,126.5461613,126.6072,126.6692667,126.7313333,126.7934,126.8794839,126.9835806,127.0876774,127.1917742,127.3009355,127.4404839,127.5800323,127.7195806,127.859129,127.99525,128.13,128.26475,128.3995,128.5121935,128.6160645,128.7199355,128.8238065,128.9107333,128.9553,128.9998667,129.0444333,129.089,129.0756774,129.0623548,129.0490323,129.0357097,129.0432,129.0663,129.0894,129.1125,129.1338387,129.1507742,129.1677097,129.1846452,129.2015806,129.2405806,129.2832581,129.3259355,129.3686129,129.4306,129.5183333,129.6060667,129.6938,129.7706452,129.7821613,129.7936774,129.8051935,129.8167097,129.8268333,129.8364,129.8459667,129.8555333,129.8980645,129.9845484,130.0710323,130.1575161,130.244,130.2792258,130.3144516,130.3496774,130.3849032,130.4546207,130.5502069,130.6457931,130.7413793,130.8261935,130.8966452,130.9670968,131.0375484,131.108,131.1173333,131.1266667,131.136,131.1453333,131.0983226,131.0287742,130.9592258,130.8896774,130.8295333,130.7929,130.7562667,130.7196333,130.683,130.7012903,130.7195806,130.737871,130.7561613,130.7909677,130.8381613,130.8853548,130.9325484,130.9776667,131.0103333,131.043,131.0756667,131.1083333,131.1499677,131.1930968,135.3524608,135.4113076,135.4657781,135.5195191,135.5732602,135.6270013,135.6682247,135.7073618,135.7464988,135.7856359,135.82725,135.8721667,135.9170833,135.962,136.010394,136.0796521,136.1489101,136.2181682,136.2874263,136.3243393,136.3483143,136.3722893,136.3962643,136.4179827,136.4366924,136.4554021,136.4741118,136.4928214,136.5249182,136.557015,136.5891118,136.6212085,136.6338071,136.6317821,136.6297571,136.6277321,136.6401935,136.688871,136.7375484,136.7862258,136.8349032,136.7715714,136.6895714,136.6075714,136.5255714,136.5292811,136.597273,136.665265,136.7332569,136.803477,136.8870657,136.9706544,137.0542431,137.1378318,137.2511849,137.3764439,137.5017028,137.6269617,137.7398929,137.8478929,137.9558929,138.0638929,138.1646952,138.2475036,138.3303119,138.4131202,138.4959286,138.587106,138.6782834,138.7694608,138.8606382,139.0028333,139.1832917,139.36375,139.5442083,139.7006325,139.7969712,139.8933099,139.9896486,140.0859873,140.1289205,140.1629528,140.196985,140.2310173,140.2735,140.32725,140.381,140.43475,140.4784194,140.4616048,140.4447903,140.4279758,140.4111613,140.4127857,140.4217857,140.4307857,140.4397857,140.4700795,140.528765,140.5874505,140.6461359,140.7048214,140.8086118,140.9124021,141.0161924,141.1199827,141.2140357,141.3007857,141.3875357,141.4742857,141.55478,141.6269332,141.6990864,141.7712396,141.8433929,141.9015262,141.9596595,142.0177929,142.0759262,142.0970115,142.1032776,142.1095438,142.1158099,142.1292548,142.1606464,142.1920381,142.2234298,142.2548214,142.2337569,142.2126924,142.1916279,142.1705634,142.2157385,142.3105933,142.4054482,142.500303,142.5938833,142.6798167,142.76575,142.8516833,142.9376167,142.8633629,142.7624113,209.8529663,209.9970208,210.0451024,210.0771885,210.1092746,210.1413607,209.9803208,209.7870932,209.5938656,209.400638,209.2691428,209.2199574,209.170772,209.1215867,209.118536,209.3922937,209.6660514,209.9398091,210.2135668,210.2108417,210.0975233,209.984205,209.8708867,209.8630532,209.9958663,210.1286794,210.2614925,210.3943056,210.3617581,210.3292106,210.2966631,210.2641156,210.2924504,210.3664469,210.4404433,210.5144398,210.5805944,210.6271444,210.6736944,210.7202444,210.7667944,210.65429,210.5152765,210.376263,210.2372494,210.1787224,210.1805602,210.182398,210.1842358,210.2379731,210.6031072,210.9682412,211.3333753,211.6985093,212.0063522,212.2912786,212.576205,212.8611313,213.1096787,213.3436744,213.5776701,213.8116658,214.026217,214.1921572,214.3580974,214.5240376,214.6899778,214.465412,214.2408462,214.0162805,213.7917147,213.7481256,213.8402689,213.9324122,214.0245556,214.1083654,214.1713416,214.2343177,214.2972939,214.3602701,214.4239935,214.4878416,214.5516896,214.6155376,214.7934111,215.1233185,215.4532259,215.7831333,216.0885258,216.2468287,216.4051315,216.5634344,216.7217373,216.9395861,217.1812533,217.4229206,217.6645878,217.8781339,218.0541851,218.2302364,218.4062876,218.5823389,218.6755292,218.7687195,218.8619099,218.9551002,219.1148297,219.3244636,219.5340975,219.7437314,219.8956335,219.9705599,220.0454862,220.1204125,220.1953389,220.2483937,220.3014485,220.3545033,220.4075581,220.4252149,220.4287124,220.4322099,220.4357073,220.4494148,220.4886472,220.5278796,220.567112,220.6063444,220.6148749,220.6234054,220.6319358,220.6404663,220.7199609,220.8526787,220.9853964,221.1181142,221.2601207,221.4578604,221.6556,221.8533396,222.0510793,222.0951719,222.1136566,131.5279032,131.5866129,131.637,131.686,131.735,131.784,131.8242903,131.863129,131.9019677,131.9408065,131.9809,132.0226667,132.0644333,132.1062,132.152129,132.2230323,132.2939355,132.3648387,132.4357419,132.4733333,132.4976,132.5218667,132.5461333,132.5667742,132.5825806,132.5983871,132.6141935,132.63,132.6616129,132.6932258,132.7248387,132.7564516,132.7670667,132.7619333,132.7568,132.7516667,132.7633548,132.8170968,132.8708387,132.9245806,132.9783226,132.9172,132.8369333,132.7566667,132.6764,132.6804516,132.7477419,132.8150323,132.8823226,132.9510645,133.0285161,133.1059677,133.1834194,133.260871,133.3701429,133.4921429,133.6141429,133.7361429,133.8492258,133.9587419,134.0682581,134.1777742,134.2784667,134.3571,134.4357333,134.5143667,134.593,134.6803871,134.7677742,134.8551613,134.9425484,135.0837333,135.2652667,135.4468,135.6283333,135.7837419,135.8738387,135.9639355,136.0540323,136.144129,136.183129,136.2136129,136.2440968,136.2745806,136.3145,136.367,136.4195,136.472,136.5150968,136.5017742,136.4884516,136.475129,136.4618065,136.4666667,136.4788,136.4909333,136.5030667,136.5335161,136.5883871,136.6432581,136.698129,136.753,136.8564194,136.9598387,137.0632581,137.1666774,137.2583103,137.3411034,137.4238966,137.5066897,137.5843871,137.6552903,137.7261935,137.7970968,137.868,137.9230667,137.9781333,138.0332,138.0882667,138.1065806,138.1101935,138.1138065,138.1174194,138.1295333,138.1629,138.1962667,138.2296333,138.263,138.2331935,138.2033871,138.1735806,138.1437742,138.1857097,138.2814516,138.3771935,138.4729355,138.5673,138.6534,138.7395,138.8256,138.9117,138.8336129,138.7281613,189.3816974,189.4642725,189.5340998,189.6018023,189.6695049,189.7372075,189.734262,189.7195417,189.7048215,189.6901012,189.6628845,189.6190057,189.575127,189.5312483,189.4904116,189.467827,189.4452425,189.422658,189.4000734,189.4185259,189.4533931,189.4882603,189.5231276,189.6125456,189.774698,189.9368504,190.0990028,190.2611552,190.2948237,190.3284922,190.3621607,190.3958293,190.4688287,190.5713264,190.6738241,190.7763218,190.8623087,190.9070184,190.951728,190.9964377,191.0411474,191.0312172,191.0121805,190.9931437,190.9741069,191.0303376,191.1430189,191.2557002,191.3683815,191.4784939,191.5731924,191.667891,191.7625895,191.8572881,191.9178331,191.9647167,192.0116004,192.058484,192.1237981,192.1964844,192.2691707,192.3418571,192.4225954,192.5234638,192.6243322,192.7252006,192.826069,192.831317,192.8365651,192.8418131,192.8470612,192.9034759,192.9982655,193.0930552,193.1878448,193.3125484,193.5120367,193.711525,193.9110133,194.1105017,194.2500634,194.3796374,194.5092113,194.6387853,194.7419707,194.8099713,194.8779718,194.9459724,195.0261012,195.1789994,195.3318977,195.4847959,195.6376941,195.7184713,195.7704,195.8223287,195.8742575,195.9841685,196.1713893,196.3586101,196.5458309,196.7330517,196.7796652,196.8262786,196.8728921,196.9195056,196.9432711,196.9499007,196.9565303,196.9631599,197.0457208,197.2295234,197.4133259,197.5971285,197.780931,197.7227385,197.664546,197.6063534,197.5481609,197.5553137,197.5886046,197.6218954,197.6551863,197.692292,197.7389345,197.785577,197.8322195,197.8788621,197.9290378,197.9792136,198.0293893,198.0795651,198.1001057,198.0984199,198.0967341,198.0950484,198.1267184,198.358523,198.5903276,198.8221322,199.0539368,199.1481963,199.2195317,181.8711898,181.982317,182.0347816,182.0774691,182.1201566,182.1628441,182.0779857,181.9718697,181.8657537,181.7596377,181.6924769,181.6772564,181.6620359,181.6468154,181.6612792,181.8538486,182.0464181,182.2389876,182.4315571,182.4424199,182.3806,182.3187801,182.2569603,182.2604411,182.3509895,182.4415378,182.5320862,182.6226346,182.6165205,182.6104063,182.6042922,182.598178,182.622509,182.6696737,182.7168385,182.7640032,182.8106203,182.8558685,182.9011166,182.9463648,182.9916129,182.8989385,182.7832769,182.6676154,182.5519538,182.517732,182.54459,182.5714479,182.5983058,182.6585782,182.9193368,183.1800955,183.4408542,183.7016129,183.9371353,184.1625632,184.3879911,184.613419,184.809719,184.9943679,185.1790167,185.3636656,185.5339821,185.6684673,185.8029526,185.9374378,186.0719231,185.9661154,185.8603077,185.7545,185.6486923,185.6719333,185.7919609,185.9119885,186.032016,186.1399808,186.2177885,186.2955962,186.3734038,186.4512115,186.5093071,186.5641172,186.6189274,186.6737376,186.8024,187.0295321,187.2566641,187.4837962,187.6917481,187.7846197,187.8774913,187.9703629,188.0632345,188.1983654,188.3504,188.5024346,188.6544692,188.7979349,188.9299752,189.0620155,189.1940558,189.3260962,189.4214733,189.5168505,189.6122277,189.7076048,189.8424834,190.0069881,190.1714927,190.3359973,190.4618964,190.5363213,190.6107463,190.6851712,190.7595962,190.8138013,190.8680064,190.9222115,190.9764167,190.9964479,191.0028096,191.0091712,191.0155329,191.0299731,191.0646096,191.0992462,191.1338827,191.1685192,191.1670428,191.1655664,191.16409,191.1626135,191.2284919,191.3448865,191.461281,191.5776756,191.69985,191.8567038,192.0135577,192.1704115,192.3272654,192.3308542,192.3088989],\"y0\":\" \",\"yaxis\":\"y\",\"type\":\"box\"}],                        {\"template\":{\"data\":{\"bar\":[{\"error_x\":{\"color\":\"#2a3f5f\"},\"error_y\":{\"color\":\"#2a3f5f\"},\"marker\":{\"line\":{\"color\":\"#E5ECF6\",\"width\":0.5},\"pattern\":{\"fillmode\":\"overlay\",\"size\":10,\"solidity\":0.2}},\"type\":\"bar\"}],\"barpolar\":[{\"marker\":{\"line\":{\"color\":\"#E5ECF6\",\"width\":0.5},\"pattern\":{\"fillmode\":\"overlay\",\"size\":10,\"solidity\":0.2}},\"type\":\"barpolar\"}],\"carpet\":[{\"aaxis\":{\"endlinecolor\":\"#2a3f5f\",\"gridcolor\":\"white\",\"linecolor\":\"white\",\"minorgridcolor\":\"white\",\"startlinecolor\":\"#2a3f5f\"},\"baxis\":{\"endlinecolor\":\"#2a3f5f\",\"gridcolor\":\"white\",\"linecolor\":\"white\",\"minorgridcolor\":\"white\",\"startlinecolor\":\"#2a3f5f\"},\"type\":\"carpet\"}],\"choropleth\":[{\"colorbar\":{\"outlinewidth\":0,\"ticks\":\"\"},\"type\":\"choropleth\"}],\"contour\":[{\"colorbar\":{\"outlinewidth\":0,\"ticks\":\"\"},\"colorscale\":[[0.0,\"#0d0887\"],[0.1111111111111111,\"#46039f\"],[0.2222222222222222,\"#7201a8\"],[0.3333333333333333,\"#9c179e\"],[0.4444444444444444,\"#bd3786\"],[0.5555555555555556,\"#d8576b\"],[0.6666666666666666,\"#ed7953\"],[0.7777777777777778,\"#fb9f3a\"],[0.8888888888888888,\"#fdca26\"],[1.0,\"#f0f921\"]],\"type\":\"contour\"}],\"contourcarpet\":[{\"colorbar\":{\"outlinewidth\":0,\"ticks\":\"\"},\"type\":\"contourcarpet\"}],\"heatmap\":[{\"colorbar\":{\"outlinewidth\":0,\"ticks\":\"\"},\"colorscale\":[[0.0,\"#0d0887\"],[0.1111111111111111,\"#46039f\"],[0.2222222222222222,\"#7201a8\"],[0.3333333333333333,\"#9c179e\"],[0.4444444444444444,\"#bd3786\"],[0.5555555555555556,\"#d8576b\"],[0.6666666666666666,\"#ed7953\"],[0.7777777777777778,\"#fb9f3a\"],[0.8888888888888888,\"#fdca26\"],[1.0,\"#f0f921\"]],\"type\":\"heatmap\"}],\"heatmapgl\":[{\"colorbar\":{\"outlinewidth\":0,\"ticks\":\"\"},\"colorscale\":[[0.0,\"#0d0887\"],[0.1111111111111111,\"#46039f\"],[0.2222222222222222,\"#7201a8\"],[0.3333333333333333,\"#9c179e\"],[0.4444444444444444,\"#bd3786\"],[0.5555555555555556,\"#d8576b\"],[0.6666666666666666,\"#ed7953\"],[0.7777777777777778,\"#fb9f3a\"],[0.8888888888888888,\"#fdca26\"],[1.0,\"#f0f921\"]],\"type\":\"heatmapgl\"}],\"histogram\":[{\"marker\":{\"pattern\":{\"fillmode\":\"overlay\",\"size\":10,\"solidity\":0.2}},\"type\":\"histogram\"}],\"histogram2d\":[{\"colorbar\":{\"outlinewidth\":0,\"ticks\":\"\"},\"colorscale\":[[0.0,\"#0d0887\"],[0.1111111111111111,\"#46039f\"],[0.2222222222222222,\"#7201a8\"],[0.3333333333333333,\"#9c179e\"],[0.4444444444444444,\"#bd3786\"],[0.5555555555555556,\"#d8576b\"],[0.6666666666666666,\"#ed7953\"],[0.7777777777777778,\"#fb9f3a\"],[0.8888888888888888,\"#fdca26\"],[1.0,\"#f0f921\"]],\"type\":\"histogram2d\"}],\"histogram2dcontour\":[{\"colorbar\":{\"outlinewidth\":0,\"ticks\":\"\"},\"colorscale\":[[0.0,\"#0d0887\"],[0.1111111111111111,\"#46039f\"],[0.2222222222222222,\"#7201a8\"],[0.3333333333333333,\"#9c179e\"],[0.4444444444444444,\"#bd3786\"],[0.5555555555555556,\"#d8576b\"],[0.6666666666666666,\"#ed7953\"],[0.7777777777777778,\"#fb9f3a\"],[0.8888888888888888,\"#fdca26\"],[1.0,\"#f0f921\"]],\"type\":\"histogram2dcontour\"}],\"mesh3d\":[{\"colorbar\":{\"outlinewidth\":0,\"ticks\":\"\"},\"type\":\"mesh3d\"}],\"parcoords\":[{\"line\":{\"colorbar\":{\"outlinewidth\":0,\"ticks\":\"\"}},\"type\":\"parcoords\"}],\"pie\":[{\"automargin\":true,\"type\":\"pie\"}],\"scatter\":[{\"marker\":{\"colorbar\":{\"outlinewidth\":0,\"ticks\":\"\"}},\"type\":\"scatter\"}],\"scatter3d\":[{\"line\":{\"colorbar\":{\"outlinewidth\":0,\"ticks\":\"\"}},\"marker\":{\"colorbar\":{\"outlinewidth\":0,\"ticks\":\"\"}},\"type\":\"scatter3d\"}],\"scattercarpet\":[{\"marker\":{\"colorbar\":{\"outlinewidth\":0,\"ticks\":\"\"}},\"type\":\"scattercarpet\"}],\"scattergeo\":[{\"marker\":{\"colorbar\":{\"outlinewidth\":0,\"ticks\":\"\"}},\"type\":\"scattergeo\"}],\"scattergl\":[{\"marker\":{\"colorbar\":{\"outlinewidth\":0,\"ticks\":\"\"}},\"type\":\"scattergl\"}],\"scattermapbox\":[{\"marker\":{\"colorbar\":{\"outlinewidth\":0,\"ticks\":\"\"}},\"type\":\"scattermapbox\"}],\"scatterpolar\":[{\"marker\":{\"colorbar\":{\"outlinewidth\":0,\"ticks\":\"\"}},\"type\":\"scatterpolar\"}],\"scatterpolargl\":[{\"marker\":{\"colorbar\":{\"outlinewidth\":0,\"ticks\":\"\"}},\"type\":\"scatterpolargl\"}],\"scatterternary\":[{\"marker\":{\"colorbar\":{\"outlinewidth\":0,\"ticks\":\"\"}},\"type\":\"scatterternary\"}],\"surface\":[{\"colorbar\":{\"outlinewidth\":0,\"ticks\":\"\"},\"colorscale\":[[0.0,\"#0d0887\"],[0.1111111111111111,\"#46039f\"],[0.2222222222222222,\"#7201a8\"],[0.3333333333333333,\"#9c179e\"],[0.4444444444444444,\"#bd3786\"],[0.5555555555555556,\"#d8576b\"],[0.6666666666666666,\"#ed7953\"],[0.7777777777777778,\"#fb9f3a\"],[0.8888888888888888,\"#fdca26\"],[1.0,\"#f0f921\"]],\"type\":\"surface\"}],\"table\":[{\"cells\":{\"fill\":{\"color\":\"#EBF0F8\"},\"line\":{\"color\":\"white\"}},\"header\":{\"fill\":{\"color\":\"#C8D4E3\"},\"line\":{\"color\":\"white\"}},\"type\":\"table\"}]},\"layout\":{\"annotationdefaults\":{\"arrowcolor\":\"#2a3f5f\",\"arrowhead\":0,\"arrowwidth\":1},\"autotypenumbers\":\"strict\",\"coloraxis\":{\"colorbar\":{\"outlinewidth\":0,\"ticks\":\"\"}},\"colorscale\":{\"diverging\":[[0,\"#8e0152\"],[0.1,\"#c51b7d\"],[0.2,\"#de77ae\"],[0.3,\"#f1b6da\"],[0.4,\"#fde0ef\"],[0.5,\"#f7f7f7\"],[0.6,\"#e6f5d0\"],[0.7,\"#b8e186\"],[0.8,\"#7fbc41\"],[0.9,\"#4d9221\"],[1,\"#276419\"]],\"sequential\":[[0.0,\"#0d0887\"],[0.1111111111111111,\"#46039f\"],[0.2222222222222222,\"#7201a8\"],[0.3333333333333333,\"#9c179e\"],[0.4444444444444444,\"#bd3786\"],[0.5555555555555556,\"#d8576b\"],[0.6666666666666666,\"#ed7953\"],[0.7777777777777778,\"#fb9f3a\"],[0.8888888888888888,\"#fdca26\"],[1.0,\"#f0f921\"]],\"sequentialminus\":[[0.0,\"#0d0887\"],[0.1111111111111111,\"#46039f\"],[0.2222222222222222,\"#7201a8\"],[0.3333333333333333,\"#9c179e\"],[0.4444444444444444,\"#bd3786\"],[0.5555555555555556,\"#d8576b\"],[0.6666666666666666,\"#ed7953\"],[0.7777777777777778,\"#fb9f3a\"],[0.8888888888888888,\"#fdca26\"],[1.0,\"#f0f921\"]]},\"colorway\":[\"#636efa\",\"#EF553B\",\"#00cc96\",\"#ab63fa\",\"#FFA15A\",\"#19d3f3\",\"#FF6692\",\"#B6E880\",\"#FF97FF\",\"#FECB52\"],\"font\":{\"color\":\"#2a3f5f\"},\"geo\":{\"bgcolor\":\"white\",\"lakecolor\":\"white\",\"landcolor\":\"#E5ECF6\",\"showlakes\":true,\"showland\":true,\"subunitcolor\":\"white\"},\"hoverlabel\":{\"align\":\"left\"},\"hovermode\":\"closest\",\"mapbox\":{\"style\":\"light\"},\"paper_bgcolor\":\"white\",\"plot_bgcolor\":\"#E5ECF6\",\"polar\":{\"angularaxis\":{\"gridcolor\":\"white\",\"linecolor\":\"white\",\"ticks\":\"\"},\"bgcolor\":\"#E5ECF6\",\"radialaxis\":{\"gridcolor\":\"white\",\"linecolor\":\"white\",\"ticks\":\"\"}},\"scene\":{\"xaxis\":{\"backgroundcolor\":\"#E5ECF6\",\"gridcolor\":\"white\",\"gridwidth\":2,\"linecolor\":\"white\",\"showbackground\":true,\"ticks\":\"\",\"zerolinecolor\":\"white\"},\"yaxis\":{\"backgroundcolor\":\"#E5ECF6\",\"gridcolor\":\"white\",\"gridwidth\":2,\"linecolor\":\"white\",\"showbackground\":true,\"ticks\":\"\",\"zerolinecolor\":\"white\"},\"zaxis\":{\"backgroundcolor\":\"#E5ECF6\",\"gridcolor\":\"white\",\"gridwidth\":2,\"linecolor\":\"white\",\"showbackground\":true,\"ticks\":\"\",\"zerolinecolor\":\"white\"}},\"shapedefaults\":{\"line\":{\"color\":\"#2a3f5f\"}},\"ternary\":{\"aaxis\":{\"gridcolor\":\"white\",\"linecolor\":\"white\",\"ticks\":\"\"},\"baxis\":{\"gridcolor\":\"white\",\"linecolor\":\"white\",\"ticks\":\"\"},\"bgcolor\":\"#E5ECF6\",\"caxis\":{\"gridcolor\":\"white\",\"linecolor\":\"white\",\"ticks\":\"\"}},\"title\":{\"x\":0.05},\"xaxis\":{\"automargin\":true,\"gridcolor\":\"white\",\"linecolor\":\"white\",\"ticks\":\"\",\"title\":{\"standoff\":15},\"zerolinecolor\":\"white\",\"zerolinewidth\":2},\"yaxis\":{\"automargin\":true,\"gridcolor\":\"white\",\"linecolor\":\"white\",\"ticks\":\"\",\"title\":{\"standoff\":15},\"zerolinecolor\":\"white\",\"zerolinewidth\":2}}},\"xaxis\":{\"anchor\":\"y\",\"domain\":[0.0,1.0],\"title\":{\"text\":\"Store\"}},\"yaxis\":{\"anchor\":\"x\",\"domain\":[0.0,1.0],\"title\":{\"text\":\"CPI\"}},\"legend\":{\"tracegroupgap\":0},\"margin\":{\"t\":60},\"boxmode\":\"group\"},                        {\"responsive\": true}                    ).then(function(){\n",
              "                            \n",
              "var gd = document.getElementById('757d4951-14c4-4d9d-9ae8-25a88896e57d');\n",
              "var x = new MutationObserver(function (mutations, observer) {{\n",
              "        var display = window.getComputedStyle(gd).display;\n",
              "        if (!display || display === 'none') {{\n",
              "            console.log([gd, 'removed!']);\n",
              "            Plotly.purge(gd);\n",
              "            observer.disconnect();\n",
              "        }}\n",
              "}});\n",
              "\n",
              "// Listen for the removal of the full notebook cells\n",
              "var notebookContainer = gd.closest('#notebook-container');\n",
              "if (notebookContainer) {{\n",
              "    x.observe(notebookContainer, {childList: true});\n",
              "}}\n",
              "\n",
              "// Listen for the clearing of the current output cell\n",
              "var outputEl = gd.closest('.output');\n",
              "if (outputEl) {{\n",
              "    x.observe(outputEl, {childList: true});\n",
              "}}\n",
              "\n",
              "                        })                };                            </script>        </div>\n",
              "</body>\n",
              "</html>"
            ]
          },
          "metadata": {}
        }
      ]
    },
    {
      "cell_type": "code",
      "source": [
        "# Outliers of Unemployment\n",
        "\n",
        "fig_4 = px.box(walmart, x=\"Store\", y=\"Unemployment\", notched=True)\n",
        "fig_4.show()"
      ],
      "metadata": {
        "colab": {
          "base_uri": "https://localhost:8080/",
          "height": 542
        },
        "id": "eOEEzfkgtitB",
        "outputId": "b34ed780-febb-4043-fc4e-e9e9b7c4b614"
      },
      "execution_count": null,
      "outputs": [
        {
          "output_type": "display_data",
          "data": {
            "text/html": [
              "<html>\n",
              "<head><meta charset=\"utf-8\" /></head>\n",
              "<body>\n",
              "    <div>            <script src=\"https://cdnjs.cloudflare.com/ajax/libs/mathjax/2.7.5/MathJax.js?config=TeX-AMS-MML_SVG\"></script><script type=\"text/javascript\">if (window.MathJax) {MathJax.Hub.Config({SVG: {font: \"STIX-Web\"}});}</script>                <script type=\"text/javascript\">window.PlotlyConfig = {MathJaxConfig: 'local'};</script>\n",
              "        <script src=\"https://cdn.plot.ly/plotly-2.8.3.min.js\"></script>                <div id=\"5934bc37-bde3-437e-a465-54603cb7c368\" class=\"plotly-graph-div\" style=\"height:525px; width:100%;\"></div>            <script type=\"text/javascript\">                                    window.PLOTLYENV=window.PLOTLYENV || {};                                    if (document.getElementById(\"5934bc37-bde3-437e-a465-54603cb7c368\")) {                    Plotly.newPlot(                        \"5934bc37-bde3-437e-a465-54603cb7c368\",                        [{\"alignmentgroup\":\"True\",\"hovertemplate\":\"Store=%{x}<br>Unemployment=%{y}<extra></extra>\",\"legendgroup\":\"\",\"marker\":{\"color\":\"#636efa\"},\"name\":\"\",\"notched\":true,\"offsetgroup\":\"\",\"orientation\":\"v\",\"showlegend\":false,\"x\":[1,1,1,1,1,1,1,1,1,1,1,1,1,1,1,1,1,1,1,1,1,1,1,1,1,1,1,1,1,1,1,1,1,1,1,1,1,1,1,1,1,1,1,1,1,1,1,1,1,1,1,1,1,1,1,1,1,1,1,1,1,1,1,1,1,1,1,1,1,1,1,1,1,1,1,1,1,1,1,1,1,1,1,1,1,1,1,1,1,1,1,1,1,1,1,1,1,1,1,1,1,1,1,1,1,1,1,1,1,1,1,1,1,1,1,1,1,1,1,1,1,1,1,1,1,1,1,1,1,1,1,1,1,1,1,1,1,1,1,1,1,1,1,2,2,2,2,2,2,2,2,2,2,2,2,2,2,2,2,2,2,2,2,2,2,2,2,2,2,2,2,2,2,2,2,2,2,2,2,2,2,2,2,2,2,2,2,2,2,2,2,2,2,2,2,2,2,2,2,2,2,2,2,2,2,2,2,2,2,2,2,2,2,2,2,2,2,2,2,2,2,2,2,2,2,2,2,2,2,2,2,2,2,2,2,2,2,2,2,2,2,2,2,2,2,2,2,2,2,2,2,2,2,2,2,2,2,2,2,2,2,2,2,2,2,2,2,2,2,2,2,2,2,2,2,2,2,2,2,2,2,2,2,2,2,2,4,4,4,4,4,4,4,4,4,4,4,4,4,4,4,4,4,4,4,4,4,4,4,4,4,4,4,4,4,4,4,4,4,4,4,4,4,4,4,4,4,4,4,4,4,4,4,4,4,4,4,4,4,4,4,4,4,4,4,4,4,4,4,4,4,4,4,4,4,4,4,4,4,4,4,4,4,4,4,4,4,4,4,4,4,4,4,4,4,4,4,4,4,4,4,4,4,4,4,4,4,4,4,4,4,4,4,4,4,4,4,4,4,4,4,4,4,4,4,4,4,4,4,4,4,4,4,4,4,4,4,4,4,4,4,4,4,4,4,4,4,4,4,6,6,6,6,6,6,6,6,6,6,6,6,6,6,6,6,6,6,6,6,6,6,6,6,6,6,6,6,6,6,6,6,6,6,6,6,6,6,6,6,6,6,6,6,6,6,6,6,6,6,6,6,6,6,6,6,6,6,6,6,6,6,6,6,6,6,6,6,6,6,6,6,6,6,6,6,6,6,6,6,6,6,6,6,6,6,6,6,6,6,6,6,6,6,6,6,6,6,6,6,6,6,6,6,6,6,6,6,6,6,6,6,6,6,6,6,6,6,6,6,6,6,6,6,6,6,6,6,6,6,6,6,6,6,6,6,6,6,6,6,6,6,6,7,7,7,7,7,7,7,7,7,7,7,7,7,7,7,7,7,7,7,7,7,7,7,7,7,7,7,7,7,7,7,7,7,7,7,7,7,7,7,7,7,7,7,7,7,7,7,7,7,7,7,7,7,7,7,7,7,7,7,7,7,7,7,7,7,7,7,7,7,7,7,7,7,7,7,7,7,7,7,7,7,7,7,7,7,7,7,7,7,7,7,7,7,7,7,7,7,7,7,7,7,7,7,7,7,7,7,7,7,7,7,7,7,7,7,7,7,7,7,7,7,7,7,7,7,7,7,7,7,7,7,7,7,7,7,7,7,7,7,7,7,7,7,8,8,8,8,8,8,8,8,8,8,8,8,8,8,8,8,8,8,8,8,8,8,8,8,8,8,8,8,8,8,8,8,8,8,8,8,8,8,8,8,8,8,8,8,8,8,8,8,8,8,8,8,8,8,8,8,8,8,8,8,8,8,8,8,8,8,8,8,8,8,8,8,8,8,8,8,8,8,8,8,8,8,8,8,8,8,8,8,8,8,8,8,8,8,8,8,8,8,8,8,8,8,8,8,8,8,8,8,8,8,8,8,8,8,8,8,8,8,8,8,8,8,8,8,8,8,8,8,8,8,8,8,8,8,8,8,8,8,8,8,8,8,8,9,9,9,9,9,9,9,9,9,9,9,9,9,9,9,9,9,9,9,9,9,9,9,9,9,9,9,9,9,9,9,9,9,9,9,9,9,9,9,9,9,9,9,9,9,9,9,9,9,9,9,9,9,9,9,9,9,9,9,9,9,9,9,9,9,9,9,9,9,9,9,9,9,9,9,9,9,9,9,9,9,9,9,9,9,9,9,9,9,9,9,9,9,9,9,9,9,9,9,9,9,9,9,9,9,9,9,9,9,9,9,9,9,9,9,9,9,9,9,9,9,9,9,9,9,9,9,9,9,9,9,9,9,9,9,9,9,9,9,9,9,9,9,10,10,10,10,10,10,10,10,10,10,10,10,10,10,10,10,10,10,10,10,10,10,10,10,10,10,10,10,10,10,10,10,10,10,10,10,10,10,10,10,10,10,10,10,10,10,10,10,10,10,10,10,10,10,10,10,10,10,10,10,10,10,10,10,10,10,10,10,10,10,10,10,10,10,10,10,10,10,10,10,10,10,10,10,10,10,10,10,10,10,10,10,10,10,10,10,10,10,10,10,10,10,10,10,10,10,10,10,10,10,10,10,10,10,10,10,10,10,10,10,10,10,10,10,10,10,10,10,10,10,10,10,10,10,10,10,10,10,10,10,10,10,10,11,11,11,11,11,11,11,11,11,11,11,11,11,11,11,11,11,11,11,11,11,11,11,11,11,11,11,11,11,11,11,11,11,11,11,11,11,11,11,11,11,11,11,11,11,11,11,11,11,11,11,11,11,11,11,11,11,11,11,11,11,11,11,11,11,11,11,11,11,11,11,11,11,11,11,11,11,11,11,11,11,11,11,11,11,11,11,11,11,11,11,11,11,11,11,11,11,11,11,11,11,11,11,11,11,11,11,11,11,11,11,11,11,11,11,11,11,11,11,11,11,11,11,11,11,11,11,11,11,11,11,11,11,11,11,11,11,11,11,11,11,11,11,12,12,12,12,12,12,12,12,12,12,12,12,12,12,12,12,12,12,12,12,12,12,12,12,12,12,12,12,12,12,12,12,12,12,12,12,12,12,12,12,12,12,12,12,12,12,12,12,12,12,12,12,12,12,12,12,12,12,12,12,12,12,12,12,12,12,12,12,12,12,12,12,12,12,12,12,12,12,12,12,12,12,12,12,12,12,12,12,12,12,12,12,12,12,12,12,12,12,12,12,12,12,12,12,12,12,12,12,12,12,12,12,12,12,12,12,12,12,12,12,12,12,12,12,12,12,12,12,12,12,12,12,12,12,12,12,12,12,12,12,12,12,12,13,13,13,13,13,13,13,13,13,13,13,13,13,13,13,13,13,13,13,13,13,13,13,13,13,13,13,13,13,13,13,13,13,13,13,13,13,13,13,13,13,13,13,13,13,13,13,13,13,13,13,13,13,13,13,13,13,13,13,13,13,13,13,13,13,13,13,13,13,13,13,13,13,13,13,13,13,13,13,13,13,13,13,13,13,13,13,13,13,13,13,13,13,13,13,13,13,13,13,13,13,13,13,13,13,13,13,13,13,13,13,13,13,13,13,13,13,13,13,13,13,13,13,13,13,13,13,13,13,13,13,13,13,13,13,13,13,13,13,13,13,13,13,14,14,14,14,14,14,14,14,14,14,14,14,14,14,14,14,14,14,14,14,14,14,14,14,14,14,14,14,14,14,14,14,14,14,14,14,14,14,14,14,14,14,14,14,14,14,14,14,14,14,14,14,14,14,14,14,14,14,14,14,14,14,14,14,14,14,14,14,14,14,14,14,14,14,14,14,14,14,14,14,14,14,14,14,14,14,14,14,14,14,14,14,14,14,14,14,14,14,14,14,14,14,14,14,14,14,14,14,14,14,14,14,14,14,14,14,14,14,14,14,14,14,14,14,14,14,14,14,14,14,14,14,14,14,14,14,14,14,14,14,14,14,14,15,15,15,15,15,15,15,15,15,15,15,15,15,15,15,15,15,15,15,15,15,15,15,15,15,15,15,15,15,15,15,15,15,15,15,15,15,15,15,15,15,15,15,15,15,15,15,15,15,15,15,15,15,15,15,15,15,15,15,15,15,15,15,15,15,15,15,15,15,15,15,15,15,15,15,15,15,15,15,15,15,15,15,15,15,15,15,15,15,15,15,15,15,15,15,15,15,15,15,15,15,15,15,15,15,15,15,15,15,15,15,15,15,15,15,15,15,15,15,15,15,15,15,15,15,15,15,15,15,15,15,15,15,15,15,15,15,15,15,15,15,15,15,16,16,16,16,16,16,16,16,16,16,16,16,16,16,16,16,16,16,16,16,16,16,16,16,16,16,16,16,16,16,16,16,16,16,16,16,16,16,16,16,16,16,16,16,16,16,16,16,16,16,16,16,16,16,16,16,16,16,16,16,16,16,16,16,16,16,16,16,16,16,16,16,16,16,16,16,16,16,16,16,16,16,16,16,16,16,16,16,16,16,16,16,16,16,16,16,16,16,16,16,16,16,16,16,16,16,16,16,16,16,16,16,16,16,16,16,16,16,16,16,16,16,16,16,16,16,16,16,16,16,16,16,16,16,16,16,16,16,16,16,16,16,16,17,17,17,17,17,17,17,17,17,17,17,17,17,17,17,17,17,17,17,17,17,17,17,17,17,17,17,17,17,17,17,17,17,17,17,17,17,17,17,17,17,17,17,17,17,17,17,17,17,17,17,17,17,17,17,17,17,17,17,17,17,17,17,17,17,17,17,17,17,17,17,17,17,17,17,17,17,17,17,17,17,17,17,17,17,17,17,17,17,17,17,17,17,17,17,17,17,17,17,17,17,17,17,17,17,17,17,17,17,17,17,17,17,17,17,17,17,17,17,17,17,17,17,17,17,17,17,17,17,17,17,17,17,17,17,17,17,17,17,17,17,17,17,18,18,18,18,18,18,18,18,18,18,18,18,18,18,18,18,18,18,18,18,18,18,18,18,18,18,18,18,18,18,18,18,18,18,18,18,18,18,18,18,18,18,18,18,18,18,18,18,18,18,18,18,18,18,18,18,18,18,18,18,18,18,18,18,18,18,18,18,18,18,18,18,18,18,18,18,18,18,18,18,18,18,18,18,18,18,18,18,18,18,18,18,18,18,18,18,18,18,18,18,18,18,18,18,18,18,18,18,18,18,18,18,18,18,18,18,18,18,18,18,18,18,18,18,18,18,18,18,18,18,18,18,18,18,18,18,18,18,18,18,18,18,18,19,19,19,19,19,19,19,19,19,19,19,19,19,19,19,19,19,19,19,19,19,19,19,19,19,19,19,19,19,19,19,19,19,19,19,19,19,19,19,19,19,19,19,19,19,19,19,19,19,19,19,19,19,19,19,19,19,19,19,19,19,19,19,19,19,19,19,19,19,19,19,19,19,19,19,19,19,19,19,19,19,19,19,19,19,19,19,19,19,19,19,19,19,19,19,19,19,19,19,19,19,19,19,19,19,19,19,19,19,19,19,19,19,19,19,19,19,19,19,19,19,19,19,19,19,19,19,19,19,19,19,19,19,19,19,19,19,19,19,19,19,19,19,20,20,20,20,20,20,20,20,20,20,20,20,20,20,20,20,20,20,20,20,20,20,20,20,20,20,20,20,20,20,20,20,20,20,20,20,20,20,20,20,20,20,20,20,20,20,20,20,20,20,20,20,20,20,20,20,20,20,20,20,20,20,20,20,20,20,20,20,20,20,20,20,20,20,20,20,20,20,20,20,20,20,20,20,20,20,20,20,20,20,20,20,20,20,20,20,20,20,20,20,20,20,20,20,20,20,20,20,20,20,20,20,20,20,20,20,20,20,20,20,20,20,20,20,20,20,20,20,20,20,20,20,20,20,20,20,20,20,20,20,20,20,20,21,21,21,21,21,21,21,21,21,21,21,21,21,21,21,21,21,21,21,21,21,21,21,21,21,21,21,21,21,21,21,21,21,21,21,21,21,21,21,21,21,21,21,21,21,21,21,21,21,21,21,21,21,21,21,21,21,21,21,21,21,21,21,21,21,21,21,21,21,21,21,21,21,21,21,21,21,21,21,21,21,21,21,21,21,21,21,21,21,21,21,21,21,21,21,21,21,21,21,21,21,21,21,21,21,21,21,21,21,21,21,21,21,21,21,21,21,21,21,21,21,21,21,21,21,21,21,21,21,21,21,21,21,21,21,21,21,21,21,21,21,21,21,22,22,22,22,22,22,22,22,22,22,22,22,22,22,22,22,22,22,22,22,22,22,22,22,22,22,22,22,22,22,22,22,22,22,22,22,22,22,22,22,22,22,22,22,22,22,22,22,22,22,22,22,22,22,22,22,22,22,22,22,22,22,22,22,22,22,22,22,22,22,22,22,22,22,22,22,22,22,22,22,22,22,22,22,22,22,22,22,22,22,22,22,22,22,22,22,22,22,22,22,22,22,22,22,22,22,22,22,22,22,22,22,22,22,22,22,22,22,22,22,22,22,22,22,22,22,22,22,22,22,22,22,22,22,22,22,22,22,22,22,22,22,22,23,23,23,23,23,23,23,23,23,23,23,23,23,23,23,23,23,23,23,23,23,23,23,23,23,23,23,23,23,23,23,23,23,23,23,23,23,23,23,23,23,23,23,23,23,23,23,23,23,23,23,23,23,23,23,23,23,23,23,23,23,23,23,23,23,23,23,23,23,23,23,23,23,23,23,23,23,23,23,23,23,23,23,23,23,23,23,23,23,23,23,23,23,23,23,23,23,23,23,23,23,23,23,23,23,23,23,23,23,23,23,23,23,23,23,23,23,23,23,23,23,23,23,23,23,23,23,23,23,23,23,23,23,23,23,23,23,23,23,23,23,23,23,24,24,24,24,24,24,24,24,24,24,24,24,24,24,24,24,24,24,24,24,24,24,24,24,24,24,24,24,24,24,24,24,24,24,24,24,24,24,24,24,24,24,24,24,24,24,24,24,24,24,24,24,24,24,24,24,24,24,24,24,24,24,24,24,24,24,24,24,24,24,24,24,24,24,24,24,24,24,24,24,24,24,24,24,24,24,24,24,24,24,24,24,24,24,24,24,24,24,24,24,24,24,24,24,24,24,24,24,24,24,24,24,24,24,24,24,24,24,24,24,24,24,24,24,24,24,24,24,24,24,24,24,24,24,24,24,24,24,24,24,24,24,24,25,25,25,25,25,25,25,25,25,25,25,25,25,25,25,25,25,25,25,25,25,25,25,25,25,25,25,25,25,25,25,25,25,25,25,25,25,25,25,25,25,25,25,25,25,25,25,25,25,25,25,25,25,25,25,25,25,25,25,25,25,25,25,25,25,25,25,25,25,25,25,25,25,25,25,25,25,25,25,25,25,25,25,25,25,25,25,25,25,25,25,25,25,25,25,25,25,25,25,25,25,25,25,25,25,25,25,25,25,25,25,25,25,25,25,25,25,25,25,25,25,25,25,25,25,25,25,25,25,25,25,25,25,25,25,25,25,25,25,25,25,25,25,26,26,26,26,26,26,26,26,26,26,26,26,26,26,26,26,26,26,26,26,26,26,26,26,26,26,26,26,26,26,26,26,26,26,26,26,26,26,26,26,26,26,26,26,26,26,26,26,26,26,26,26,26,26,26,26,26,26,26,26,26,26,26,26,26,26,26,26,26,26,26,26,26,26,26,26,26,26,26,26,26,26,26,26,26,26,26,26,26,26,26,26,26,26,26,26,26,26,26,26,26,26,26,26,26,26,26,26,26,26,26,26,26,26,26,26,26,26,26,26,26,26,26,26,26,26,26,26,26,26,26,26,26,26,26,26,26,26,26,26,26,26,26,27,27,27,27,27,27,27,27,27,27,27,27,27,27,27,27,27,27,27,27,27,27,27,27,27,27,27,27,27,27,27,27,27,27,27,27,27,27,27,27,27,27,27,27,27,27,27,27,27,27,27,27,27,27,27,27,27,27,27,27,27,27,27,27,27,27,27,27,27,27,27,27,27,27,27,27,27,27,27,27,27,27,27,27,27,27,27,27,27,27,27,27,27,27,27,27,27,27,27,27,27,27,27,27,27,27,27,27,27,27,27,27,27,27,27,27,27,27,27,27,27,27,27,27,27,27,27,27,27,27,27,27,27,27,27,27,27,27,27,27,27,27,27,28,28,28,28,28,28,28,28,28,28,28,28,28,28,28,28,28,28,28,28,28,28,28,28,28,28,28,28,28,28,28,28,28,28,28,28,28,28,28,28,28,28,28,28,28,28,28,28,28,28,28,28,28,28,28,28,28,28,28,28,28,28,28,28,28,28,28,28,28,28,28,28,28,28,28,28,28,28,28,28,28,28,28,28,28,28,28,28,28,28,28,28,28,28,28,28,28,28,28,28,28,28,28,28,28,28,28,28,28,28,28,28,28,28,28,28,28,28,28,28,28,28,28,28,28,28,28,28,28,28,28,28,28,28,28,28,28,28,28,28,28,28,28,29,29,29,29,29,29,29,29,29,29,29,29,29,29,29,29,29,29,29,29,29,29,29,29,29,29,29,29,29,29,29,29,29,29,29,29,29,29,29,29,29,29,29,29,29,29,29,29,29,29,29,29,29,29,29,29,29,29,29,29,29,29,29,29,29,29,29,29,29,29,29,29,29,29,29,29,29,29,29,29,29,29,29,29,29,29,29,29,29,29,29,29,29,29,29,29,29,29,29,29,29,29,29,29,29,29,29,29,29,29,29,29,29,29,29,29,29,29,29,29,29,29,29,29,29,29,29,29,29,29,29,29,29,29,29,29,29,29,29,29,29,29,29,31,31,31,31,31,31,31,31,31,31,31,31,31,31,31,31,31,31,31,31,31,31,31,31,31,31,31,31,31,31,31,31,31,31,31,31,31,31,31,31,31,31,31,31,31,31,31,31,31,31,31,31,31,31,31,31,31,31,31,31,31,31,31,31,31,31,31,31,31,31,31,31,31,31,31,31,31,31,31,31,31,31,31,31,31,31,31,31,31,31,31,31,31,31,31,31,31,31,31,31,31,31,31,31,31,31,31,31,31,31,31,31,31,31,31,31,31,31,31,31,31,31,31,31,31,31,31,31,31,31,31,31,31,31,31,31,31,31,31,31,31,31,31,32,32,32,32,32,32,32,32,32,32,32,32,32,32,32,32,32,32,32,32,32,32,32,32,32,32,32,32,32,32,32,32,32,32,32,32,32,32,32,32,32,32,32,32,32,32,32,32,32,32,32,32,32,32,32,32,32,32,32,32,32,32,32,32,32,32,32,32,32,32,32,32,32,32,32,32,32,32,32,32,32,32,32,32,32,32,32,32,32,32,32,32,32,32,32,32,32,32,32,32,32,32,32,32,32,32,32,32,32,32,32,32,32,32,32,32,32,32,32,32,32,32,32,32,32,32,32,32,32,32,32,32,32,32,32,32,32,32,32,32,32,32,32,34,34,34,34,34,34,34,34,34,34,34,34,34,34,34,34,34,34,34,34,34,34,34,34,34,34,34,34,34,34,34,34,34,34,34,34,34,34,34,34,34,34,34,34,34,34,34,34,34,34,34,34,34,34,34,34,34,34,34,34,34,34,34,34,34,34,34,34,34,34,34,34,34,34,34,34,34,34,34,34,34,34,34,34,34,34,34,34,34,34,34,34,34,34,34,34,34,34,34,34,34,34,34,34,34,34,34,34,34,34,34,34,34,34,34,34,34,34,34,34,34,34,34,34,34,34,34,34,34,34,34,34,34,34,34,34,34,34,34,34,34,34,34,35,35,35,35,35,35,35,35,35,35,35,35,35,35,35,35,35,35,35,35,35,35,35,35,35,35,35,35,35,35,35,35,35,35,35,35,35,35,35,35,35,35,35,35,35,35,35,35,35,35,35,35,35,35,35,35,35,35,35,35,35,35,35,35,35,35,35,35,35,35,35,35,35,35,35,35,35,35,35,35,35,35,35,35,35,35,35,35,35,35,35,35,35,35,35,35,35,35,35,35,35,35,35,35,35,35,35,35,35,35,35,35,35,35,35,35,35,35,35,35,35,35,35,35,35,35,35,35,35,35,35,35,35,35,35,35,35,35,35,35,35,35,35,39,39,39,39,39,39,39,39,39,39,39,39,39,39,39,39,39,39,39,39,39,39,39,39,39,39,39,39,39,39,39,39,39,39,39,39,39,39,39,39,39,39,39,39,39,39,39,39,39,39,39,39,39,39,39,39,39,39,39,39,39,39,39,39,39,39,39,39,39,39,39,39,39,39,39,39,39,39,39,39,39,39,39,39,39,39,39,39,39,39,39,39,39,39,39,39,39,39,39,39,39,39,39,39,39,39,39,39,39,39,39,39,39,39,39,39,39,39,39,39,39,39,39,39,39,39,39,39,39,39,39,39,39,39,39,39,39,39,39,39,39,39,39,40,40,40,40,40,40,40,40,40,40,40,40,40,40,40,40,40,40,40,40,40,40,40,40,40,40,40,40,40,40,40,40,40,40,40,40,40,40,40,40,40,40,40,40,40,40,40,40,40,40,40,40,40,40,40,40,40,40,40,40,40,40,40,40,40,40,40,40,40,40,40,40,40,40,40,40,40,40,40,40,40,40,40,40,40,40,40,40,40,40,40,40,40,40,40,40,40,40,40,40,40,40,40,40,40,40,40,40,40,40,40,40,40,40,40,40,40,40,40,40,40,40,40,40,40,40,40,40,40,40,40,40,40,40,40,40,40,40,40,40,40,40,40,41,41,41,41,41,41,41,41,41,41,41,41,41,41,41,41,41,41,41,41,41,41,41,41,41,41,41,41,41,41,41,41,41,41,41,41,41,41,41,41,41,41,41,41,41,41,41,41,41,41,41,41,41,41,41,41,41,41,41,41,41,41,41,41,41,41,41,41,41,41,41,41,41,41,41,41,41,41,41,41,41,41,41,41,41,41,41,41,41,41,41,41,41,41,41,41,41,41,41,41,41,41,41,41,41,41,41,41,41,41,41,41,41,41,41,41,41,41,41,41,41,41,41,41,41,41,41,41,41,41,41,41,41,41,41,41,41,41,41,41,41,41,41,45,45,45,45,45,45,45,45,45,45,45,45,45,45,45,45,45,45,45,45,45,45,45,45,45,45,45,45,45,45,45,45,45,45,45,45,45,45,45,45,45,45,45,45,45,45,45,45,45,45,45,45,45,45,45,45,45,45,45,45,45,45,45,45,45,45,45,45,45,45,45,45,45,45,45,45,45,45,45,45,45,45,45,45,45,45,45,45,45,45,45,45,45,45,45,45,45,45,45,45,45,45,45,45,45,45,45,45,45,45,45,45,45,45,45,45,45,45,45,45,45,45,45,45,45,45,45,45,45,45,45,45,45,45,45,45,45,45,45,45,45,45,45],\"x0\":\" \",\"xaxis\":\"x\",\"y\":[8.106,8.106,8.106,8.106,8.106,8.106,8.106,8.106,7.808,7.808,7.808,7.808,7.808,7.808,7.808,7.808,7.808,7.808,7.808,7.808,7.808,7.787,7.787,7.787,7.787,7.787,7.787,7.787,7.787,7.787,7.787,7.787,7.787,7.787,7.838,7.838,7.838,7.838,7.838,7.838,7.838,7.838,7.838,7.838,7.838,7.838,7.838,7.838,7.742,7.742,7.742,7.742,7.742,7.742,7.742,7.742,7.742,7.742,7.742,7.742,7.682,7.682,7.682,7.682,7.682,7.682,7.682,7.682,7.682,7.682,7.682,7.682,7.682,7.962,7.962,7.962,7.962,7.962,7.962,7.962,7.962,7.962,7.962,7.962,7.962,7.962,7.962,7.866,7.866,7.866,7.866,7.866,7.866,7.866,7.866,7.866,7.866,7.866,7.866,7.866,7.348,7.348,7.348,7.348,7.348,7.348,7.348,7.348,7.348,7.348,7.348,7.348,7.348,7.143,7.143,7.143,7.143,7.143,7.143,7.143,7.143,7.143,7.143,7.143,7.143,7.143,6.908,6.908,6.908,6.908,6.908,6.908,6.908,6.908,6.908,6.908,6.908,6.908,6.908,6.573,6.573,6.573,6.573,8.324,8.324,8.324,8.324,8.324,8.324,8.324,8.324,8.2,8.2,8.2,8.2,8.2,8.2,8.2,8.2,8.2,8.2,8.2,8.2,8.2,8.099,8.099,8.099,8.099,8.099,8.099,8.099,8.099,8.099,8.099,8.099,8.099,8.099,8.163,8.163,8.163,8.163,8.163,8.163,8.163,8.163,8.163,8.163,8.163,8.163,8.163,8.163,8.028,8.028,8.028,8.028,8.028,8.028,8.028,8.028,8.028,8.028,8.028,8.028,7.931,7.931,7.931,7.931,7.931,7.931,7.931,7.931,7.931,7.931,7.931,7.931,7.931,7.852,7.852,7.852,7.852,7.852,7.852,7.852,7.852,7.852,7.852,7.852,7.852,7.852,7.852,7.441,7.441,7.441,7.441,7.441,7.441,7.441,7.441,7.441,7.441,7.441,7.441,7.441,7.057,7.057,7.057,7.057,7.057,7.057,7.057,7.057,7.057,7.057,7.057,7.057,7.057,6.891,6.891,6.891,6.891,6.891,6.891,6.891,6.891,6.891,6.891,6.891,6.891,6.891,6.565,6.565,6.565,6.565,6.565,6.565,6.565,6.565,6.565,6.565,6.565,6.565,6.565,6.17,6.17,6.17,6.17,8.623,8.623,8.623,8.623,8.623,8.623,8.623,8.623,7.896,7.896,7.896,7.896,7.896,7.896,7.896,7.896,7.896,7.896,7.896,7.896,7.896,7.372,7.372,7.372,7.372,7.372,7.372,7.372,7.372,7.372,7.372,7.372,7.372,7.372,7.127,7.127,7.127,7.127,7.127,7.127,7.127,7.127,7.127,7.127,7.127,7.127,7.127,7.127,6.51,6.51,6.51,6.51,6.51,6.51,6.51,6.51,6.51,6.51,6.51,6.51,5.946,5.946,5.946,5.946,5.946,5.946,5.946,5.946,5.946,5.946,5.946,5.946,5.946,5.644,5.644,5.644,5.644,5.644,5.644,5.644,5.644,5.644,5.644,5.644,5.644,5.644,5.644,5.143,5.143,5.143,5.143,5.143,5.143,5.143,5.143,5.143,5.143,5.143,5.143,5.143,4.607,4.607,4.607,4.607,4.607,4.607,4.607,4.607,4.607,4.607,4.607,4.607,4.607,4.308,4.308,4.308,4.308,4.308,4.308,4.308,4.308,4.308,4.308,4.308,4.308,4.308,4.077,4.077,4.077,4.077,4.077,4.077,4.077,4.077,4.077,4.077,4.077,4.077,4.077,3.879,3.879,3.879,3.879,7.259,7.259,7.259,7.259,7.259,7.259,7.259,7.259,7.092,7.092,7.092,7.092,7.092,7.092,7.092,7.092,7.092,7.092,7.092,7.092,7.092,6.973,6.973,6.973,6.973,6.973,6.973,6.973,6.973,6.973,6.973,6.973,6.973,6.973,7.007,7.007,7.007,7.007,7.007,7.007,7.007,7.007,7.007,7.007,7.007,7.007,7.007,7.007,6.858,6.858,6.858,6.858,6.858,6.858,6.858,6.858,6.858,6.858,6.858,6.858,6.855,6.855,6.855,6.855,6.855,6.855,6.855,6.855,6.855,6.855,6.855,6.855,6.855,6.925,6.925,6.925,6.925,6.925,6.925,6.925,6.925,6.925,6.925,6.925,6.925,6.925,6.925,6.551,6.551,6.551,6.551,6.551,6.551,6.551,6.551,6.551,6.551,6.551,6.551,6.551,6.132,6.132,6.132,6.132,6.132,6.132,6.132,6.132,6.132,6.132,6.132,6.132,6.132,5.964,5.964,5.964,5.964,5.964,5.964,5.964,5.964,5.964,5.964,5.964,5.964,5.964,5.668,5.668,5.668,5.668,5.668,5.668,5.668,5.668,5.668,5.668,5.668,5.668,5.668,5.329,5.329,5.329,5.329,9.014,9.014,9.014,9.014,9.014,9.014,9.014,9.014,8.963,8.963,8.963,8.963,8.963,8.963,8.963,8.963,8.963,8.963,8.963,8.963,8.963,9.017,9.017,9.017,9.017,9.017,9.017,9.017,9.017,9.017,9.017,9.017,9.017,9.017,9.137,9.137,9.137,9.137,9.137,9.137,9.137,9.137,9.137,9.137,9.137,9.137,9.137,9.137,8.818,8.818,8.818,8.818,8.818,8.818,8.818,8.818,8.818,8.818,8.818,8.818,8.595,8.595,8.595,8.595,8.595,8.595,8.595,8.595,8.595,8.595,8.595,8.595,8.595,8.622,8.622,8.622,8.622,8.622,8.622,8.622,8.622,8.622,8.622,8.622,8.622,8.622,8.622,8.513,8.513,8.513,8.513,8.513,8.513,8.513,8.513,8.513,8.513,8.513,8.513,8.513,8.256,8.256,8.256,8.256,8.256,8.256,8.256,8.256,8.256,8.256,8.256,8.256,8.256,8.09,8.09,8.09,8.09,8.09,8.09,8.09,8.09,8.09,8.09,8.09,8.09,8.09,7.872,7.872,7.872,7.872,7.872,7.872,7.872,7.872,7.872,7.872,7.872,7.872,7.872,7.557,7.557,7.557,7.557,6.299,6.299,6.299,6.299,6.299,6.299,6.299,6.299,6.29,6.29,6.29,6.29,6.29,6.29,6.29,6.29,6.29,6.29,6.29,6.29,6.29,6.315,6.315,6.315,6.315,6.315,6.315,6.315,6.315,6.315,6.315,6.315,6.315,6.315,6.433,6.433,6.433,6.433,6.433,6.433,6.433,6.433,6.433,6.433,6.433,6.433,6.433,6.433,6.262,6.262,6.262,6.262,6.262,6.262,6.262,6.262,6.262,6.262,6.262,6.262,6.297,6.297,6.297,6.297,6.297,6.297,6.297,6.297,6.297,6.297,6.297,6.297,6.297,6.425,6.425,6.425,6.425,6.425,6.425,6.425,6.425,6.425,6.425,6.425,6.425,6.425,6.425,6.123,6.123,6.123,6.123,6.123,6.123,6.123,6.123,6.123,6.123,6.123,6.123,6.123,5.825,5.825,5.825,5.825,5.825,5.825,5.825,5.825,5.825,5.825,5.825,5.825,5.825,5.679,5.679,5.679,5.679,5.679,5.679,5.679,5.679,5.679,5.679,5.679,5.679,5.679,5.401,5.401,5.401,5.401,5.401,5.401,5.401,5.401,5.401,5.401,5.401,5.401,5.401,5.124,5.124,5.124,5.124,6.415,6.415,6.415,6.415,6.415,6.415,6.415,6.415,6.384,6.384,6.384,6.384,6.384,6.384,6.384,6.384,6.384,6.384,6.384,6.384,6.384,6.442,6.442,6.442,6.442,6.442,6.442,6.442,6.442,6.442,6.442,6.442,6.442,6.442,6.56,6.56,6.56,6.56,6.56,6.56,6.56,6.56,6.56,6.56,6.56,6.56,6.56,6.56,6.416,6.416,6.416,6.416,6.416,6.416,6.416,6.416,6.416,6.416,6.416,6.416,6.38,6.38,6.38,6.38,6.38,6.38,6.38,6.38,6.38,6.38,6.38,6.38,6.38,6.404,6.404,6.404,6.404,6.404,6.404,6.404,6.404,6.404,6.404,6.404,6.404,6.404,6.404,6.054,6.054,6.054,6.054,6.054,6.054,6.054,6.054,6.054,6.054,6.054,6.054,6.054,5.667,5.667,5.667,5.667,5.667,5.667,5.667,5.667,5.667,5.667,5.667,5.667,5.667,5.539,5.539,5.539,5.539,5.539,5.539,5.539,5.539,5.539,5.539,5.539,5.539,5.539,5.277,5.277,5.277,5.277,5.277,5.277,5.277,5.277,5.277,5.277,5.277,5.277,5.277,4.954,4.954,4.954,4.954,9.765,9.765,9.765,9.765,9.765,9.765,9.765,9.765,9.524,9.524,9.524,9.524,9.524,9.524,9.524,9.524,9.524,9.524,9.524,9.524,9.524,9.199,9.199,9.199,9.199,9.199,9.199,9.199,9.199,9.199,9.199,9.199,9.199,9.199,9.003,9.003,9.003,9.003,9.003,9.003,9.003,9.003,9.003,9.003,9.003,9.003,9.003,9.003,8.744,8.744,8.744,8.744,8.744,8.744,8.744,8.744,8.744,8.744,8.744,8.744,8.494,8.494,8.494,8.494,8.494,8.494,8.494,8.494,8.494,8.494,8.494,8.494,8.494,8.257,8.257,8.257,8.257,8.257,8.257,8.257,8.257,8.257,8.257,8.257,8.257,8.257,8.257,7.874,7.874,7.874,7.874,7.874,7.874,7.874,7.874,7.874,7.874,7.874,7.874,7.874,7.545,7.545,7.545,7.545,7.545,7.545,7.545,7.545,7.545,7.545,7.545,7.545,7.545,7.382,7.382,7.382,7.382,7.382,7.382,7.382,7.382,7.382,7.382,7.382,7.382,7.382,7.17,7.17,7.17,7.17,7.17,7.17,7.17,7.17,7.17,7.17,7.17,7.17,7.17,6.943,6.943,6.943,6.943,7.368,7.368,7.368,7.368,7.368,7.368,7.368,7.368,7.343,7.343,7.343,7.343,7.343,7.343,7.343,7.343,7.343,7.343,7.343,7.343,7.343,7.346,7.346,7.346,7.346,7.346,7.346,7.346,7.346,7.346,7.346,7.346,7.346,7.346,7.564,7.564,7.564,7.564,7.564,7.564,7.564,7.564,7.564,7.564,7.564,7.564,7.564,7.564,7.551,7.551,7.551,7.551,7.551,7.551,7.551,7.551,7.551,7.551,7.551,7.551,7.574,7.574,7.574,7.574,7.574,7.574,7.574,7.574,7.574,7.574,7.574,7.574,7.574,7.567,7.567,7.567,7.567,7.567,7.567,7.567,7.567,7.567,7.567,7.567,7.567,7.567,7.567,7.197,7.197,7.197,7.197,7.197,7.197,7.197,7.197,7.197,7.197,7.197,7.197,7.197,6.833,6.833,6.833,6.833,6.833,6.833,6.833,6.833,6.833,6.833,6.833,6.833,6.833,6.664,6.664,6.664,6.664,6.664,6.664,6.664,6.664,6.664,6.664,6.664,6.664,6.664,6.334,6.334,6.334,6.334,6.334,6.334,6.334,6.334,6.334,6.334,6.334,6.334,6.334,6.034,6.034,6.034,6.034,13.975,13.975,13.975,13.975,13.975,13.975,13.975,13.975,14.099,14.099,14.099,14.099,14.099,14.099,14.099,14.099,14.099,14.099,14.099,14.099,14.099,14.18,14.18,14.18,14.18,14.18,14.18,14.18,14.18,14.18,14.18,14.18,14.18,14.18,14.313,14.313,14.313,14.313,14.313,14.313,14.313,14.313,14.313,14.313,14.313,14.313,14.313,14.313,14.021,14.021,14.021,14.021,14.021,14.021,14.021,14.021,14.021,14.021,14.021,14.021,13.736,13.736,13.736,13.736,13.736,13.736,13.736,13.736,13.736,13.736,13.736,13.736,13.736,13.503,13.503,13.503,13.503,13.503,13.503,13.503,13.503,13.503,13.503,13.503,13.503,13.503,13.503,12.89,12.89,12.89,12.89,12.89,12.89,12.89,12.89,12.89,12.89,12.89,12.89,12.89,12.187,12.187,12.187,12.187,12.187,12.187,12.187,12.187,12.187,12.187,12.187,12.187,12.187,11.627,11.627,11.627,11.627,11.627,11.627,11.627,11.627,11.627,11.627,11.627,11.627,11.627,10.926,10.926,10.926,10.926,10.926,10.926,10.926,10.926,10.926,10.926,10.926,10.926,10.926,10.199,10.199,10.199,10.199,8.316,8.316,8.316,8.316,8.316,8.316,8.316,8.316,8.107,8.107,8.107,8.107,8.107,8.107,8.107,8.107,8.107,8.107,8.107,8.107,8.107,7.951,7.951,7.951,7.951,7.951,7.951,7.951,7.951,7.951,7.951,7.951,7.951,7.951,7.795,7.795,7.795,7.795,7.795,7.795,7.795,7.795,7.795,7.795,7.795,7.795,7.795,7.795,7.47,7.47,7.47,7.47,7.47,7.47,7.47,7.47,7.47,7.47,7.47,7.47,7.193,7.193,7.193,7.193,7.193,7.193,7.193,7.193,7.193,7.193,7.193,7.193,7.193,6.877,6.877,6.877,6.877,6.877,6.877,6.877,6.877,6.877,6.877,6.877,6.877,6.877,6.877,6.392,6.392,6.392,6.392,6.392,6.392,6.392,6.392,6.392,6.392,6.392,6.392,6.392,6.104,6.104,6.104,6.104,6.104,6.104,6.104,6.104,6.104,6.104,6.104,6.104,6.104,5.965,5.965,5.965,5.965,5.965,5.965,5.965,5.965,5.965,5.965,5.965,5.965,5.965,5.765,5.765,5.765,5.765,5.765,5.765,5.765,5.765,5.765,5.765,5.765,5.765,5.765,5.621,5.621,5.621,5.621,8.992,8.992,8.992,8.992,8.992,8.992,8.992,8.992,8.899,8.899,8.899,8.899,8.899,8.899,8.899,8.899,8.899,8.899,8.899,8.899,8.899,8.743,8.743,8.743,8.743,8.743,8.743,8.743,8.743,8.743,8.743,8.743,8.743,8.743,8.724,8.724,8.724,8.724,8.724,8.724,8.724,8.724,8.724,8.724,8.724,8.724,8.724,8.724,8.549,8.549,8.549,8.549,8.549,8.549,8.549,8.549,8.549,8.549,8.549,8.549,8.521,8.521,8.521,8.521,8.521,8.521,8.521,8.521,8.521,8.521,8.521,8.521,8.521,8.625,8.625,8.625,8.625,8.625,8.625,8.625,8.625,8.625,8.625,8.625,8.625,8.625,8.625,8.523,8.523,8.523,8.523,8.523,8.523,8.523,8.523,8.523,8.523,8.523,8.523,8.523,8.424,8.424,8.424,8.424,8.424,8.424,8.424,8.424,8.424,8.424,8.424,8.424,8.424,8.567,8.567,8.567,8.567,8.567,8.567,8.567,8.567,8.567,8.567,8.567,8.567,8.567,8.684,8.684,8.684,8.684,8.684,8.684,8.684,8.684,8.684,8.684,8.684,8.684,8.684,8.667,8.667,8.667,8.667,8.35,8.35,8.35,8.35,8.35,8.35,8.35,8.35,8.185,8.185,8.185,8.185,8.185,8.185,8.185,8.185,8.185,8.185,8.185,8.185,8.185,8.099,8.099,8.099,8.099,8.099,8.099,8.099,8.099,8.099,8.099,8.099,8.099,8.099,8.067,8.067,8.067,8.067,8.067,8.067,8.067,8.067,8.067,8.067,8.067,8.067,8.067,8.067,7.771,7.771,7.771,7.771,7.771,7.771,7.771,7.771,7.771,7.771,7.771,7.771,7.658,7.658,7.658,7.658,7.658,7.658,7.658,7.658,7.658,7.658,7.658,7.658,7.658,7.806,7.806,7.806,7.806,7.806,7.806,7.806,7.806,7.806,7.806,7.806,7.806,7.806,7.806,7.866,7.866,7.866,7.866,7.866,7.866,7.866,7.866,7.866,7.866,7.866,7.866,7.866,7.943,7.943,7.943,7.943,7.943,7.943,7.943,7.943,7.943,7.943,7.943,7.943,7.943,8.15,8.15,8.15,8.15,8.15,8.15,8.15,8.15,8.15,8.15,8.15,8.15,8.15,8.193,8.193,8.193,8.193,8.193,8.193,8.193,8.193,8.193,8.193,8.193,8.193,8.193,7.992,7.992,7.992,7.992,7.039,7.039,7.039,7.039,7.039,7.039,7.039,7.039,6.842,6.842,6.842,6.842,6.842,6.842,6.842,6.842,6.842,6.842,6.842,6.842,6.842,6.868,6.868,6.868,6.868,6.868,6.868,6.868,6.868,6.868,6.868,6.868,6.868,6.868,6.986,6.986,6.986,6.986,6.986,6.986,6.986,6.986,6.986,6.986,6.986,6.986,6.986,6.986,6.614,6.614,6.614,6.614,6.614,6.614,6.614,6.614,6.614,6.614,6.614,6.614,6.339,6.339,6.339,6.339,6.339,6.339,6.339,6.339,6.339,6.339,6.339,6.339,6.339,6.338,6.338,6.338,6.338,6.338,6.338,6.338,6.338,6.338,6.338,6.338,6.338,6.338,6.338,6.232,6.232,6.232,6.232,6.232,6.232,6.232,6.232,6.232,6.232,6.232,6.232,6.232,6.162,6.162,6.162,6.162,6.162,6.162,6.162,6.162,6.162,6.162,6.162,6.162,6.162,6.169,6.169,6.169,6.169,6.169,6.169,6.169,6.169,6.169,6.169,6.169,6.169,6.169,6.061,6.061,6.061,6.061,6.061,6.061,6.061,6.061,6.061,6.061,6.061,6.061,6.061,5.847,5.847,5.847,5.847,6.548,6.548,6.548,6.548,6.548,6.548,6.548,6.548,6.635,6.635,6.635,6.635,6.635,6.635,6.635,6.635,6.635,6.635,6.635,6.635,6.635,6.697,6.697,6.697,6.697,6.697,6.697,6.697,6.697,6.697,6.697,6.697,6.697,6.697,6.885,6.885,6.885,6.885,6.885,6.885,6.885,6.885,6.885,6.885,6.885,6.885,6.885,6.885,6.866,6.866,6.866,6.866,6.866,6.866,6.866,6.866,6.866,6.866,6.866,6.866,6.774,6.774,6.774,6.774,6.774,6.774,6.774,6.774,6.774,6.774,6.774,6.774,6.774,6.745,6.745,6.745,6.745,6.745,6.745,6.745,6.745,6.745,6.745,6.745,6.745,6.745,6.745,6.617,6.617,6.617,6.617,6.617,6.617,6.617,6.617,6.617,6.617,6.617,6.617,6.617,6.403,6.403,6.403,6.403,6.403,6.403,6.403,6.403,6.403,6.403,6.403,6.403,6.403,6.235,6.235,6.235,6.235,6.235,6.235,6.235,6.235,6.235,6.235,6.235,6.235,6.235,5.936,5.936,5.936,5.936,5.936,5.936,5.936,5.936,5.936,5.936,5.936,5.936,5.936,5.527,5.527,5.527,5.527,9.202,9.202,9.202,9.202,9.202,9.202,9.202,9.202,9.269,9.269,9.269,9.269,9.269,9.269,9.269,9.269,9.269,9.269,9.269,9.269,9.269,9.342,9.342,9.342,9.342,9.342,9.342,9.342,9.342,9.342,9.342,9.342,9.342,9.342,9.331,9.331,9.331,9.331,9.331,9.331,9.331,9.331,9.331,9.331,9.331,9.331,9.331,9.331,9.131,9.131,9.131,9.131,9.131,9.131,9.131,9.131,9.131,9.131,9.131,9.131,8.975,8.975,8.975,8.975,8.975,8.975,8.975,8.975,8.975,8.975,8.975,8.975,8.975,8.89,8.89,8.89,8.89,8.89,8.89,8.89,8.89,8.89,8.89,8.89,8.89,8.89,8.89,8.471,8.471,8.471,8.471,8.471,8.471,8.471,8.471,8.471,8.471,8.471,8.471,8.471,8.075,8.075,8.075,8.075,8.075,8.075,8.075,8.075,8.075,8.075,8.075,8.075,8.075,8.304,8.304,8.304,8.304,8.304,8.304,8.304,8.304,8.304,8.304,8.304,8.304,8.304,8.535,8.535,8.535,8.535,8.535,8.535,8.535,8.535,8.535,8.535,8.535,8.535,8.535,8.243,8.243,8.243,8.243,8.35,8.35,8.35,8.35,8.35,8.35,8.35,8.35,8.185,8.185,8.185,8.185,8.185,8.185,8.185,8.185,8.185,8.185,8.185,8.185,8.185,8.099,8.099,8.099,8.099,8.099,8.099,8.099,8.099,8.099,8.099,8.099,8.099,8.099,8.067,8.067,8.067,8.067,8.067,8.067,8.067,8.067,8.067,8.067,8.067,8.067,8.067,8.067,7.771,7.771,7.771,7.771,7.771,7.771,7.771,7.771,7.771,7.771,7.771,7.771,7.658,7.658,7.658,7.658,7.658,7.658,7.658,7.658,7.658,7.658,7.658,7.658,7.658,7.806,7.806,7.806,7.806,7.806,7.806,7.806,7.806,7.806,7.806,7.806,7.806,7.806,7.806,7.866,7.866,7.866,7.866,7.866,7.866,7.866,7.866,7.866,7.866,7.866,7.866,7.866,7.943,7.943,7.943,7.943,7.943,7.943,7.943,7.943,7.943,7.943,7.943,7.943,7.943,8.15,8.15,8.15,8.15,8.15,8.15,8.15,8.15,8.15,8.15,8.15,8.15,8.15,8.193,8.193,8.193,8.193,8.193,8.193,8.193,8.193,8.193,8.193,8.193,8.193,8.193,7.992,7.992,7.992,7.992,8.187,8.187,8.187,8.187,8.187,8.187,8.187,8.187,7.856,7.856,7.856,7.856,7.856,7.856,7.856,7.856,7.856,7.856,7.856,7.856,7.856,7.527,7.527,7.527,7.527,7.527,7.527,7.527,7.527,7.527,7.527,7.527,7.527,7.527,7.484,7.484,7.484,7.484,7.484,7.484,7.484,7.484,7.484,7.484,7.484,7.484,7.484,7.484,7.343,7.343,7.343,7.343,7.343,7.343,7.343,7.343,7.343,7.343,7.343,7.343,7.287,7.287,7.287,7.287,7.287,7.287,7.287,7.287,7.287,7.287,7.287,7.287,7.287,7.274,7.274,7.274,7.274,7.274,7.274,7.274,7.274,7.274,7.274,7.274,7.274,7.274,7.274,7.082,7.082,7.082,7.082,7.082,7.082,7.082,7.082,7.082,7.082,7.082,7.082,7.082,6.961,6.961,6.961,6.961,6.961,6.961,6.961,6.961,6.961,6.961,6.961,6.961,6.961,7.139,7.139,7.139,7.139,7.139,7.139,7.139,7.139,7.139,7.139,7.139,7.139,7.139,7.28,7.28,7.28,7.28,7.28,7.28,7.28,7.28,7.28,7.28,7.28,7.28,7.28,7.293,7.293,7.293,7.293,8.324,8.324,8.324,8.324,8.324,8.324,8.324,8.324,8.2,8.2,8.2,8.2,8.2,8.2,8.2,8.2,8.2,8.2,8.2,8.2,8.2,8.099,8.099,8.099,8.099,8.099,8.099,8.099,8.099,8.099,8.099,8.099,8.099,8.099,8.163,8.163,8.163,8.163,8.163,8.163,8.163,8.163,8.163,8.163,8.163,8.163,8.163,8.163,8.028,8.028,8.028,8.028,8.028,8.028,8.028,8.028,8.028,8.028,8.028,8.028,7.931,7.931,7.931,7.931,7.931,7.931,7.931,7.931,7.931,7.931,7.931,7.931,7.931,7.852,7.852,7.852,7.852,7.852,7.852,7.852,7.852,7.852,7.852,7.852,7.852,7.852,7.852,7.441,7.441,7.441,7.441,7.441,7.441,7.441,7.441,7.441,7.441,7.441,7.441,7.441,7.057,7.057,7.057,7.057,7.057,7.057,7.057,7.057,7.057,7.057,7.057,7.057,7.057,6.891,6.891,6.891,6.891,6.891,6.891,6.891,6.891,6.891,6.891,6.891,6.891,6.891,6.565,6.565,6.565,6.565,6.565,6.565,6.565,6.565,6.565,6.565,6.565,6.565,6.565,6.17,6.17,6.17,6.17,8.283,8.283,8.283,8.283,8.283,8.283,8.283,8.283,8.348,8.348,8.348,8.348,8.348,8.348,8.348,8.348,8.348,8.348,8.348,8.348,8.348,8.433,8.433,8.433,8.433,8.433,8.433,8.433,8.433,8.433,8.433,8.433,8.433,8.433,8.572,8.572,8.572,8.572,8.572,8.572,8.572,8.572,8.572,8.572,8.572,8.572,8.572,8.572,8.458,8.458,8.458,8.458,8.458,8.458,8.458,8.458,8.458,8.458,8.458,8.458,8.252,8.252,8.252,8.252,8.252,8.252,8.252,8.252,8.252,8.252,8.252,8.252,8.252,8.023,8.023,8.023,8.023,8.023,8.023,8.023,8.023,8.023,8.023,8.023,8.023,8.023,8.023,7.706,7.706,7.706,7.706,7.706,7.706,7.706,7.706,7.706,7.706,7.706,7.706,7.706,7.503,7.503,7.503,7.503,7.503,7.503,7.503,7.503,7.503,7.503,7.503,7.503,7.503,7.671,7.671,7.671,7.671,7.671,7.671,7.671,7.671,7.671,7.671,7.671,7.671,7.671,7.753,7.753,7.753,7.753,7.753,7.753,7.753,7.753,7.753,7.753,7.753,7.753,7.753,7.543,7.543,7.543,7.543,5.892,5.892,5.892,5.892,5.892,5.892,5.892,5.892,5.435,5.435,5.435,5.435,5.435,5.435,5.435,5.435,5.435,5.435,5.435,5.435,5.435,5.326,5.326,5.326,5.326,5.326,5.326,5.326,5.326,5.326,5.326,5.326,5.326,5.326,5.287,5.287,5.287,5.287,5.287,5.287,5.287,5.287,5.287,5.287,5.287,5.287,5.287,5.287,5.114,5.114,5.114,5.114,5.114,5.114,5.114,5.114,5.114,5.114,5.114,5.114,4.781,4.781,4.781,4.781,4.781,4.781,4.781,4.781,4.781,4.781,4.781,4.781,4.781,4.584,4.584,4.584,4.584,4.584,4.584,4.584,4.584,4.584,4.584,4.584,4.584,4.584,4.584,4.42,4.42,4.42,4.42,4.42,4.42,4.42,4.42,4.42,4.42,4.42,4.42,4.42,4.261,4.261,4.261,4.261,4.261,4.261,4.261,4.261,4.261,4.261,4.261,4.261,4.261,4.125,4.125,4.125,4.125,4.125,4.125,4.125,4.125,4.125,4.125,4.125,4.125,4.125,4.156,4.156,4.156,4.156,4.156,4.156,4.156,4.156,4.156,4.156,4.156,4.156,4.156,4.145,4.145,4.145,4.145,8.326,8.326,8.326,8.326,8.326,8.326,8.326,8.326,8.211,8.211,8.211,8.211,8.211,8.211,8.211,8.211,8.211,8.211,8.211,8.211,8.211,8.117,8.117,8.117,8.117,8.117,8.117,8.117,8.117,8.117,8.117,8.117,8.117,8.117,8.275,8.275,8.275,8.275,8.275,8.275,8.275,8.275,8.275,8.275,8.275,8.275,8.275,8.275,8.252,8.252,8.252,8.252,8.252,8.252,8.252,8.252,8.252,8.252,8.252,8.252,8.212,8.212,8.212,8.212,8.212,8.212,8.212,8.212,8.212,8.212,8.212,8.212,8.212,8.358,8.358,8.358,8.358,8.358,8.358,8.358,8.358,8.358,8.358,8.358,8.358,8.358,8.358,8.454,8.454,8.454,8.454,8.454,8.454,8.454,8.454,8.454,8.454,8.454,8.454,8.454,8.659,8.659,8.659,8.659,8.659,8.659,8.659,8.659,8.659,8.659,8.659,8.659,8.659,8.983,8.983,8.983,8.983,8.983,8.983,8.983,8.983,8.983,8.983,8.983,8.983,8.983,8.953,8.953,8.953,8.953,8.953,8.953,8.953,8.953,8.953,8.953,8.953,8.953,8.953,8.693,8.693,8.693,8.693,8.187,8.187,8.187,8.187,8.187,8.187,8.187,8.187,7.856,7.856,7.856,7.856,7.856,7.856,7.856,7.856,7.856,7.856,7.856,7.856,7.856,7.527,7.527,7.527,7.527,7.527,7.527,7.527,7.527,7.527,7.527,7.527,7.527,7.527,7.484,7.484,7.484,7.484,7.484,7.484,7.484,7.484,7.484,7.484,7.484,7.484,7.484,7.484,7.343,7.343,7.343,7.343,7.343,7.343,7.343,7.343,7.343,7.343,7.343,7.343,7.287,7.287,7.287,7.287,7.287,7.287,7.287,7.287,7.287,7.287,7.287,7.287,7.287,7.274,7.274,7.274,7.274,7.274,7.274,7.274,7.274,7.274,7.274,7.274,7.274,7.274,7.274,7.082,7.082,7.082,7.082,7.082,7.082,7.082,7.082,7.082,7.082,7.082,7.082,7.082,6.961,6.961,6.961,6.961,6.961,6.961,6.961,6.961,6.961,6.961,6.961,6.961,6.961,7.139,7.139,7.139,7.139,7.139,7.139,7.139,7.139,7.139,7.139,7.139,7.139,7.139,7.28,7.28,7.28,7.28,7.28,7.28,7.28,7.28,7.28,7.28,7.28,7.28,7.28,7.293,7.293,7.293,7.293,8.488,8.488,8.488,8.488,8.488,8.488,8.488,8.488,8.512,8.512,8.512,8.512,8.512,8.512,8.512,8.512,8.512,8.512,8.512,8.512,8.512,8.445,8.445,8.445,8.445,8.445,8.445,8.445,8.445,8.445,8.445,8.445,8.445,8.445,8.149,8.149,8.149,8.149,8.149,8.149,8.149,8.149,8.149,8.149,8.149,8.149,8.149,8.149,7.907,7.907,7.907,7.907,7.907,7.907,7.907,7.907,7.907,7.907,7.907,7.907,7.818,7.818,7.818,7.818,7.818,7.818,7.818,7.818,7.818,7.818,7.818,7.818,7.818,7.767,7.767,7.767,7.767,7.767,7.767,7.767,7.767,7.767,7.767,7.767,7.767,7.767,7.767,7.598,7.598,7.598,7.598,7.598,7.598,7.598,7.598,7.598,7.598,7.598,7.598,7.598,7.467,7.467,7.467,7.467,7.467,7.467,7.467,7.467,7.467,7.467,7.467,7.467,7.467,7.489,7.489,7.489,7.489,7.489,7.489,7.489,7.489,7.489,7.489,7.489,7.489,7.489,7.405,7.405,7.405,7.405,7.405,7.405,7.405,7.405,7.405,7.405,7.405,7.405,7.405,7.138,7.138,7.138,7.138,8.237,8.237,8.237,8.237,8.237,8.237,8.237,8.237,8.058,8.058,8.058,8.058,8.058,8.058,8.058,8.058,8.058,8.058,8.058,8.058,8.058,7.982,7.982,7.982,7.982,7.982,7.982,7.982,7.982,7.982,7.982,7.982,7.982,7.982,8.021,8.021,8.021,8.021,8.021,8.021,8.021,8.021,8.021,8.021,8.021,8.021,8.021,8.021,7.827,7.827,7.827,7.827,7.827,7.827,7.827,7.827,7.827,7.827,7.827,7.827,7.725,7.725,7.725,7.725,7.725,7.725,7.725,7.725,7.725,7.725,7.725,7.725,7.725,7.85,7.85,7.85,7.85,7.85,7.85,7.85,7.85,7.85,7.85,7.85,7.85,7.85,7.85,7.906,7.906,7.906,7.906,7.906,7.906,7.906,7.906,7.906,7.906,7.906,7.906,7.906,8.009,8.009,8.009,8.009,8.009,8.009,8.009,8.009,8.009,8.009,8.009,8.009,8.009,8.253,8.253,8.253,8.253,8.253,8.253,8.253,8.253,8.253,8.253,8.253,8.253,8.253,8.239,8.239,8.239,8.239,8.239,8.239,8.239,8.239,8.239,8.239,8.239,8.239,8.239,8.0,8.0,8.0,8.0,13.975,13.975,13.975,13.975,13.975,13.975,13.975,13.975,14.099,14.099,14.099,14.099,14.099,14.099,14.099,14.099,14.099,14.099,14.099,14.099,14.099,14.18,14.18,14.18,14.18,14.18,14.18,14.18,14.18,14.18,14.18,14.18,14.18,14.18,14.313,14.313,14.313,14.313,14.313,14.313,14.313,14.313,14.313,14.313,14.313,14.313,14.313,14.313,14.021,14.021,14.021,14.021,14.021,14.021,14.021,14.021,14.021,14.021,14.021,14.021,13.736,13.736,13.736,13.736,13.736,13.736,13.736,13.736,13.736,13.736,13.736,13.736,13.736,13.503,13.503,13.503,13.503,13.503,13.503,13.503,13.503,13.503,13.503,13.503,13.503,13.503,13.503,12.89,12.89,12.89,12.89,12.89,12.89,12.89,12.89,12.89,12.89,12.89,12.89,12.89,12.187,12.187,12.187,12.187,12.187,12.187,12.187,12.187,12.187,12.187,12.187,12.187,12.187,11.627,11.627,11.627,11.627,11.627,11.627,11.627,11.627,11.627,11.627,11.627,11.627,11.627,10.926,10.926,10.926,10.926,10.926,10.926,10.926,10.926,10.926,10.926,10.926,10.926,10.926,10.199,10.199,10.199,10.199,10.064,10.064,10.064,10.064,10.064,10.064,10.064,10.064,10.16,10.16,10.16,10.16,10.16,10.16,10.16,10.16,10.16,10.16,10.16,10.16,10.16,10.409,10.409,10.409,10.409,10.409,10.409,10.409,10.409,10.409,10.409,10.409,10.409,10.409,10.524,10.524,10.524,10.524,10.524,10.524,10.524,10.524,10.524,10.524,10.524,10.524,10.524,10.524,10.256,10.256,10.256,10.256,10.256,10.256,10.256,10.256,10.256,10.256,10.256,10.256,9.966,9.966,9.966,9.966,9.966,9.966,9.966,9.966,9.966,9.966,9.966,9.966,9.966,9.863,9.863,9.863,9.863,9.863,9.863,9.863,9.863,9.863,9.863,9.863,9.863,9.863,9.863,9.357,9.357,9.357,9.357,9.357,9.357,9.357,9.357,9.357,9.357,9.357,9.357,9.357,8.988,8.988,8.988,8.988,8.988,8.988,8.988,8.988,8.988,8.988,8.988,8.988,8.988,9.14,9.14,9.14,9.14,9.14,9.14,9.14,9.14,9.14,9.14,9.14,9.14,9.14,9.419,9.419,9.419,9.419,9.419,9.419,9.419,9.419,9.419,9.419,9.419,9.419,9.419,9.151,9.151,9.151,9.151,8.324,8.324,8.324,8.324,8.324,8.324,8.324,8.324,8.2,8.2,8.2,8.2,8.2,8.2,8.2,8.2,8.2,8.2,8.2,8.2,8.2,8.099,8.099,8.099,8.099,8.099,8.099,8.099,8.099,8.099,8.099,8.099,8.099,8.099,8.163,8.163,8.163,8.163,8.163,8.163,8.163,8.163,8.163,8.163,8.163,8.163,8.163,8.163,8.028,8.028,8.028,8.028,8.028,8.028,8.028,8.028,8.028,8.028,8.028,8.028,7.931,7.931,7.931,7.931,7.931,7.931,7.931,7.931,7.931,7.931,7.931,7.931,7.931,7.852,7.852,7.852,7.852,7.852,7.852,7.852,7.852,7.852,7.852,7.852,7.852,7.852,7.852,7.441,7.441,7.441,7.441,7.441,7.441,7.441,7.441,7.441,7.441,7.441,7.441,7.441,7.057,7.057,7.057,7.057,7.057,7.057,7.057,7.057,7.057,7.057,7.057,7.057,7.057,6.891,6.891,6.891,6.891,6.891,6.891,6.891,6.891,6.891,6.891,6.891,6.891,6.891,6.565,6.565,6.565,6.565,6.565,6.565,6.565,6.565,6.565,6.565,6.565,6.565,6.565,6.17,6.17,6.17,6.17,9.014,9.014,9.014,9.014,9.014,9.014,9.014,9.014,8.963,8.963,8.963,8.963,8.963,8.963,8.963,8.963,8.963,8.963,8.963,8.963,8.963,9.017,9.017,9.017,9.017,9.017,9.017,9.017,9.017,9.017,9.017,9.017,9.017,9.017,9.137,9.137,9.137,9.137,9.137,9.137,9.137,9.137,9.137,9.137,9.137,9.137,9.137,9.137,8.818,8.818,8.818,8.818,8.818,8.818,8.818,8.818,8.818,8.818,8.818,8.818,8.595,8.595,8.595,8.595,8.595,8.595,8.595,8.595,8.595,8.595,8.595,8.595,8.595,8.622,8.622,8.622,8.622,8.622,8.622,8.622,8.622,8.622,8.622,8.622,8.622,8.622,8.622,8.513,8.513,8.513,8.513,8.513,8.513,8.513,8.513,8.513,8.513,8.513,8.513,8.513,8.256,8.256,8.256,8.256,8.256,8.256,8.256,8.256,8.256,8.256,8.256,8.256,8.256,8.09,8.09,8.09,8.09,8.09,8.09,8.09,8.09,8.09,8.09,8.09,8.09,8.09,7.872,7.872,7.872,7.872,7.872,7.872,7.872,7.872,7.872,7.872,7.872,7.872,7.872,7.557,7.557,7.557,7.557,9.521,9.521,9.521,9.521,9.521,9.521,9.521,9.521,9.593,9.593,9.593,9.593,9.593,9.593,9.593,9.593,9.593,9.593,9.593,9.593,9.593,9.816,9.816,9.816,9.816,9.816,9.816,9.816,9.816,9.816,9.816,9.816,9.816,9.816,10.21,10.21,10.21,10.21,10.21,10.21,10.21,10.21,10.21,10.21,10.21,10.21,10.21,10.21,10.398,10.398,10.398,10.398,10.398,10.398,10.398,10.398,10.398,10.398,10.398,10.398,10.581,10.581,10.581,10.581,10.581,10.581,10.581,10.581,10.581,10.581,10.581,10.581,10.581,10.641,10.641,10.641,10.641,10.641,10.641,10.641,10.641,10.641,10.641,10.641,10.641,10.641,10.641,10.148,10.148,10.148,10.148,10.148,10.148,10.148,10.148,10.148,10.148,10.148,10.148,10.148,9.653,9.653,9.653,9.653,9.653,9.653,9.653,9.653,9.653,9.653,9.653,9.653,9.653,9.575,9.575,9.575,9.575,9.575,9.575,9.575,9.575,9.575,9.575,9.575,9.575,9.575,9.285,9.285,9.285,9.285,9.285,9.285,9.285,9.285,9.285,9.285,9.285,9.285,9.285,8.839,8.839,8.839,8.839,9.262,9.262,9.262,9.262,9.262,9.262,9.262,9.262,9.051,9.051,9.051,9.051,9.051,9.051,9.051,9.051,9.051,9.051,9.051,9.051,9.051,8.861,8.861,8.861,8.861,8.861,8.861,8.861,8.861,8.861,8.861,8.861,8.861,8.861,8.763,8.763,8.763,8.763,8.763,8.763,8.763,8.763,8.763,8.763,8.763,8.763,8.763,8.763,8.549,8.549,8.549,8.549,8.549,8.549,8.549,8.549,8.549,8.549,8.549,8.549,8.512,8.512,8.512,8.512,8.512,8.512,8.512,8.512,8.512,8.512,8.512,8.512,8.512,8.684,8.684,8.684,8.684,8.684,8.684,8.684,8.684,8.684,8.684,8.684,8.684,8.684,8.684,8.745,8.745,8.745,8.745,8.745,8.745,8.745,8.745,8.745,8.745,8.745,8.745,8.745,8.744,8.744,8.744,8.744,8.744,8.744,8.744,8.744,8.744,8.744,8.744,8.744,8.744,8.876,8.876,8.876,8.876,8.876,8.876,8.876,8.876,8.876,8.876,8.876,8.876,8.876,8.839,8.839,8.839,8.839,8.839,8.839,8.839,8.839,8.839,8.839,8.839,8.839,8.839,8.665,8.665,8.665,8.665,8.554,8.554,8.554,8.554,8.554,8.554,8.554,8.554,8.464,8.464,8.464,8.464,8.464,8.464,8.464,8.464,8.464,8.464,8.464,8.464,8.464,8.36,8.36,8.36,8.36,8.36,8.36,8.36,8.36,8.36,8.36,8.36,8.36,8.36,8.476,8.476,8.476,8.476,8.476,8.476,8.476,8.476,8.476,8.476,8.476,8.476,8.476,8.476,8.395,8.395,8.395,8.395,8.395,8.395,8.395,8.395,8.395,8.395,8.395,8.395,8.3,8.3,8.3,8.3,8.3,8.3,8.3,8.3,8.3,8.3,8.3,8.3,8.3,8.177,8.177,8.177,8.177,8.177,8.177,8.177,8.177,8.177,8.177,8.177,8.177,8.177,8.177,7.716,7.716,7.716,7.716,7.716,7.716,7.716,7.716,7.716,7.716,7.716,7.716,7.716,7.244,7.244,7.244,7.244,7.244,7.244,7.244,7.244,7.244,7.244,7.244,7.244,7.244,6.989,6.989,6.989,6.989,6.989,6.989,6.989,6.989,6.989,6.989,6.989,6.989,6.989,6.623,6.623,6.623,6.623,6.623,6.623,6.623,6.623,6.623,6.623,6.623,6.623,6.623,6.228,6.228,6.228,6.228,5.892,5.892,5.892,5.892,5.892,5.892,5.892,5.892,5.435,5.435,5.435,5.435,5.435,5.435,5.435,5.435,5.435,5.435,5.435,5.435,5.435,5.326,5.326,5.326,5.326,5.326,5.326,5.326,5.326,5.326,5.326,5.326,5.326,5.326,5.287,5.287,5.287,5.287,5.287,5.287,5.287,5.287,5.287,5.287,5.287,5.287,5.287,5.287,5.114,5.114,5.114,5.114,5.114,5.114,5.114,5.114,5.114,5.114,5.114,5.114,4.781,4.781,4.781,4.781,4.781,4.781,4.781,4.781,4.781,4.781,4.781,4.781,4.781,4.584,4.584,4.584,4.584,4.584,4.584,4.584,4.584,4.584,4.584,4.584,4.584,4.584,4.584,4.42,4.42,4.42,4.42,4.42,4.42,4.42,4.42,4.42,4.42,4.42,4.42,4.42,4.261,4.261,4.261,4.261,4.261,4.261,4.261,4.261,4.261,4.261,4.261,4.261,4.261,4.125,4.125,4.125,4.125,4.125,4.125,4.125,4.125,4.125,4.125,4.125,4.125,4.125,4.156,4.156,4.156,4.156,4.156,4.156,4.156,4.156,4.156,4.156,4.156,4.156,4.156,4.145,4.145,4.145,4.145,7.541,7.541,7.541,7.541,7.541,7.541,7.541,7.541,7.363,7.363,7.363,7.363,7.363,7.363,7.363,7.363,7.363,7.363,7.363,7.363,7.363,7.335,7.335,7.335,7.335,7.335,7.335,7.335,7.335,7.335,7.335,7.335,7.335,7.335,7.508,7.508,7.508,7.508,7.508,7.508,7.508,7.508,7.508,7.508,7.508,7.508,7.508,7.508,7.241,7.241,7.241,7.241,7.241,7.241,7.241,7.241,7.241,7.241,7.241,7.241,6.934,6.934,6.934,6.934,6.934,6.934,6.934,6.934,6.934,6.934,6.934,6.934,6.934,6.901,6.901,6.901,6.901,6.901,6.901,6.901,6.901,6.901,6.901,6.901,6.901,6.901,6.901,6.759,6.759,6.759,6.759,6.759,6.759,6.759,6.759,6.759,6.759,6.759,6.759,6.759,6.589,6.589,6.589,6.589,6.589,6.589,6.589,6.589,6.589,6.589,6.589,6.589,6.589,6.547,6.547,6.547,6.547,6.547,6.547,6.547,6.547,6.547,6.547,6.547,6.547,6.547,6.432,6.432,6.432,6.432,6.432,6.432,6.432,6.432,6.432,6.432,6.432,6.432,6.432,6.195,6.195,6.195,6.195,8.992,8.992,8.992,8.992,8.992,8.992,8.992,8.992,8.899,8.899,8.899,8.899,8.899,8.899,8.899,8.899,8.899,8.899,8.899,8.899,8.899,8.743,8.743,8.743,8.743,8.743,8.743,8.743,8.743,8.743,8.743,8.743,8.743,8.743,8.724,8.724,8.724,8.724,8.724,8.724,8.724,8.724,8.724,8.724,8.724,8.724,8.724,8.724,8.549,8.549,8.549,8.549,8.549,8.549,8.549,8.549,8.549,8.549,8.549,8.549,8.521,8.521,8.521,8.521,8.521,8.521,8.521,8.521,8.521,8.521,8.521,8.521,8.521,8.625,8.625,8.625,8.625,8.625,8.625,8.625,8.625,8.625,8.625,8.625,8.625,8.625,8.625,8.523,8.523,8.523,8.523,8.523,8.523,8.523,8.523,8.523,8.523,8.523,8.523,8.523,8.424,8.424,8.424,8.424,8.424,8.424,8.424,8.424,8.424,8.424,8.424,8.424,8.424,8.567,8.567,8.567,8.567,8.567,8.567,8.567,8.567,8.567,8.567,8.567,8.567,8.567,8.684,8.684,8.684,8.684,8.684,8.684,8.684,8.684,8.684,8.684,8.684,8.684,8.684,8.667,8.667,8.667,8.667],\"y0\":\" \",\"yaxis\":\"y\",\"type\":\"box\"}],                        {\"template\":{\"data\":{\"bar\":[{\"error_x\":{\"color\":\"#2a3f5f\"},\"error_y\":{\"color\":\"#2a3f5f\"},\"marker\":{\"line\":{\"color\":\"#E5ECF6\",\"width\":0.5},\"pattern\":{\"fillmode\":\"overlay\",\"size\":10,\"solidity\":0.2}},\"type\":\"bar\"}],\"barpolar\":[{\"marker\":{\"line\":{\"color\":\"#E5ECF6\",\"width\":0.5},\"pattern\":{\"fillmode\":\"overlay\",\"size\":10,\"solidity\":0.2}},\"type\":\"barpolar\"}],\"carpet\":[{\"aaxis\":{\"endlinecolor\":\"#2a3f5f\",\"gridcolor\":\"white\",\"linecolor\":\"white\",\"minorgridcolor\":\"white\",\"startlinecolor\":\"#2a3f5f\"},\"baxis\":{\"endlinecolor\":\"#2a3f5f\",\"gridcolor\":\"white\",\"linecolor\":\"white\",\"minorgridcolor\":\"white\",\"startlinecolor\":\"#2a3f5f\"},\"type\":\"carpet\"}],\"choropleth\":[{\"colorbar\":{\"outlinewidth\":0,\"ticks\":\"\"},\"type\":\"choropleth\"}],\"contour\":[{\"colorbar\":{\"outlinewidth\":0,\"ticks\":\"\"},\"colorscale\":[[0.0,\"#0d0887\"],[0.1111111111111111,\"#46039f\"],[0.2222222222222222,\"#7201a8\"],[0.3333333333333333,\"#9c179e\"],[0.4444444444444444,\"#bd3786\"],[0.5555555555555556,\"#d8576b\"],[0.6666666666666666,\"#ed7953\"],[0.7777777777777778,\"#fb9f3a\"],[0.8888888888888888,\"#fdca26\"],[1.0,\"#f0f921\"]],\"type\":\"contour\"}],\"contourcarpet\":[{\"colorbar\":{\"outlinewidth\":0,\"ticks\":\"\"},\"type\":\"contourcarpet\"}],\"heatmap\":[{\"colorbar\":{\"outlinewidth\":0,\"ticks\":\"\"},\"colorscale\":[[0.0,\"#0d0887\"],[0.1111111111111111,\"#46039f\"],[0.2222222222222222,\"#7201a8\"],[0.3333333333333333,\"#9c179e\"],[0.4444444444444444,\"#bd3786\"],[0.5555555555555556,\"#d8576b\"],[0.6666666666666666,\"#ed7953\"],[0.7777777777777778,\"#fb9f3a\"],[0.8888888888888888,\"#fdca26\"],[1.0,\"#f0f921\"]],\"type\":\"heatmap\"}],\"heatmapgl\":[{\"colorbar\":{\"outlinewidth\":0,\"ticks\":\"\"},\"colorscale\":[[0.0,\"#0d0887\"],[0.1111111111111111,\"#46039f\"],[0.2222222222222222,\"#7201a8\"],[0.3333333333333333,\"#9c179e\"],[0.4444444444444444,\"#bd3786\"],[0.5555555555555556,\"#d8576b\"],[0.6666666666666666,\"#ed7953\"],[0.7777777777777778,\"#fb9f3a\"],[0.8888888888888888,\"#fdca26\"],[1.0,\"#f0f921\"]],\"type\":\"heatmapgl\"}],\"histogram\":[{\"marker\":{\"pattern\":{\"fillmode\":\"overlay\",\"size\":10,\"solidity\":0.2}},\"type\":\"histogram\"}],\"histogram2d\":[{\"colorbar\":{\"outlinewidth\":0,\"ticks\":\"\"},\"colorscale\":[[0.0,\"#0d0887\"],[0.1111111111111111,\"#46039f\"],[0.2222222222222222,\"#7201a8\"],[0.3333333333333333,\"#9c179e\"],[0.4444444444444444,\"#bd3786\"],[0.5555555555555556,\"#d8576b\"],[0.6666666666666666,\"#ed7953\"],[0.7777777777777778,\"#fb9f3a\"],[0.8888888888888888,\"#fdca26\"],[1.0,\"#f0f921\"]],\"type\":\"histogram2d\"}],\"histogram2dcontour\":[{\"colorbar\":{\"outlinewidth\":0,\"ticks\":\"\"},\"colorscale\":[[0.0,\"#0d0887\"],[0.1111111111111111,\"#46039f\"],[0.2222222222222222,\"#7201a8\"],[0.3333333333333333,\"#9c179e\"],[0.4444444444444444,\"#bd3786\"],[0.5555555555555556,\"#d8576b\"],[0.6666666666666666,\"#ed7953\"],[0.7777777777777778,\"#fb9f3a\"],[0.8888888888888888,\"#fdca26\"],[1.0,\"#f0f921\"]],\"type\":\"histogram2dcontour\"}],\"mesh3d\":[{\"colorbar\":{\"outlinewidth\":0,\"ticks\":\"\"},\"type\":\"mesh3d\"}],\"parcoords\":[{\"line\":{\"colorbar\":{\"outlinewidth\":0,\"ticks\":\"\"}},\"type\":\"parcoords\"}],\"pie\":[{\"automargin\":true,\"type\":\"pie\"}],\"scatter\":[{\"marker\":{\"colorbar\":{\"outlinewidth\":0,\"ticks\":\"\"}},\"type\":\"scatter\"}],\"scatter3d\":[{\"line\":{\"colorbar\":{\"outlinewidth\":0,\"ticks\":\"\"}},\"marker\":{\"colorbar\":{\"outlinewidth\":0,\"ticks\":\"\"}},\"type\":\"scatter3d\"}],\"scattercarpet\":[{\"marker\":{\"colorbar\":{\"outlinewidth\":0,\"ticks\":\"\"}},\"type\":\"scattercarpet\"}],\"scattergeo\":[{\"marker\":{\"colorbar\":{\"outlinewidth\":0,\"ticks\":\"\"}},\"type\":\"scattergeo\"}],\"scattergl\":[{\"marker\":{\"colorbar\":{\"outlinewidth\":0,\"ticks\":\"\"}},\"type\":\"scattergl\"}],\"scattermapbox\":[{\"marker\":{\"colorbar\":{\"outlinewidth\":0,\"ticks\":\"\"}},\"type\":\"scattermapbox\"}],\"scatterpolar\":[{\"marker\":{\"colorbar\":{\"outlinewidth\":0,\"ticks\":\"\"}},\"type\":\"scatterpolar\"}],\"scatterpolargl\":[{\"marker\":{\"colorbar\":{\"outlinewidth\":0,\"ticks\":\"\"}},\"type\":\"scatterpolargl\"}],\"scatterternary\":[{\"marker\":{\"colorbar\":{\"outlinewidth\":0,\"ticks\":\"\"}},\"type\":\"scatterternary\"}],\"surface\":[{\"colorbar\":{\"outlinewidth\":0,\"ticks\":\"\"},\"colorscale\":[[0.0,\"#0d0887\"],[0.1111111111111111,\"#46039f\"],[0.2222222222222222,\"#7201a8\"],[0.3333333333333333,\"#9c179e\"],[0.4444444444444444,\"#bd3786\"],[0.5555555555555556,\"#d8576b\"],[0.6666666666666666,\"#ed7953\"],[0.7777777777777778,\"#fb9f3a\"],[0.8888888888888888,\"#fdca26\"],[1.0,\"#f0f921\"]],\"type\":\"surface\"}],\"table\":[{\"cells\":{\"fill\":{\"color\":\"#EBF0F8\"},\"line\":{\"color\":\"white\"}},\"header\":{\"fill\":{\"color\":\"#C8D4E3\"},\"line\":{\"color\":\"white\"}},\"type\":\"table\"}]},\"layout\":{\"annotationdefaults\":{\"arrowcolor\":\"#2a3f5f\",\"arrowhead\":0,\"arrowwidth\":1},\"autotypenumbers\":\"strict\",\"coloraxis\":{\"colorbar\":{\"outlinewidth\":0,\"ticks\":\"\"}},\"colorscale\":{\"diverging\":[[0,\"#8e0152\"],[0.1,\"#c51b7d\"],[0.2,\"#de77ae\"],[0.3,\"#f1b6da\"],[0.4,\"#fde0ef\"],[0.5,\"#f7f7f7\"],[0.6,\"#e6f5d0\"],[0.7,\"#b8e186\"],[0.8,\"#7fbc41\"],[0.9,\"#4d9221\"],[1,\"#276419\"]],\"sequential\":[[0.0,\"#0d0887\"],[0.1111111111111111,\"#46039f\"],[0.2222222222222222,\"#7201a8\"],[0.3333333333333333,\"#9c179e\"],[0.4444444444444444,\"#bd3786\"],[0.5555555555555556,\"#d8576b\"],[0.6666666666666666,\"#ed7953\"],[0.7777777777777778,\"#fb9f3a\"],[0.8888888888888888,\"#fdca26\"],[1.0,\"#f0f921\"]],\"sequentialminus\":[[0.0,\"#0d0887\"],[0.1111111111111111,\"#46039f\"],[0.2222222222222222,\"#7201a8\"],[0.3333333333333333,\"#9c179e\"],[0.4444444444444444,\"#bd3786\"],[0.5555555555555556,\"#d8576b\"],[0.6666666666666666,\"#ed7953\"],[0.7777777777777778,\"#fb9f3a\"],[0.8888888888888888,\"#fdca26\"],[1.0,\"#f0f921\"]]},\"colorway\":[\"#636efa\",\"#EF553B\",\"#00cc96\",\"#ab63fa\",\"#FFA15A\",\"#19d3f3\",\"#FF6692\",\"#B6E880\",\"#FF97FF\",\"#FECB52\"],\"font\":{\"color\":\"#2a3f5f\"},\"geo\":{\"bgcolor\":\"white\",\"lakecolor\":\"white\",\"landcolor\":\"#E5ECF6\",\"showlakes\":true,\"showland\":true,\"subunitcolor\":\"white\"},\"hoverlabel\":{\"align\":\"left\"},\"hovermode\":\"closest\",\"mapbox\":{\"style\":\"light\"},\"paper_bgcolor\":\"white\",\"plot_bgcolor\":\"#E5ECF6\",\"polar\":{\"angularaxis\":{\"gridcolor\":\"white\",\"linecolor\":\"white\",\"ticks\":\"\"},\"bgcolor\":\"#E5ECF6\",\"radialaxis\":{\"gridcolor\":\"white\",\"linecolor\":\"white\",\"ticks\":\"\"}},\"scene\":{\"xaxis\":{\"backgroundcolor\":\"#E5ECF6\",\"gridcolor\":\"white\",\"gridwidth\":2,\"linecolor\":\"white\",\"showbackground\":true,\"ticks\":\"\",\"zerolinecolor\":\"white\"},\"yaxis\":{\"backgroundcolor\":\"#E5ECF6\",\"gridcolor\":\"white\",\"gridwidth\":2,\"linecolor\":\"white\",\"showbackground\":true,\"ticks\":\"\",\"zerolinecolor\":\"white\"},\"zaxis\":{\"backgroundcolor\":\"#E5ECF6\",\"gridcolor\":\"white\",\"gridwidth\":2,\"linecolor\":\"white\",\"showbackground\":true,\"ticks\":\"\",\"zerolinecolor\":\"white\"}},\"shapedefaults\":{\"line\":{\"color\":\"#2a3f5f\"}},\"ternary\":{\"aaxis\":{\"gridcolor\":\"white\",\"linecolor\":\"white\",\"ticks\":\"\"},\"baxis\":{\"gridcolor\":\"white\",\"linecolor\":\"white\",\"ticks\":\"\"},\"bgcolor\":\"#E5ECF6\",\"caxis\":{\"gridcolor\":\"white\",\"linecolor\":\"white\",\"ticks\":\"\"}},\"title\":{\"x\":0.05},\"xaxis\":{\"automargin\":true,\"gridcolor\":\"white\",\"linecolor\":\"white\",\"ticks\":\"\",\"title\":{\"standoff\":15},\"zerolinecolor\":\"white\",\"zerolinewidth\":2},\"yaxis\":{\"automargin\":true,\"gridcolor\":\"white\",\"linecolor\":\"white\",\"ticks\":\"\",\"title\":{\"standoff\":15},\"zerolinecolor\":\"white\",\"zerolinewidth\":2}}},\"xaxis\":{\"anchor\":\"y\",\"domain\":[0.0,1.0],\"title\":{\"text\":\"Store\"}},\"yaxis\":{\"anchor\":\"x\",\"domain\":[0.0,1.0],\"title\":{\"text\":\"Unemployment\"}},\"legend\":{\"tracegroupgap\":0},\"margin\":{\"t\":60},\"boxmode\":\"group\"},                        {\"responsive\": true}                    ).then(function(){\n",
              "                            \n",
              "var gd = document.getElementById('5934bc37-bde3-437e-a465-54603cb7c368');\n",
              "var x = new MutationObserver(function (mutations, observer) {{\n",
              "        var display = window.getComputedStyle(gd).display;\n",
              "        if (!display || display === 'none') {{\n",
              "            console.log([gd, 'removed!']);\n",
              "            Plotly.purge(gd);\n",
              "            observer.disconnect();\n",
              "        }}\n",
              "}});\n",
              "\n",
              "// Listen for the removal of the full notebook cells\n",
              "var notebookContainer = gd.closest('#notebook-container');\n",
              "if (notebookContainer) {{\n",
              "    x.observe(notebookContainer, {childList: true});\n",
              "}}\n",
              "\n",
              "// Listen for the clearing of the current output cell\n",
              "var outputEl = gd.closest('.output');\n",
              "if (outputEl) {{\n",
              "    x.observe(outputEl, {childList: true});\n",
              "}}\n",
              "\n",
              "                        })                };                            </script>        </div>\n",
              "</body>\n",
              "</html>"
            ]
          },
          "metadata": {}
        }
      ]
    },
    {
      "cell_type": "markdown",
      "source": [
        "### Mean store sales"
      ],
      "metadata": {
        "id": "5x6Ss4rhWI3a"
      }
    },
    {
      "cell_type": "code",
      "source": [
        "# Veryfing the mean store sales\n",
        "\n",
        "walmart_mean_sales = walmart.groupby('Store')['Weekly_Sales'].mean().reset_index()\n",
        "walmart_mean_sales.sort_values('Weekly_Sales',ascending=False, ignore_index=True, inplace=True)\n",
        "walmart_mean_sales = walmart_mean_sales.dropna()\n",
        "display(walmart_mean_sales)"
      ],
      "metadata": {
        "colab": {
          "base_uri": "https://localhost:8080/",
          "height": 1000
        },
        "id": "eKJtDNhGVyar",
        "outputId": "aa8563cd-5ee0-4628-bd32-2aec25379c5f"
      },
      "execution_count": null,
      "outputs": [
        {
          "output_type": "display_data",
          "data": {
            "text/plain": [
              "   Store  Weekly_Sales\n",
              "0     20    2107676.87\n",
              "1      4    2094712.96\n",
              "2     14    2020978.40\n",
              "3     13    2003620.31\n",
              "4      2    1925751.34\n",
              "5     10    1899424.57\n",
              "6     27    1775216.20\n",
              "7      6    1564728.19\n",
              "8      1    1555264.40\n",
              "9     39    1450668.13\n",
              "10    19    1444999.04\n",
              "11    31    1395901.44\n",
              "12    23    1389864.46\n",
              "13    24    1356755.39\n",
              "14    11    1356383.12\n",
              "15    28    1323522.24\n",
              "16    41    1268125.42\n",
              "17    32    1166568.15\n",
              "18    18    1084718.42\n",
              "19    22    1028501.04\n",
              "20    12    1009001.61\n",
              "21    26    1002911.84\n",
              "22    34     966781.56\n",
              "23    40     964128.04\n",
              "24    35     919724.98\n",
              "25     8     908749.52\n",
              "26    17     893581.39\n",
              "27    45     785981.41\n",
              "28    21     756069.08\n",
              "29    25     706721.53\n",
              "30    15     623312.47\n",
              "31     7     570617.31\n",
              "32     9     543980.55\n",
              "33    29     539451.43\n",
              "34    16     519247.73"
            ],
            "text/html": [
              "\n",
              "  <div id=\"df-8761fce8-4219-45d3-86c7-cf69138e1e1a\">\n",
              "    <div class=\"colab-df-container\">\n",
              "      <div>\n",
              "<style scoped>\n",
              "    .dataframe tbody tr th:only-of-type {\n",
              "        vertical-align: middle;\n",
              "    }\n",
              "\n",
              "    .dataframe tbody tr th {\n",
              "        vertical-align: top;\n",
              "    }\n",
              "\n",
              "    .dataframe thead th {\n",
              "        text-align: right;\n",
              "    }\n",
              "</style>\n",
              "<table border=\"1\" class=\"dataframe\">\n",
              "  <thead>\n",
              "    <tr style=\"text-align: right;\">\n",
              "      <th></th>\n",
              "      <th>Store</th>\n",
              "      <th>Weekly_Sales</th>\n",
              "    </tr>\n",
              "  </thead>\n",
              "  <tbody>\n",
              "    <tr>\n",
              "      <th>0</th>\n",
              "      <td>20</td>\n",
              "      <td>2107676.87</td>\n",
              "    </tr>\n",
              "    <tr>\n",
              "      <th>1</th>\n",
              "      <td>4</td>\n",
              "      <td>2094712.96</td>\n",
              "    </tr>\n",
              "    <tr>\n",
              "      <th>2</th>\n",
              "      <td>14</td>\n",
              "      <td>2020978.40</td>\n",
              "    </tr>\n",
              "    <tr>\n",
              "      <th>3</th>\n",
              "      <td>13</td>\n",
              "      <td>2003620.31</td>\n",
              "    </tr>\n",
              "    <tr>\n",
              "      <th>4</th>\n",
              "      <td>2</td>\n",
              "      <td>1925751.34</td>\n",
              "    </tr>\n",
              "    <tr>\n",
              "      <th>5</th>\n",
              "      <td>10</td>\n",
              "      <td>1899424.57</td>\n",
              "    </tr>\n",
              "    <tr>\n",
              "      <th>6</th>\n",
              "      <td>27</td>\n",
              "      <td>1775216.20</td>\n",
              "    </tr>\n",
              "    <tr>\n",
              "      <th>7</th>\n",
              "      <td>6</td>\n",
              "      <td>1564728.19</td>\n",
              "    </tr>\n",
              "    <tr>\n",
              "      <th>8</th>\n",
              "      <td>1</td>\n",
              "      <td>1555264.40</td>\n",
              "    </tr>\n",
              "    <tr>\n",
              "      <th>9</th>\n",
              "      <td>39</td>\n",
              "      <td>1450668.13</td>\n",
              "    </tr>\n",
              "    <tr>\n",
              "      <th>10</th>\n",
              "      <td>19</td>\n",
              "      <td>1444999.04</td>\n",
              "    </tr>\n",
              "    <tr>\n",
              "      <th>11</th>\n",
              "      <td>31</td>\n",
              "      <td>1395901.44</td>\n",
              "    </tr>\n",
              "    <tr>\n",
              "      <th>12</th>\n",
              "      <td>23</td>\n",
              "      <td>1389864.46</td>\n",
              "    </tr>\n",
              "    <tr>\n",
              "      <th>13</th>\n",
              "      <td>24</td>\n",
              "      <td>1356755.39</td>\n",
              "    </tr>\n",
              "    <tr>\n",
              "      <th>14</th>\n",
              "      <td>11</td>\n",
              "      <td>1356383.12</td>\n",
              "    </tr>\n",
              "    <tr>\n",
              "      <th>15</th>\n",
              "      <td>28</td>\n",
              "      <td>1323522.24</td>\n",
              "    </tr>\n",
              "    <tr>\n",
              "      <th>16</th>\n",
              "      <td>41</td>\n",
              "      <td>1268125.42</td>\n",
              "    </tr>\n",
              "    <tr>\n",
              "      <th>17</th>\n",
              "      <td>32</td>\n",
              "      <td>1166568.15</td>\n",
              "    </tr>\n",
              "    <tr>\n",
              "      <th>18</th>\n",
              "      <td>18</td>\n",
              "      <td>1084718.42</td>\n",
              "    </tr>\n",
              "    <tr>\n",
              "      <th>19</th>\n",
              "      <td>22</td>\n",
              "      <td>1028501.04</td>\n",
              "    </tr>\n",
              "    <tr>\n",
              "      <th>20</th>\n",
              "      <td>12</td>\n",
              "      <td>1009001.61</td>\n",
              "    </tr>\n",
              "    <tr>\n",
              "      <th>21</th>\n",
              "      <td>26</td>\n",
              "      <td>1002911.84</td>\n",
              "    </tr>\n",
              "    <tr>\n",
              "      <th>22</th>\n",
              "      <td>34</td>\n",
              "      <td>966781.56</td>\n",
              "    </tr>\n",
              "    <tr>\n",
              "      <th>23</th>\n",
              "      <td>40</td>\n",
              "      <td>964128.04</td>\n",
              "    </tr>\n",
              "    <tr>\n",
              "      <th>24</th>\n",
              "      <td>35</td>\n",
              "      <td>919724.98</td>\n",
              "    </tr>\n",
              "    <tr>\n",
              "      <th>25</th>\n",
              "      <td>8</td>\n",
              "      <td>908749.52</td>\n",
              "    </tr>\n",
              "    <tr>\n",
              "      <th>26</th>\n",
              "      <td>17</td>\n",
              "      <td>893581.39</td>\n",
              "    </tr>\n",
              "    <tr>\n",
              "      <th>27</th>\n",
              "      <td>45</td>\n",
              "      <td>785981.41</td>\n",
              "    </tr>\n",
              "    <tr>\n",
              "      <th>28</th>\n",
              "      <td>21</td>\n",
              "      <td>756069.08</td>\n",
              "    </tr>\n",
              "    <tr>\n",
              "      <th>29</th>\n",
              "      <td>25</td>\n",
              "      <td>706721.53</td>\n",
              "    </tr>\n",
              "    <tr>\n",
              "      <th>30</th>\n",
              "      <td>15</td>\n",
              "      <td>623312.47</td>\n",
              "    </tr>\n",
              "    <tr>\n",
              "      <th>31</th>\n",
              "      <td>7</td>\n",
              "      <td>570617.31</td>\n",
              "    </tr>\n",
              "    <tr>\n",
              "      <th>32</th>\n",
              "      <td>9</td>\n",
              "      <td>543980.55</td>\n",
              "    </tr>\n",
              "    <tr>\n",
              "      <th>33</th>\n",
              "      <td>29</td>\n",
              "      <td>539451.43</td>\n",
              "    </tr>\n",
              "    <tr>\n",
              "      <th>34</th>\n",
              "      <td>16</td>\n",
              "      <td>519247.73</td>\n",
              "    </tr>\n",
              "  </tbody>\n",
              "</table>\n",
              "</div>\n",
              "      <button class=\"colab-df-convert\" onclick=\"convertToInteractive('df-8761fce8-4219-45d3-86c7-cf69138e1e1a')\"\n",
              "              title=\"Convert this dataframe to an interactive table.\"\n",
              "              style=\"display:none;\">\n",
              "        \n",
              "  <svg xmlns=\"http://www.w3.org/2000/svg\" height=\"24px\"viewBox=\"0 0 24 24\"\n",
              "       width=\"24px\">\n",
              "    <path d=\"M0 0h24v24H0V0z\" fill=\"none\"/>\n",
              "    <path d=\"M18.56 5.44l.94 2.06.94-2.06 2.06-.94-2.06-.94-.94-2.06-.94 2.06-2.06.94zm-11 1L8.5 8.5l.94-2.06 2.06-.94-2.06-.94L8.5 2.5l-.94 2.06-2.06.94zm10 10l.94 2.06.94-2.06 2.06-.94-2.06-.94-.94-2.06-.94 2.06-2.06.94z\"/><path d=\"M17.41 7.96l-1.37-1.37c-.4-.4-.92-.59-1.43-.59-.52 0-1.04.2-1.43.59L10.3 9.45l-7.72 7.72c-.78.78-.78 2.05 0 2.83L4 21.41c.39.39.9.59 1.41.59.51 0 1.02-.2 1.41-.59l7.78-7.78 2.81-2.81c.8-.78.8-2.07 0-2.86zM5.41 20L4 18.59l7.72-7.72 1.47 1.35L5.41 20z\"/>\n",
              "  </svg>\n",
              "      </button>\n",
              "      \n",
              "  <style>\n",
              "    .colab-df-container {\n",
              "      display:flex;\n",
              "      flex-wrap:wrap;\n",
              "      gap: 12px;\n",
              "    }\n",
              "\n",
              "    .colab-df-convert {\n",
              "      background-color: #E8F0FE;\n",
              "      border: none;\n",
              "      border-radius: 50%;\n",
              "      cursor: pointer;\n",
              "      display: none;\n",
              "      fill: #1967D2;\n",
              "      height: 32px;\n",
              "      padding: 0 0 0 0;\n",
              "      width: 32px;\n",
              "    }\n",
              "\n",
              "    .colab-df-convert:hover {\n",
              "      background-color: #E2EBFA;\n",
              "      box-shadow: 0px 1px 2px rgba(60, 64, 67, 0.3), 0px 1px 3px 1px rgba(60, 64, 67, 0.15);\n",
              "      fill: #174EA6;\n",
              "    }\n",
              "\n",
              "    [theme=dark] .colab-df-convert {\n",
              "      background-color: #3B4455;\n",
              "      fill: #D2E3FC;\n",
              "    }\n",
              "\n",
              "    [theme=dark] .colab-df-convert:hover {\n",
              "      background-color: #434B5C;\n",
              "      box-shadow: 0px 1px 3px 1px rgba(0, 0, 0, 0.15);\n",
              "      filter: drop-shadow(0px 1px 2px rgba(0, 0, 0, 0.3));\n",
              "      fill: #FFFFFF;\n",
              "    }\n",
              "  </style>\n",
              "\n",
              "      <script>\n",
              "        const buttonEl =\n",
              "          document.querySelector('#df-8761fce8-4219-45d3-86c7-cf69138e1e1a button.colab-df-convert');\n",
              "        buttonEl.style.display =\n",
              "          google.colab.kernel.accessAllowed ? 'block' : 'none';\n",
              "\n",
              "        async function convertToInteractive(key) {\n",
              "          const element = document.querySelector('#df-8761fce8-4219-45d3-86c7-cf69138e1e1a');\n",
              "          const dataTable =\n",
              "            await google.colab.kernel.invokeFunction('convertToInteractive',\n",
              "                                                     [key], {});\n",
              "          if (!dataTable) return;\n",
              "\n",
              "          const docLinkHtml = 'Like what you see? Visit the ' +\n",
              "            '<a target=\"_blank\" href=https://colab.research.google.com/notebooks/data_table.ipynb>data table notebook</a>'\n",
              "            + ' to learn more about interactive tables.';\n",
              "          element.innerHTML = '';\n",
              "          dataTable['output_type'] = 'display_data';\n",
              "          await google.colab.output.renderOutput(dataTable, element);\n",
              "          const docLink = document.createElement('div');\n",
              "          docLink.innerHTML = docLinkHtml;\n",
              "          element.appendChild(docLink);\n",
              "        }\n",
              "      </script>\n",
              "    </div>\n",
              "  </div>\n",
              "  "
            ]
          },
          "metadata": {}
        }
      ]
    },
    {
      "cell_type": "markdown",
      "source": [
        "The stores with best mean sale are:\n",
        "\n",
        "\n",
        "1. 20\n",
        "2. 4\n",
        "3. 14\n",
        "4. 13\n",
        "5. 2\n",
        "6. 10\n",
        "7. 27\n",
        "8. 6\n",
        "9. 1\n",
        "10. 39\n",
        "\n"
      ],
      "metadata": {
        "id": "qQKye5qEXZO0"
      }
    },
    {
      "cell_type": "code",
      "source": [
        "# Creating a dataframe with the 10 top stores\n",
        "\n",
        "walmart_best = [20,4,14,13,2,10,27,6,1]\n",
        "walmart_best_df = walmart.loc[walmart['Store'].isin(walmart_best)]\n",
        "print(walmart_best_df)"
      ],
      "metadata": {
        "id": "q04qci5kzQXJ",
        "colab": {
          "base_uri": "https://localhost:8080/"
        },
        "outputId": "4d4c37d1-651c-40d3-95bb-f0c1f8d35ed3"
      },
      "execution_count": null,
      "outputs": [
        {
          "output_type": "stream",
          "name": "stdout",
          "text": [
            "     Store     Date  Weekly_Sales Holiday_Flag  Temperature  Fuel_Price  \\\n",
            "0        1  2010-05    1643690.90            0        42.31        2.57   \n",
            "1        1  2010-12    1641957.44            1        38.51        2.55   \n",
            "2        1  2010-02    1611968.17            0        39.93        2.51   \n",
            "3        1  2010-02    1409727.59            0        46.63        2.56   \n",
            "4        1  2010-05    1554806.68            0        46.50        2.62   \n",
            "...    ...      ...           ...          ...          ...         ...   \n",
            "3856    27  2012-09    1540687.63            0        64.92        4.16   \n",
            "3857    27  2012-05    1591816.88            0        64.50        4.15   \n",
            "3858    27      NaN    1660081.29            0        55.40        4.19   \n",
            "3859    27  2012-10    1620374.24            0        56.53        4.15   \n",
            "3860    27  2012-10    1703047.74            0        58.99        4.07   \n",
            "\n",
            "        CPI  Unemployment  \n",
            "0    211.10          8.11  \n",
            "1    211.24          8.11  \n",
            "2    211.29          8.11  \n",
            "3    211.32          8.11  \n",
            "4    211.35          8.11  \n",
            "...     ...           ...  \n",
            "3856 142.77          8.24  \n",
            "3857 142.85          8.00  \n",
            "3858 142.94          8.00  \n",
            "3859 142.86          8.00  \n",
            "3860 142.76          8.00  \n",
            "\n",
            "[1287 rows x 8 columns]\n"
          ]
        }
      ]
    },
    {
      "cell_type": "code",
      "source": [
        "# Historic Store Month Sales (top 10 stores) - bar plot\n",
        "\n",
        "# Mean sale Walmart\n",
        "walmart_mean_sale = walmart.groupby(['Store','Date'])['Weekly_Sales'].sum().reset_index()\n",
        "walmart_mean_sale = walmart_mean_sale['Weekly_Sales'].mean()\n",
        "\n",
        "\n",
        "@interact(stores=walmart_best)\n",
        "def bar_plot(stores):\n",
        "  walmart_store_sale = walmart.loc[walmart['Store'] == stores]\n",
        "  walmart_store_sale = walmart_store_sale.groupby(walmart_store_sale.Date)['Weekly_Sales'].sum().reset_index()\n",
        "  walmart_store_mean_sale = walmart_store_sale['Weekly_Sales'].mean()\n",
        " \n",
        "    \n",
        "  fig = px.bar(walmart_store_sale, x='Date', y='Weekly_Sales',text_auto='.5s')\n",
        "  fig.add_hline(y=walmart_store_mean_sale, line_dash = 'dash', annotation_text = walmart_store_mean_sale)\n",
        "  fig.add_hline(y=walmart_mean_sale, line_dash = 'dash', line_color='lightgreen',annotation_text=\"Walmart_mean_sale\", annotation_position=\"bottom right\")\n",
        "  fig.update_layout(width=1000)\n",
        "  fig.show()\n"
      ],
      "metadata": {
        "colab": {
          "base_uri": "https://localhost:8080/",
          "height": 574,
          "referenced_widgets": [
            "a681ea46aca14353986024ea79a25c5e",
            "c5cc701634854733836364cba7617ae0",
            "fa579375b0c744e89a47e9d6f497b232",
            "a7cf4efa9f7542b4be229b0807ba79e6",
            "7538506b4aa0443d8a67ad6bee7d906f",
            "bf66910aad764469a1bb5ad9e3c656de",
            "9c630a75d1b64bc894acdf61db43f731"
          ]
        },
        "id": "ydl_eL1EBJQa",
        "outputId": "f4807676-d378-4af0-9694-60e69d091885"
      },
      "execution_count": null,
      "outputs": [
        {
          "output_type": "display_data",
          "data": {
            "text/plain": [
              "interactive(children=(Dropdown(description='stores', options=(20, 4, 14, 13, 2, 10, 27, 6, 1), value=20), Outp…"
            ],
            "application/vnd.jupyter.widget-view+json": {
              "version_major": 2,
              "version_minor": 0,
              "model_id": "a681ea46aca14353986024ea79a25c5e"
            }
          },
          "metadata": {}
        }
      ]
    },
    {
      "cell_type": "markdown",
      "source": [
        "It's possible to see that over this 10 top stores, there's no conclusion about wich store is preferable to expand, because no one of them are apparently growing, that is, it's possible they are mature stores with no more possibility of expanding \n",
        "\n",
        "- The top store (20) overpass 11/33 (33%) times the store_mean_sale\n",
        "- The second store (4) overpass 11/33 (33%) times the store_mean_sale\n",
        "- The third store (14) overpass 13/33 (40%) times the store_mean_sale\n"
      ],
      "metadata": {
        "id": "2HqSL9y5JbUZ"
      }
    },
    {
      "cell_type": "code",
      "source": [
        "# Creating a dataframe without the 10 top stores\n",
        "\n",
        "walmart_worst = [31, 23, 24, 11, 28, 41, 32, 18, 22, 12, 26, 34, 40, 35, 8, 17, 45, 21, 25, 15, 7, 9, 29, 16]\n",
        "walmart_worst_df = walmart.loc[walmart['Store'].isin(walmart_worst)]"
      ],
      "metadata": {
        "id": "gWkx_6vRK7Wu"
      },
      "execution_count": null,
      "outputs": []
    },
    {
      "cell_type": "code",
      "source": [
        "# Historic Store Month Sales (withou 10 top stores) - bar plot\n",
        "\n",
        "# Mean sale Walmart\n",
        "walmart_mean_sale = walmart.groupby(['Store','Date'])['Weekly_Sales'].sum().reset_index()\n",
        "walmart_mean_sale = walmart_mean_sale['Weekly_Sales'].mean()\n",
        "\n",
        "\n",
        "@interact(stores=walmart_worst)\n",
        "def bar_plot(stores):\n",
        "  walmart_store_sale = walmart.loc[walmart['Store'] == stores]\n",
        "  walmart_store_sale = walmart_store_sale.groupby(walmart_store_sale.Date)['Weekly_Sales'].sum().reset_index()\n",
        "  walmart_store_mean_sale = walmart_store_sale['Weekly_Sales'].mean()\n",
        " \n",
        "    \n",
        "  fig = px.bar(walmart_store_sale, x='Date', y='Weekly_Sales',text_auto='.5s')\n",
        "  fig.add_hline(y=walmart_store_mean_sale, line_dash = 'dash',annotation_text = walmart_store_mean_sale)\n",
        "  fig.add_hline(y=walmart_mean_sale, line_dash = 'dash',line_color='lightgreen',annotation_text=\"Walmart_mean_sale\", annotation_position=\"bottom right\")\n",
        "  fig.update_layout(width=1000)\n",
        "  fig.show()\n"
      ],
      "metadata": {
        "colab": {
          "base_uri": "https://localhost:8080/",
          "height": 574,
          "referenced_widgets": [
            "9e96beda671b4a8fa83c88e7b5782aa5",
            "0d48bb5c13b34eef86b2979b291fef45",
            "81a736312d694c6d99d811e60ebe4a66",
            "3951e2587d8d4afbba1f047e8dbdf4ce",
            "338977e4a6634c0fb8f0a5d66062deef",
            "cca0add31b5444d18a581dde14a0d0c8",
            "73e022d02fb74e3ebaf5d5fe1c63804d"
          ]
        },
        "outputId": "4630ed6e-53d7-479d-fa25-77051876690f",
        "id": "XIGv66qtLbYi"
      },
      "execution_count": null,
      "outputs": [
        {
          "output_type": "display_data",
          "data": {
            "text/plain": [
              "interactive(children=(Dropdown(description='stores', options=(31, 23, 24, 11, 28, 41, 32, 18, 22, 12, 26, 34, …"
            ],
            "application/vnd.jupyter.widget-view+json": {
              "version_major": 2,
              "version_minor": 0,
              "model_id": "9e96beda671b4a8fa83c88e7b5782aa5"
            }
          },
          "metadata": {}
        }
      ]
    },
    {
      "cell_type": "markdown",
      "source": [
        "Stores 40, 35, 8, 17, 45, 21, 25, 15, 7, 9, 29, 16 are bellow the walmart_mean_sale"
      ],
      "metadata": {
        "id": "Tsk_xIXFXgGF"
      }
    },
    {
      "cell_type": "code",
      "source": [
        "# Creating a df without holidays month\n",
        "\n",
        "holliday_month = ['2010-02','2011-02','2012-02',\n",
        "                  '2010-09','2011-09','2012-09',\n",
        "                  '2010-11','2011-11','2012-11',\n",
        "                  '2010-12','2011-12','2012-12']\n",
        "\n",
        "\n",
        "walmart_mean_sales_wh = walmart[walmart.isin(holliday_month) == False]\n",
        "walmart_mean_sales_wh = walmart_mean_sales_wh.dropna()\n"
      ],
      "metadata": {
        "id": "UfhxBRGtNdMq"
      },
      "execution_count": null,
      "outputs": []
    },
    {
      "cell_type": "code",
      "source": [
        "# Historic Store Month Sales (top 10 withou hollidays) - bar plot\n",
        "\n",
        "# Mean sale Walmart (withou hollidays)\n",
        "walmart_mean_sale = walmart_mean_sales_wh.groupby(['Store','Date'])['Weekly_Sales'].sum().reset_index() \n",
        "walmart_mean_sale = walmart_mean_sale['Weekly_Sales'].mean()\n",
        "\n",
        "# Graphic\n",
        "\n",
        "@interact(stores=walmart_best)\n",
        "def bar_plot(stores):\n",
        "  walmart_store_sale = walmart_mean_sales_wh.loc[walmart_mean_sales_wh['Store'] == stores]\n",
        "  walmart_store_sale = walmart_store_sale.groupby(walmart_store_sale.Date)['Weekly_Sales'].sum().reset_index()\n",
        "  walmart_store_mean_sale = walmart_store_sale['Weekly_Sales'].mean()\n",
        " \n",
        "    \n",
        "  fig = px.bar(walmart_store_sale, x='Date', y='Weekly_Sales',text_auto='.5s')\n",
        "  fig.add_hline(y=walmart_store_mean_sale, line_dash = 'dash', annotation_text = walmart_store_mean_sale )\n",
        "  fig.add_hline(y=walmart_mean_sale, line_dash = 'dash',line_color='lightgreen',annotation_text=\"Walmart_mean_sale\", annotation_position=\"bottom right\")\n",
        "  fig.update_layout(width=1000)\n",
        "  fig.show()"
      ],
      "metadata": {
        "colab": {
          "base_uri": "https://localhost:8080/",
          "height": 574,
          "referenced_widgets": [
            "f8d5bc8b89014c91a3ecbb30007dd846",
            "071ce3edd5af4850a4fd5a5b15cfc75f",
            "4f49c04b34f54ecc96de5b70cc767032",
            "a15bada596084406a1eb9b42a1215759",
            "453cfcbff00f41adacbdb80d758ce55d",
            "b023832e9e534323935bf9bd6b1ba678",
            "33607b307c4b4adc8a9be76d00f77504"
          ]
        },
        "id": "rCrh5tg1N7p7",
        "outputId": "e5fb1147-91f3-446a-b95e-2a28c11b181f"
      },
      "execution_count": null,
      "outputs": [
        {
          "output_type": "display_data",
          "data": {
            "text/plain": [
              "interactive(children=(Dropdown(description='stores', options=(20, 4, 14, 13, 2, 10, 27, 6, 1), value=20), Outp…"
            ],
            "application/vnd.jupyter.widget-view+json": {
              "version_major": 2,
              "version_minor": 0,
              "model_id": "f8d5bc8b89014c91a3ecbb30007dd846"
            }
          },
          "metadata": {}
        }
      ]
    },
    {
      "cell_type": "markdown",
      "source": [
        "About the top 10 stores, evalueated withou the hollidays sales:\n",
        "\n",
        "*   Store 14 passes 10 times (month sales) the walmart_mean_store_sales, that is, more regularity and space to grow, because it's the third top store.\n",
        "*   Stores 27 and 10 passes 8 times (month sales) the walmart_mean_store_sales, in second place\n",
        "\n"
      ],
      "metadata": {
        "id": "WkuLB0qKk-TT"
      }
    },
    {
      "cell_type": "markdown",
      "source": [
        "### Correlation between numerical atributes and sales\n"
      ],
      "metadata": {
        "id": "c8UvDQe_Z6vf"
      }
    },
    {
      "cell_type": "code",
      "source": [
        "correlation = walmart[['Weekly_Sales','Temperature','Fuel_Price','CPI','Unemployment']].corr()\n",
        "sns.heatmap(correlation,annot=True)"
      ],
      "metadata": {
        "colab": {
          "base_uri": "https://localhost:8080/"
        },
        "id": "qQcaXOqaavwv",
        "outputId": "2608f2bc-4ae6-4876-880c-69b1eddacfc9"
      },
      "execution_count": null,
      "outputs": [
        {
          "output_type": "execute_result",
          "data": {
            "text/plain": [
              "<matplotlib.axes._subplots.AxesSubplot at 0x7f6fc1edd1f0>"
            ]
          },
          "metadata": {},
          "execution_count": 23
        },
        {
          "output_type": "display_data",
          "data": {
            "text/plain": [
              "<Figure size 432x288 with 2 Axes>"
            ],
            "image/png": "[encoded data removed]"
          },
          "metadata": {
            "needs_background": "light"
          }
        }
      ]
    },
    {
      "cell_type": "markdown",
      "source": [
        "- Theres is no such conclusion about atributes and sales\n",
        "- Unemploymet is the top positive correlation to sales found"
      ],
      "metadata": {
        "id": "GCAPgQPexiLq"
      }
    },
    {
      "cell_type": "markdown",
      "source": [
        "## Evaluation\n",
        "\n",
        "Through the previous analyses it's possible to conclude:\n",
        "\n",
        "\n",
        "*   Stores 20, 4, 14, 13, 2, 10, 27, 6, 1 have the best mean store sales, in this specific order\n",
        "*   The top store (20) overpass 11/33 (33%) times the store_mean_sale\n",
        "*   The second store (4) overpass 11/33 (33%) times the store_mean_sale\n",
        "*   The third store (14) overpass 13/33 (40%) times the store_mean_sale\n",
        "*   Store 14 has the top mean sales (without hollidays sales) \n",
        "*   Stores 3, 5, 30, 33, 36, 37, 38, 42, 43, 44 are not superior outliers, that is, no historic of sales increase\n",
        "*   Stores 40, 35, 8, 17, 45, 21, 25, 15, 7, 9, 29, 16 are bellow the walmart_mean_sale\n",
        "\n"
      ],
      "metadata": {
        "id": "bK00eNTsVrWG"
      }
    },
    {
      "cell_type": "markdown",
      "source": [
        "## Conclusion"
      ],
      "metadata": {
        "id": "4PzAQzBycO9m"
      }
    },
    {
      "cell_type": "markdown",
      "source": [
        "* The top store to expand is the Store 14.\n",
        "* It has margin to expand and more stability at non hollidays season"
      ],
      "metadata": {
        "id": "Rpq8SqIfcVsG"
      }
    }
  ]
}